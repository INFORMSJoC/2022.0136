{
 "cells": [
  {
   "cell_type": "code",
   "execution_count": 19,
   "metadata": {},
   "outputs": [
    {
     "name": "stdout",
     "output_type": "stream",
     "text": [
      "The autoreload extension is already loaded. To reload it, use:\n",
      "  %reload_ext autoreload\n"
     ]
    }
   ],
   "source": [
    "%load_ext autoreload\n",
    "%autoreload 2\n",
    "import sys, os\n",
    "from itertools import product\n",
    "import scipy.sparse\n",
    "from scipy.sparse.linalg import dsolve\n",
    "from scipy.sparse import csr_matrix\n",
    "from collections import ChainMap\n",
    "sys.path.append(os.path.dirname(sys.path[0]))\n",
    "import torch\n",
    "import numpy as np\n",
    "from neural_control.controllers import DualFullyConnectedRegressionController\n",
    "import pickle\n",
    "np.random.seed(0)"
   ]
  },
  {
   "cell_type": "code",
   "execution_count": 8,
   "metadata": {},
   "outputs": [],
   "source": [
    "# Commented out: first set of configurations (high service level)\n",
    "ce_list = [5, 10, 20]\n",
    "lr_list = [2, 3] #[2, 3, 4]\n",
    "b_list = [85] #[495, 95]\n",
    "h = 15 #5\n",
    "d_max_list = [4, 8]"
   ]
  },
  {
   "cell_type": "markdown",
   "metadata": {},
   "source": [
    "### Breadth First Search on DP States\n",
    "We need to ensure that we calculate the RMSE on states that the DP actually visits (transient states should be left out).\n",
    "For this, we implement a Breadth First Search algorithm.\n",
    "\n",
    "First, we define a function that returns the states in which we may transit from a given state $s$."
   ]
  },
  {
   "cell_type": "code",
   "execution_count": 3,
   "metadata": {},
   "outputs": [],
   "source": [
    "def neighboring_states(state):\n",
    "    neighbors = []\n",
    "    qr, qe = qf_dp[state]\n",
    "    ip_e = state[0] + qe + state[1]\n",
    "    pipeline = state[2:] if lr > 2 else qr\n",
    "    for demand in range(d_max+1):\n",
    "        ipe_new = ip_e - demand\n",
    "        this_state = (ipe_new, *pipeline, qr) if lr > 2 else (ipe_new, qr)\n",
    "        neighbors.append(this_state)\n",
    "    return neighbors"
   ]
  },
  {
   "cell_type": "code",
   "execution_count": 4,
   "metadata": {},
   "outputs": [],
   "source": [
    "def bfs(node=(0, )*2): #function for BFS\n",
    "    visited, queue = [], []\n",
    "    visited.append(node)\n",
    "    queue.append(node)\n",
    "\n",
    "    while queue:          # Creating loop to visit each node\n",
    "        m = queue.pop(0) \n",
    "#         print (m) \n",
    "\n",
    "        for neighbor in neighboring_states(m):\n",
    "            if neighbor not in visited:\n",
    "                visited.append(neighbor)\n",
    "                queue.append(neighbor)\n",
    "                \n",
    "    return visited\n",
    "                \n",
    "# qf_dp2 = {x:y for x, y in qf_dp.items() if x in visited}"
   ]
  },
  {
   "cell_type": "markdown",
   "metadata": {},
   "source": [
    "### IDINN RMSE Calculation\n",
    "We calculate\n",
    "$$ {\\rm{RMSE}}_m = \\sqrt{\\frac{1}{\\lvert \\mathcal{S}_{\\rm{DP}} \\rvert} \\sum_{s \\in\\mathcal{S}_{\\rm{DP}}} \\left(q_{\\rm {DP}}^{\\rm{r}}(\\mathbf{s})-q_m^{\\rm{r}}(\\mathbf{s})\\right)^2 + \\left(q_{\\rm{DP}}^{\\rm{e}}(\\mathbf{s})-q_m^{\\rm{e}}(\\mathbf{s})\\right)^2}\\,,$$\n",
    "\n",
    "for all the states of DP that are common with IDINN."
   ]
  },
  {
   "cell_type": "code",
   "execution_count": 7,
   "metadata": {},
   "outputs": [
    {
     "name": "stdout",
     "output_type": "stream",
     "text": [
      "instance: lr=2ce=5b=85h=15u=4 RMSE: 0.32\n",
      "instance: lr=2ce=5b=85h=15u=8 RMSE: 0.41\n",
      "instance: lr=2ce=10b=85h=15u=4 RMSE: 0.25\n",
      "instance: lr=2ce=10b=85h=15u=8 RMSE: 0.53\n",
      "instance: lr=2ce=20b=85h=15u=4 RMSE: 0.4\n",
      "instance: lr=2ce=20b=85h=15u=8 RMSE: 0.46\n",
      "instance: lr=3ce=5b=85h=15u=4 RMSE: 0.6\n",
      "instance: lr=3ce=5b=85h=15u=8 RMSE: 1.27\n",
      "instance: lr=3ce=10b=85h=15u=4 RMSE: 0.36\n",
      "instance: lr=3ce=10b=85h=15u=8 RMSE: 0.57\n",
      "instance: lr=3ce=20b=85h=15u=4 RMSE: 0.45\n",
      "instance: lr=3ce=20b=85h=15u=8 RMSE: 0.55\n"
     ]
    }
   ],
   "source": [
    "for lr in lr_list:\n",
    "    for ce in ce_list:\n",
    "        for b in b_list:\n",
    "            for d_max in d_max_list:\n",
    "                instance = f'lr={lr}ce={ce}b={b}h={h}u={d_max}'\n",
    "                f_name = f'dp_state_output_' + instance + '.p'\n",
    "#                 f_name = f'dp_state_output_lr={lr}ce={ce}b={b}h={h}u={d_max}.p'\n",
    "                try:\n",
    "                    f_name = os.path.join('../', 'sourcing_models', 'dp_state_output', f_name)\n",
    "                    qf_dp = pickle.load(open(f_name, 'rb'))\n",
    "                    \n",
    "                except(OSError, IOError) as e:\n",
    "                    print(f'file {f_name} does not exist.')\n",
    "                    break\n",
    "                visited = bfs((0, )*lr)\n",
    "                qf_dp2 = {x:y for x, y in qf_dp.items() if x in visited}\n",
    "                \n",
    "#                 f_name_nn = f'nnc_state_output_lr={lr}ce={ce}b={b}h={h}u={d_max}.p'\n",
    "                f_name_nn = f'nnc_state_output_' + instance + '.p'\n",
    "                f_name_nn = os.path.join('../', 'sourcing_models', 'nn_state_output', f_name_nn)\n",
    "                qf_nn = pickle.load(open(f_name_nn, 'rb'))\n",
    "                qf_nn2 = {(x[0],)+x[1]: y for x, y in qf_nn.items() if (x[0],)+x[1] in qf_dp2}\n",
    "                \n",
    "                qf_diff = np.array([sum( (qf_dp2[x][y]-qf_nn2[x][y])**2 for y in range(2)) for x in qf_dp2])\n",
    "                rmse = np.sqrt(qf_diff.mean())\n",
    "                print(f'instance: {instance} RMSE: {round(rmse, 2)}')\n"
   ]
  },
  {
   "cell_type": "markdown",
   "metadata": {},
   "source": [
    "### Neural Network Calculations\n",
    "Preliminary. These are necessary to extract the states and save the files. Not necessary to run this part unless new instances are added."
   ]
  },
  {
   "cell_type": "code",
   "execution_count": 23,
   "metadata": {},
   "outputs": [],
   "source": [
    "nnc_hyperparameters = dict(\n",
    "    n_hidden_units = [128,64,32,16,8,4]\n",
    ")\n",
    "nnc_hyperparameters['n_activations'] = [torch.nn.CELU(alpha=1)]*(2 + len(nnc_hyperparameters['n_hidden_units']))"
   ]
  },
  {
   "cell_type": "code",
   "execution_count": 24,
   "metadata": {},
   "outputs": [],
   "source": [
    "def make_fcc(nnc_hyperparameters):\n",
    "    fcc = DualFullyConnectedRegressionController(lr=lr, le=0, \n",
    "                                         n_hidden_units= nnc_hyperparameters ['n_hidden_units'],\n",
    "                                         activations=nnc_hyperparameters['n_activations'])\n",
    "    return fcc\n",
    "\n",
    "def load_model(f_name):\n",
    "    best_model_load = torch.load(f_name, map_location='cpu')\n",
    "    fcc = make_fcc(nnc_hyperparameters)\n",
    "    fcc.load_state_dict(best_model_load)\n",
    "    return fcc"
   ]
  },
  {
   "cell_type": "code",
   "execution_count": 33,
   "metadata": {},
   "outputs": [],
   "source": [
    "def make_states(lr, d_max):\n",
    "    dim_pipeline = lr\n",
    "    min_ip = int(d_max * lr)\n",
    "    max_ip = int((lr + 1) * (d_max + 1) + d_max)\n",
    "    states = list(product(range(-min_ip, max_ip + 1), *(range(int(d_max) + 1),) * int(dim_pipeline)))\n",
    "    return states"
   ]
  },
  {
   "cell_type": "code",
   "execution_count": 117,
   "metadata": {},
   "outputs": [
    {
     "name": "stdout",
     "output_type": "stream",
     "text": [
      "Loading file nnc_best_model_direct_lr=2_ce=5_b=495_h=5_u04.pt. Still 35 to go.\n",
      "Loading file nnc_best_model_direct_lr=2_ce=5_b=495_h=5_u08.pt. Still 34 to go.\n",
      "Loading file nnc_best_model_direct_lr=2_ce=5_b=95_h=5_u04.pt. Still 33 to go.\n",
      "Loading file nnc_best_model_direct_lr=2_ce=5_b=95_h=5_u08.pt. Still 32 to go.\n",
      "Loading file nnc_best_model_direct_lr=3_ce=5_b=495_h=5_u04.pt. Still 31 to go.\n",
      "Loading file nnc_best_model_direct_lr=3_ce=5_b=495_h=5_u08.pt. Still 30 to go.\n",
      "Loading file nnc_best_model_direct_lr=3_ce=5_b=95_h=5_u04.pt. Still 29 to go.\n",
      "Loading file nnc_best_model_direct_lr=3_ce=5_b=95_h=5_u08.pt. Still 28 to go.\n",
      "Loading file nnc_best_model_direct_lr=4_ce=5_b=495_h=5_u04.pt. Still 27 to go.\n",
      "Loading file nnc_best_model_direct_lr=4_ce=5_b=495_h=5_u08.pt. Still 26 to go.\n",
      "Loading file nnc_best_model_direct_lr=4_ce=5_b=95_h=5_u04.pt. Still 25 to go.\n",
      "Loading file nnc_best_model_direct_lr=4_ce=5_b=95_h=5_u08.pt. Still 24 to go.\n",
      "Loading file nnc_best_model_direct_lr=2_ce=10_b=495_h=5_u04.pt. Still 23 to go.\n",
      "Loading file nnc_best_model_direct_lr=2_ce=10_b=495_h=5_u08.pt. Still 22 to go.\n",
      "Loading file nnc_best_model_direct_lr=2_ce=10_b=95_h=5_u04.pt. Still 21 to go.\n",
      "Loading file nnc_best_model_direct_lr=2_ce=10_b=95_h=5_u08.pt. Still 20 to go.\n",
      "Loading file nnc_best_model_direct_lr=3_ce=10_b=495_h=5_u04.pt. Still 19 to go.\n",
      "Loading file nnc_best_model_direct_lr=3_ce=10_b=495_h=5_u08.pt. Still 18 to go.\n",
      "Loading file nnc_best_model_direct_lr=3_ce=10_b=95_h=5_u04.pt. Still 17 to go.\n",
      "Loading file nnc_best_model_direct_lr=3_ce=10_b=95_h=5_u08.pt. Still 16 to go.\n",
      "Loading file nnc_best_model_direct_lr=4_ce=10_b=495_h=5_u04.pt. Still 15 to go.\n",
      "Loading file nnc_best_model_direct_lr=4_ce=10_b=495_h=5_u08.pt. Still 14 to go.\n",
      "Loading file nnc_best_model_direct_lr=4_ce=10_b=95_h=5_u04.pt. Still 13 to go.\n",
      "Loading file nnc_best_model_direct_lr=4_ce=10_b=95_h=5_u08.pt. Still 12 to go.\n",
      "Loading file nnc_best_model_direct_lr=2_ce=20_b=495_h=5_u04.pt. Still 11 to go.\n",
      "Loading file nnc_best_model_direct_lr=2_ce=20_b=495_h=5_u08.pt. Still 10 to go.\n",
      "Loading file nnc_best_model_direct_lr=2_ce=20_b=95_h=5_u04.pt. Still 9 to go.\n",
      "Loading file nnc_best_model_direct_lr=2_ce=20_b=95_h=5_u08.pt. Still 8 to go.\n",
      "Loading file nnc_best_model_direct_lr=3_ce=20_b=495_h=5_u04.pt. Still 7 to go.\n",
      "Loading file nnc_best_model_direct_lr=3_ce=20_b=495_h=5_u08.pt. Still 6 to go.\n",
      "Loading file nnc_best_model_direct_lr=3_ce=20_b=95_h=5_u04.pt. Still 5 to go.\n",
      "Loading file nnc_best_model_direct_lr=3_ce=20_b=95_h=5_u08.pt. Still 4 to go.\n",
      "Loading file nnc_best_model_direct_lr=4_ce=20_b=495_h=5_u04.pt. Still 3 to go.\n",
      "Loading file nnc_best_model_direct_lr=4_ce=20_b=495_h=5_u08.pt. Still 2 to go.\n",
      "Loading file nnc_best_model_direct_lr=4_ce=20_b=95_h=5_u04.pt. Still 1 to go.\n",
      "Loading file nnc_best_model_direct_lr=4_ce=20_b=95_h=5_u08.pt. Still 0 to go.\n"
     ]
    }
   ],
   "source": [
    "rem = len(ce_list) * len(lr_list) * len(b_list) * len(d_max_list)\n",
    "idx = 0\n",
    "for ce in ce_list:\n",
    "    for lr in lr_list:\n",
    "        for b in b_list:\n",
    "            for d_max in d_max_list:\n",
    "                idx = idx + 1\n",
    "                f_name = f'nnc_best_model_direct_lr={lr}_ce={ce}_b={b}_h=5_u0{d_max}.pt'\n",
    "                print(f'Loading file {f_name}. Still {rem - idx} to go.')\n",
    "                f_name = os.path.join('../', 'sourcing_models', 'trained_neural_nets', f_name)\n",
    "                fcc = load_model(f_name)\n",
    "                states = make_states(lr, d_max)\n",
    "                qf_nnc = {}\n",
    "                state_counter = {}\n",
    "                for state in states:\n",
    "                    inv = float(state[0])\n",
    "                    pipeline = [float(el) for el in state[1:]]\n",
    "                    qr, qe = fcc(torch.tensor(10.0), torch.tensor([[inv]]), torch.tensor([pipeline]), torch.tensor([[10.0]]))\n",
    "                    val = (qr.detach().item(), qe.detach().item())\n",
    "\n",
    "                    compressed_state = (state[0] + state[1], state[2:])\n",
    "                    if compressed_state not in qf_nnc:\n",
    "                        qf_nnc[compressed_state] = val\n",
    "                        state_counter[compressed_state] = 1\n",
    "                    else:\n",
    "                        # If there are different orders for each compressed state, we take the average\n",
    "                        state_counter[compressed_state] = state_counter[compressed_state] + 1\n",
    "                        delta = 1/state_counter[compressed_state]\n",
    "                        q_r_new = qf_nnc[compressed_state][0] + delta * (val[0] - qf_nnc[compressed_state][0])\n",
    "                        q_e_new = qf_nnc[compressed_state][1] + delta * (val[1] - qf_nnc[compressed_state][1])\n",
    "                        qf_nnc[compressed_state] = (q_r_new, q_e_new)\n",
    "                out_f_name = f'nnc_state_output_lr={lr}ce={ce}b={b}h={h}u={d_max}.p'\n",
    "                out_f_name = os.path.join('../', 'sourcing_models', 'nn_state_output', out_f_name)\n",
    "                pickle.dump(qf_nnc, open(out_f_name, 'wb'), protocol=pickle.HIGHEST_PROTOCOL)\n",
    "                "
   ]
  },
  {
   "cell_type": "markdown",
   "metadata": {},
   "source": [
    "### Dual Sourcing Calculations"
   ]
  },
  {
   "cell_type": "code",
   "execution_count": 9,
   "metadata": {},
   "outputs": [],
   "source": [
    "from sourcing_models.lib import dual_sourcing_state_output"
   ]
  },
  {
   "cell_type": "markdown",
   "metadata": {},
   "source": [
    "This line is for a trial/debugging, it is not really necessary."
   ]
  },
  {
   "cell_type": "code",
   "execution_count": 7,
   "metadata": {},
   "outputs": [],
   "source": [
    "ce, lr, b, h, d_max = ce_list[0], lr_list[0], b_list[0], 5, d_max_list[1]"
   ]
  },
  {
   "cell_type": "code",
   "execution_count": 10,
   "metadata": {},
   "outputs": [],
   "source": [
    "def find_gamma_sigma():\n",
    "    \"\"\"Returns the parameters Gamma and Sigma Sun & Van Mieghem (2019), MSOM, eq. (42)\n",
    "    assuming U{a, b} demand\"\"\"\n",
    "    sigma = np.sqrt(((d_max+1)**2-1)/12)\n",
    "    gamma = d_max / (2*sigma)\n",
    "    return gamma, sigma"
   ]
  },
  {
   "cell_type": "code",
   "execution_count": 11,
   "metadata": {},
   "outputs": [],
   "source": [
    "def find_cdi_param_arrays(gamma, sigma, bandwidth=10):\n",
    "    mu = d_max / 2\n",
    "    cost_ratio = (b - h) / (b + h)\n",
    "    u1 = mu + cost_ratio * gamma * sigma\n",
    "    u2 = (lr+1)*mu + cost_ratio*(lr+1)*gamma*sigma\n",
    "    u3 = mu + cost_ratio*gamma*sigma\n",
    "    u1_arr = range(int(max(u1-bandwidth, 0)), int(u1+bandwidth))\n",
    "    u2_arr = range(int(max(u2-bandwidth, 0)), int(u2+bandwidth))\n",
    "    u3_arr = range(int(max(u3-bandwidth, 0)), int(u3+bandwidth))\n",
    "    return u1_arr, u2_arr, u3_arr"
   ]
  },
  {
   "cell_type": "code",
   "execution_count": 20,
   "metadata": {},
   "outputs": [
    {
     "name": "stdout",
     "output_type": "stream",
     "text": [
      "Completed 1 out of 36 instances. Instance: lr=2ce=5b=85h=15u=4 Cost: 39.435 Solution: (4, 4, 1)\n",
      "Completed 2 out of 36 instances. Instance: lr=2ce=5b=85h=15u=8 Cost: 71.69 Solution: (7, 11, 2)\n",
      "Completed 3 out of 36 instances. Instance: lr=3ce=5b=85h=15u=4 Cost: 39.72 Solution: (4, 4, 1)\n",
      "Completed 4 out of 36 instances. Instance: lr=3ce=5b=85h=15u=8 Cost: 72.085 Solution: (7, 17, 2)\n",
      "Completed 5 out of 36 instances. Instance: lr=2ce=10b=85h=15u=4 Cost: 43.5975 Solution: (3, 6, 2)\n",
      "Completed 6 out of 36 instances. Instance: lr=2ce=10b=85h=15u=8 Cost: 80.7075 Solution: (6, 13, 3)\n",
      "Completed 7 out of 36 instances. Instance: lr=3ce=10b=85h=15u=4 Cost: 45.3975 Solution: (3, 8, 1)\n",
      "Completed 8 out of 36 instances. Instance: lr=3ce=10b=85h=15u=8 Cost: 80.225 Solution: (6, 17, 3)\n",
      "Completed 9 out of 36 instances. Instance: lr=2ce=20b=85h=15u=4 Cost: 50.7525 Solution: (3, 8, 2)\n",
      "Completed 10 out of 36 instances. Instance: lr=2ce=20b=85h=15u=8 Cost: 90.78 Solution: (6, 15, 4)\n",
      "Completed 11 out of 36 instances. Instance: lr=3ce=20b=85h=15u=4 Cost: 49.9825 Solution: (3, 9, 2)\n",
      "Completed 12 out of 36 instances. Instance: lr=3ce=20b=85h=15u=8 Cost: 92.5025 Solution: (6, 20, 3)\n"
     ]
    }
   ],
   "source": [
    "# dual_sourcing_state_output.capped_dual_index_parameters(u1_arr, u2_arr, u3_arr, ce=ce, lr=lr, h=h, b=b, T=2000)\n",
    "cdi_optimal = {}\n",
    "cnt = 0\n",
    "T = 2000\n",
    "for ce in ce_list:\n",
    "    for lr in lr_list:\n",
    "        for b in b_list:\n",
    "            for d_max in d_max_list:\n",
    "                instance = f'lr={lr}ce={ce}b={b}h={h}u={d_max}'\n",
    "                gamma, sigma = find_gamma_sigma()\n",
    "                u1_arr, u2_arr, u3_arr = find_cdi_param_arrays(gamma, sigma)\n",
    "                demand_distr = np.random.randint(0, high=d_max+1, size=T)\n",
    "                u1, u2, u3, cost = dual_sourcing_state_output.capped_dual_index_parameters(u1_arr, u2_arr, u3_arr, \n",
    "                                                           ce=ce, lr=lr, h=h, b=b, demand_distribution=demand_distr, T=T)\n",
    "                cdi_optimal[instance] = (u1, u2, u3, cost)\n",
    "                cnt = cnt + 1\n",
    "                print(f'Completed {cnt} out of 36 instances. Instance: {instance} Cost: {cost} Solution: {(u1, u2, u3)}')\n",
    "                "
   ]
  },
  {
   "cell_type": "code",
   "execution_count": 21,
   "metadata": {},
   "outputs": [],
   "source": [
    "# Check again: state in CDI, NN, DP is like the one below.\n",
    "def inv_position(state, k):\n",
    "    \"\"\"\n",
    "    state: (I0+qr_{lr}, qr_{lr-1}, ..., qr_{t-1})\n",
    "    return: Current inventory + all orders that will arrive by period k\n",
    "    \"\"\"\n",
    "    return sum(state[:k+1])\n",
    "\n",
    "def get_cdi_action(state, u1, u2, u3):\n",
    "    ItLm1 = inv_position(state, lr)\n",
    "    Itt = inv_position(state, 0)\n",
    "    qslow = min(u3, max(u2-ItLm1, 0))\n",
    "    qfast = max(u1-Itt, 0)\n",
    "    return qslow, qfast\n",
    "\n",
    "def uncover_cdi_states(qf_cdi):\n",
    "\n",
    "    all_states = [qf_cdi]\n",
    "    search = True\n",
    "    while search:\n",
    "        ret = dict(ChainMap(*all_states))\n",
    "        qf_new = {}\n",
    "        for state in all_states[-1]:\n",
    "            qr, qe = ret[state]\n",
    "            ip_e = state[0] + qe + state[1]\n",
    "            pipeline = state[2:] if lr > 2 else qr\n",
    "            for demand in range(d_max+1):\n",
    "                ipe_new = ip_e - demand\n",
    "                new_state = (ipe_new, *pipeline, qr) if lr > 2 else (ipe_new, qr)\n",
    "                if new_state not in ret:\n",
    "                    # qf_new[new_state] = get_cdi_action(new_state, *cdi_exact_optimal[instance][:3])\n",
    "                    qf_new[new_state] = get_cdi_action(new_state, *cdi_optimal[instance][:3])\n",
    "        if qf_new:\n",
    "            all_states.append(qf_new.copy())\n",
    "        else:\n",
    "            search = False\n",
    "    return ret"
   ]
  },
  {
   "cell_type": "code",
   "execution_count": 22,
   "metadata": {},
   "outputs": [
    {
     "name": "stdout",
     "output_type": "stream",
     "text": [
      "instance: lr=2ce=5b=85h=15u=4 CDI RMSE: 0.6\n",
      "instance: lr=2ce=5b=85h=15u=8 CDI RMSE: 0.31\n",
      "instance: lr=2ce=10b=85h=15u=4 CDI RMSE: 0.69\n",
      "instance: lr=2ce=10b=85h=15u=8 CDI RMSE: 0.65\n",
      "instance: lr=2ce=20b=85h=15u=4 CDI RMSE: 0.24\n",
      "instance: lr=2ce=20b=85h=15u=8 CDI RMSE: 0.79\n",
      "instance: lr=3ce=5b=85h=15u=4 CDI RMSE: 0.62\n",
      "instance: lr=3ce=5b=85h=15u=8 CDI RMSE: 0.74\n",
      "instance: lr=3ce=10b=85h=15u=4 CDI RMSE: 0.69\n",
      "instance: lr=3ce=10b=85h=15u=8 CDI RMSE: 0.94\n",
      "instance: lr=3ce=20b=85h=15u=4 CDI RMSE: 0.46\n",
      "instance: lr=3ce=20b=85h=15u=8 CDI RMSE: 0.96\n"
     ]
    }
   ],
   "source": [
    "for lr in lr_list:\n",
    "    for ce in ce_list:\n",
    "        for b in b_list:\n",
    "            for d_max in d_max_list:\n",
    "                instance = f'lr={lr}ce={ce}b={b}h={h}u={d_max}'\n",
    "                f_name = f'dp_state_output_' + instance + '.p'\n",
    "                try:\n",
    "                    f_name = os.path.join('../', 'sourcing_models', 'dp_state_output', f_name)\n",
    "                    qf_dp = pickle.load(open(f_name, 'rb'))\n",
    "                    \n",
    "                except(OSError, IOError) as e:\n",
    "                    print(f'file {f_name} does not exist.')\n",
    "                    break\n",
    "                visited = bfs((0, )*lr)\n",
    "                qf_dp2 = {x:y for x, y in qf_dp.items() if x in visited}\n",
    "                \n",
    "                qf_cdi = {}                \n",
    "                u1, u2, u3, cost = cdi_optimal[instance] #cdi_exact_optimal[instance]\n",
    "                for state in qf_dp2:\n",
    "                    qf_cdi[state] = get_cdi_action(state, u1, u2, u3)\n",
    "                \n",
    "                qf_cdi = uncover_cdi_states(qf_cdi)\n",
    "\n",
    "                qf_diff_cdi = np.array([sum( (qf_dp2[x][y]-qf_cdi[x][y])**2 for y in range(2)) for x in qf_dp2])\n",
    "                rmse = np.sqrt(qf_diff_cdi.mean())\n",
    "                print(f'instance: {instance} CDI RMSE: {round(rmse, 2)}')\n"
   ]
  },
  {
   "cell_type": "markdown",
   "metadata": {},
   "source": [
    "### Exact Cost calculation"
   ]
  },
  {
   "cell_type": "code",
   "execution_count": 13,
   "metadata": {},
   "outputs": [],
   "source": [
    "def t(s_s, s_f):\n",
    "    \"\"\"Transi tion cost function from state s_s to s_f\"\"\"\n",
    "    inv_pos = s_f[0] - s_s[1]\n",
    "    cost = h * inv_pos if inv_pos > 0 else - b * inv_pos\n",
    "    return cost"
   ]
  },
  {
   "cell_type": "code",
   "execution_count": 14,
   "metadata": {},
   "outputs": [],
   "source": [
    "# Example\n",
    "ce, lr, b, h, d_max = ce_list[2], lr_list[0], b_list[1], 5, d_max_list[0]\n",
    "instance = f'lr={lr}ce={ce}b={b}h={h}u={d_max}'\n",
    "f_name = f'dp_state_output_' + instance + '.p'\n",
    "#                 f_name = f'dp_state_output_lr={lr}ce={ce}b={b}h={h}u={d_max}.p'\n",
    "try:\n",
    "    f_name = os.path.join('../', 'sourcing_models', 'dp_state_output', f_name)\n",
    "    qf_dp = pickle.load(open(f_name, 'rb'))\n",
    "    if ((0,)*lr) in qf_dp:\n",
    "        key = (0,)*lr\n",
    "    else:\n",
    "        key = int(len(qf_dp)/2)\n",
    "    visited = bfs(key)\n",
    "    qf_dp2 = {x:y for x, y in qf_dp.items() if x in visited}\n",
    "except(OSError, IOError) as e:\n",
    "    print(f'file {f_name} does not exist.')"
   ]
  },
  {
   "cell_type": "code",
   "execution_count": 18,
   "metadata": {},
   "outputs": [],
   "source": [
    "def exact_cost(qf_dp2):\n",
    "    \n",
    "    n_states = len(qf_dp2)\n",
    "    indexes = dict(zip(qf_dp2.keys(), range(n_states)))\n",
    "    rhs = np.zeros(n_states)\n",
    "    rhs[-1] = 1\n",
    "    transition_matrix = np.zeros((n_states, n_states))\n",
    "    transition_cost = np.zeros_like(transition_matrix)\n",
    "    \n",
    "    # Careful! This works for uniform demand only!\n",
    "    # This is the transition probability from a state\n",
    "    # s to a reachable state s'.\n",
    "    prob = 1. / (d_max + 1.)\n",
    "\n",
    "    for idx, state in enumerate(qf_dp2):\n",
    "        qr, qe = qf_dp2[state]\n",
    "    #     partial state update\n",
    "        ip_e = state[0] + qe + state[1]\n",
    "        pipeline = state[2:] if lr > 2 else qr\n",
    "        for demand in range(d_max+1):\n",
    "            ipe_new = ip_e - demand\n",
    "            new_state = (ipe_new, *pipeline, qr) if lr > 2 else (ipe_new, qr)\n",
    "            if new_state in qf_dp2:\n",
    "                cost = t(state, new_state) + qe * ce\n",
    "                transition_matrix[idx, indexes[new_state]] = prob\n",
    "                transition_cost[idx, indexes[new_state]] = cost\n",
    "            else:\n",
    "                print(f'Problem from state {state} to state {new_state}.')\n",
    "\n",
    "    mtx = np.eye(n_states)-transition_matrix\n",
    "    mtx = mtx[:, 1:]\n",
    "    mtx = np.hstack((mtx, np.ones((n_states, 1)))).T\n",
    "    mtx = csr_matrix(mtx)\n",
    "    ss_probs = dsolve.spsolve(mtx, rhs)\n",
    "    cost = np.dot(ss_probs, transition_matrix * transition_cost).sum()   \n",
    "    return cost\n",
    "#     print(f'instance: {instance} cost: {round(cost, 2)}')"
   ]
  },
  {
   "cell_type": "markdown",
   "metadata": {},
   "source": [
    "#### Exact cost calculation DP"
   ]
  },
  {
   "cell_type": "code",
   "execution_count": 19,
   "metadata": {},
   "outputs": [
    {
     "name": "stdout",
     "output_type": "stream",
     "text": [
      "instance: lr=2ce=5b=95h=5u=4 cost: 16.77\n",
      "instance: lr=2ce=5b=95h=5u=8 cost: 32.27\n",
      "instance: lr=2ce=5b=495h=5u=4 cost: 16.77\n",
      "instance: lr=2ce=5b=495h=5u=8 cost: 32.27\n",
      "instance: lr=2ce=10b=95h=5u=4 cost: 19.73\n",
      "instance: lr=2ce=10b=95h=5u=8 cost: 37.23\n",
      "instance: lr=2ce=10b=495h=5u=4 cost: 19.73\n",
      "instance: lr=2ce=10b=495h=5u=8 cost: 37.83\n",
      "instance: lr=2ce=20b=95h=5u=4 cost: 22.82\n",
      "instance: lr=2ce=20b=95h=5u=8 cost: 41.63\n",
      "instance: lr=2ce=20b=495h=5u=4 cost: 23.07\n",
      "instance: lr=2ce=20b=495h=5u=8 cost: 43.76\n",
      "instance: lr=3ce=5b=95h=5u=4 cost: 16.88\n",
      "instance: lr=3ce=5b=95h=5u=8 cost: 32.6\n",
      "instance: lr=3ce=5b=495h=5u=4 cost: 16.88\n",
      "instance: lr=3ce=5b=495h=5u=8 cost: 32.6\n",
      "instance: lr=3ce=10b=95h=5u=4 cost: 20.34\n",
      "instance: lr=3ce=10b=95h=5u=8 cost: 38.61\n",
      "instance: lr=3ce=10b=495h=5u=4 cost: 20.34\n",
      "instance: lr=3ce=10b=495h=5u=8 cost: 38.89\n",
      "instance: lr=3ce=20b=95h=5u=4 cost: 24.3\n",
      "instance: lr=3ce=20b=95h=5u=8 cost: 44.44\n",
      "instance: lr=3ce=20b=495h=5u=4 cost: 24.34\n",
      "instance: lr=3ce=20b=495h=5u=8 cost: 46.2\n",
      "file ../sourcing_models\\dp_state_output\\dp_state_output_lr=4ce=5b=95h=5u=4.p does not exist.\n",
      "file ../sourcing_models\\dp_state_output\\dp_state_output_lr=4ce=5b=95h=5u=8.p does not exist.\n",
      "instance: lr=4ce=5b=495h=5u=4 cost: 16.89\n",
      "file ../sourcing_models\\dp_state_output\\dp_state_output_lr=4ce=5b=495h=5u=8.p does not exist.\n",
      "instance: lr=4ce=10b=95h=5u=4 cost: 20.61\n",
      "file ../sourcing_models\\dp_state_output\\dp_state_output_lr=4ce=10b=95h=5u=8.p does not exist.\n",
      "instance: lr=4ce=10b=495h=5u=4 cost: 20.61\n",
      "file ../sourcing_models\\dp_state_output\\dp_state_output_lr=4ce=10b=495h=5u=8.p does not exist.\n",
      "instance: lr=4ce=20b=95h=5u=4 cost: 25.02\n",
      "file ../sourcing_models\\dp_state_output\\dp_state_output_lr=4ce=20b=95h=5u=8.p does not exist.\n",
      "instance: lr=4ce=20b=495h=5u=4 cost: 25.04\n",
      "file ../sourcing_models\\dp_state_output\\dp_state_output_lr=4ce=20b=495h=5u=8.p does not exist.\n"
     ]
    }
   ],
   "source": [
    "for lr in lr_list:\n",
    "    for ce in ce_list:\n",
    "        for b in reversed(b_list):\n",
    "            for d_max in d_max_list:\n",
    "                instance = f'lr={lr}ce={ce}b={b}h={h}u={d_max}'\n",
    "                f_name = f'dp_state_output_' + instance + '.p'\n",
    "                try:\n",
    "                    f_name = os.path.join('../', 'sourcing_models', 'dp_state_output', f_name)\n",
    "                    qf_dp = pickle.load(open(f_name, 'rb'))\n",
    "                    if ((0,)*lr) in qf_dp:\n",
    "                        key = (0,)*lr\n",
    "                    else:\n",
    "                        key = int(len(qf_dp)/2)\n",
    "                    visited = bfs(key)\n",
    "                    qf_dp2 = {x:y for x, y in qf_dp.items() if x in visited}\n",
    "                    cost = exact_cost(qf_dp2)\n",
    "                    print(f'instance: {instance} cost: {round(cost, 2)}')\n",
    "                except(OSError, IOError) as e:\n",
    "                    print(f'file {f_name} does not exist.')"
   ]
  },
  {
   "cell_type": "code",
   "execution_count": 21,
   "metadata": {},
   "outputs": [],
   "source": [
    "%qtconsole"
   ]
  },
  {
   "cell_type": "markdown",
   "metadata": {},
   "source": [
    "### Exact cost calculation CDI"
   ]
  },
  {
   "cell_type": "code",
   "execution_count": 24,
   "metadata": {},
   "outputs": [
    {
     "name": "stdout",
     "output_type": "stream",
     "text": [
      "instance: lr=2ce=5b=95h=5u=4 cost: 16.85\n",
      "instance: lr=2ce=5b=95h=5u=8 cost: 32.29\n",
      "instance: lr=2ce=5b=495h=5u=4 cost: 16.85\n",
      "instance: lr=2ce=5b=495h=5u=8 cost: 32.29\n",
      "instance: lr=2ce=10b=95h=5u=4 cost: 19.8\n",
      "instance: lr=2ce=10b=95h=5u=8 cost: 37.87\n",
      "instance: lr=2ce=10b=495h=5u=4 cost: 19.8\n",
      "instance: lr=2ce=10b=495h=5u=8 cost: 37.87\n",
      "instance: lr=2ce=20b=95h=5u=4 cost: 23.35\n",
      "instance: lr=2ce=20b=95h=5u=8 cost: 41.86\n",
      "instance: lr=2ce=20b=495h=5u=4 cost: 23.25\n",
      "instance: lr=2ce=20b=495h=5u=8 cost: 43.81\n",
      "instance: lr=3ce=5b=95h=5u=4 cost: 16.88\n",
      "instance: lr=3ce=5b=95h=5u=8 cost: 32.93\n",
      "instance: lr=3ce=5b=495h=5u=4 cost: 16.88\n",
      "instance: lr=3ce=5b=495h=5u=8 cost: 32.93\n",
      "instance: lr=3ce=10b=95h=5u=4 cost: 20.47\n",
      "instance: lr=3ce=10b=95h=5u=8 cost: 39.26\n",
      "instance: lr=3ce=10b=495h=5u=4 cost: 20.47\n",
      "instance: lr=3ce=10b=495h=5u=8 cost: 39.42\n",
      "instance: lr=3ce=20b=95h=5u=4 cost: 25.0\n",
      "instance: lr=3ce=20b=95h=5u=8 cost: 44.9\n",
      "instance: lr=3ce=20b=495h=5u=4 cost: 24.4\n",
      "instance: lr=3ce=20b=495h=5u=8 cost: 46.33\n",
      "file ../sourcing_models\\dp_state_output\\dp_state_output_lr=4ce=5b=95h=5u=4.p does not exist.\n",
      "file ../sourcing_models\\dp_state_output\\dp_state_output_lr=4ce=5b=95h=5u=8.p does not exist.\n",
      "instance: lr=4ce=5b=495h=5u=4 cost: 16.89\n",
      "file ../sourcing_models\\dp_state_output\\dp_state_output_lr=4ce=5b=495h=5u=8.p does not exist.\n",
      "instance: lr=4ce=10b=95h=5u=4 cost: 21.07\n",
      "file ../sourcing_models\\dp_state_output\\dp_state_output_lr=4ce=10b=95h=5u=8.p does not exist.\n",
      "instance: lr=4ce=10b=495h=5u=4 cost: 21.07\n",
      "file ../sourcing_models\\dp_state_output\\dp_state_output_lr=4ce=10b=495h=5u=8.p does not exist.\n",
      "instance: lr=4ce=20b=95h=5u=4 cost: 25.25\n",
      "file ../sourcing_models\\dp_state_output\\dp_state_output_lr=4ce=20b=95h=5u=8.p does not exist.\n",
      "instance: lr=4ce=20b=495h=5u=4 cost: 25.25\n",
      "file ../sourcing_models\\dp_state_output\\dp_state_output_lr=4ce=20b=495h=5u=8.p does not exist.\n"
     ]
    }
   ],
   "source": [
    "for lr in lr_list:\n",
    "    for ce in ce_list:\n",
    "        for b in reversed(b_list):\n",
    "            for d_max in d_max_list:\n",
    "                instance = f'lr={lr}ce={ce}b={b}h={h}u={d_max}'\n",
    "                f_name = f'dp_state_output_' + instance + '.p'\n",
    "                try:\n",
    "                    f_name = os.path.join('../', 'sourcing_models', 'dp_state_output', f_name)\n",
    "                    qf_dp = pickle.load(open(f_name, 'rb'))\n",
    "                    if ((0,)*lr) in qf_dp:\n",
    "                        key = (0,)*lr\n",
    "                    else:\n",
    "                        key = int(len(qf_dp)/2)\n",
    "                    visited = bfs(key)\n",
    "                    qf_dp2 = {x:y for x, y in qf_dp.items() if x in visited}\n",
    "                    \n",
    "                    qf_cdi = {}\n",
    "                    u1, u2, u3, cost = cdi_optimal[instance]\n",
    "                    for state in qf_dp2:\n",
    "                        qf_cdi[state] = get_cdi_action(state, u1, u2, u3)                \n",
    "                    qf_cdi = uncover_cdi_states(qf_cdi)\n",
    "                    cost = exact_cost(qf_cdi)\n",
    "                    print(f'instance: {instance} cost: {round(cost, 2)}')\n",
    "                except(OSError, IOError) as e:\n",
    "                    print(f'file {f_name} does not exist.')"
   ]
  },
  {
   "cell_type": "markdown",
   "metadata": {},
   "source": [
    "### Exact search CDI"
   ]
  },
  {
   "cell_type": "code",
   "execution_count": 30,
   "metadata": {},
   "outputs": [],
   "source": [
    "def exact_search_cdi(instance, u1_arr, u2_arr, u3_arr, qf_dp2):\n",
    "    min_cost = 1e9\n",
    "\n",
    "    optimal_u1 = 0\n",
    "    optimal_u2 = 0\n",
    "    optimal_u3 = 0\n",
    "\n",
    "    for u1 in u1_arr:\n",
    "        for u2 in u2_arr:\n",
    "            for u3 in u3_arr:\n",
    "                qf_cdi = {}\n",
    "                for state in qf_dp2:\n",
    "                    qf_cdi[state] = get_cdi_action(state, u1, u2, u3)                \n",
    "                qf_cdi = uncover_cdi_states(qf_cdi)\n",
    "                cost_tmp = exact_cost(qf_cdi)\n",
    "                if cost_tmp < min_cost:\n",
    "                    optimal_u1 = u1\n",
    "                    optimal_u2 = u2\n",
    "                    optimal_u3 = u3\n",
    "                    min_cost = cost_tmp\n",
    "    return optimal_u1, optimal_u2, optimal_u3, min_cost"
   ]
  },
  {
   "cell_type": "code",
   "execution_count": 31,
   "metadata": {},
   "outputs": [
    {
     "name": "stdout",
     "output_type": "stream",
     "text": [
      "Instance: lr=2ce=5b=95h=5u=4 Cost: 16.848404255319146 Solution: (4, 8, 1)\n",
      "Instance: lr=2ce=5b=95h=5u=8 Cost: 32.28891688578486 Solution: (8, 15, 3)\n",
      "Instance: lr=2ce=5b=495h=5u=4 Cost: 16.848404255319146 Solution: (4, 8, 1)\n",
      "Instance: lr=2ce=5b=495h=5u=8 Cost: 32.28891688578486 Solution: (8, 15, 3)\n",
      "Instance: lr=2ce=10b=95h=5u=4 Cost: 19.799405646359585 Solution: (4, 8, 2)\n",
      "Instance: lr=2ce=10b=95h=5u=8 Cost: 37.41599855798702 Solution: (7, 17, 5)\n",
      "Instance: lr=2ce=10b=495h=5u=4 Cost: 19.799405646359585 Solution: (4, 8, 2)\n",
      "Instance: lr=2ce=10b=495h=5u=8 Cost: 37.865261706203384 Solution: (8, 17, 4)\n",
      "Instance: lr=2ce=20b=95h=5u=4 Cost: 23.049999999999997 Solution: (3, 10, 3)\n",
      "Instance: lr=2ce=20b=95h=5u=8 Cost: 41.76378600823044 Solution: (7, 18, 5)\n",
      "Instance: lr=2ce=20b=495h=5u=4 Cost: 23.24556213017751 Solution: (4, 9, 3)\n",
      "Instance: lr=2ce=20b=495h=5u=8 Cost: 43.80631001371743 Solution: (8, 19, 5)\n",
      "Instance: lr=3ce=5b=95h=5u=4 Cost: 16.878306878306883 Solution: (4, 9, 1)\n",
      "Instance: lr=3ce=5b=95h=5u=8 Cost: 32.92761101081322 Solution: (8, 20, 2)\n",
      "Instance: lr=3ce=5b=495h=5u=4 Cost: 16.878306878306883 Solution: (4, 9, 1)\n",
      "Instance: lr=3ce=5b=495h=5u=8 Cost: 32.93110633757061 Solution: (8, 21, 2)\n",
      "Instance: lr=3ce=10b=95h=5u=4 Cost: 20.465661697528798 Solution: (4, 10, 2)\n",
      "Instance: lr=3ce=10b=95h=5u=8 Cost: 38.79731871142508 Solution: (7, 20, 4)\n",
      "Instance: lr=3ce=10b=495h=5u=4 Cost: 20.465661697528798 Solution: (4, 10, 2)\n",
      "Instance: lr=3ce=10b=495h=5u=8 Cost: 39.053599733469 Solution: (8, 21, 3)\n",
      "Instance: lr=3ce=20b=95h=5u=4 Cost: 24.49040465517126 Solution: (4, 12, 2)\n",
      "Instance: lr=3ce=20b=95h=5u=8 Cost: 44.659884521369634 Solution: (7, 22, 5)\n",
      "Instance: lr=3ce=20b=495h=5u=4 Cost: 24.402433257383606 Solution: (4, 11, 2)\n",
      "Instance: lr=3ce=20b=495h=5u=8 Cost: 46.333298426546065 Solution: (8, 23, 4)\n",
      "file ../sourcing_models\\dp_state_output\\dp_state_output_lr=4ce=5b=95h=5u=4.p does not exist.\n",
      "file ../sourcing_models\\dp_state_output\\dp_state_output_lr=4ce=5b=95h=5u=8.p does not exist.\n",
      "Instance: lr=4ce=5b=495h=5u=4 Cost: 16.8930936997498 Solution: (4, 11, 1)\n",
      "file ../sourcing_models\\dp_state_output\\dp_state_output_lr=4ce=5b=495h=5u=8.p does not exist.\n",
      "Instance: lr=4ce=10b=95h=5u=4 Cost: 21.046159765565115 Solution: (4, 11, 2)\n",
      "file ../sourcing_models\\dp_state_output\\dp_state_output_lr=4ce=10b=95h=5u=8.p does not exist.\n",
      "Instance: lr=4ce=10b=495h=5u=4 Cost: 21.046159765565115 Solution: (4, 11, 2)\n",
      "file ../sourcing_models\\dp_state_output\\dp_state_output_lr=4ce=10b=495h=5u=8.p does not exist.\n",
      "Instance: lr=4ce=20b=95h=5u=4 Cost: 25.04410046805438 Solution: (4, 13, 2)\n",
      "file ../sourcing_models\\dp_state_output\\dp_state_output_lr=4ce=20b=95h=5u=8.p does not exist.\n",
      "Instance: lr=4ce=20b=495h=5u=4 Cost: 25.048458766808995 Solution: (4, 13, 2)\n",
      "file ../sourcing_models\\dp_state_output\\dp_state_output_lr=4ce=20b=495h=5u=8.p does not exist.\n"
     ]
    }
   ],
   "source": [
    "cdi_exact_optimal = {}\n",
    "for lr in lr_list:\n",
    "    for ce in ce_list:\n",
    "        for b in reversed(b_list):\n",
    "            for d_max in d_max_list:\n",
    "                instance = f'lr={lr}ce={ce}b={b}h={h}u={d_max}'\n",
    "                f_name = f'dp_state_output_' + instance + '.p'\n",
    "                try:\n",
    "                    f_name = os.path.join('../', 'sourcing_models', 'dp_state_output', f_name)\n",
    "                    qf_dp = pickle.load(open(f_name, 'rb'))\n",
    "                    if ((0,)*lr) in qf_dp:\n",
    "                        key = (0,)*lr\n",
    "                    else:\n",
    "                        key = int(len(qf_dp)/2)\n",
    "                    visited = bfs(key)\n",
    "                    qf_dp2 = {x:y for x, y in qf_dp.items() if x in visited}\n",
    "                    gamma, sigma = find_gamma_sigma()\n",
    "                    u1_arr, u2_arr, u3_arr = find_cdi_param_arrays(gamma, sigma)\n",
    "                    u1, u2, u3, cost = exact_search_cdi(instance, u1_arr, u2_arr, u3_arr, qf_dp2)\n",
    "                    cdi_exact_optimal[instance] = (u1, u2, u3, cost)\n",
    "                    print(f'Instance: {instance} Cost: {cost} Solution: {(u1, u2, u3)}')\n",
    "                except(OSError, IOError) as e:\n",
    "                    print(f'file {f_name} does not exist.')"
   ]
  },
  {
   "cell_type": "code",
   "execution_count": null,
   "metadata": {},
   "outputs": [],
   "source": []
  }
 ],
 "metadata": {
  "kernelspec": {
   "display_name": "Python 3",
   "language": "python",
   "name": "python3"
  },
  "language_info": {
   "codemirror_mode": {
    "name": "ipython",
    "version": 3
   },
   "file_extension": ".py",
   "mimetype": "text/x-python",
   "name": "python",
   "nbconvert_exporter": "python",
   "pygments_lexer": "ipython3",
   "version": "3.8.3"
  }
 },
 "nbformat": 4,
 "nbformat_minor": 4
}
