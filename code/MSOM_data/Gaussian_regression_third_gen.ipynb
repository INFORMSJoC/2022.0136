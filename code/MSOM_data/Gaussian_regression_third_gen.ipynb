{
 "cells": [
  {
   "cell_type": "code",
   "execution_count": 1,
   "id": "ff7e4961",
   "metadata": {},
   "outputs": [],
   "source": [
    "import numpy as np\n",
    "import pandas as pd\n",
    "import scipy\n",
    "import time\n",
    "import sys\n",
    "sys.path.append('../sourcing_models/')\n",
    "import matplotlib.pyplot as plt\n",
    "from lib.dual_sourcing import *\n",
    "\n",
    "import torch\n",
    "\n",
    "from copy import deepcopy\n",
    "from collections import Counter\n",
    "from scipy.stats import truncnorm\n",
    "from matplotlib import rcParams\n",
    "from matplotlib.ticker import (MultipleLocator, AutoMinorLocator)\n",
    "\n",
    "# customized settings\n",
    "params = {  # 'backend': 'ps',\n",
    "    'font.family': 'serif',\n",
    "    'font.serif': 'Fira',\n",
    "    'font.size': 10,\n",
    "    'axes.labelsize': 'medium',\n",
    "    'axes.titlesize': 'medium',\n",
    "    'legend.fontsize': 'medium',\n",
    "    'xtick.labelsize': 'small',\n",
    "    'ytick.labelsize': 'small',\n",
    "    'savefig.dpi': 150,\n",
    "    'text.usetex': True}\n",
    "# tell matplotlib about your params\n",
    "rcParams.update(params)\n",
    "\n",
    "# set nice figure sizes\n",
    "fig_width_pt = 245    # Get this from LaTeX using \\showthe\\columnwidth\n",
    "golden_mean = (np.sqrt(5.) - 1.) / 2.  # Aesthetic ratio\n",
    "ratio = golden_mean\n",
    "inches_per_pt = 1. / 72.27  # Convert pt to inches\n",
    "fig_width = fig_width_pt * inches_per_pt  # width in inches\n",
    "fig_height = fig_width*ratio  # height in inches\n",
    "fig_size = [fig_width, fig_height]\n",
    "rcParams.update({'figure.figsize': fig_size})"
   ]
  },
  {
   "cell_type": "markdown",
   "id": "1d350693",
   "metadata": {},
   "source": [
    "# Load data\n",
    "We first load the data that was published along with the MSOM article \"Data Set: 187 Weeks of Customer Forecasts and Orders for Microprocessors from Intel Corporation\"."
   ]
  },
  {
   "cell_type": "code",
   "execution_count": 2,
   "id": "346599bd",
   "metadata": {},
   "outputs": [],
   "source": [
    "data = pd.read_csv(\"../../data/MSOM_data/msom.2020.0933.csv\")\n",
    "max_weeks = max(data[\"Week\"].to_numpy())\n",
    "max_weeks = 115\n",
    "X = np.arange(1,max_weeks+1)"
   ]
  },
  {
   "cell_type": "markdown",
   "id": "b89d8e15",
   "metadata": {},
   "source": [
    "Next, we select the relevant stock keeping units (SKUs) and customer orders."
   ]
  },
  {
   "cell_type": "code",
   "execution_count": 3,
   "id": "a4627e82",
   "metadata": {},
   "outputs": [],
   "source": [
    "def select_SKUs(SKUs):\n",
    "    \n",
    "    y = []\n",
    "    for SKU in SKUs:\n",
    "        \n",
    "        data_ = data[data[\"SKU\"] == SKU]\n",
    "        weeks = data_[data_[\"SKU\"] == SKU][\"Week\"].to_numpy()\n",
    "        orders = data_[data_[\"SKU\"] == SKU][\"Customer Orders\"].to_numpy()\n",
    "        data_[\"Total Customer Orders\"] = data_.groupby([\"Week\"])['Customer Orders'].transform('sum')\n",
    "        total_orders = data_[\"Total Customer Orders\"].to_numpy()\n",
    "        \n",
    "        weeks_total_orders = sorted(set([(x[0],x[1]) for x in zip(weeks,total_orders)]))\n",
    "        \n",
    "        weeks_ = np.array([x[0] for x in weeks_total_orders])\n",
    "        total_orders_ = np.array([x[1] for x in weeks_total_orders])\n",
    "        \n",
    "        y_ = []\n",
    "        for i in range(len(X)):\n",
    "            \n",
    "            if X[i] in weeks_:\n",
    "                y_.append(total_orders_[X[i] == weeks_][0])\n",
    "            else:\n",
    "                y_.append(np.nan)\n",
    "        \n",
    "        y.append(np.array(y_))\n",
    "    \n",
    "    return np.array(y)"
   ]
  },
  {
   "cell_type": "markdown",
   "id": "d178cdf0",
   "metadata": {},
   "source": [
    "We select third generation SKUs."
   ]
  },
  {
   "cell_type": "code",
   "execution_count": 4,
   "id": "3b9d9763",
   "metadata": {},
   "outputs": [
    {
     "name": "stderr",
     "output_type": "stream",
     "text": [
      "/home/lucasb/anaconda3/envs/inventory/lib/python3.6/site-packages/ipykernel_launcher.py:9: SettingWithCopyWarning: \n",
      "A value is trying to be set on a copy of a slice from a DataFrame.\n",
      "Try using .loc[row_indexer,col_indexer] = value instead\n",
      "\n",
      "See the caveats in the documentation: https://pandas.pydata.org/pandas-docs/stable/user_guide/indexing.html#returning-a-view-versus-a-copy\n",
      "  if __name__ == '__main__':\n"
     ]
    }
   ],
   "source": [
    "#SKUs = [\"SKU-A-2\", \"SKU-B-2\", \"SKU-C-1\", \"SKU-C-2\", \"SKU-F-1\", \"SKU-F-2\", \"SKU-H-2\", \"SKU-I-2\", \"SKU-J-2\", \"SKU-K-2\", \"SKU-L-1\", \"SKU-L-2\", \"SKU-M-2\", \"SKU-O-1\", \"SKU-O-2\", \"SKU-Q-2\", \"SKU-S-2\"]\n",
    "SKUs = [\"SKU-A-3\", \"SKU-B-3\", \"SKU-C-3\", \"SKU-E-3\", \"SKU-H-3\", \"SKU-I-3\", \"SKU-J-3\", \"SKU-N-3\", \"SKU-S-3\", \"SKU-T-3\"]\n",
    "y = select_SKUs(SKUs)"
   ]
  },
  {
   "cell_type": "code",
   "execution_count": 5,
   "id": "b51082b9",
   "metadata": {},
   "outputs": [],
   "source": [
    "y_impute = np.nan_to_num(y,nan=0)\n",
    "max_y = np.max(y_impute)"
   ]
  },
  {
   "cell_type": "markdown",
   "id": "0e9a0a7b",
   "metadata": {},
   "source": [
    "# Model data by Gaussian process"
   ]
  },
  {
   "cell_type": "markdown",
   "id": "ce0c0b9c",
   "metadata": {},
   "source": [
    "We now determine the means and standard deviations separately for all weeks."
   ]
  },
  {
   "cell_type": "code",
   "execution_count": 6,
   "id": "223db7fa",
   "metadata": {},
   "outputs": [],
   "source": [
    "mean_arr = np.array([np.mean(y_impute[:,i]/1e5) for i in range(len(X))])\n",
    "std_arr = np.array([np.std(y_impute[:,i]/1e5,ddof=1) for i in range(len(X))])"
   ]
  },
  {
   "cell_type": "markdown",
   "id": "887cc5d5",
   "metadata": {},
   "source": [
    "Plot the original data, mean, and 95% confidence interval."
   ]
  },
  {
   "cell_type": "code",
   "execution_count": 7,
   "id": "cb047e0d",
   "metadata": {},
   "outputs": [
    {
     "data": {
      "image/png": "[encoded data removed]",
      "text/plain": [
       "<Figure size 244.085x150.853 with 1 Axes>"
      ]
     },
     "metadata": {},
     "output_type": "display_data"
    }
   ],
   "source": [
    "fig, ax = plt.subplots(facecolor='white')\n",
    "for i in range(len(SKUs)):\n",
    "    plt.plot(X, y_impute[i]/1e5,alpha=0.3,color='Grey')\n",
    "plt.plot(X,mean_arr,color='tab:blue',alpha=0.8)\n",
    "plt.fill_between(X,mean_arr+1.96*std_arr,mean_arr-1.96*std_arr,alpha=0.3)\n",
    "ax.xaxis.set_minor_locator(MultipleLocator(5))\n",
    "plt.xlim(0,120)\n",
    "plt.ylim(0,2.5)\n",
    "plt.xlabel(r\"week\")\n",
    "plt.ylabel(r\"customer orders [$\\times 10^5$]\")\n",
    "plt.tight_layout()\n",
    "plt.savefig(\"gaussian_sampling.png\",dpi=480)\n",
    "plt.show()"
   ]
  },
  {
   "cell_type": "markdown",
   "id": "1ada1307",
   "metadata": {},
   "source": [
    "Generate samples using a truncated normal distribution."
   ]
  },
  {
   "cell_type": "code",
   "execution_count": 8,
   "id": "c05a15b4",
   "metadata": {},
   "outputs": [],
   "source": [
    "num_samples = 1000\n",
    "samples = []\n",
    "myclip_a = 0\n",
    "myclip_b = 1e3\n",
    "\n",
    "for i in range(len(mean_arr)):\n",
    "    \n",
    "    my_mean = mean_arr[i]\n",
    "    my_std = std_arr[i]\n",
    "    a, b = (myclip_a - my_mean) / (1e-9+my_std), (myclip_b - my_mean) / (1e-9+my_std)\n",
    "    r = truncnorm.rvs(a, b, loc=my_mean, scale=my_std, size=num_samples)\n",
    "    samples.append(r)"
   ]
  },
  {
   "cell_type": "code",
   "execution_count": 9,
   "id": "fb692a75",
   "metadata": {},
   "outputs": [
    {
     "name": "stderr",
     "output_type": "stream",
     "text": [
      "/home/lucasb/anaconda3/envs/inventory/lib/python3.6/site-packages/scipy/stats/_distn_infrastructure.py:1740: RuntimeWarning: divide by zero encountered in true_divide\n",
      "  x = np.asarray((x - loc)/scale, dtype=dtyp)\n",
      "/home/lucasb/anaconda3/envs/inventory/lib/python3.6/site-packages/scipy/stats/_distn_infrastructure.py:1740: RuntimeWarning: invalid value encountered in true_divide\n",
      "  x = np.asarray((x - loc)/scale, dtype=dtyp)\n",
      "/home/lucasb/anaconda3/envs/inventory/lib/python3.6/site-packages/scipy/stats/_distn_infrastructure.py:1740: RuntimeWarning: divide by zero encountered in true_divide\n",
      "  x = np.asarray((x - loc)/scale, dtype=dtyp)\n",
      "/home/lucasb/anaconda3/envs/inventory/lib/python3.6/site-packages/scipy/stats/_distn_infrastructure.py:1740: RuntimeWarning: invalid value encountered in true_divide\n",
      "  x = np.asarray((x - loc)/scale, dtype=dtyp)\n",
      "/home/lucasb/anaconda3/envs/inventory/lib/python3.6/site-packages/scipy/stats/_distn_infrastructure.py:1740: RuntimeWarning: divide by zero encountered in true_divide\n",
      "  x = np.asarray((x - loc)/scale, dtype=dtyp)\n",
      "/home/lucasb/anaconda3/envs/inventory/lib/python3.6/site-packages/scipy/stats/_distn_infrastructure.py:1740: RuntimeWarning: invalid value encountered in true_divide\n",
      "  x = np.asarray((x - loc)/scale, dtype=dtyp)\n",
      "/home/lucasb/anaconda3/envs/inventory/lib/python3.6/site-packages/scipy/stats/_distn_infrastructure.py:1740: RuntimeWarning: divide by zero encountered in true_divide\n",
      "  x = np.asarray((x - loc)/scale, dtype=dtyp)\n",
      "/home/lucasb/anaconda3/envs/inventory/lib/python3.6/site-packages/scipy/stats/_distn_infrastructure.py:1740: RuntimeWarning: invalid value encountered in true_divide\n",
      "  x = np.asarray((x - loc)/scale, dtype=dtyp)\n",
      "/home/lucasb/anaconda3/envs/inventory/lib/python3.6/site-packages/scipy/stats/_distn_infrastructure.py:1740: RuntimeWarning: divide by zero encountered in true_divide\n",
      "  x = np.asarray((x - loc)/scale, dtype=dtyp)\n",
      "/home/lucasb/anaconda3/envs/inventory/lib/python3.6/site-packages/scipy/stats/_distn_infrastructure.py:1740: RuntimeWarning: invalid value encountered in true_divide\n",
      "  x = np.asarray((x - loc)/scale, dtype=dtyp)\n",
      "/home/lucasb/anaconda3/envs/inventory/lib/python3.6/site-packages/scipy/stats/_distn_infrastructure.py:1740: RuntimeWarning: divide by zero encountered in true_divide\n",
      "  x = np.asarray((x - loc)/scale, dtype=dtyp)\n",
      "/home/lucasb/anaconda3/envs/inventory/lib/python3.6/site-packages/scipy/stats/_distn_infrastructure.py:1740: RuntimeWarning: invalid value encountered in true_divide\n",
      "  x = np.asarray((x - loc)/scale, dtype=dtyp)\n",
      "/home/lucasb/anaconda3/envs/inventory/lib/python3.6/site-packages/scipy/stats/_distn_infrastructure.py:1740: RuntimeWarning: divide by zero encountered in true_divide\n",
      "  x = np.asarray((x - loc)/scale, dtype=dtyp)\n",
      "/home/lucasb/anaconda3/envs/inventory/lib/python3.6/site-packages/scipy/stats/_distn_infrastructure.py:1740: RuntimeWarning: invalid value encountered in true_divide\n",
      "  x = np.asarray((x - loc)/scale, dtype=dtyp)\n",
      "/home/lucasb/anaconda3/envs/inventory/lib/python3.6/site-packages/scipy/stats/_distn_infrastructure.py:1740: RuntimeWarning: divide by zero encountered in true_divide\n",
      "  x = np.asarray((x - loc)/scale, dtype=dtyp)\n",
      "/home/lucasb/anaconda3/envs/inventory/lib/python3.6/site-packages/scipy/stats/_distn_infrastructure.py:1740: RuntimeWarning: invalid value encountered in true_divide\n",
      "  x = np.asarray((x - loc)/scale, dtype=dtyp)\n",
      "/home/lucasb/anaconda3/envs/inventory/lib/python3.6/site-packages/scipy/stats/_distn_infrastructure.py:1740: RuntimeWarning: divide by zero encountered in true_divide\n",
      "  x = np.asarray((x - loc)/scale, dtype=dtyp)\n",
      "/home/lucasb/anaconda3/envs/inventory/lib/python3.6/site-packages/scipy/stats/_distn_infrastructure.py:1740: RuntimeWarning: invalid value encountered in true_divide\n",
      "  x = np.asarray((x - loc)/scale, dtype=dtyp)\n",
      "/home/lucasb/anaconda3/envs/inventory/lib/python3.6/site-packages/scipy/stats/_distn_infrastructure.py:1740: RuntimeWarning: divide by zero encountered in true_divide\n",
      "  x = np.asarray((x - loc)/scale, dtype=dtyp)\n",
      "/home/lucasb/anaconda3/envs/inventory/lib/python3.6/site-packages/scipy/stats/_distn_infrastructure.py:1740: RuntimeWarning: invalid value encountered in true_divide\n",
      "  x = np.asarray((x - loc)/scale, dtype=dtyp)\n",
      "/home/lucasb/anaconda3/envs/inventory/lib/python3.6/site-packages/scipy/stats/_distn_infrastructure.py:1740: RuntimeWarning: divide by zero encountered in true_divide\n",
      "  x = np.asarray((x - loc)/scale, dtype=dtyp)\n",
      "/home/lucasb/anaconda3/envs/inventory/lib/python3.6/site-packages/scipy/stats/_distn_infrastructure.py:1740: RuntimeWarning: invalid value encountered in true_divide\n",
      "  x = np.asarray((x - loc)/scale, dtype=dtyp)\n",
      "/home/lucasb/anaconda3/envs/inventory/lib/python3.6/site-packages/scipy/stats/_distn_infrastructure.py:1740: RuntimeWarning: divide by zero encountered in true_divide\n",
      "  x = np.asarray((x - loc)/scale, dtype=dtyp)\n",
      "/home/lucasb/anaconda3/envs/inventory/lib/python3.6/site-packages/scipy/stats/_distn_infrastructure.py:1740: RuntimeWarning: invalid value encountered in true_divide\n",
      "  x = np.asarray((x - loc)/scale, dtype=dtyp)\n",
      "/home/lucasb/anaconda3/envs/inventory/lib/python3.6/site-packages/scipy/stats/_distn_infrastructure.py:1740: RuntimeWarning: divide by zero encountered in true_divide\n",
      "  x = np.asarray((x - loc)/scale, dtype=dtyp)\n",
      "/home/lucasb/anaconda3/envs/inventory/lib/python3.6/site-packages/scipy/stats/_distn_infrastructure.py:1740: RuntimeWarning: invalid value encountered in true_divide\n",
      "  x = np.asarray((x - loc)/scale, dtype=dtyp)\n",
      "/home/lucasb/anaconda3/envs/inventory/lib/python3.6/site-packages/scipy/stats/_distn_infrastructure.py:1740: RuntimeWarning: divide by zero encountered in true_divide\n",
      "  x = np.asarray((x - loc)/scale, dtype=dtyp)\n",
      "/home/lucasb/anaconda3/envs/inventory/lib/python3.6/site-packages/scipy/stats/_distn_infrastructure.py:1740: RuntimeWarning: invalid value encountered in true_divide\n",
      "  x = np.asarray((x - loc)/scale, dtype=dtyp)\n",
      "/home/lucasb/anaconda3/envs/inventory/lib/python3.6/site-packages/scipy/stats/_distn_infrastructure.py:1740: RuntimeWarning: divide by zero encountered in true_divide\n",
      "  x = np.asarray((x - loc)/scale, dtype=dtyp)\n",
      "/home/lucasb/anaconda3/envs/inventory/lib/python3.6/site-packages/scipy/stats/_distn_infrastructure.py:1740: RuntimeWarning: invalid value encountered in true_divide\n",
      "  x = np.asarray((x - loc)/scale, dtype=dtyp)\n",
      "/home/lucasb/anaconda3/envs/inventory/lib/python3.6/site-packages/scipy/stats/_distn_infrastructure.py:1740: RuntimeWarning: divide by zero encountered in true_divide\n",
      "  x = np.asarray((x - loc)/scale, dtype=dtyp)\n",
      "/home/lucasb/anaconda3/envs/inventory/lib/python3.6/site-packages/scipy/stats/_distn_infrastructure.py:1740: RuntimeWarning: invalid value encountered in true_divide\n",
      "  x = np.asarray((x - loc)/scale, dtype=dtyp)\n",
      "/home/lucasb/anaconda3/envs/inventory/lib/python3.6/site-packages/scipy/stats/_distn_infrastructure.py:1740: RuntimeWarning: divide by zero encountered in true_divide\n",
      "  x = np.asarray((x - loc)/scale, dtype=dtyp)\n",
      "/home/lucasb/anaconda3/envs/inventory/lib/python3.6/site-packages/scipy/stats/_distn_infrastructure.py:1740: RuntimeWarning: invalid value encountered in true_divide\n",
      "  x = np.asarray((x - loc)/scale, dtype=dtyp)\n",
      "/home/lucasb/anaconda3/envs/inventory/lib/python3.6/site-packages/scipy/stats/_distn_infrastructure.py:1740: RuntimeWarning: divide by zero encountered in true_divide\n",
      "  x = np.asarray((x - loc)/scale, dtype=dtyp)\n",
      "/home/lucasb/anaconda3/envs/inventory/lib/python3.6/site-packages/scipy/stats/_distn_infrastructure.py:1740: RuntimeWarning: invalid value encountered in true_divide\n",
      "  x = np.asarray((x - loc)/scale, dtype=dtyp)\n",
      "/home/lucasb/anaconda3/envs/inventory/lib/python3.6/site-packages/scipy/stats/_distn_infrastructure.py:1740: RuntimeWarning: divide by zero encountered in true_divide\n",
      "  x = np.asarray((x - loc)/scale, dtype=dtyp)\n",
      "/home/lucasb/anaconda3/envs/inventory/lib/python3.6/site-packages/scipy/stats/_distn_infrastructure.py:1740: RuntimeWarning: invalid value encountered in true_divide\n",
      "  x = np.asarray((x - loc)/scale, dtype=dtyp)\n"
     ]
    },
    {
     "data": {
      "image/png": "[encoded data removed]",
      "text/plain": [
       "<Figure size 244.085x150.853 with 1 Axes>"
      ]
     },
     "metadata": {
      "needs_background": "light"
     },
     "output_type": "display_data"
    }
   ],
   "source": [
    "x = np.linspace(0,4,100)\n",
    "plt.figure()\n",
    "for i in range(40):\n",
    "    myclip_a = 0\n",
    "    myclip_b = 1e2\n",
    "    my_mean = mean_arr[i]\n",
    "    my_std = std_arr[i]\n",
    "    a, b = (myclip_a - my_mean) / (1e-9+my_std), (myclip_b - my_mean) / (1e-9+my_std)\n",
    "    rv = truncnorm(a, b, loc=my_mean, scale=my_std)\n",
    "    r = lambda x: rv.pdf(x)\n",
    "    plt.plot(x,r(x))\n",
    "plt.xlabel(r\"orders\")\n",
    "plt.ylabel(r\"PDF\")\n",
    "plt.show()"
   ]
  },
  {
   "cell_type": "markdown",
   "id": "160a5f4e",
   "metadata": {},
   "source": [
    "Compare original data and samples."
   ]
  },
  {
   "cell_type": "code",
   "execution_count": 10,
   "id": "08776522",
   "metadata": {},
   "outputs": [
    {
     "name": "stderr",
     "output_type": "stream",
     "text": [
      "findfont: Font family ['serif'] not found. Falling back to DejaVu Sans.\n"
     ]
    },
    {
     "data": {
      "image/png": "[encoded data removed]",
      "text/plain": [
       "<Figure size 244.085x150.853 with 1 Axes>"
      ]
     },
     "metadata": {},
     "output_type": "display_data"
    }
   ],
   "source": [
    "fig, ax = plt.subplots(facecolor=\"white\")\n",
    "for i in range(len(SKUs)):\n",
    "    plt.plot(X, y_impute[i]/1e5,alpha=0.2,color=\"tab:blue\")\n",
    "plt.plot(X,samples,alpha=0.02,color=\"Grey\")\n",
    "plt.plot(100, 100,alpha=0.3,color=\"tab:blue\",label=\"data\")\n",
    "plt.plot(100,100,alpha=0.3,color=\"Grey\",label=\"sample\")\n",
    "ax.xaxis.set_minor_locator(MultipleLocator(5))\n",
    "plt.xlim(0,120)\n",
    "plt.ylim(0,2.5)\n",
    "plt.xlabel(r\"week\")\n",
    "plt.ylabel(r\"customer orders [$\\times 10^5$]\")\n",
    "plt.legend(loc=2,frameon=False,fontsize=8)\n",
    "plt.tight_layout()\n",
    "plt.savefig(\"gaussian_sampling_2.png\",dpi=480)\n",
    "plt.show()"
   ]
  },
  {
   "cell_type": "markdown",
   "id": "7a9d5d03",
   "metadata": {},
   "source": [
    "# Apply CDI policy to empirical demand data"
   ]
  },
  {
   "cell_type": "code",
   "execution_count": 11,
   "id": "7a9db52e",
   "metadata": {},
   "outputs": [],
   "source": [
    "#np.random.seed(10)\n",
    "\n",
    "ce = 20\n",
    "cr = 0\n",
    "le = 0\n",
    "lr = 2\n",
    "h = 5\n",
    "b = 495"
   ]
  },
  {
   "cell_type": "code",
   "execution_count": 12,
   "id": "1fcd193d",
   "metadata": {},
   "outputs": [],
   "source": [
    "myclip_a = 0\n",
    "myclip_b = 1e3\n",
    "mean_arr = mean_arr\n",
    "std_arr = std_arr\n",
    "max_weeks = len(mean_arr)\n",
    "\n",
    "#mean_arr = np.append(mean_arr,mean_arr)\n",
    "#std_arr = np.append(std_arr,std_arr)\n",
    "#max_weeks = 2*max_weeks\n",
    "\n",
    "sampling_function = lambda i, num_samples: 1e5*truncnorm.rvs((myclip_a - mean_arr[i]) / (1e-9+std_arr[i]), \n",
    "                                                         (myclip_b - mean_arr[i]) / (1e-9+std_arr[i]), \n",
    "                                                         loc=mean_arr[i], scale=std_arr[i], \n",
    "                                                         size=num_samples)\n",
    "\n",
    "quantile_function_0025 = lambda i: truncnorm.ppf(0.025, (myclip_a - mean_arr[i]) / (1e-9+std_arr[i]), \n",
    "                                                         (myclip_b - mean_arr[i]) / (1e-9+std_arr[i]), \n",
    "                                                         loc=mean_arr[i], scale=std_arr[i])\n",
    "quantile_function_0975 = lambda i: truncnorm.ppf(0.975, (myclip_a - mean_arr[i]) / (1e-9+std_arr[i]), \n",
    "                                                         (myclip_b - mean_arr[i]) / (1e-9+std_arr[i]), \n",
    "                                                         loc=mean_arr[i], scale=std_arr[i])"
   ]
  },
  {
   "cell_type": "code",
   "execution_count": 13,
   "id": "b979a6b4",
   "metadata": {},
   "outputs": [],
   "source": [
    "def optimal_u1_func(h,\n",
    "                    b,\n",
    "                    D_low,\n",
    "                    D_high):\n",
    "\n",
    "    return (h*D_low+b*D_high)/(h+b)\n",
    "\n",
    "def optimal_u2_func(h,\n",
    "                    b,\n",
    "                    D_low,\n",
    "                    D_high,\n",
    "                    L):\n",
    "    \n",
    "    return (h*D_low*L+b*D_high*L)/(h+b)"
   ]
  },
  {
   "cell_type": "code",
   "execution_count": 14,
   "id": "51cf9dc2",
   "metadata": {},
   "outputs": [],
   "source": [
    "# determine optimal CDI parameters                             \n",
    "optimal_u1 = [int(optimal_u1_func(h, b, \\\n",
    "             max(0,1e5*mean_arr[i]-2.58*1e5*std_arr[i]), \\\n",
    "             1e5*mean_arr[i]+2.58*1e5*std_arr[i])) \\\n",
    "             for i in range(len(mean_arr))]\n",
    "optimal_u2 = [int(optimal_u2_func(h, b, \\\n",
    "             max(0,1e5*mean_arr[i]-2.58*1e5*std_arr[i]), \\\n",
    "             1e5*mean_arr[i]+2.58*1e5*std_arr[i], lr-le)) \\\n",
    "             for i in range(len(mean_arr))]\n",
    "optimal_u3 = optimal_u1"
   ]
  },
  {
   "cell_type": "code",
   "execution_count": 15,
   "id": "824f149b",
   "metadata": {},
   "outputs": [],
   "source": [
    "cost_arr = []\n",
    "I0 = 0\n",
    "for i in range(1000):\n",
    "        S = DualSourcingModel(ce=ce, \n",
    "                              cr=cr, \n",
    "                              le=le, \n",
    "                              lr=lr, \n",
    "                              h=h, \n",
    "                              b=b,\n",
    "                              T=max_weeks, \n",
    "                              I0=I0,\n",
    "                              u1=optimal_u1,\n",
    "                              u2=optimal_u2,\n",
    "                              u3=optimal_u3,\n",
    "                              capped_dual_index=True,\n",
    "                              demand_distribution=[sampling_function])\n",
    "\n",
    "        S.simulate()\n",
    "        cost_arr.append(S.total_cost)"
   ]
  },
  {
   "cell_type": "code",
   "execution_count": 16,
   "id": "7047f343",
   "metadata": {},
   "outputs": [
    {
     "name": "stdout",
     "output_type": "stream",
     "text": [
      "780069.0123478262 59113.29370487587\n"
     ]
    }
   ],
   "source": [
    "print(np.mean(cost_arr)/max_weeks,np.std(cost_arr)/max_weeks)"
   ]
  },
  {
   "cell_type": "markdown",
   "id": "fb3a4793",
   "metadata": {},
   "source": [
    "# Compare CDI with NNC-based policies"
   ]
  },
  {
   "cell_type": "markdown",
   "id": "b3006803",
   "metadata": {},
   "source": [
    "Generate sampling function."
   ]
  },
  {
   "cell_type": "code",
   "execution_count": 17,
   "id": "be51cafa",
   "metadata": {},
   "outputs": [],
   "source": [
    "myclip_a = 0\n",
    "myclip_b = 1e3\n",
    "mean_arr = mean_arr\n",
    "std_arr = std_arr\n",
    "max_weeks = len(mean_arr)\n",
    "\n",
    "#mean_arr = np.append(mean_arr,mean_arr)\n",
    "#std_arr = np.append(std_arr,std_arr)\n",
    "#max_weeks = 2*max_weeks\n",
    "\n",
    "sampling_function = lambda i, num_samples: 1e5*truncnorm.rvs((myclip_a - mean_arr[i]) / (1e-9+std_arr[i]), \n",
    "                                                         (myclip_b - mean_arr[i]) / (1e-9+std_arr[i]), \n",
    "                                                         loc=mean_arr[i], scale=std_arr[i], \n",
    "                                                         size=num_samples)"
   ]
  },
  {
   "cell_type": "code",
   "execution_count": 18,
   "id": "75444488",
   "metadata": {},
   "outputs": [
    {
     "data": {
      "image/png": "[encoded data removed]",
      "text/plain": [
       "<Figure size 244.085x150.853 with 1 Axes>"
      ]
     },
     "metadata": {
      "needs_background": "light"
     },
     "output_type": "display_data"
    }
   ],
   "source": [
    "plt.figure()\n",
    "plt.plot([np.mean(sampling_function(i,1)) for i in range(max_weeks)])\n",
    "plt.show()"
   ]
  },
  {
   "cell_type": "code",
   "execution_count": 19,
   "id": "e29f223d",
   "metadata": {},
   "outputs": [],
   "source": [
    "sourcing_parameters = dict(ce=20,\n",
    "                           cr=0,\n",
    "                           le=0,\n",
    "                           lr=2,\n",
    "                           h=5,\n",
    "                           b=495,\n",
    "                           T=max_weeks,\n",
    "                           demand_distribution=[sampling_function])    "
   ]
  },
  {
   "cell_type": "code",
   "execution_count": 20,
   "id": "ae9bde0d",
   "metadata": {},
   "outputs": [
    {
     "data": {
      "text/plain": [
       "<torch._C.Generator at 0x7fbd103e2108>"
      ]
     },
     "execution_count": 20,
     "metadata": {},
     "output_type": "execute_result"
    }
   ],
   "source": [
    "random_seed = 2131755962840\n",
    "torch.manual_seed(random_seed)"
   ]
  },
  {
   "cell_type": "markdown",
   "id": "98dc2b0e",
   "metadata": {},
   "source": [
    "## NNC Initialization\n",
    "Here we initialize an NNC model and set  its hyperparameters for training."
   ]
  },
  {
   "cell_type": "code",
   "execution_count": 21,
   "id": "6111473c",
   "metadata": {},
   "outputs": [],
   "source": [
    "import sys\n",
    "sys.path.append('../')\n",
    "import torch\n",
    "from neural_control.controllers import DualFullyConnectedRegressionControllerTime\n",
    "from neural_control.dynamics import DualSourcingModel\n",
    "from copy import deepcopy\n",
    "from sourcing_models.utilities import sample_trajectories_capped_dual_index_temporal, \\\n",
    "sample_trajectories_dual_index, sample_trajectories_single_index, sample_trajectories_tailored_base_surge"
   ]
  },
  {
   "cell_type": "code",
   "execution_count": 22,
   "id": "b2bb2289",
   "metadata": {},
   "outputs": [],
   "source": [
    "### One can experiment with different layer architectures and activations per layer\n",
    "nnc_hyperparameters = dict(\n",
    "    n_hidden_units = [8,8,8]\n",
    ")\n",
    "\n",
    "### We use celu non-linearities for the input layer, hidden layers, and output layer\n",
    "nnc_hyperparameters['n_activations'] = [torch.nn.CELU(alpha=0.1)]*(2 + len(nnc_hyperparameters['n_hidden_units']))\n",
    "\n",
    "\n",
    "fcc = DualFullyConnectedRegressionControllerTime(\n",
    "                                         lr=sourcing_parameters['lr'], \n",
    "                                         le=sourcing_parameters['le'], \n",
    "                                         n_hidden_units= nnc_hyperparameters ['n_hidden_units'],\n",
    "                                         activations=nnc_hyperparameters['n_activations']\n",
    "                                        ) # controller neural network object\n"
   ]
  },
  {
   "cell_type": "markdown",
   "id": "dbce1fe5",
   "metadata": {},
   "source": [
    "## Dynamics Initialization\n",
    "To further optimize NNC (''fine tuning''), we now apply gradient propagation to the inventory evolution equation:\n",
    "\n",
    "$I_t = I_{t-1} + q^{\\rm e}_{t-l_{\\rm e}} + q^{\\rm r}_{t-l_{\\rm r}} - D_t$\n",
    "\n",
    "where $I_0, q^{\\rm e}_{t},q^{\\rm r}_{t}$ are NNC outputs."
   ]
  },
  {
   "cell_type": "code",
   "execution_count": 23,
   "id": "74d6e279",
   "metadata": {},
   "outputs": [],
   "source": [
    "dsd = DualSourcingModel(fcc, I_0=1e0, **sourcing_parameters) # Dual Sourcing Dynamics object"
   ]
  },
  {
   "cell_type": "markdown",
   "id": "230242c8",
   "metadata": {},
   "source": [
    "We preserve the best performing model in training, assuming that the neural network generalizes well during training and that our training sample is large enough."
   ]
  },
  {
   "cell_type": "code",
   "execution_count": 42,
   "id": "3558ba38",
   "metadata": {},
   "outputs": [],
   "source": [
    "best_loss = [np.infty]\n",
    "best_model = [None]"
   ]
  },
  {
   "cell_type": "code",
   "execution_count": 43,
   "id": "4524091c",
   "metadata": {},
   "outputs": [],
   "source": [
    "all_training_costs = []"
   ]
  },
  {
   "cell_type": "code",
   "execution_count": 267,
   "id": "2335f062",
   "metadata": {},
   "outputs": [],
   "source": [
    "optimizer = torch.optim.RMSprop(#[dsd.I_0],\n",
    "                                list(fcc.parameters()), \n",
    "                                lr=1e-4)\n",
    "                               \n",
    "optimizer2 = torch.optim.RMSprop([dsd.I_0],\n",
    "                                #list(fcc.parameters()), \n",
    "                                lr=1e-1\n",
    "                               )"
   ]
  },
  {
   "cell_type": "code",
   "execution_count": 277,
   "id": "fdc0fc6f",
   "metadata": {
    "scrolled": true
   },
   "outputs": [
    {
     "name": "stdout",
     "output_type": "stream",
     "text": [
      "tensor(518927.1250, grad_fn=<DivBackward0>)\n",
      "tensor(516985.7812, grad_fn=<DivBackward0>)\n",
      "tensor(515251.7812, grad_fn=<DivBackward0>)\n",
      "tensor(513733.8438, grad_fn=<DivBackward0>)\n",
      "tensor(512056.5312, grad_fn=<DivBackward0>)\n",
      "tensor(510849.2500, grad_fn=<DivBackward0>)\n",
      "tensor(509471.7812, grad_fn=<DivBackward0>)\n",
      "tensor(508286.0625, grad_fn=<DivBackward0>)\n",
      "tensor(507277.1875, grad_fn=<DivBackward0>)\n",
      "tensor(506260.1250, grad_fn=<DivBackward0>)\n",
      "tensor(505271.6875, grad_fn=<DivBackward0>)\n",
      "tensor(504380.2812, grad_fn=<DivBackward0>)\n",
      "tensor(503476.3438, grad_fn=<DivBackward0>)\n",
      "tensor(502717.1875, grad_fn=<DivBackward0>)\n",
      "tensor(501843.3125, grad_fn=<DivBackward0>)\n",
      "tensor(500982.1562, grad_fn=<DivBackward0>)\n",
      "tensor(500418.2500, grad_fn=<DivBackward0>)\n",
      "tensor(499819.2500, grad_fn=<DivBackward0>)\n"
     ]
    },
    {
     "ename": "KeyboardInterrupt",
     "evalue": "",
     "output_type": "error",
     "traceback": [
      "\u001b[0;31m---------------------------------------------------------------------------\u001b[0m",
      "\u001b[0;31mKeyboardInterrupt\u001b[0m                         Traceback (most recent call last)",
      "\u001b[0;32m<ipython-input-277-d9e60b5f2881>\u001b[0m in \u001b[0;36m<module>\u001b[0;34m\u001b[0m\n\u001b[1;32m     25\u001b[0m     \u001b[0;31m#    break\u001b[0m\u001b[0;34m\u001b[0m\u001b[0;34m\u001b[0m\u001b[0;34m\u001b[0m\u001b[0m\n\u001b[1;32m     26\u001b[0m     \u001b[0;32mif\u001b[0m \u001b[0mit\u001b[0m \u001b[0;34m%\u001b[0m \u001b[0;36m10\u001b[0m \u001b[0;34m>\u001b[0m \u001b[0;36m6\u001b[0m\u001b[0;34m:\u001b[0m\u001b[0;34m\u001b[0m\u001b[0;34m\u001b[0m\u001b[0m\n\u001b[0;32m---> 27\u001b[0;31m         \u001b[0moptimizer2\u001b[0m\u001b[0;34m.\u001b[0m\u001b[0mstep\u001b[0m\u001b[0;34m(\u001b[0m\u001b[0mclosure\u001b[0m\u001b[0;34m)\u001b[0m\u001b[0;34m\u001b[0m\u001b[0;34m\u001b[0m\u001b[0m\n\u001b[0m\u001b[1;32m     28\u001b[0m     \u001b[0;32melse\u001b[0m\u001b[0;34m:\u001b[0m\u001b[0;34m\u001b[0m\u001b[0;34m\u001b[0m\u001b[0m\n\u001b[1;32m     29\u001b[0m         \u001b[0moptimizer\u001b[0m\u001b[0;34m.\u001b[0m\u001b[0mstep\u001b[0m\u001b[0;34m(\u001b[0m\u001b[0mclosure\u001b[0m\u001b[0;34m)\u001b[0m\u001b[0;34m\u001b[0m\u001b[0;34m\u001b[0m\u001b[0m\n",
      "\u001b[0;32m~/anaconda3/envs/inventory/lib/python3.6/site-packages/torch/optim/optimizer.py\u001b[0m in \u001b[0;36mwrapper\u001b[0;34m(*args, **kwargs)\u001b[0m\n\u001b[1;32m     87\u001b[0m                 \u001b[0mprofile_name\u001b[0m \u001b[0;34m=\u001b[0m \u001b[0;34m\"Optimizer.step#{}.step\"\u001b[0m\u001b[0;34m.\u001b[0m\u001b[0mformat\u001b[0m\u001b[0;34m(\u001b[0m\u001b[0mobj\u001b[0m\u001b[0;34m.\u001b[0m\u001b[0m__class__\u001b[0m\u001b[0;34m.\u001b[0m\u001b[0m__name__\u001b[0m\u001b[0;34m)\u001b[0m\u001b[0;34m\u001b[0m\u001b[0;34m\u001b[0m\u001b[0m\n\u001b[1;32m     88\u001b[0m                 \u001b[0;32mwith\u001b[0m \u001b[0mtorch\u001b[0m\u001b[0;34m.\u001b[0m\u001b[0mautograd\u001b[0m\u001b[0;34m.\u001b[0m\u001b[0mprofiler\u001b[0m\u001b[0;34m.\u001b[0m\u001b[0mrecord_function\u001b[0m\u001b[0;34m(\u001b[0m\u001b[0mprofile_name\u001b[0m\u001b[0;34m)\u001b[0m\u001b[0;34m:\u001b[0m\u001b[0;34m\u001b[0m\u001b[0;34m\u001b[0m\u001b[0m\n\u001b[0;32m---> 89\u001b[0;31m                     \u001b[0;32mreturn\u001b[0m \u001b[0mfunc\u001b[0m\u001b[0;34m(\u001b[0m\u001b[0;34m*\u001b[0m\u001b[0margs\u001b[0m\u001b[0;34m,\u001b[0m \u001b[0;34m**\u001b[0m\u001b[0mkwargs\u001b[0m\u001b[0;34m)\u001b[0m\u001b[0;34m\u001b[0m\u001b[0;34m\u001b[0m\u001b[0m\n\u001b[0m\u001b[1;32m     90\u001b[0m             \u001b[0;32mreturn\u001b[0m \u001b[0mwrapper\u001b[0m\u001b[0;34m\u001b[0m\u001b[0;34m\u001b[0m\u001b[0m\n\u001b[1;32m     91\u001b[0m \u001b[0;34m\u001b[0m\u001b[0m\n",
      "\u001b[0;32m~/anaconda3/envs/inventory/lib/python3.6/site-packages/torch/autograd/grad_mode.py\u001b[0m in \u001b[0;36mdecorate_context\u001b[0;34m(*args, **kwargs)\u001b[0m\n\u001b[1;32m     25\u001b[0m         \u001b[0;32mdef\u001b[0m \u001b[0mdecorate_context\u001b[0m\u001b[0;34m(\u001b[0m\u001b[0;34m*\u001b[0m\u001b[0margs\u001b[0m\u001b[0;34m,\u001b[0m \u001b[0;34m**\u001b[0m\u001b[0mkwargs\u001b[0m\u001b[0;34m)\u001b[0m\u001b[0;34m:\u001b[0m\u001b[0;34m\u001b[0m\u001b[0;34m\u001b[0m\u001b[0m\n\u001b[1;32m     26\u001b[0m             \u001b[0;32mwith\u001b[0m \u001b[0mself\u001b[0m\u001b[0;34m.\u001b[0m\u001b[0m__class__\u001b[0m\u001b[0;34m(\u001b[0m\u001b[0;34m)\u001b[0m\u001b[0;34m:\u001b[0m\u001b[0;34m\u001b[0m\u001b[0;34m\u001b[0m\u001b[0m\n\u001b[0;32m---> 27\u001b[0;31m                 \u001b[0;32mreturn\u001b[0m \u001b[0mfunc\u001b[0m\u001b[0;34m(\u001b[0m\u001b[0;34m*\u001b[0m\u001b[0margs\u001b[0m\u001b[0;34m,\u001b[0m \u001b[0;34m**\u001b[0m\u001b[0mkwargs\u001b[0m\u001b[0;34m)\u001b[0m\u001b[0;34m\u001b[0m\u001b[0;34m\u001b[0m\u001b[0m\n\u001b[0m\u001b[1;32m     28\u001b[0m         \u001b[0;32mreturn\u001b[0m \u001b[0mcast\u001b[0m\u001b[0;34m(\u001b[0m\u001b[0mF\u001b[0m\u001b[0;34m,\u001b[0m \u001b[0mdecorate_context\u001b[0m\u001b[0;34m)\u001b[0m\u001b[0;34m\u001b[0m\u001b[0;34m\u001b[0m\u001b[0m\n\u001b[1;32m     29\u001b[0m \u001b[0;34m\u001b[0m\u001b[0m\n",
      "\u001b[0;32m~/anaconda3/envs/inventory/lib/python3.6/site-packages/torch/optim/rmsprop.py\u001b[0m in \u001b[0;36mstep\u001b[0;34m(self, closure)\u001b[0m\n\u001b[1;32m     65\u001b[0m         \u001b[0;32mif\u001b[0m \u001b[0mclosure\u001b[0m \u001b[0;32mis\u001b[0m \u001b[0;32mnot\u001b[0m \u001b[0;32mNone\u001b[0m\u001b[0;34m:\u001b[0m\u001b[0;34m\u001b[0m\u001b[0;34m\u001b[0m\u001b[0m\n\u001b[1;32m     66\u001b[0m             \u001b[0;32mwith\u001b[0m \u001b[0mtorch\u001b[0m\u001b[0;34m.\u001b[0m\u001b[0menable_grad\u001b[0m\u001b[0;34m(\u001b[0m\u001b[0;34m)\u001b[0m\u001b[0;34m:\u001b[0m\u001b[0;34m\u001b[0m\u001b[0;34m\u001b[0m\u001b[0m\n\u001b[0;32m---> 67\u001b[0;31m                 \u001b[0mloss\u001b[0m \u001b[0;34m=\u001b[0m \u001b[0mclosure\u001b[0m\u001b[0;34m(\u001b[0m\u001b[0;34m)\u001b[0m\u001b[0;34m\u001b[0m\u001b[0;34m\u001b[0m\u001b[0m\n\u001b[0m\u001b[1;32m     68\u001b[0m \u001b[0;34m\u001b[0m\u001b[0m\n\u001b[1;32m     69\u001b[0m         \u001b[0;32mfor\u001b[0m \u001b[0mgroup\u001b[0m \u001b[0;32min\u001b[0m \u001b[0mself\u001b[0m\u001b[0;34m.\u001b[0m\u001b[0mparam_groups\u001b[0m\u001b[0;34m:\u001b[0m\u001b[0;34m\u001b[0m\u001b[0;34m\u001b[0m\u001b[0m\n",
      "\u001b[0;32m<ipython-input-277-d9e60b5f2881>\u001b[0m in \u001b[0;36mclosure\u001b[0;34m()\u001b[0m\n\u001b[1;32m     11\u001b[0m         \u001b[0mtotal_costs\u001b[0m \u001b[0;34m=\u001b[0m \u001b[0;36m0\u001b[0m\u001b[0;34m\u001b[0m\u001b[0;34m\u001b[0m\u001b[0m\n\u001b[1;32m     12\u001b[0m         \u001b[0;32mfor\u001b[0m \u001b[0mi\u001b[0m \u001b[0;32min\u001b[0m \u001b[0mrange\u001b[0m\u001b[0;34m(\u001b[0m\u001b[0mdsd\u001b[0m\u001b[0;34m.\u001b[0m\u001b[0mT\u001b[0m\u001b[0;34m)\u001b[0m\u001b[0;34m:\u001b[0m\u001b[0;34m\u001b[0m\u001b[0;34m\u001b[0m\u001b[0m\n\u001b[0;32m---> 13\u001b[0;31m             \u001b[0mcurrent_costs\u001b[0m\u001b[0;34m,\u001b[0m \u001b[0mdemands\u001b[0m\u001b[0;34m,\u001b[0m \u001b[0mcurrent_inventories\u001b[0m\u001b[0;34m,\u001b[0m \u001b[0mqr\u001b[0m\u001b[0;34m,\u001b[0m \u001b[0mqra\u001b[0m\u001b[0;34m,\u001b[0m \u001b[0mqe\u001b[0m\u001b[0;34m,\u001b[0m \u001b[0mqea\u001b[0m \u001b[0;34m=\u001b[0m \u001b[0mdsd\u001b[0m\u001b[0;34m.\u001b[0m\u001b[0msimulate\u001b[0m\u001b[0;34m(\u001b[0m\u001b[0;36m1e5\u001b[0m\u001b[0;34m*\u001b[0m\u001b[0mmean_arr\u001b[0m\u001b[0;34m[\u001b[0m\u001b[0mi\u001b[0m\u001b[0;34m]\u001b[0m\u001b[0;34m,\u001b[0m\u001b[0;36m1e5\u001b[0m\u001b[0;34m*\u001b[0m\u001b[0mstd_arr\u001b[0m\u001b[0;34m[\u001b[0m\u001b[0mi\u001b[0m\u001b[0;34m]\u001b[0m\u001b[0;34m)\u001b[0m\u001b[0;34m\u001b[0m\u001b[0;34m\u001b[0m\u001b[0m\n\u001b[0m\u001b[1;32m     14\u001b[0m             \u001b[0mtotal_costs\u001b[0m \u001b[0;34m=\u001b[0m \u001b[0mcurrent_costs\u001b[0m\u001b[0;34m.\u001b[0m\u001b[0mmean\u001b[0m\u001b[0;34m(\u001b[0m\u001b[0;34m)\u001b[0m \u001b[0;34m+\u001b[0m \u001b[0mtotal_costs\u001b[0m \u001b[0;31m#1e1*sourcing_parameters[\"ce\"]*int(sum(qea))\u001b[0m\u001b[0;34m\u001b[0m\u001b[0;34m\u001b[0m\u001b[0m\n\u001b[1;32m     15\u001b[0m         \u001b[0mall_training_costs\u001b[0m\u001b[0;34m.\u001b[0m\u001b[0mappend\u001b[0m\u001b[0;34m(\u001b[0m\u001b[0mfloat\u001b[0m\u001b[0;34m(\u001b[0m\u001b[0mtotal_costs\u001b[0m\u001b[0;34m)\u001b[0m\u001b[0;34m/\u001b[0m\u001b[0mdsd\u001b[0m\u001b[0;34m.\u001b[0m\u001b[0mT\u001b[0m\u001b[0;34m)\u001b[0m\u001b[0;34m\u001b[0m\u001b[0;34m\u001b[0m\u001b[0m\n",
      "\u001b[0;32m~/Documents/Projects/10_Sourcing/inventory-optimization/neural_control/dynamics.py\u001b[0m in \u001b[0;36msimulate\u001b[0;34m(self, mean, std)\u001b[0m\n\u001b[1;32m     51\u001b[0m             \u001b[0mqr\u001b[0m\u001b[0;34m,\u001b[0m \u001b[0mqe\u001b[0m \u001b[0;34m=\u001b[0m \u001b[0mself\u001b[0m\u001b[0;34m.\u001b[0m\u001b[0mcontroller\u001b[0m\u001b[0;34m(\u001b[0m\u001b[0mD\u001b[0m\u001b[0;34m,\u001b[0m \u001b[0mself\u001b[0m\u001b[0;34m.\u001b[0m\u001b[0mI_i\u001b[0m\u001b[0;34m,\u001b[0m \u001b[0mself\u001b[0m\u001b[0;34m.\u001b[0m\u001b[0mprevious_qr\u001b[0m\u001b[0;34m,\u001b[0m \u001b[0mself\u001b[0m\u001b[0;34m.\u001b[0m\u001b[0mprevious_qe\u001b[0m\u001b[0;34m)\u001b[0m\u001b[0;34m\u001b[0m\u001b[0;34m\u001b[0m\u001b[0m\n\u001b[1;32m     52\u001b[0m         \u001b[0;32melse\u001b[0m\u001b[0;34m:\u001b[0m\u001b[0;34m\u001b[0m\u001b[0;34m\u001b[0m\u001b[0m\n\u001b[0;32m---> 53\u001b[0;31m             \u001b[0mqr\u001b[0m\u001b[0;34m,\u001b[0m \u001b[0mqe\u001b[0m \u001b[0;34m=\u001b[0m \u001b[0mself\u001b[0m\u001b[0;34m.\u001b[0m\u001b[0mcontroller\u001b[0m\u001b[0;34m(\u001b[0m\u001b[0mD\u001b[0m\u001b[0;34m,\u001b[0m \u001b[0mself\u001b[0m\u001b[0;34m.\u001b[0m\u001b[0mI_i\u001b[0m\u001b[0;34m,\u001b[0m \u001b[0mself\u001b[0m\u001b[0;34m.\u001b[0m\u001b[0mprevious_qr\u001b[0m\u001b[0;34m,\u001b[0m \u001b[0mself\u001b[0m\u001b[0;34m.\u001b[0m\u001b[0mprevious_qe\u001b[0m\u001b[0;34m,\u001b[0m \u001b[0mmean\u001b[0m\u001b[0;34m,\u001b[0m \u001b[0mstd\u001b[0m\u001b[0;34m)\u001b[0m\u001b[0;34m\u001b[0m\u001b[0;34m\u001b[0m\u001b[0m\n\u001b[0m\u001b[1;32m     54\u001b[0m \u001b[0;34m\u001b[0m\u001b[0m\n\u001b[1;32m     55\u001b[0m         \u001b[0;31m# orders are added to corresponding vectors\u001b[0m\u001b[0;34m\u001b[0m\u001b[0;34m\u001b[0m\u001b[0;34m\u001b[0m\u001b[0m\n",
      "\u001b[0;32m~/anaconda3/envs/inventory/lib/python3.6/site-packages/torch/nn/modules/module.py\u001b[0m in \u001b[0;36m_call_impl\u001b[0;34m(self, *input, **kwargs)\u001b[0m\n\u001b[1;32m    887\u001b[0m             \u001b[0mresult\u001b[0m \u001b[0;34m=\u001b[0m \u001b[0mself\u001b[0m\u001b[0;34m.\u001b[0m\u001b[0m_slow_forward\u001b[0m\u001b[0;34m(\u001b[0m\u001b[0;34m*\u001b[0m\u001b[0minput\u001b[0m\u001b[0;34m,\u001b[0m \u001b[0;34m**\u001b[0m\u001b[0mkwargs\u001b[0m\u001b[0;34m)\u001b[0m\u001b[0;34m\u001b[0m\u001b[0;34m\u001b[0m\u001b[0m\n\u001b[1;32m    888\u001b[0m         \u001b[0;32melse\u001b[0m\u001b[0;34m:\u001b[0m\u001b[0;34m\u001b[0m\u001b[0;34m\u001b[0m\u001b[0m\n\u001b[0;32m--> 889\u001b[0;31m             \u001b[0mresult\u001b[0m \u001b[0;34m=\u001b[0m \u001b[0mself\u001b[0m\u001b[0;34m.\u001b[0m\u001b[0mforward\u001b[0m\u001b[0;34m(\u001b[0m\u001b[0;34m*\u001b[0m\u001b[0minput\u001b[0m\u001b[0;34m,\u001b[0m \u001b[0;34m**\u001b[0m\u001b[0mkwargs\u001b[0m\u001b[0;34m)\u001b[0m\u001b[0;34m\u001b[0m\u001b[0;34m\u001b[0m\u001b[0m\n\u001b[0m\u001b[1;32m    890\u001b[0m         for hook in itertools.chain(\n\u001b[1;32m    891\u001b[0m                 \u001b[0m_global_forward_hooks\u001b[0m\u001b[0;34m.\u001b[0m\u001b[0mvalues\u001b[0m\u001b[0;34m(\u001b[0m\u001b[0;34m)\u001b[0m\u001b[0;34m,\u001b[0m\u001b[0;34m\u001b[0m\u001b[0;34m\u001b[0m\u001b[0m\n",
      "\u001b[0;32m~/Documents/Projects/10_Sourcing/inventory-optimization/neural_control/controllers.py\u001b[0m in \u001b[0;36mforward\u001b[0;34m(self, current_demand, current_inventory, past_regular_orders, past_expedited_orders, mean, std)\u001b[0m\n\u001b[1;32m    292\u001b[0m         \u001b[0;32melse\u001b[0m\u001b[0;34m:\u001b[0m\u001b[0;34m\u001b[0m\u001b[0;34m\u001b[0m\u001b[0m\n\u001b[1;32m    293\u001b[0m             \u001b[0mreg_order_obs\u001b[0m \u001b[0;34m=\u001b[0m \u001b[0mpast_regular_orders\u001b[0m\u001b[0;34m[\u001b[0m\u001b[0;34m:\u001b[0m\u001b[0;34m,\u001b[0m\u001b[0;34m-\u001b[0m\u001b[0mself\u001b[0m\u001b[0;34m.\u001b[0m\u001b[0mlr\u001b[0m\u001b[0;34m:\u001b[0m\u001b[0;34m]\u001b[0m\u001b[0;34m\u001b[0m\u001b[0;34m\u001b[0m\u001b[0m\n\u001b[0;32m--> 294\u001b[0;31m         \u001b[0mreg_order_obs\u001b[0m\u001b[0;34m[\u001b[0m\u001b[0;34m:\u001b[0m\u001b[0;34m,\u001b[0m\u001b[0;36m0\u001b[0m\u001b[0;34m]\u001b[0m \u001b[0;34m+=\u001b[0m \u001b[0mcurrent_inventory\u001b[0m\u001b[0;34m.\u001b[0m\u001b[0mflatten\u001b[0m\u001b[0;34m(\u001b[0m\u001b[0;34m)\u001b[0m\u001b[0;34m\u001b[0m\u001b[0;34m\u001b[0m\u001b[0m\n\u001b[0m\u001b[1;32m    295\u001b[0m         \u001b[0mobservation_list\u001b[0m\u001b[0;34m.\u001b[0m\u001b[0mappend\u001b[0m\u001b[0;34m(\u001b[0m\u001b[0mreg_order_obs\u001b[0m\u001b[0;34m)\u001b[0m\u001b[0;34m\u001b[0m\u001b[0;34m\u001b[0m\u001b[0m\n\u001b[1;32m    296\u001b[0m \u001b[0;34m\u001b[0m\u001b[0m\n",
      "\u001b[0;31mKeyboardInterrupt\u001b[0m: "
     ]
    }
   ],
   "source": [
    "fine_tuning_iterations = 3000\n",
    "minibatch_size = 4\n",
    "random_seed = 4\n",
    "\n",
    "t0 = time.time()\n",
    "for it in range(fine_tuning_iterations):\n",
    "    optimizer.zero_grad()\n",
    "    optimizer2.zero_grad()\n",
    "    def closure():\n",
    "        dsd.reset(minibatch_size, seed=random_seed)\n",
    "        total_costs = 0\n",
    "        for i in range(dsd.T):\n",
    "            current_costs, demands, current_inventories, qr, qra, qe, qea = dsd.simulate(1e5*mean_arr[i],1e5*std_arr[i])\n",
    "            total_costs = current_costs.mean() + total_costs #1e1*sourcing_parameters[\"ce\"]*int(sum(qea))\n",
    "        all_training_costs.append(float(total_costs)/dsd.T)\n",
    "        total_costs.backward()\n",
    "        if it % 20 == 0:\n",
    "            print(total_costs/dsd.T)\n",
    "        if total_costs < best_loss[0]:\n",
    "            best_loss[0] = total_costs.detach().cpu().item()\n",
    "            best_model[0] = deepcopy(fcc.state_dict())\n",
    "        return total_costs\n",
    "    \n",
    "    #if best_loss[0]/dsd.T < 8e5:\n",
    "    #    break\n",
    "    if it % 10 > 6:\n",
    "        optimizer2.step(closure)\n",
    "    else:\n",
    "        optimizer.step(closure)\n",
    "t1 = time.time()\n",
    "total = t1-t0\n",
    "print(total)"
   ]
  },
  {
   "cell_type": "code",
   "execution_count": 63,
   "id": "e5dc8658",
   "metadata": {},
   "outputs": [],
   "source": [
    "optimizer = torch.optim.RMSprop(#[dsd.I_0],\n",
    "                                list(fcc.parameters()), \n",
    "                                lr=2e-4)\n",
    "                               \n",
    "optimizer2 = torch.optim.RMSprop([dsd.I_0],\n",
    "                                #list(fcc.parameters()), \n",
    "                                lr=1e-1\n",
    "                               )"
   ]
  },
  {
   "cell_type": "code",
   "execution_count": 64,
   "id": "80ce7961",
   "metadata": {},
   "outputs": [
    {
     "name": "stdout",
     "output_type": "stream",
     "text": [
      "tensor(1294967.8750, grad_fn=<DivBackward0>)\n",
      "tensor(769610.6250, grad_fn=<DivBackward0>)\n",
      "tensor(768171.8750, grad_fn=<DivBackward0>)\n",
      "tensor(736989.1875, grad_fn=<DivBackward0>)\n",
      "tensor(711673.8125, grad_fn=<DivBackward0>)\n",
      "tensor(683116.8750, grad_fn=<DivBackward0>)\n",
      "tensor(654456.2500, grad_fn=<DivBackward0>)\n",
      "13.433797836303711\n"
     ]
    }
   ],
   "source": [
    "fine_tuning_iterations = 3000\n",
    "minibatch_size = 1\n",
    "random_seed = 4\n",
    "\n",
    "t0 = time.time()\n",
    "for it in range(fine_tuning_iterations):\n",
    "    optimizer.zero_grad()\n",
    "    optimizer2.zero_grad()\n",
    "    def closure():\n",
    "        dsd.reset(minibatch_size, seed=random_seed)\n",
    "        total_costs = 0\n",
    "        for i in range(dsd.T):\n",
    "            current_costs, demands, current_inventories, qr, qra, qe, qea = dsd.simulate(1e5*mean_arr[i],1e5*std_arr[i])\n",
    "            total_costs = current_costs.mean() + total_costs #1e1*sourcing_parameters[\"ce\"]*int(sum(qea))\n",
    "        all_training_costs.append(float(total_costs)/dsd.T)\n",
    "        total_costs.backward()\n",
    "        if it % 20 == 0:\n",
    "            print(total_costs/dsd.T)\n",
    "        if total_costs < best_loss[0]:\n",
    "            best_loss[0] = total_costs.detach().cpu().item()\n",
    "            best_model[0] = deepcopy(fcc.state_dict())\n",
    "        return total_costs\n",
    "    \n",
    "    if best_loss[0]/dsd.T < 6.5e5:\n",
    "        break    \n",
    "    if it % 10 > 6:\n",
    "        optimizer2.step(closure)\n",
    "    else:\n",
    "        optimizer.step(closure)\n",
    "t1 = time.time()\n",
    "total = t1-t0\n",
    "print(total)"
   ]
  },
  {
   "cell_type": "code",
   "execution_count": 278,
   "id": "2104507d",
   "metadata": {},
   "outputs": [
    {
     "data": {
      "image/png": "[encoded data removed]",
      "text/plain": [
       "<Figure size 493.151x152.392 with 1 Axes>"
      ]
     },
     "metadata": {},
     "output_type": "display_data"
    }
   ],
   "source": [
    "from matplotlib.ticker import NullFormatter\n",
    "\n",
    "# set nice figure sizes\n",
    "fig_width_pt = 495    # Get this from LaTeX using \\showthe\\columnwidth\n",
    "golden_mean = (np.sqrt(5.) - 1.) / 2.  # Aesthetic ratio\n",
    "ratio = golden_mean\n",
    "inches_per_pt = 1. / 72.27  # Convert pt to inches\n",
    "fig_width = fig_width_pt * inches_per_pt  # width in inches\n",
    "fig_height = fig_width*ratio  # height in inches\n",
    "fig_size = [fig_width, 0.5*fig_height]\n",
    "rcParams.update({'figure.figsize': fig_size})\n",
    "\n",
    "costs = np.array(all_training_costs)\n",
    "#np.savetxt(\"cost_direct_learning.dat\",costs)\n",
    "\n",
    "fig, ax = plt.subplots(ncols=1)\n",
    "plt.plot(costs,alpha=1)\n",
    "ax.yaxis.set_minor_formatter(NullFormatter())\n",
    "ax.set_xlabel(r'Training epochs')\n",
    "ax.set_ylabel(r'Average cost')\n",
    "plt.tight_layout()\n",
    "#plt.yscale(\"log\")\n",
    "#plt.xlim(9000,12000)\n",
    "plt.ylim(5e5,7e5)\n",
    "plt.margins(0,0)\n",
    "plt.show()"
   ]
  },
  {
   "cell_type": "code",
   "execution_count": 24,
   "id": "6bbc6150",
   "metadata": {},
   "outputs": [
    {
     "data": {
      "text/plain": [
       "<All keys matched successfully>"
      ]
     },
     "execution_count": 24,
     "metadata": {},
     "output_type": "execute_result"
    }
   ],
   "source": [
    "#fcc.load_state_dict(best_model[0])\n",
    "best_model_load = torch.load('nnc_best_model_MSOM_221221_3.pt', map_location='cpu')\n",
    "fcc.load_state_dict(best_model_load)"
   ]
  },
  {
   "cell_type": "code",
   "execution_count": 294,
   "id": "3d9a8237",
   "metadata": {},
   "outputs": [],
   "source": [
    "#torch.save(best_model[0], '/home/lucasb/Documents/nnc_best_model_MSOM_221221_b=95.pt')"
   ]
  },
  {
   "cell_type": "markdown",
   "id": "2a93d09a",
   "metadata": {},
   "source": [
    "## Comparison \n",
    "First, we generate new dual-index samples.\n",
    "These will be used to compare performance on unseen samples for NNC."
   ]
  },
  {
   "cell_type": "code",
   "execution_count": 25,
   "id": "cc0badb2",
   "metadata": {},
   "outputs": [
    {
     "name": "stdout",
     "output_type": "stream",
     "text": [
      "[0, 0, 0, 0, 0, 0, 0, 0, 0, 0, 0, 0, 0, 0, 0, 0, 0, 0, 0, 321, 321, 1312, 7201, 11940, 11482, 33933, 12631, 43658, 84040, 63217, 124132, 89857, 69360, 67913, 85442, 139436, 108026, 205949, 121092, 124953, 85321, 139406, 98198, 179131, 87242, 73189, 107380, 133762, 153760, 188938, 195145, 207978, 167576, 220560, 243182, 169347, 184852, 126285, 140810, 221677, 192560, 238256, 227933, 183789, 228725, 185698, 188154, 224006, 222152, 193653, 192244, 203762, 210757, 216014, 260674, 159028, 267070, 205060, 227624, 177679, 153040, 271694, 193028, 167711, 183751, 220326, 245496, 231750, 169770, 235478, 138734, 95527, 97251, 136061, 58963, 117105, 102469, 104136, 52276, 69467, 97077, 102344, 83181, 70602, 76902, 59069, 44223, 72177, 82811, 82379, 65781, 48334, 57937, 68741, 78094]\n"
     ]
    }
   ],
   "source": [
    "sourcing_parameters = dict(ce=20,\n",
    "                           cr=0,\n",
    "                           le=0,\n",
    "                           lr=2,\n",
    "                           h=5,\n",
    "                           b=495,\n",
    "                           T=max_weeks,\n",
    "                           I0=1,\n",
    "                           demand_distribution=[sampling_function])\n",
    "\n",
    "state_trajectories, qr_trajectories, qe_trajectories =\\\n",
    "    sample_trajectories_capped_dual_index_temporal(n_trajectories=1000, mean_demand_arr=1e5*mean_arr, std_demand_arr=1e5*std_arr, seed=25, **sourcing_parameters)"
   ]
  },
  {
   "cell_type": "code",
   "execution_count": 26,
   "id": "e2c82a39",
   "metadata": {},
   "outputs": [],
   "source": [
    "dsd.reset(1)\n",
    "def evaluate_nnc_on_sample(state_trajectories, \n",
    "                           sample_id):\n",
    "    \n",
    "    fixed_demands = state_trajectories[sample_id, 1:, 1].unsqueeze(-1)\n",
    "\n",
    "    nn_inv = dsd.learned_I_0.detach().clone()\n",
    "    dsd.reset(1)\n",
    "    nn_qr = [torch.zeros([1,1])]*(dsd.lr+1)\n",
    "    nn_qe = [torch.zeros([1,1])]*(dsd.le+1)\n",
    "    nn_ci = []\n",
    "    all_nn_inv = [nn_inv.item()]\n",
    "    D = torch.tensor(0.0).unsqueeze(0).unsqueeze(0)\n",
    "    for i in range(sourcing_parameters[\"T\"]):\n",
    "        qr, qe = fcc(D, nn_inv, nn_qr, nn_qe, 1e5*mean_arr[i],1e5*std_arr[i])\n",
    "        D = fixed_demands[i].unsqueeze(0)\n",
    "        nn_qr.append(qr)\n",
    "        nn_qe.append(qe)\n",
    "        qra = nn_qr[-dsd.lr-1]\n",
    "        qea = nn_qe[-dsd.le-1]\n",
    "        c_i, nn_inv = dsd.replay_step(nn_inv, D, qra, qea, qr, qe)\n",
    "        nn_ci.append(c_i)\n",
    "        all_nn_inv.append(nn_inv.item())\n",
    "    return all_nn_inv, nn_qr, nn_qe, nn_ci, torch.stack(nn_ci).mean()"
   ]
  },
  {
   "cell_type": "code",
   "execution_count": 27,
   "id": "eefe5544",
   "metadata": {},
   "outputs": [],
   "source": [
    "def evaluate_cdi_on_sample(state_trajectories, \n",
    "                           qr_trajectories, \n",
    "                           qe_trajectories, \n",
    "                           sample_id):\n",
    "    \n",
    "    dsd.reset(1)\n",
    "    fixed_demands = state_trajectories[sample_id, 1:, 1].unsqueeze(-1)\n",
    "\n",
    "    ds_inv = state_trajectories[sample_id, 0, 0].unsqueeze(0).unsqueeze(0)\n",
    "    dsd.reset(1)\n",
    "    all_qr = [0]*dsd.lr\n",
    "    all_qe = [0]*dsd.le\n",
    "    all_ci = []\n",
    "    all_inv = [ds_inv.detach().item()]\n",
    "    for i in range(sourcing_parameters[\"T\"]):\n",
    "        D = fixed_demands[i].unsqueeze(0)\n",
    "        if dsd.le == 0:\n",
    "            qe = qe_trajectories[sample_id, i+1]\n",
    "        else:\n",
    "            qe = qe_trajectories[sample_id, dsd.le+i]\n",
    "    \n",
    "        if dsd.lr == 0:\n",
    "            qr = qr_trajectories[sample_id, i+1]\n",
    "        else:\n",
    "            qr = qr_trajectories[sample_id, dsd.lr+i]\n",
    "            \n",
    "        all_qr.append(qr)\n",
    "        all_qe.append(qe)\n",
    "        qra = all_qr[-dsd.lr-1]\n",
    "        qea = all_qe[-dsd.le-1]\n",
    "        #if i == 50:\n",
    "            #print(qra, qea, ds_inv, D)\n",
    "        c_i, ds_inv = dsd.replay_step(ds_inv, D, qra, qea, qr, qe)\n",
    "        all_inv.append(ds_inv.detach().item())\n",
    "        all_ci.append(c_i)\n",
    "    # test if calculated inventories and costs are the same as the ones reported\n",
    "    # from the dual sourcing code\n",
    "    assert torch.all(torch.tensor(all_inv) == state_trajectories[sample_id, :, 0])\n",
    "    assert torch.all(torch.tensor(all_ci) == state_trajectories[sample_id, 1:, -1])\n",
    "    return all_inv, all_qr, all_qe, all_ci, torch.stack(all_ci).float().mean()"
   ]
  },
  {
   "cell_type": "code",
   "execution_count": 28,
   "id": "4fb4daef",
   "metadata": {},
   "outputs": [
    {
     "name": "stdout",
     "output_type": "stream",
     "text": [
      "0/1000 samples completed\n",
      "NN cost/CDI cost: 0.8307027026853485\n",
      "1/1000 samples completed\n",
      "NN cost/CDI cost: 0.9580252620346997\n",
      "2/1000 samples completed\n",
      "NN cost/CDI cost: 0.8038593394243576\n",
      "3/1000 samples completed\n",
      "NN cost/CDI cost: 0.8486929333886185\n",
      "4/1000 samples completed\n",
      "NN cost/CDI cost: 1.2029398989836313\n",
      "5/1000 samples completed\n",
      "NN cost/CDI cost: 1.080466512197581\n",
      "6/1000 samples completed\n",
      "NN cost/CDI cost: 0.8772400438477257\n",
      "7/1000 samples completed\n",
      "NN cost/CDI cost: 0.9087501340818593\n",
      "8/1000 samples completed\n",
      "NN cost/CDI cost: 1.3127570731891487\n",
      "9/1000 samples completed\n",
      "NN cost/CDI cost: 1.1410011448262092\n",
      "10/1000 samples completed\n",
      "NN cost/CDI cost: 0.7907094601381967\n",
      "11/1000 samples completed\n",
      "NN cost/CDI cost: 1.054912144054748\n",
      "12/1000 samples completed\n",
      "NN cost/CDI cost: 0.9349130882817182\n",
      "13/1000 samples completed\n",
      "NN cost/CDI cost: 1.2677253230991485\n",
      "14/1000 samples completed\n",
      "NN cost/CDI cost: 1.0753629294286375\n",
      "15/1000 samples completed\n",
      "NN cost/CDI cost: 0.9897877927796493\n",
      "16/1000 samples completed\n",
      "NN cost/CDI cost: 1.0115306250994907\n",
      "17/1000 samples completed\n",
      "NN cost/CDI cost: 0.9046814795530463\n",
      "18/1000 samples completed\n",
      "NN cost/CDI cost: 0.778592070803213\n",
      "19/1000 samples completed\n",
      "NN cost/CDI cost: 1.021368560557269\n",
      "20/1000 samples completed\n",
      "NN cost/CDI cost: 1.1536563017225285\n",
      "21/1000 samples completed\n",
      "NN cost/CDI cost: 0.8090573030474558\n",
      "22/1000 samples completed\n",
      "NN cost/CDI cost: 1.6564697180554397\n",
      "23/1000 samples completed\n",
      "NN cost/CDI cost: 0.7756998600901712\n",
      "24/1000 samples completed\n",
      "NN cost/CDI cost: 0.8129094439491277\n",
      "25/1000 samples completed\n",
      "NN cost/CDI cost: 0.8104469681483873\n",
      "26/1000 samples completed\n",
      "NN cost/CDI cost: 0.9560592920313664\n",
      "27/1000 samples completed\n",
      "NN cost/CDI cost: 0.7529989379740578\n",
      "28/1000 samples completed\n",
      "NN cost/CDI cost: 0.8279217059660928\n",
      "29/1000 samples completed\n",
      "NN cost/CDI cost: 1.3835839841983537\n",
      "30/1000 samples completed\n",
      "NN cost/CDI cost: 0.7836801507398091\n",
      "31/1000 samples completed\n",
      "NN cost/CDI cost: 1.0108133042736906\n",
      "32/1000 samples completed\n",
      "NN cost/CDI cost: 1.2171094170814873\n",
      "33/1000 samples completed\n",
      "NN cost/CDI cost: 0.7927698764371742\n",
      "34/1000 samples completed\n",
      "NN cost/CDI cost: 1.1323320069476532\n",
      "35/1000 samples completed\n",
      "NN cost/CDI cost: 1.242391026501599\n",
      "36/1000 samples completed\n",
      "NN cost/CDI cost: 0.8793058033038044\n",
      "37/1000 samples completed\n",
      "NN cost/CDI cost: 0.8878328175223928\n",
      "38/1000 samples completed\n",
      "NN cost/CDI cost: 0.7896770500888658\n",
      "39/1000 samples completed\n",
      "NN cost/CDI cost: 1.021368261465189\n",
      "40/1000 samples completed\n",
      "NN cost/CDI cost: 0.9732223427669985\n",
      "41/1000 samples completed\n",
      "NN cost/CDI cost: 1.322634966193724\n",
      "42/1000 samples completed\n",
      "NN cost/CDI cost: 1.0745889529619215\n",
      "43/1000 samples completed\n",
      "NN cost/CDI cost: 0.8059129268008991\n",
      "44/1000 samples completed\n",
      "NN cost/CDI cost: 0.7676287377605593\n",
      "45/1000 samples completed\n",
      "NN cost/CDI cost: 1.084410902185232\n",
      "46/1000 samples completed\n",
      "NN cost/CDI cost: 0.9216916679543984\n",
      "47/1000 samples completed\n",
      "NN cost/CDI cost: 0.8285152270632719\n",
      "48/1000 samples completed\n",
      "NN cost/CDI cost: 0.7252960194795568\n",
      "49/1000 samples completed\n",
      "NN cost/CDI cost: 0.894353011209452\n",
      "50/1000 samples completed\n",
      "NN cost/CDI cost: 0.752939279579468\n",
      "51/1000 samples completed\n",
      "NN cost/CDI cost: 0.7868733843642585\n",
      "52/1000 samples completed\n",
      "NN cost/CDI cost: 0.8142249490219527\n",
      "53/1000 samples completed\n",
      "NN cost/CDI cost: 0.8298053237017824\n",
      "54/1000 samples completed\n",
      "NN cost/CDI cost: 0.9557390047185554\n",
      "55/1000 samples completed\n",
      "NN cost/CDI cost: 0.8107979099308591\n",
      "56/1000 samples completed\n",
      "NN cost/CDI cost: 0.808565344482647\n",
      "57/1000 samples completed\n",
      "NN cost/CDI cost: 1.3122855908949878\n",
      "58/1000 samples completed\n",
      "NN cost/CDI cost: 0.8579592393924877\n",
      "59/1000 samples completed\n",
      "NN cost/CDI cost: 0.8097835701591372\n",
      "60/1000 samples completed\n",
      "NN cost/CDI cost: 1.1403296049260305\n",
      "61/1000 samples completed\n",
      "NN cost/CDI cost: 1.0050621535022366\n",
      "62/1000 samples completed\n",
      "NN cost/CDI cost: 0.8254605921666596\n",
      "63/1000 samples completed\n",
      "NN cost/CDI cost: 0.8416100297206858\n",
      "64/1000 samples completed\n",
      "NN cost/CDI cost: 0.9023957480038045\n",
      "65/1000 samples completed\n",
      "NN cost/CDI cost: 1.4425206330423983\n",
      "66/1000 samples completed\n",
      "NN cost/CDI cost: 0.8073571970224553\n",
      "67/1000 samples completed\n",
      "NN cost/CDI cost: 0.9499573389052086\n",
      "68/1000 samples completed\n",
      "NN cost/CDI cost: 0.8144738411216546\n",
      "69/1000 samples completed\n",
      "NN cost/CDI cost: 0.914458193775037\n",
      "70/1000 samples completed\n",
      "NN cost/CDI cost: 0.7424924464691368\n",
      "71/1000 samples completed\n",
      "NN cost/CDI cost: 1.6960981738414993\n",
      "72/1000 samples completed\n",
      "NN cost/CDI cost: 0.8856459489521807\n",
      "73/1000 samples completed\n",
      "NN cost/CDI cost: 1.5600208068959822\n",
      "74/1000 samples completed\n",
      "NN cost/CDI cost: 1.2553976050805615\n",
      "75/1000 samples completed\n",
      "NN cost/CDI cost: 1.0791277491211881\n",
      "76/1000 samples completed\n",
      "NN cost/CDI cost: 0.8146505641428442\n",
      "77/1000 samples completed\n",
      "NN cost/CDI cost: 0.8271396612144121\n",
      "78/1000 samples completed\n",
      "NN cost/CDI cost: 0.9000923252853962\n",
      "79/1000 samples completed\n",
      "NN cost/CDI cost: 1.1336127920147443\n",
      "80/1000 samples completed\n",
      "NN cost/CDI cost: 0.8223294557472534\n",
      "81/1000 samples completed\n",
      "NN cost/CDI cost: 0.907073354460776\n",
      "82/1000 samples completed\n",
      "NN cost/CDI cost: 1.1031176246238241\n",
      "83/1000 samples completed\n",
      "NN cost/CDI cost: 0.8613167864304603\n",
      "84/1000 samples completed\n",
      "NN cost/CDI cost: 0.8062172470119743\n",
      "85/1000 samples completed\n",
      "NN cost/CDI cost: 0.7218613188947841\n",
      "86/1000 samples completed\n",
      "NN cost/CDI cost: 0.8617952270930812\n",
      "87/1000 samples completed\n",
      "NN cost/CDI cost: 0.8935945898436785\n",
      "88/1000 samples completed\n",
      "NN cost/CDI cost: 1.2000338121141179\n",
      "89/1000 samples completed\n",
      "NN cost/CDI cost: 1.4779790998174\n",
      "90/1000 samples completed\n",
      "NN cost/CDI cost: 0.7873710140670659\n",
      "91/1000 samples completed\n",
      "NN cost/CDI cost: 0.9266177314121629\n",
      "92/1000 samples completed\n",
      "NN cost/CDI cost: 1.3293945204964372\n",
      "93/1000 samples completed\n",
      "NN cost/CDI cost: 0.8658354460411213\n",
      "94/1000 samples completed\n",
      "NN cost/CDI cost: 0.750921044164404\n",
      "95/1000 samples completed\n",
      "NN cost/CDI cost: 0.7617264753683771\n",
      "96/1000 samples completed\n",
      "NN cost/CDI cost: 0.9339344976802523\n",
      "97/1000 samples completed\n",
      "NN cost/CDI cost: 0.7580125202035607\n",
      "98/1000 samples completed\n",
      "NN cost/CDI cost: 0.8388839061943387\n",
      "99/1000 samples completed\n",
      "NN cost/CDI cost: 0.7860514222448347\n",
      "100/1000 samples completed\n",
      "NN cost/CDI cost: 1.1839571131960904\n",
      "101/1000 samples completed\n",
      "NN cost/CDI cost: 1.0442801175934884\n",
      "102/1000 samples completed\n",
      "NN cost/CDI cost: 0.8782843827281337\n",
      "103/1000 samples completed\n",
      "NN cost/CDI cost: 0.8432626818735881\n",
      "104/1000 samples completed\n",
      "NN cost/CDI cost: 1.0643220221701137\n",
      "105/1000 samples completed\n",
      "NN cost/CDI cost: 0.7813981636613604\n",
      "106/1000 samples completed\n",
      "NN cost/CDI cost: 0.9777104802892614\n",
      "107/1000 samples completed\n",
      "NN cost/CDI cost: 0.71599046127925\n",
      "108/1000 samples completed\n",
      "NN cost/CDI cost: 0.759404382932617\n",
      "109/1000 samples completed\n",
      "NN cost/CDI cost: 0.90599998859429\n",
      "110/1000 samples completed\n",
      "NN cost/CDI cost: 0.824318496746355\n",
      "111/1000 samples completed\n",
      "NN cost/CDI cost: 1.4585958361870321\n",
      "112/1000 samples completed\n",
      "NN cost/CDI cost: 1.192666272737403\n",
      "113/1000 samples completed\n",
      "NN cost/CDI cost: 0.8720352170101467\n",
      "114/1000 samples completed\n",
      "NN cost/CDI cost: 0.945949117836634\n",
      "115/1000 samples completed\n",
      "NN cost/CDI cost: 0.7446480507589215\n",
      "116/1000 samples completed\n",
      "NN cost/CDI cost: 0.7769965103077267\n",
      "117/1000 samples completed\n",
      "NN cost/CDI cost: 1.0766756510952824\n",
      "118/1000 samples completed\n",
      "NN cost/CDI cost: 0.8928977157580846\n",
      "119/1000 samples completed\n",
      "NN cost/CDI cost: 0.7994369127367428\n",
      "120/1000 samples completed\n",
      "NN cost/CDI cost: 0.7444436866479995\n",
      "121/1000 samples completed\n",
      "NN cost/CDI cost: 1.0365283971815227\n",
      "122/1000 samples completed\n",
      "NN cost/CDI cost: 0.8840614257042744\n",
      "123/1000 samples completed\n",
      "NN cost/CDI cost: 1.0360331478309632\n",
      "124/1000 samples completed\n",
      "NN cost/CDI cost: 0.8850599362588267\n",
      "125/1000 samples completed\n",
      "NN cost/CDI cost: 1.0546905171705374\n",
      "126/1000 samples completed\n",
      "NN cost/CDI cost: 0.8548744288047169\n",
      "127/1000 samples completed\n",
      "NN cost/CDI cost: 0.7890589842111085\n",
      "128/1000 samples completed\n",
      "NN cost/CDI cost: 0.8511865190005699\n",
      "129/1000 samples completed\n",
      "NN cost/CDI cost: 0.8275659050180071\n",
      "130/1000 samples completed\n",
      "NN cost/CDI cost: 1.3366625207118554\n",
      "131/1000 samples completed\n",
      "NN cost/CDI cost: 0.7672415240191162\n",
      "132/1000 samples completed\n",
      "NN cost/CDI cost: 0.8244449681490019\n",
      "133/1000 samples completed\n",
      "NN cost/CDI cost: 1.1766555880934202\n",
      "134/1000 samples completed\n",
      "NN cost/CDI cost: 0.7333389202035868\n",
      "135/1000 samples completed\n",
      "NN cost/CDI cost: 0.8324049171165038\n",
      "136/1000 samples completed\n",
      "NN cost/CDI cost: 0.7974212600370147\n",
      "137/1000 samples completed\n",
      "NN cost/CDI cost: 0.7669804826342683\n",
      "138/1000 samples completed\n",
      "NN cost/CDI cost: 1.301560977379898\n",
      "139/1000 samples completed\n",
      "NN cost/CDI cost: 0.7904868755474814\n",
      "140/1000 samples completed\n",
      "NN cost/CDI cost: 0.928259549102734\n",
      "141/1000 samples completed\n",
      "NN cost/CDI cost: 0.8493303712044006\n",
      "142/1000 samples completed\n",
      "NN cost/CDI cost: 1.1259941047148903\n",
      "143/1000 samples completed\n",
      "NN cost/CDI cost: 0.8208209008263228\n",
      "144/1000 samples completed\n",
      "NN cost/CDI cost: 0.8060513211160224\n",
      "145/1000 samples completed\n",
      "NN cost/CDI cost: 1.0405473288366676\n",
      "146/1000 samples completed\n",
      "NN cost/CDI cost: 0.8450985527602956\n",
      "147/1000 samples completed\n",
      "NN cost/CDI cost: 0.9724432639488022\n",
      "148/1000 samples completed\n",
      "NN cost/CDI cost: 1.2453431399458903\n",
      "149/1000 samples completed\n",
      "NN cost/CDI cost: 0.7868963136664311\n",
      "150/1000 samples completed\n",
      "NN cost/CDI cost: 1.0713955337329923\n",
      "151/1000 samples completed\n",
      "NN cost/CDI cost: 1.5049490726247232\n",
      "152/1000 samples completed\n",
      "NN cost/CDI cost: 0.7802227353549783\n",
      "153/1000 samples completed\n",
      "NN cost/CDI cost: 0.70306021709484\n",
      "154/1000 samples completed\n",
      "NN cost/CDI cost: 0.7254864289027567\n",
      "155/1000 samples completed\n",
      "NN cost/CDI cost: 0.8355441396639767\n",
      "156/1000 samples completed\n",
      "NN cost/CDI cost: 1.3101384943492245\n",
      "157/1000 samples completed\n",
      "NN cost/CDI cost: 1.0200521301349479\n",
      "158/1000 samples completed\n",
      "NN cost/CDI cost: 1.1710066996768245\n",
      "159/1000 samples completed\n",
      "NN cost/CDI cost: 0.7799620603022261\n",
      "160/1000 samples completed\n",
      "NN cost/CDI cost: 0.8209520092688962\n",
      "161/1000 samples completed\n",
      "NN cost/CDI cost: 1.8550002884659331\n",
      "162/1000 samples completed\n",
      "NN cost/CDI cost: 1.0837766323798648\n",
      "163/1000 samples completed\n",
      "NN cost/CDI cost: 0.9962008843423822\n",
      "164/1000 samples completed\n",
      "NN cost/CDI cost: 0.8381230814661772\n",
      "165/1000 samples completed\n",
      "NN cost/CDI cost: 1.313923912928238\n",
      "166/1000 samples completed\n",
      "NN cost/CDI cost: 0.7730015734579425\n",
      "167/1000 samples completed\n",
      "NN cost/CDI cost: 0.7099435977753633\n",
      "168/1000 samples completed\n",
      "NN cost/CDI cost: 0.9050473392906837\n",
      "169/1000 samples completed\n",
      "NN cost/CDI cost: 0.8386038292114489\n",
      "170/1000 samples completed\n",
      "NN cost/CDI cost: 0.7726237171933795\n",
      "171/1000 samples completed\n",
      "NN cost/CDI cost: 1.0660396499510052\n",
      "172/1000 samples completed\n",
      "NN cost/CDI cost: 0.7706671594731314\n",
      "173/1000 samples completed\n",
      "NN cost/CDI cost: 1.1652806225403878\n",
      "174/1000 samples completed\n",
      "NN cost/CDI cost: 0.950537710844597\n",
      "175/1000 samples completed\n",
      "NN cost/CDI cost: 0.8380423143627406\n",
      "176/1000 samples completed\n",
      "NN cost/CDI cost: 0.7073126688795427\n",
      "177/1000 samples completed\n",
      "NN cost/CDI cost: 1.4468912842651793\n",
      "178/1000 samples completed\n",
      "NN cost/CDI cost: 0.7236169197748491\n",
      "179/1000 samples completed\n",
      "NN cost/CDI cost: 1.2754918031946576\n",
      "180/1000 samples completed\n",
      "NN cost/CDI cost: 0.7921047346277756\n",
      "181/1000 samples completed\n",
      "NN cost/CDI cost: 0.9621830139448235\n",
      "182/1000 samples completed\n",
      "NN cost/CDI cost: 0.8141006707974996\n",
      "183/1000 samples completed\n",
      "NN cost/CDI cost: 1.1584271234176582\n",
      "184/1000 samples completed\n",
      "NN cost/CDI cost: 0.9951960426720959\n",
      "185/1000 samples completed\n",
      "NN cost/CDI cost: 0.7444981899270535\n",
      "186/1000 samples completed\n",
      "NN cost/CDI cost: 0.9755250671264102\n",
      "187/1000 samples completed\n",
      "NN cost/CDI cost: 0.7928102761810764\n",
      "188/1000 samples completed\n",
      "NN cost/CDI cost: 0.7422157506391772\n",
      "189/1000 samples completed\n",
      "NN cost/CDI cost: 0.7601947515359576\n",
      "190/1000 samples completed\n",
      "NN cost/CDI cost: 1.0617022538967391\n",
      "191/1000 samples completed\n",
      "NN cost/CDI cost: 0.8057182686121238\n",
      "192/1000 samples completed\n",
      "NN cost/CDI cost: 0.7908744083580724\n",
      "193/1000 samples completed\n",
      "NN cost/CDI cost: 0.8486808157864701\n",
      "194/1000 samples completed\n",
      "NN cost/CDI cost: 0.9762247356947359\n",
      "195/1000 samples completed\n",
      "NN cost/CDI cost: 0.8758031899945546\n",
      "196/1000 samples completed\n",
      "NN cost/CDI cost: 1.7845883878095818\n",
      "197/1000 samples completed\n",
      "NN cost/CDI cost: 0.9884609282976019\n",
      "198/1000 samples completed\n",
      "NN cost/CDI cost: 0.7894271384064747\n",
      "199/1000 samples completed\n",
      "NN cost/CDI cost: 1.3179221699125634\n",
      "200/1000 samples completed\n",
      "NN cost/CDI cost: 1.0003704384704644\n",
      "201/1000 samples completed\n",
      "NN cost/CDI cost: 0.8699367668360135\n",
      "202/1000 samples completed\n",
      "NN cost/CDI cost: 0.9420984171671373\n",
      "203/1000 samples completed\n",
      "NN cost/CDI cost: 0.7812401668014723\n",
      "204/1000 samples completed\n",
      "NN cost/CDI cost: 0.9607842565578778\n",
      "205/1000 samples completed\n",
      "NN cost/CDI cost: 1.4708000279800673\n",
      "206/1000 samples completed\n",
      "NN cost/CDI cost: 0.8893946944084973\n",
      "207/1000 samples completed\n",
      "NN cost/CDI cost: 1.026738440074133\n",
      "208/1000 samples completed\n",
      "NN cost/CDI cost: 1.1047024739184748\n",
      "209/1000 samples completed\n",
      "NN cost/CDI cost: 0.8203944231211714\n",
      "210/1000 samples completed\n",
      "NN cost/CDI cost: 0.8482222721535182\n",
      "211/1000 samples completed\n",
      "NN cost/CDI cost: 0.7545783184350685\n",
      "212/1000 samples completed\n",
      "NN cost/CDI cost: 0.7194612376463857\n",
      "213/1000 samples completed\n",
      "NN cost/CDI cost: 1.082371137483657\n",
      "214/1000 samples completed\n",
      "NN cost/CDI cost: 0.8320709021642728\n",
      "215/1000 samples completed\n",
      "NN cost/CDI cost: 1.1616053926935856\n",
      "216/1000 samples completed\n",
      "NN cost/CDI cost: 0.7847693997224684\n",
      "217/1000 samples completed\n",
      "NN cost/CDI cost: 1.003039621147367\n",
      "218/1000 samples completed\n",
      "NN cost/CDI cost: 0.71511180217125\n",
      "219/1000 samples completed\n",
      "NN cost/CDI cost: 0.7887055587663387\n",
      "220/1000 samples completed\n",
      "NN cost/CDI cost: 1.005413887283898\n",
      "221/1000 samples completed\n",
      "NN cost/CDI cost: 0.9465968768734343\n",
      "222/1000 samples completed\n",
      "NN cost/CDI cost: 0.9177760040017185\n",
      "223/1000 samples completed\n",
      "NN cost/CDI cost: 1.2656735895031783\n",
      "224/1000 samples completed\n",
      "NN cost/CDI cost: 0.9693314386583217\n",
      "225/1000 samples completed\n",
      "NN cost/CDI cost: 1.04132735971808\n",
      "226/1000 samples completed\n",
      "NN cost/CDI cost: 0.7929753619769716\n",
      "227/1000 samples completed\n",
      "NN cost/CDI cost: 0.9553168122282516\n",
      "228/1000 samples completed\n",
      "NN cost/CDI cost: 0.782632546064026\n",
      "229/1000 samples completed\n",
      "NN cost/CDI cost: 0.8671157342817705\n",
      "230/1000 samples completed\n",
      "NN cost/CDI cost: 0.786804059231357\n",
      "231/1000 samples completed\n",
      "NN cost/CDI cost: 1.0655445803410357\n",
      "232/1000 samples completed\n",
      "NN cost/CDI cost: 0.8015855618289883\n",
      "233/1000 samples completed\n",
      "NN cost/CDI cost: 1.077703430119641\n",
      "234/1000 samples completed\n",
      "NN cost/CDI cost: 0.896612333077693\n",
      "235/1000 samples completed\n",
      "NN cost/CDI cost: 1.0013290604234477\n",
      "236/1000 samples completed\n",
      "NN cost/CDI cost: 0.9398475520613802\n",
      "237/1000 samples completed\n",
      "NN cost/CDI cost: 0.9951933139502173\n",
      "238/1000 samples completed\n",
      "NN cost/CDI cost: 0.7793169208142224\n",
      "239/1000 samples completed\n",
      "NN cost/CDI cost: 0.8930575230489715\n",
      "240/1000 samples completed\n",
      "NN cost/CDI cost: 0.752785920518103\n",
      "241/1000 samples completed\n",
      "NN cost/CDI cost: 0.7162616024478526\n",
      "242/1000 samples completed\n",
      "NN cost/CDI cost: 1.483602255796335\n",
      "243/1000 samples completed\n",
      "NN cost/CDI cost: 1.6099614378213956\n",
      "244/1000 samples completed\n",
      "NN cost/CDI cost: 0.7861088295987069\n",
      "245/1000 samples completed\n",
      "NN cost/CDI cost: 0.7668807081977307\n",
      "246/1000 samples completed\n",
      "NN cost/CDI cost: 0.8783101778297963\n",
      "247/1000 samples completed\n",
      "NN cost/CDI cost: 0.83344958142127\n",
      "248/1000 samples completed\n",
      "NN cost/CDI cost: 0.8883871531623252\n",
      "249/1000 samples completed\n",
      "NN cost/CDI cost: 0.8790550598868915\n",
      "250/1000 samples completed\n",
      "NN cost/CDI cost: 0.9049269282373813\n",
      "251/1000 samples completed\n",
      "NN cost/CDI cost: 1.2311519735776117\n",
      "252/1000 samples completed\n",
      "NN cost/CDI cost: 1.328261337068032\n",
      "253/1000 samples completed\n",
      "NN cost/CDI cost: 0.9571156455634353\n",
      "254/1000 samples completed\n",
      "NN cost/CDI cost: 0.7849497907929113\n",
      "255/1000 samples completed\n",
      "NN cost/CDI cost: 0.7840429053118079\n",
      "256/1000 samples completed\n",
      "NN cost/CDI cost: 1.3540161744426455\n",
      "257/1000 samples completed\n",
      "NN cost/CDI cost: 1.0222724548626454\n"
     ]
    },
    {
     "name": "stdout",
     "output_type": "stream",
     "text": [
      "258/1000 samples completed\n",
      "NN cost/CDI cost: 0.843903153823745\n",
      "259/1000 samples completed\n",
      "NN cost/CDI cost: 0.8122211489347082\n",
      "260/1000 samples completed\n",
      "NN cost/CDI cost: 0.8606231911014057\n",
      "261/1000 samples completed\n",
      "NN cost/CDI cost: 1.13951048546832\n",
      "262/1000 samples completed\n",
      "NN cost/CDI cost: 1.3610448310630385\n",
      "263/1000 samples completed\n",
      "NN cost/CDI cost: 0.9403874741137151\n",
      "264/1000 samples completed\n",
      "NN cost/CDI cost: 0.8061368639939728\n",
      "265/1000 samples completed\n",
      "NN cost/CDI cost: 0.9417795855855331\n",
      "266/1000 samples completed\n",
      "NN cost/CDI cost: 0.8033857205900935\n",
      "267/1000 samples completed\n",
      "NN cost/CDI cost: 0.8325726600554575\n",
      "268/1000 samples completed\n",
      "NN cost/CDI cost: 0.8115179834632924\n",
      "269/1000 samples completed\n",
      "NN cost/CDI cost: 0.7275973017811908\n",
      "270/1000 samples completed\n",
      "NN cost/CDI cost: 1.187235912470682\n",
      "271/1000 samples completed\n",
      "NN cost/CDI cost: 0.942693614089581\n",
      "272/1000 samples completed\n",
      "NN cost/CDI cost: 0.7778994555264872\n",
      "273/1000 samples completed\n",
      "NN cost/CDI cost: 0.7962262712886319\n",
      "274/1000 samples completed\n",
      "NN cost/CDI cost: 0.7431579527275223\n",
      "275/1000 samples completed\n",
      "NN cost/CDI cost: 0.74494173791121\n",
      "276/1000 samples completed\n",
      "NN cost/CDI cost: 0.9273956811607844\n",
      "277/1000 samples completed\n",
      "NN cost/CDI cost: 0.9025529615996407\n",
      "278/1000 samples completed\n",
      "NN cost/CDI cost: 0.7795995939111724\n",
      "279/1000 samples completed\n",
      "NN cost/CDI cost: 0.7887734804979262\n",
      "280/1000 samples completed\n",
      "NN cost/CDI cost: 0.733845852772083\n",
      "281/1000 samples completed\n",
      "NN cost/CDI cost: 0.9820966493885517\n",
      "282/1000 samples completed\n",
      "NN cost/CDI cost: 1.018668424477704\n",
      "283/1000 samples completed\n",
      "NN cost/CDI cost: 0.805921977907011\n",
      "284/1000 samples completed\n",
      "NN cost/CDI cost: 0.8923258538324659\n",
      "285/1000 samples completed\n",
      "NN cost/CDI cost: 0.7878448195841228\n",
      "286/1000 samples completed\n",
      "NN cost/CDI cost: 1.1613864290157208\n",
      "287/1000 samples completed\n",
      "NN cost/CDI cost: 1.1233047346823422\n",
      "288/1000 samples completed\n",
      "NN cost/CDI cost: 1.0997887928557293\n",
      "289/1000 samples completed\n",
      "NN cost/CDI cost: 0.7511375654552527\n",
      "290/1000 samples completed\n",
      "NN cost/CDI cost: 1.5422300635042012\n",
      "291/1000 samples completed\n",
      "NN cost/CDI cost: 0.8596366450449608\n",
      "292/1000 samples completed\n",
      "NN cost/CDI cost: 0.831648964656197\n",
      "293/1000 samples completed\n",
      "NN cost/CDI cost: 0.8091036206467719\n",
      "294/1000 samples completed\n",
      "NN cost/CDI cost: 0.7549523441898437\n",
      "295/1000 samples completed\n",
      "NN cost/CDI cost: 1.4383420519943222\n",
      "296/1000 samples completed\n",
      "NN cost/CDI cost: 0.7769073272989474\n",
      "297/1000 samples completed\n",
      "NN cost/CDI cost: 1.03518889619585\n",
      "298/1000 samples completed\n",
      "NN cost/CDI cost: 0.8302711478684683\n",
      "299/1000 samples completed\n",
      "NN cost/CDI cost: 0.8510857955669274\n",
      "300/1000 samples completed\n",
      "NN cost/CDI cost: 0.767830760141959\n",
      "301/1000 samples completed\n",
      "NN cost/CDI cost: 1.0092234304443737\n",
      "302/1000 samples completed\n",
      "NN cost/CDI cost: 0.835185686652271\n",
      "303/1000 samples completed\n",
      "NN cost/CDI cost: 1.1362068108352241\n",
      "304/1000 samples completed\n",
      "NN cost/CDI cost: 0.8215399814106659\n",
      "305/1000 samples completed\n",
      "NN cost/CDI cost: 1.048077139549849\n",
      "306/1000 samples completed\n",
      "NN cost/CDI cost: 1.0844048198862675\n",
      "307/1000 samples completed\n",
      "NN cost/CDI cost: 0.7671093534781891\n",
      "308/1000 samples completed\n",
      "NN cost/CDI cost: 1.43696017976944\n",
      "309/1000 samples completed\n",
      "NN cost/CDI cost: 0.8401931238491641\n",
      "310/1000 samples completed\n",
      "NN cost/CDI cost: 0.8021594249051515\n",
      "311/1000 samples completed\n",
      "NN cost/CDI cost: 0.7832498182095033\n",
      "312/1000 samples completed\n",
      "NN cost/CDI cost: 0.7832198517585663\n",
      "313/1000 samples completed\n",
      "NN cost/CDI cost: 0.8763712396047152\n",
      "314/1000 samples completed\n",
      "NN cost/CDI cost: 0.9601356587027483\n",
      "315/1000 samples completed\n",
      "NN cost/CDI cost: 0.7885961556227682\n",
      "316/1000 samples completed\n",
      "NN cost/CDI cost: 0.747810310122557\n",
      "317/1000 samples completed\n",
      "NN cost/CDI cost: 0.8894519171145456\n",
      "318/1000 samples completed\n",
      "NN cost/CDI cost: 0.7361998035370447\n",
      "319/1000 samples completed\n",
      "NN cost/CDI cost: 0.7734197522350128\n",
      "320/1000 samples completed\n",
      "NN cost/CDI cost: 0.8601518509068412\n",
      "321/1000 samples completed\n",
      "NN cost/CDI cost: 0.8776629969569912\n",
      "322/1000 samples completed\n",
      "NN cost/CDI cost: 0.8555750624974116\n",
      "323/1000 samples completed\n",
      "NN cost/CDI cost: 0.9489003953430885\n",
      "324/1000 samples completed\n",
      "NN cost/CDI cost: 0.7503170086642125\n",
      "325/1000 samples completed\n",
      "NN cost/CDI cost: 1.0800013219875508\n",
      "326/1000 samples completed\n",
      "NN cost/CDI cost: 0.7851671519507595\n",
      "327/1000 samples completed\n",
      "NN cost/CDI cost: 1.3054829041522924\n",
      "328/1000 samples completed\n",
      "NN cost/CDI cost: 0.8096084402352949\n",
      "329/1000 samples completed\n",
      "NN cost/CDI cost: 0.8670815709921021\n",
      "330/1000 samples completed\n",
      "NN cost/CDI cost: 0.7515865657745396\n",
      "331/1000 samples completed\n",
      "NN cost/CDI cost: 0.9526954347334801\n",
      "332/1000 samples completed\n",
      "NN cost/CDI cost: 0.8772214914020244\n",
      "333/1000 samples completed\n",
      "NN cost/CDI cost: 0.78240852107478\n",
      "334/1000 samples completed\n",
      "NN cost/CDI cost: 0.8219380322861043\n",
      "335/1000 samples completed\n",
      "NN cost/CDI cost: 0.9522645409771878\n",
      "336/1000 samples completed\n",
      "NN cost/CDI cost: 0.745053816377072\n",
      "337/1000 samples completed\n",
      "NN cost/CDI cost: 1.088899926018239\n",
      "338/1000 samples completed\n",
      "NN cost/CDI cost: 1.0117637000565585\n",
      "339/1000 samples completed\n",
      "NN cost/CDI cost: 0.8412573085126899\n",
      "340/1000 samples completed\n",
      "NN cost/CDI cost: 0.7934074650885117\n",
      "341/1000 samples completed\n",
      "NN cost/CDI cost: 0.7423177861006436\n",
      "342/1000 samples completed\n",
      "NN cost/CDI cost: 1.0879997043351854\n",
      "343/1000 samples completed\n",
      "NN cost/CDI cost: 0.9796979908202359\n",
      "344/1000 samples completed\n",
      "NN cost/CDI cost: 0.847814086058412\n",
      "345/1000 samples completed\n",
      "NN cost/CDI cost: 0.8697540401916023\n",
      "346/1000 samples completed\n",
      "NN cost/CDI cost: 1.0263410689965737\n",
      "347/1000 samples completed\n",
      "NN cost/CDI cost: 1.412963379605824\n",
      "348/1000 samples completed\n",
      "NN cost/CDI cost: 1.2806055147014073\n",
      "349/1000 samples completed\n",
      "NN cost/CDI cost: 0.9424079326310418\n",
      "350/1000 samples completed\n",
      "NN cost/CDI cost: 1.038300321097758\n",
      "351/1000 samples completed\n",
      "NN cost/CDI cost: 0.8600907353085255\n",
      "352/1000 samples completed\n",
      "NN cost/CDI cost: 1.0544611064002807\n",
      "353/1000 samples completed\n",
      "NN cost/CDI cost: 0.7927825736466818\n",
      "354/1000 samples completed\n",
      "NN cost/CDI cost: 1.004941056394433\n",
      "355/1000 samples completed\n",
      "NN cost/CDI cost: 0.691403059567097\n",
      "356/1000 samples completed\n",
      "NN cost/CDI cost: 0.9338023332813029\n",
      "357/1000 samples completed\n",
      "NN cost/CDI cost: 1.149053593749926\n",
      "358/1000 samples completed\n",
      "NN cost/CDI cost: 0.799747242869343\n",
      "359/1000 samples completed\n",
      "NN cost/CDI cost: 0.7894946857123784\n",
      "360/1000 samples completed\n",
      "NN cost/CDI cost: 1.0936187671685003\n",
      "361/1000 samples completed\n",
      "NN cost/CDI cost: 0.8431179838440547\n",
      "362/1000 samples completed\n",
      "NN cost/CDI cost: 0.9483847961141624\n",
      "363/1000 samples completed\n",
      "NN cost/CDI cost: 1.0521970560479625\n",
      "364/1000 samples completed\n",
      "NN cost/CDI cost: 1.114203942843001\n",
      "365/1000 samples completed\n",
      "NN cost/CDI cost: 0.9127616372690951\n",
      "366/1000 samples completed\n",
      "NN cost/CDI cost: 1.063598704848625\n",
      "367/1000 samples completed\n",
      "NN cost/CDI cost: 0.8221006023074846\n",
      "368/1000 samples completed\n",
      "NN cost/CDI cost: 0.7715755258368109\n",
      "369/1000 samples completed\n",
      "NN cost/CDI cost: 1.2344673747610106\n",
      "370/1000 samples completed\n",
      "NN cost/CDI cost: 0.9146237061985166\n",
      "371/1000 samples completed\n",
      "NN cost/CDI cost: 0.7164443290815098\n",
      "372/1000 samples completed\n",
      "NN cost/CDI cost: 1.526913025489549\n",
      "373/1000 samples completed\n",
      "NN cost/CDI cost: 0.7856689892038422\n",
      "374/1000 samples completed\n",
      "NN cost/CDI cost: 0.9800229795829238\n",
      "375/1000 samples completed\n",
      "NN cost/CDI cost: 1.1221623105013034\n",
      "376/1000 samples completed\n",
      "NN cost/CDI cost: 1.1386961998356389\n",
      "377/1000 samples completed\n",
      "NN cost/CDI cost: 0.8672897835795812\n",
      "378/1000 samples completed\n",
      "NN cost/CDI cost: 1.5878171043563516\n",
      "379/1000 samples completed\n",
      "NN cost/CDI cost: 0.7207204730069435\n",
      "380/1000 samples completed\n",
      "NN cost/CDI cost: 1.1977456557762756\n",
      "381/1000 samples completed\n",
      "NN cost/CDI cost: 0.8404757597139706\n",
      "382/1000 samples completed\n",
      "NN cost/CDI cost: 1.1190882136398659\n",
      "383/1000 samples completed\n",
      "NN cost/CDI cost: 0.8442683551861454\n",
      "384/1000 samples completed\n",
      "NN cost/CDI cost: 0.8500817611109084\n",
      "385/1000 samples completed\n",
      "NN cost/CDI cost: 0.7446727028740567\n",
      "386/1000 samples completed\n",
      "NN cost/CDI cost: 1.0199294309087228\n",
      "387/1000 samples completed\n",
      "NN cost/CDI cost: 1.1022293865720019\n",
      "388/1000 samples completed\n",
      "NN cost/CDI cost: 1.1260256867641811\n",
      "389/1000 samples completed\n",
      "NN cost/CDI cost: 0.8049114368034774\n",
      "390/1000 samples completed\n",
      "NN cost/CDI cost: 0.7764826865762725\n",
      "391/1000 samples completed\n",
      "NN cost/CDI cost: 0.8134937791553016\n",
      "392/1000 samples completed\n",
      "NN cost/CDI cost: 1.1779899775853115\n",
      "393/1000 samples completed\n",
      "NN cost/CDI cost: 1.144485173639016\n",
      "394/1000 samples completed\n",
      "NN cost/CDI cost: 1.2103605805162605\n",
      "395/1000 samples completed\n",
      "NN cost/CDI cost: 0.7510615476034606\n",
      "396/1000 samples completed\n",
      "NN cost/CDI cost: 0.7754994173754683\n",
      "397/1000 samples completed\n",
      "NN cost/CDI cost: 1.0974751280787394\n",
      "398/1000 samples completed\n",
      "NN cost/CDI cost: 0.8761199710475396\n",
      "399/1000 samples completed\n",
      "NN cost/CDI cost: 0.996262938145841\n",
      "400/1000 samples completed\n",
      "NN cost/CDI cost: 0.8593309991683249\n",
      "401/1000 samples completed\n",
      "NN cost/CDI cost: 0.7758272082654026\n",
      "402/1000 samples completed\n",
      "NN cost/CDI cost: 0.7955662590709721\n",
      "403/1000 samples completed\n",
      "NN cost/CDI cost: 0.843038669799855\n",
      "404/1000 samples completed\n",
      "NN cost/CDI cost: 1.1663085859334712\n",
      "405/1000 samples completed\n",
      "NN cost/CDI cost: 1.0753126475133692\n",
      "406/1000 samples completed\n",
      "NN cost/CDI cost: 1.0123849411336903\n",
      "407/1000 samples completed\n",
      "NN cost/CDI cost: 0.8322366388210141\n",
      "408/1000 samples completed\n",
      "NN cost/CDI cost: 1.2140314530193075\n",
      "409/1000 samples completed\n",
      "NN cost/CDI cost: 0.9216815161867109\n",
      "410/1000 samples completed\n",
      "NN cost/CDI cost: 0.8996248624008508\n",
      "411/1000 samples completed\n",
      "NN cost/CDI cost: 1.020539802919408\n",
      "412/1000 samples completed\n",
      "NN cost/CDI cost: 0.7879156530206637\n",
      "413/1000 samples completed\n",
      "NN cost/CDI cost: 0.8909197621070567\n",
      "414/1000 samples completed\n",
      "NN cost/CDI cost: 0.8638209088387567\n",
      "415/1000 samples completed\n",
      "NN cost/CDI cost: 1.2644374578058917\n",
      "416/1000 samples completed\n",
      "NN cost/CDI cost: 0.7251955880679402\n",
      "417/1000 samples completed\n",
      "NN cost/CDI cost: 0.8721294554832071\n",
      "418/1000 samples completed\n",
      "NN cost/CDI cost: 0.8159205969208577\n",
      "419/1000 samples completed\n",
      "NN cost/CDI cost: 0.7558913616726498\n",
      "420/1000 samples completed\n",
      "NN cost/CDI cost: 0.7855189608816984\n",
      "421/1000 samples completed\n",
      "NN cost/CDI cost: 1.2492535317247564\n",
      "422/1000 samples completed\n",
      "NN cost/CDI cost: 0.9177310195541479\n",
      "423/1000 samples completed\n",
      "NN cost/CDI cost: 0.7422234339375433\n",
      "424/1000 samples completed\n",
      "NN cost/CDI cost: 1.1394531226081126\n",
      "425/1000 samples completed\n",
      "NN cost/CDI cost: 0.7970973171052813\n",
      "426/1000 samples completed\n",
      "NN cost/CDI cost: 0.8772308536484884\n",
      "427/1000 samples completed\n",
      "NN cost/CDI cost: 0.8856873307372083\n",
      "428/1000 samples completed\n",
      "NN cost/CDI cost: 1.2983368894128517\n",
      "429/1000 samples completed\n",
      "NN cost/CDI cost: 0.8518063353680324\n",
      "430/1000 samples completed\n",
      "NN cost/CDI cost: 1.1199359516886869\n",
      "431/1000 samples completed\n",
      "NN cost/CDI cost: 1.0064268624220656\n",
      "432/1000 samples completed\n",
      "NN cost/CDI cost: 0.8079625665850692\n",
      "433/1000 samples completed\n",
      "NN cost/CDI cost: 1.1300587667195328\n",
      "434/1000 samples completed\n",
      "NN cost/CDI cost: 0.7849533981642253\n",
      "435/1000 samples completed\n",
      "NN cost/CDI cost: 0.7395283373623422\n",
      "436/1000 samples completed\n",
      "NN cost/CDI cost: 0.8370966613616887\n",
      "437/1000 samples completed\n",
      "NN cost/CDI cost: 0.8463864509079644\n",
      "438/1000 samples completed\n",
      "NN cost/CDI cost: 1.1073792265020896\n",
      "439/1000 samples completed\n",
      "NN cost/CDI cost: 0.7626684490322664\n",
      "440/1000 samples completed\n",
      "NN cost/CDI cost: 0.7431797259604548\n",
      "441/1000 samples completed\n",
      "NN cost/CDI cost: 0.9527942300880099\n",
      "442/1000 samples completed\n",
      "NN cost/CDI cost: 0.9946096123697583\n",
      "443/1000 samples completed\n",
      "NN cost/CDI cost: 0.8528019321255075\n",
      "444/1000 samples completed\n",
      "NN cost/CDI cost: 0.7291936319825641\n",
      "445/1000 samples completed\n",
      "NN cost/CDI cost: 1.0792891188798925\n",
      "446/1000 samples completed\n",
      "NN cost/CDI cost: 1.5952956986357483\n",
      "447/1000 samples completed\n",
      "NN cost/CDI cost: 1.041234623428382\n",
      "448/1000 samples completed\n",
      "NN cost/CDI cost: 0.7957982682287053\n",
      "449/1000 samples completed\n",
      "NN cost/CDI cost: 0.7451417769404437\n",
      "450/1000 samples completed\n",
      "NN cost/CDI cost: 0.8161883605491299\n",
      "451/1000 samples completed\n",
      "NN cost/CDI cost: 1.30660498548363\n",
      "452/1000 samples completed\n",
      "NN cost/CDI cost: 0.7366422955599898\n",
      "453/1000 samples completed\n",
      "NN cost/CDI cost: 0.7270861997274746\n",
      "454/1000 samples completed\n",
      "NN cost/CDI cost: 0.768529818932301\n",
      "455/1000 samples completed\n",
      "NN cost/CDI cost: 0.770819209472339\n",
      "456/1000 samples completed\n",
      "NN cost/CDI cost: 0.9355664792218842\n",
      "457/1000 samples completed\n",
      "NN cost/CDI cost: 0.8535546744119736\n",
      "458/1000 samples completed\n",
      "NN cost/CDI cost: 0.7964427286707971\n",
      "459/1000 samples completed\n",
      "NN cost/CDI cost: 0.6630902643424458\n",
      "460/1000 samples completed\n",
      "NN cost/CDI cost: 1.0838746238594659\n",
      "461/1000 samples completed\n",
      "NN cost/CDI cost: 1.0568035573612367\n",
      "462/1000 samples completed\n",
      "NN cost/CDI cost: 1.0300179815312767\n",
      "463/1000 samples completed\n",
      "NN cost/CDI cost: 0.7023099560324272\n",
      "464/1000 samples completed\n",
      "NN cost/CDI cost: 0.861772190249081\n",
      "465/1000 samples completed\n",
      "NN cost/CDI cost: 0.7961353396455486\n",
      "466/1000 samples completed\n",
      "NN cost/CDI cost: 0.8917973972051827\n",
      "467/1000 samples completed\n",
      "NN cost/CDI cost: 0.8141871238117248\n",
      "468/1000 samples completed\n",
      "NN cost/CDI cost: 0.7497466245300487\n",
      "469/1000 samples completed\n",
      "NN cost/CDI cost: 0.8748696863553056\n",
      "470/1000 samples completed\n",
      "NN cost/CDI cost: 0.7260329615997543\n",
      "471/1000 samples completed\n",
      "NN cost/CDI cost: 0.8360165858865407\n",
      "472/1000 samples completed\n",
      "NN cost/CDI cost: 1.0628218258399758\n",
      "473/1000 samples completed\n",
      "NN cost/CDI cost: 1.051830878638506\n",
      "474/1000 samples completed\n",
      "NN cost/CDI cost: 1.2196947801336449\n",
      "475/1000 samples completed\n",
      "NN cost/CDI cost: 1.089610297066107\n",
      "476/1000 samples completed\n",
      "NN cost/CDI cost: 1.0579459306595007\n",
      "477/1000 samples completed\n",
      "NN cost/CDI cost: 1.2852617608242691\n",
      "478/1000 samples completed\n",
      "NN cost/CDI cost: 0.7860265389757002\n",
      "479/1000 samples completed\n",
      "NN cost/CDI cost: 0.8687214766404205\n",
      "480/1000 samples completed\n",
      "NN cost/CDI cost: 0.8918295244418909\n",
      "481/1000 samples completed\n",
      "NN cost/CDI cost: 0.9596666964640612\n",
      "482/1000 samples completed\n",
      "NN cost/CDI cost: 1.2130678831798825\n",
      "483/1000 samples completed\n",
      "NN cost/CDI cost: 0.9648191394867671\n",
      "484/1000 samples completed\n",
      "NN cost/CDI cost: 0.7818474916551073\n",
      "485/1000 samples completed\n",
      "NN cost/CDI cost: 0.9462841742172882\n",
      "486/1000 samples completed\n",
      "NN cost/CDI cost: 0.821043998088078\n",
      "487/1000 samples completed\n",
      "NN cost/CDI cost: 0.8150262761243484\n",
      "488/1000 samples completed\n",
      "NN cost/CDI cost: 0.8601620111536953\n",
      "489/1000 samples completed\n",
      "NN cost/CDI cost: 1.6267676984865425\n",
      "490/1000 samples completed\n",
      "NN cost/CDI cost: 1.2211233714717735\n",
      "491/1000 samples completed\n",
      "NN cost/CDI cost: 0.7319473953020682\n",
      "492/1000 samples completed\n",
      "NN cost/CDI cost: 0.7273714886155814\n",
      "493/1000 samples completed\n",
      "NN cost/CDI cost: 1.0327601243283342\n",
      "494/1000 samples completed\n",
      "NN cost/CDI cost: 1.1361899376896027\n",
      "495/1000 samples completed\n",
      "NN cost/CDI cost: 1.1290106343810753\n",
      "496/1000 samples completed\n",
      "NN cost/CDI cost: 0.8700248054123437\n",
      "497/1000 samples completed\n",
      "NN cost/CDI cost: 0.7581608452940966\n",
      "498/1000 samples completed\n",
      "NN cost/CDI cost: 1.022314689411814\n",
      "499/1000 samples completed\n",
      "NN cost/CDI cost: 0.8882666267972065\n",
      "500/1000 samples completed\n",
      "NN cost/CDI cost: 0.9103720033326109\n",
      "501/1000 samples completed\n",
      "NN cost/CDI cost: 1.2074350345920444\n",
      "502/1000 samples completed\n",
      "NN cost/CDI cost: 0.7322050393553404\n",
      "503/1000 samples completed\n",
      "NN cost/CDI cost: 0.9257799068834973\n",
      "504/1000 samples completed\n",
      "NN cost/CDI cost: 0.9137432442169063\n",
      "505/1000 samples completed\n",
      "NN cost/CDI cost: 1.3240938759186558\n",
      "506/1000 samples completed\n",
      "NN cost/CDI cost: 0.8037459271097911\n",
      "507/1000 samples completed\n",
      "NN cost/CDI cost: 0.9192281782658447\n",
      "508/1000 samples completed\n",
      "NN cost/CDI cost: 0.7785391119000505\n",
      "509/1000 samples completed\n",
      "NN cost/CDI cost: 0.7411626954135074\n",
      "510/1000 samples completed\n",
      "NN cost/CDI cost: 0.8827685969001776\n",
      "511/1000 samples completed\n",
      "NN cost/CDI cost: 1.0407863356693445\n",
      "512/1000 samples completed\n",
      "NN cost/CDI cost: 1.009190124953112\n",
      "513/1000 samples completed\n",
      "NN cost/CDI cost: 1.3521320857243602\n",
      "514/1000 samples completed\n"
     ]
    },
    {
     "name": "stdout",
     "output_type": "stream",
     "text": [
      "NN cost/CDI cost: 1.138157916331319\n",
      "515/1000 samples completed\n",
      "NN cost/CDI cost: 0.7872096198426554\n",
      "516/1000 samples completed\n",
      "NN cost/CDI cost: 1.0489772758265377\n",
      "517/1000 samples completed\n",
      "NN cost/CDI cost: 0.784822041626975\n",
      "518/1000 samples completed\n",
      "NN cost/CDI cost: 1.4248885386629422\n",
      "519/1000 samples completed\n",
      "NN cost/CDI cost: 0.7647210212941514\n",
      "520/1000 samples completed\n",
      "NN cost/CDI cost: 1.4293275248103396\n",
      "521/1000 samples completed\n",
      "NN cost/CDI cost: 0.7834198405453017\n",
      "522/1000 samples completed\n",
      "NN cost/CDI cost: 0.8182420567516946\n",
      "523/1000 samples completed\n",
      "NN cost/CDI cost: 0.7992850271603349\n",
      "524/1000 samples completed\n",
      "NN cost/CDI cost: 1.5666977215830664\n",
      "525/1000 samples completed\n",
      "NN cost/CDI cost: 0.8488930121826516\n",
      "526/1000 samples completed\n",
      "NN cost/CDI cost: 1.2193696255891642\n",
      "527/1000 samples completed\n",
      "NN cost/CDI cost: 0.9162620688311719\n",
      "528/1000 samples completed\n",
      "NN cost/CDI cost: 1.0973792732756178\n",
      "529/1000 samples completed\n",
      "NN cost/CDI cost: 1.577159729643713\n",
      "530/1000 samples completed\n",
      "NN cost/CDI cost: 0.9959214391750374\n",
      "531/1000 samples completed\n",
      "NN cost/CDI cost: 0.7827142790705516\n",
      "532/1000 samples completed\n",
      "NN cost/CDI cost: 0.7607098299474954\n",
      "533/1000 samples completed\n",
      "NN cost/CDI cost: 0.78901788766922\n",
      "534/1000 samples completed\n",
      "NN cost/CDI cost: 0.782374028380186\n",
      "535/1000 samples completed\n",
      "NN cost/CDI cost: 0.7717815199883743\n",
      "536/1000 samples completed\n",
      "NN cost/CDI cost: 0.8430520730050175\n",
      "537/1000 samples completed\n",
      "NN cost/CDI cost: 0.8722078703326731\n",
      "538/1000 samples completed\n",
      "NN cost/CDI cost: 1.0596705186335504\n",
      "539/1000 samples completed\n",
      "NN cost/CDI cost: 0.9309645376679792\n",
      "540/1000 samples completed\n",
      "NN cost/CDI cost: 0.7860770381586571\n",
      "541/1000 samples completed\n",
      "NN cost/CDI cost: 1.1851363498413596\n",
      "542/1000 samples completed\n",
      "NN cost/CDI cost: 0.7633281566770361\n",
      "543/1000 samples completed\n",
      "NN cost/CDI cost: 1.224157748171528\n",
      "544/1000 samples completed\n",
      "NN cost/CDI cost: 0.8390079989094443\n",
      "545/1000 samples completed\n",
      "NN cost/CDI cost: 0.8991240266796486\n",
      "546/1000 samples completed\n",
      "NN cost/CDI cost: 1.197191460594383\n",
      "547/1000 samples completed\n",
      "NN cost/CDI cost: 1.0992037531658654\n",
      "548/1000 samples completed\n",
      "NN cost/CDI cost: 1.2861844794628725\n",
      "549/1000 samples completed\n",
      "NN cost/CDI cost: 1.1617418152561625\n",
      "550/1000 samples completed\n",
      "NN cost/CDI cost: 0.8917099956865191\n",
      "551/1000 samples completed\n",
      "NN cost/CDI cost: 0.7026493087339792\n",
      "552/1000 samples completed\n",
      "NN cost/CDI cost: 1.0528129576582634\n",
      "553/1000 samples completed\n",
      "NN cost/CDI cost: 0.8418998438614402\n",
      "554/1000 samples completed\n",
      "NN cost/CDI cost: 0.7533863536196481\n",
      "555/1000 samples completed\n",
      "NN cost/CDI cost: 0.7974687170176339\n",
      "556/1000 samples completed\n",
      "NN cost/CDI cost: 1.5101496061536912\n",
      "557/1000 samples completed\n",
      "NN cost/CDI cost: 0.9683404952960564\n",
      "558/1000 samples completed\n",
      "NN cost/CDI cost: 1.2904221053744234\n",
      "559/1000 samples completed\n",
      "NN cost/CDI cost: 0.7709986875877062\n",
      "560/1000 samples completed\n",
      "NN cost/CDI cost: 0.8871696029723906\n",
      "561/1000 samples completed\n",
      "NN cost/CDI cost: 0.8160281769486832\n",
      "562/1000 samples completed\n",
      "NN cost/CDI cost: 1.2629503993019604\n",
      "563/1000 samples completed\n",
      "NN cost/CDI cost: 0.817463941749687\n",
      "564/1000 samples completed\n",
      "NN cost/CDI cost: 0.7477417601769827\n",
      "565/1000 samples completed\n",
      "NN cost/CDI cost: 1.070910156593511\n",
      "566/1000 samples completed\n",
      "NN cost/CDI cost: 1.029587192466036\n",
      "567/1000 samples completed\n",
      "NN cost/CDI cost: 1.4749790072315772\n",
      "568/1000 samples completed\n",
      "NN cost/CDI cost: 0.9471294398049506\n",
      "569/1000 samples completed\n",
      "NN cost/CDI cost: 0.9774409544542727\n",
      "570/1000 samples completed\n",
      "NN cost/CDI cost: 0.7609144190847321\n",
      "571/1000 samples completed\n",
      "NN cost/CDI cost: 0.8141710207324822\n",
      "572/1000 samples completed\n",
      "NN cost/CDI cost: 0.8584898455003055\n",
      "573/1000 samples completed\n",
      "NN cost/CDI cost: 1.2215369413077681\n",
      "574/1000 samples completed\n",
      "NN cost/CDI cost: 0.6950752326511044\n",
      "575/1000 samples completed\n",
      "NN cost/CDI cost: 0.7294223238913656\n",
      "576/1000 samples completed\n",
      "NN cost/CDI cost: 0.8358399337280814\n",
      "577/1000 samples completed\n",
      "NN cost/CDI cost: 0.828877818387834\n",
      "578/1000 samples completed\n",
      "NN cost/CDI cost: 0.8046744718346515\n",
      "579/1000 samples completed\n",
      "NN cost/CDI cost: 0.7817255481887392\n",
      "580/1000 samples completed\n",
      "NN cost/CDI cost: 1.1221540337888039\n",
      "581/1000 samples completed\n",
      "NN cost/CDI cost: 0.834291346892219\n",
      "582/1000 samples completed\n",
      "NN cost/CDI cost: 0.7506924389485351\n",
      "583/1000 samples completed\n",
      "NN cost/CDI cost: 0.7610046545235062\n",
      "584/1000 samples completed\n",
      "NN cost/CDI cost: 0.9905183786019209\n",
      "585/1000 samples completed\n",
      "NN cost/CDI cost: 0.9447290829798466\n",
      "586/1000 samples completed\n",
      "NN cost/CDI cost: 0.9684778783944757\n",
      "587/1000 samples completed\n",
      "NN cost/CDI cost: 1.0165740396566998\n",
      "588/1000 samples completed\n",
      "NN cost/CDI cost: 0.8219316814389541\n",
      "589/1000 samples completed\n",
      "NN cost/CDI cost: 0.9352560019603008\n",
      "590/1000 samples completed\n",
      "NN cost/CDI cost: 0.6924716054359803\n",
      "591/1000 samples completed\n",
      "NN cost/CDI cost: 0.8388454305071054\n",
      "592/1000 samples completed\n",
      "NN cost/CDI cost: 0.8825476191830823\n",
      "593/1000 samples completed\n",
      "NN cost/CDI cost: 1.102931618856342\n",
      "594/1000 samples completed\n",
      "NN cost/CDI cost: 0.7263542415142781\n",
      "595/1000 samples completed\n",
      "NN cost/CDI cost: 1.316170258739164\n",
      "596/1000 samples completed\n",
      "NN cost/CDI cost: 1.2580952404391623\n",
      "597/1000 samples completed\n",
      "NN cost/CDI cost: 1.0644359868418116\n",
      "598/1000 samples completed\n",
      "NN cost/CDI cost: 1.3992939677177665\n",
      "599/1000 samples completed\n",
      "NN cost/CDI cost: 0.9391333431558504\n",
      "600/1000 samples completed\n",
      "NN cost/CDI cost: 0.99349927296021\n",
      "601/1000 samples completed\n",
      "NN cost/CDI cost: 0.7911999611119622\n",
      "602/1000 samples completed\n",
      "NN cost/CDI cost: 0.8656644052659087\n",
      "603/1000 samples completed\n",
      "NN cost/CDI cost: 0.742222802063477\n",
      "604/1000 samples completed\n",
      "NN cost/CDI cost: 0.8768195222831144\n",
      "605/1000 samples completed\n",
      "NN cost/CDI cost: 1.4523231234003733\n",
      "606/1000 samples completed\n",
      "NN cost/CDI cost: 0.8529994130757386\n",
      "607/1000 samples completed\n",
      "NN cost/CDI cost: 0.9588040345572937\n",
      "608/1000 samples completed\n",
      "NN cost/CDI cost: 0.7730214988497748\n",
      "609/1000 samples completed\n",
      "NN cost/CDI cost: 0.8614742512595182\n",
      "610/1000 samples completed\n",
      "NN cost/CDI cost: 1.0556470540550609\n",
      "611/1000 samples completed\n",
      "NN cost/CDI cost: 0.7790575888992824\n",
      "612/1000 samples completed\n",
      "NN cost/CDI cost: 1.517135485737394\n",
      "613/1000 samples completed\n",
      "NN cost/CDI cost: 0.9643629700798154\n",
      "614/1000 samples completed\n",
      "NN cost/CDI cost: 1.2746310626728565\n",
      "615/1000 samples completed\n",
      "NN cost/CDI cost: 1.484583783881117\n",
      "616/1000 samples completed\n",
      "NN cost/CDI cost: 1.0356512466988013\n",
      "617/1000 samples completed\n",
      "NN cost/CDI cost: 0.6961899903527883\n",
      "618/1000 samples completed\n",
      "NN cost/CDI cost: 1.2651645990208378\n",
      "619/1000 samples completed\n",
      "NN cost/CDI cost: 1.0609572582052218\n",
      "620/1000 samples completed\n",
      "NN cost/CDI cost: 1.0543726368639021\n",
      "621/1000 samples completed\n",
      "NN cost/CDI cost: 1.0211658584239947\n",
      "622/1000 samples completed\n",
      "NN cost/CDI cost: 1.1369075261702555\n",
      "623/1000 samples completed\n",
      "NN cost/CDI cost: 0.8289933103341632\n",
      "624/1000 samples completed\n",
      "NN cost/CDI cost: 0.8405282868910614\n",
      "625/1000 samples completed\n",
      "NN cost/CDI cost: 1.0029336802873232\n",
      "626/1000 samples completed\n",
      "NN cost/CDI cost: 0.909842560803879\n",
      "627/1000 samples completed\n",
      "NN cost/CDI cost: 0.7396335064671992\n",
      "628/1000 samples completed\n",
      "NN cost/CDI cost: 0.7335406093932643\n",
      "629/1000 samples completed\n",
      "NN cost/CDI cost: 0.8674220103144131\n",
      "630/1000 samples completed\n",
      "NN cost/CDI cost: 0.8182367653156232\n",
      "631/1000 samples completed\n",
      "NN cost/CDI cost: 0.9101263248918099\n",
      "632/1000 samples completed\n",
      "NN cost/CDI cost: 0.7811778478935777\n",
      "633/1000 samples completed\n",
      "NN cost/CDI cost: 1.59712635320642\n",
      "634/1000 samples completed\n",
      "NN cost/CDI cost: 1.45467494822358\n",
      "635/1000 samples completed\n",
      "NN cost/CDI cost: 0.7422001367622656\n",
      "636/1000 samples completed\n",
      "NN cost/CDI cost: 0.7510964598003991\n",
      "637/1000 samples completed\n",
      "NN cost/CDI cost: 1.4329074584503718\n",
      "638/1000 samples completed\n",
      "NN cost/CDI cost: 1.3221990698033852\n",
      "639/1000 samples completed\n",
      "NN cost/CDI cost: 0.9307015745761805\n",
      "640/1000 samples completed\n",
      "NN cost/CDI cost: 0.8705355927784161\n",
      "641/1000 samples completed\n",
      "NN cost/CDI cost: 0.8684478550961025\n",
      "642/1000 samples completed\n",
      "NN cost/CDI cost: 1.1937163710062044\n",
      "643/1000 samples completed\n",
      "NN cost/CDI cost: 0.9890604441648789\n",
      "644/1000 samples completed\n",
      "NN cost/CDI cost: 0.8273540356137049\n",
      "645/1000 samples completed\n",
      "NN cost/CDI cost: 0.8016390177403641\n",
      "646/1000 samples completed\n",
      "NN cost/CDI cost: 0.8591493119734701\n",
      "647/1000 samples completed\n",
      "NN cost/CDI cost: 1.7180586994166702\n",
      "648/1000 samples completed\n",
      "NN cost/CDI cost: 1.0771401717636246\n",
      "649/1000 samples completed\n",
      "NN cost/CDI cost: 0.9459249102389141\n",
      "650/1000 samples completed\n",
      "NN cost/CDI cost: 0.7571416983866129\n",
      "651/1000 samples completed\n",
      "NN cost/CDI cost: 0.957715310341559\n",
      "652/1000 samples completed\n",
      "NN cost/CDI cost: 1.1755338382439768\n",
      "653/1000 samples completed\n",
      "NN cost/CDI cost: 1.3774316373865667\n",
      "654/1000 samples completed\n",
      "NN cost/CDI cost: 1.0468821683696756\n",
      "655/1000 samples completed\n",
      "NN cost/CDI cost: 0.9148338259464485\n",
      "656/1000 samples completed\n",
      "NN cost/CDI cost: 0.7941745773297193\n",
      "657/1000 samples completed\n",
      "NN cost/CDI cost: 1.036022384676529\n",
      "658/1000 samples completed\n",
      "NN cost/CDI cost: 1.0105761577946628\n",
      "659/1000 samples completed\n",
      "NN cost/CDI cost: 0.9521038991217177\n",
      "660/1000 samples completed\n",
      "NN cost/CDI cost: 1.2959808732703775\n",
      "661/1000 samples completed\n",
      "NN cost/CDI cost: 1.101063184642916\n",
      "662/1000 samples completed\n",
      "NN cost/CDI cost: 0.8723432576742545\n",
      "663/1000 samples completed\n",
      "NN cost/CDI cost: 0.8414479289505631\n",
      "664/1000 samples completed\n",
      "NN cost/CDI cost: 0.8078232792435397\n",
      "665/1000 samples completed\n",
      "NN cost/CDI cost: 1.1168316004318928\n",
      "666/1000 samples completed\n",
      "NN cost/CDI cost: 0.8482623366188181\n",
      "667/1000 samples completed\n",
      "NN cost/CDI cost: 0.6616840266771021\n",
      "668/1000 samples completed\n",
      "NN cost/CDI cost: 0.871161454806049\n",
      "669/1000 samples completed\n",
      "NN cost/CDI cost: 0.8575347436881168\n",
      "670/1000 samples completed\n",
      "NN cost/CDI cost: 1.2757459218524747\n",
      "671/1000 samples completed\n",
      "NN cost/CDI cost: 1.051205097554484\n",
      "672/1000 samples completed\n",
      "NN cost/CDI cost: 0.8590135594628721\n",
      "673/1000 samples completed\n",
      "NN cost/CDI cost: 1.0931725185930878\n",
      "674/1000 samples completed\n",
      "NN cost/CDI cost: 0.8536707361704828\n",
      "675/1000 samples completed\n",
      "NN cost/CDI cost: 1.2461535097738965\n",
      "676/1000 samples completed\n",
      "NN cost/CDI cost: 0.7623404032754098\n",
      "677/1000 samples completed\n",
      "NN cost/CDI cost: 1.0449386119046233\n",
      "678/1000 samples completed\n",
      "NN cost/CDI cost: 1.2181952096072495\n",
      "679/1000 samples completed\n",
      "NN cost/CDI cost: 0.7821623493192905\n",
      "680/1000 samples completed\n",
      "NN cost/CDI cost: 0.7220638840218256\n",
      "681/1000 samples completed\n",
      "NN cost/CDI cost: 0.8774697290338485\n",
      "682/1000 samples completed\n",
      "NN cost/CDI cost: 0.991347070401889\n",
      "683/1000 samples completed\n",
      "NN cost/CDI cost: 0.7051494253651366\n",
      "684/1000 samples completed\n",
      "NN cost/CDI cost: 1.0345559127774024\n",
      "685/1000 samples completed\n",
      "NN cost/CDI cost: 0.8317124130988583\n",
      "686/1000 samples completed\n",
      "NN cost/CDI cost: 1.4424703424141865\n",
      "687/1000 samples completed\n",
      "NN cost/CDI cost: 1.0546260769759632\n",
      "688/1000 samples completed\n",
      "NN cost/CDI cost: 0.9536564219543819\n",
      "689/1000 samples completed\n",
      "NN cost/CDI cost: 0.965346722145754\n",
      "690/1000 samples completed\n",
      "NN cost/CDI cost: 0.714960736803806\n",
      "691/1000 samples completed\n",
      "NN cost/CDI cost: 0.8075195305104261\n",
      "692/1000 samples completed\n",
      "NN cost/CDI cost: 0.9073321866298587\n",
      "693/1000 samples completed\n",
      "NN cost/CDI cost: 0.8494312860382979\n",
      "694/1000 samples completed\n",
      "NN cost/CDI cost: 0.7745461967651271\n",
      "695/1000 samples completed\n",
      "NN cost/CDI cost: 0.9122687272625911\n",
      "696/1000 samples completed\n",
      "NN cost/CDI cost: 0.9461400803744808\n",
      "697/1000 samples completed\n",
      "NN cost/CDI cost: 1.2479432012571852\n",
      "698/1000 samples completed\n",
      "NN cost/CDI cost: 0.7767428711839095\n",
      "699/1000 samples completed\n",
      "NN cost/CDI cost: 0.7560908542499635\n",
      "700/1000 samples completed\n",
      "NN cost/CDI cost: 0.7885103794498901\n",
      "701/1000 samples completed\n",
      "NN cost/CDI cost: 0.9049660171293911\n",
      "702/1000 samples completed\n",
      "NN cost/CDI cost: 0.8754853964893905\n",
      "703/1000 samples completed\n",
      "NN cost/CDI cost: 0.7913978266819995\n",
      "704/1000 samples completed\n",
      "NN cost/CDI cost: 0.7560120778062489\n",
      "705/1000 samples completed\n",
      "NN cost/CDI cost: 0.7800814332836548\n",
      "706/1000 samples completed\n",
      "NN cost/CDI cost: 1.0055134198830717\n",
      "707/1000 samples completed\n",
      "NN cost/CDI cost: 0.8482782728924341\n",
      "708/1000 samples completed\n",
      "NN cost/CDI cost: 1.3061476682063606\n",
      "709/1000 samples completed\n",
      "NN cost/CDI cost: 0.7417231040841956\n",
      "710/1000 samples completed\n",
      "NN cost/CDI cost: 0.8049420867079562\n",
      "711/1000 samples completed\n",
      "NN cost/CDI cost: 0.9598292094811102\n",
      "712/1000 samples completed\n",
      "NN cost/CDI cost: 0.8153373186927388\n",
      "713/1000 samples completed\n",
      "NN cost/CDI cost: 1.1674359147745426\n",
      "714/1000 samples completed\n",
      "NN cost/CDI cost: 1.0930138591697716\n",
      "715/1000 samples completed\n",
      "NN cost/CDI cost: 1.129035837163049\n",
      "716/1000 samples completed\n",
      "NN cost/CDI cost: 0.8553657352731323\n",
      "717/1000 samples completed\n",
      "NN cost/CDI cost: 0.8847077657338467\n",
      "718/1000 samples completed\n",
      "NN cost/CDI cost: 0.9177783590329984\n",
      "719/1000 samples completed\n",
      "NN cost/CDI cost: 0.9668778975945673\n",
      "720/1000 samples completed\n",
      "NN cost/CDI cost: 1.3296049118617648\n",
      "721/1000 samples completed\n",
      "NN cost/CDI cost: 0.8528490742293153\n",
      "722/1000 samples completed\n",
      "NN cost/CDI cost: 1.038599328079801\n",
      "723/1000 samples completed\n",
      "NN cost/CDI cost: 0.787074163475978\n",
      "724/1000 samples completed\n",
      "NN cost/CDI cost: 0.8301829310956301\n",
      "725/1000 samples completed\n",
      "NN cost/CDI cost: 0.893117950626254\n",
      "726/1000 samples completed\n",
      "NN cost/CDI cost: 1.2093344195953695\n",
      "727/1000 samples completed\n",
      "NN cost/CDI cost: 0.8363557170417708\n",
      "728/1000 samples completed\n",
      "NN cost/CDI cost: 0.8092964849777081\n",
      "729/1000 samples completed\n",
      "NN cost/CDI cost: 1.120075055255867\n",
      "730/1000 samples completed\n",
      "NN cost/CDI cost: 1.2702068303174612\n",
      "731/1000 samples completed\n",
      "NN cost/CDI cost: 0.7484340645194179\n",
      "732/1000 samples completed\n",
      "NN cost/CDI cost: 0.7985296597627727\n",
      "733/1000 samples completed\n",
      "NN cost/CDI cost: 0.8169499745375366\n",
      "734/1000 samples completed\n",
      "NN cost/CDI cost: 0.798424822833335\n",
      "735/1000 samples completed\n",
      "NN cost/CDI cost: 0.961222673030688\n",
      "736/1000 samples completed\n",
      "NN cost/CDI cost: 0.7599310516626603\n",
      "737/1000 samples completed\n",
      "NN cost/CDI cost: 0.8886340788196865\n",
      "738/1000 samples completed\n",
      "NN cost/CDI cost: 0.6964102782743696\n",
      "739/1000 samples completed\n",
      "NN cost/CDI cost: 0.8082316823972848\n",
      "740/1000 samples completed\n",
      "NN cost/CDI cost: 0.733642272657766\n",
      "741/1000 samples completed\n",
      "NN cost/CDI cost: 0.8369155275370043\n",
      "742/1000 samples completed\n",
      "NN cost/CDI cost: 0.7214781030920618\n",
      "743/1000 samples completed\n",
      "NN cost/CDI cost: 0.8815203139589398\n",
      "744/1000 samples completed\n",
      "NN cost/CDI cost: 0.8954602218360467\n",
      "745/1000 samples completed\n",
      "NN cost/CDI cost: 1.3607565414549148\n",
      "746/1000 samples completed\n",
      "NN cost/CDI cost: 0.9747330969109921\n",
      "747/1000 samples completed\n",
      "NN cost/CDI cost: 0.7130521810678049\n",
      "748/1000 samples completed\n",
      "NN cost/CDI cost: 0.8194657511936481\n",
      "749/1000 samples completed\n",
      "NN cost/CDI cost: 0.7372195093247805\n",
      "750/1000 samples completed\n",
      "NN cost/CDI cost: 0.8798539760302004\n",
      "751/1000 samples completed\n",
      "NN cost/CDI cost: 0.8222547978706555\n",
      "752/1000 samples completed\n",
      "NN cost/CDI cost: 0.7452332577570778\n",
      "753/1000 samples completed\n",
      "NN cost/CDI cost: 0.8575086740958575\n",
      "754/1000 samples completed\n",
      "NN cost/CDI cost: 1.0102865874377724\n",
      "755/1000 samples completed\n",
      "NN cost/CDI cost: 0.8203823123410394\n",
      "756/1000 samples completed\n",
      "NN cost/CDI cost: 1.198500844216946\n",
      "757/1000 samples completed\n",
      "NN cost/CDI cost: 0.8082687593437743\n",
      "758/1000 samples completed\n",
      "NN cost/CDI cost: 0.819642843816574\n",
      "759/1000 samples completed\n",
      "NN cost/CDI cost: 0.8806218532107428\n",
      "760/1000 samples completed\n",
      "NN cost/CDI cost: 0.772559201382315\n",
      "761/1000 samples completed\n",
      "NN cost/CDI cost: 1.0995990715340789\n",
      "762/1000 samples completed\n",
      "NN cost/CDI cost: 0.9759166799672164\n",
      "763/1000 samples completed\n",
      "NN cost/CDI cost: 0.7707582011925755\n",
      "764/1000 samples completed\n",
      "NN cost/CDI cost: 0.8859055446416277\n",
      "765/1000 samples completed\n",
      "NN cost/CDI cost: 0.7478197779109298\n",
      "766/1000 samples completed\n",
      "NN cost/CDI cost: 1.5160747075902021\n",
      "767/1000 samples completed\n",
      "NN cost/CDI cost: 0.8351983105142095\n",
      "768/1000 samples completed\n",
      "NN cost/CDI cost: 0.8529999699254284\n",
      "769/1000 samples completed\n",
      "NN cost/CDI cost: 0.8070111139629594\n",
      "770/1000 samples completed\n"
     ]
    },
    {
     "name": "stdout",
     "output_type": "stream",
     "text": [
      "NN cost/CDI cost: 1.1025567607267928\n",
      "771/1000 samples completed\n",
      "NN cost/CDI cost: 0.8913468818272733\n",
      "772/1000 samples completed\n",
      "NN cost/CDI cost: 1.8689581503977106\n",
      "773/1000 samples completed\n",
      "NN cost/CDI cost: 0.7595920761462593\n",
      "774/1000 samples completed\n",
      "NN cost/CDI cost: 1.1976405025918415\n",
      "775/1000 samples completed\n",
      "NN cost/CDI cost: 0.8711219155278804\n",
      "776/1000 samples completed\n",
      "NN cost/CDI cost: 1.0402614308305265\n",
      "777/1000 samples completed\n",
      "NN cost/CDI cost: 0.9581104702493431\n",
      "778/1000 samples completed\n",
      "NN cost/CDI cost: 1.013410935413722\n",
      "779/1000 samples completed\n",
      "NN cost/CDI cost: 0.8257909766304279\n",
      "780/1000 samples completed\n",
      "NN cost/CDI cost: 0.845546601286561\n",
      "781/1000 samples completed\n",
      "NN cost/CDI cost: 0.8628727819374973\n",
      "782/1000 samples completed\n",
      "NN cost/CDI cost: 0.8894991436987053\n",
      "783/1000 samples completed\n",
      "NN cost/CDI cost: 1.16079868499885\n",
      "784/1000 samples completed\n",
      "NN cost/CDI cost: 0.8646990050132861\n",
      "785/1000 samples completed\n",
      "NN cost/CDI cost: 0.8153659777258491\n",
      "786/1000 samples completed\n",
      "NN cost/CDI cost: 1.4805003718279621\n",
      "787/1000 samples completed\n",
      "NN cost/CDI cost: 0.7847565386510773\n",
      "788/1000 samples completed\n",
      "NN cost/CDI cost: 0.910233788652358\n",
      "789/1000 samples completed\n",
      "NN cost/CDI cost: 1.5845013849435572\n",
      "790/1000 samples completed\n",
      "NN cost/CDI cost: 1.0927870430694282\n",
      "791/1000 samples completed\n",
      "NN cost/CDI cost: 0.849280865133722\n",
      "792/1000 samples completed\n",
      "NN cost/CDI cost: 0.8877793664710019\n",
      "793/1000 samples completed\n",
      "NN cost/CDI cost: 0.7365014268978963\n",
      "794/1000 samples completed\n",
      "NN cost/CDI cost: 0.8718921078735616\n",
      "795/1000 samples completed\n",
      "NN cost/CDI cost: 0.7637725451075289\n",
      "796/1000 samples completed\n",
      "NN cost/CDI cost: 0.7293036792513965\n",
      "797/1000 samples completed\n",
      "NN cost/CDI cost: 0.9308170766981353\n",
      "798/1000 samples completed\n",
      "NN cost/CDI cost: 0.8801717405290307\n",
      "799/1000 samples completed\n",
      "NN cost/CDI cost: 1.077281134748629\n",
      "800/1000 samples completed\n",
      "NN cost/CDI cost: 0.9622590365930344\n",
      "801/1000 samples completed\n",
      "NN cost/CDI cost: 0.9632060187815433\n",
      "802/1000 samples completed\n",
      "NN cost/CDI cost: 0.8978729600250099\n",
      "803/1000 samples completed\n",
      "NN cost/CDI cost: 0.8617711294147239\n",
      "804/1000 samples completed\n",
      "NN cost/CDI cost: 1.0445972521946623\n",
      "805/1000 samples completed\n",
      "NN cost/CDI cost: 1.2004894473196082\n",
      "806/1000 samples completed\n",
      "NN cost/CDI cost: 0.8158892557006532\n",
      "807/1000 samples completed\n",
      "NN cost/CDI cost: 0.9890095472950156\n",
      "808/1000 samples completed\n",
      "NN cost/CDI cost: 0.7747368252462108\n",
      "809/1000 samples completed\n",
      "NN cost/CDI cost: 1.2021947753527669\n",
      "810/1000 samples completed\n",
      "NN cost/CDI cost: 1.27823338175896\n",
      "811/1000 samples completed\n",
      "NN cost/CDI cost: 0.7832156356031115\n",
      "812/1000 samples completed\n",
      "NN cost/CDI cost: 1.289271650176468\n",
      "813/1000 samples completed\n",
      "NN cost/CDI cost: 1.2545591601126527\n",
      "814/1000 samples completed\n",
      "NN cost/CDI cost: 0.924890572101487\n",
      "815/1000 samples completed\n",
      "NN cost/CDI cost: 0.813245803323254\n",
      "816/1000 samples completed\n",
      "NN cost/CDI cost: 0.7984878556820675\n",
      "817/1000 samples completed\n",
      "NN cost/CDI cost: 1.4770059908273598\n",
      "818/1000 samples completed\n",
      "NN cost/CDI cost: 1.0782864688259894\n",
      "819/1000 samples completed\n",
      "NN cost/CDI cost: 1.2041045381636555\n",
      "820/1000 samples completed\n",
      "NN cost/CDI cost: 0.7505230372818634\n",
      "821/1000 samples completed\n",
      "NN cost/CDI cost: 0.8691853581060177\n",
      "822/1000 samples completed\n",
      "NN cost/CDI cost: 0.9035295623564961\n",
      "823/1000 samples completed\n",
      "NN cost/CDI cost: 0.8951390461204943\n",
      "824/1000 samples completed\n",
      "NN cost/CDI cost: 0.8630820430718873\n",
      "825/1000 samples completed\n",
      "NN cost/CDI cost: 0.9568592304779093\n",
      "826/1000 samples completed\n",
      "NN cost/CDI cost: 0.8809579702538715\n",
      "827/1000 samples completed\n",
      "NN cost/CDI cost: 1.1201815822406214\n",
      "828/1000 samples completed\n",
      "NN cost/CDI cost: 0.8444983806376187\n",
      "829/1000 samples completed\n",
      "NN cost/CDI cost: 1.229155550005937\n",
      "830/1000 samples completed\n",
      "NN cost/CDI cost: 1.4326394596691745\n",
      "831/1000 samples completed\n",
      "NN cost/CDI cost: 0.7282401518265009\n",
      "832/1000 samples completed\n",
      "NN cost/CDI cost: 0.822326701093034\n",
      "833/1000 samples completed\n",
      "NN cost/CDI cost: 0.9903933238281033\n",
      "834/1000 samples completed\n",
      "NN cost/CDI cost: 0.7113920322172951\n",
      "835/1000 samples completed\n",
      "NN cost/CDI cost: 0.8341947636395908\n",
      "836/1000 samples completed\n",
      "NN cost/CDI cost: 0.9978281572600667\n",
      "837/1000 samples completed\n",
      "NN cost/CDI cost: 0.8485728575168132\n",
      "838/1000 samples completed\n",
      "NN cost/CDI cost: 1.070081122919613\n",
      "839/1000 samples completed\n",
      "NN cost/CDI cost: 1.1780150070511\n",
      "840/1000 samples completed\n",
      "NN cost/CDI cost: 1.224417187241134\n",
      "841/1000 samples completed\n",
      "NN cost/CDI cost: 0.8453981732269478\n",
      "842/1000 samples completed\n",
      "NN cost/CDI cost: 1.0790014091039515\n",
      "843/1000 samples completed\n",
      "NN cost/CDI cost: 0.7281606326441474\n",
      "844/1000 samples completed\n",
      "NN cost/CDI cost: 0.8324800959264486\n",
      "845/1000 samples completed\n",
      "NN cost/CDI cost: 1.4174759953633604\n",
      "846/1000 samples completed\n",
      "NN cost/CDI cost: 0.8458020630170022\n",
      "847/1000 samples completed\n",
      "NN cost/CDI cost: 0.9394303221625463\n",
      "848/1000 samples completed\n",
      "NN cost/CDI cost: 0.8669065828687116\n",
      "849/1000 samples completed\n",
      "NN cost/CDI cost: 0.7326237743362464\n",
      "850/1000 samples completed\n",
      "NN cost/CDI cost: 1.051754069897948\n",
      "851/1000 samples completed\n",
      "NN cost/CDI cost: 0.8209471950604974\n",
      "852/1000 samples completed\n",
      "NN cost/CDI cost: 0.811204575675899\n",
      "853/1000 samples completed\n",
      "NN cost/CDI cost: 1.294450994726618\n",
      "854/1000 samples completed\n",
      "NN cost/CDI cost: 0.9799537085057143\n",
      "855/1000 samples completed\n",
      "NN cost/CDI cost: 0.7411878927339864\n",
      "856/1000 samples completed\n",
      "NN cost/CDI cost: 0.6531137507452696\n",
      "857/1000 samples completed\n",
      "NN cost/CDI cost: 1.4223616093280214\n",
      "858/1000 samples completed\n",
      "NN cost/CDI cost: 0.8421309462699225\n",
      "859/1000 samples completed\n",
      "NN cost/CDI cost: 0.7704264530213079\n",
      "860/1000 samples completed\n",
      "NN cost/CDI cost: 0.7539614462100617\n",
      "861/1000 samples completed\n",
      "NN cost/CDI cost: 0.928758369341849\n",
      "862/1000 samples completed\n",
      "NN cost/CDI cost: 0.7250306468319502\n",
      "863/1000 samples completed\n",
      "NN cost/CDI cost: 1.1716295983454164\n",
      "864/1000 samples completed\n",
      "NN cost/CDI cost: 0.7583822419823844\n",
      "865/1000 samples completed\n",
      "NN cost/CDI cost: 1.272577999075386\n",
      "866/1000 samples completed\n",
      "NN cost/CDI cost: 0.8430461741133556\n",
      "867/1000 samples completed\n",
      "NN cost/CDI cost: 1.2251164853645409\n",
      "868/1000 samples completed\n",
      "NN cost/CDI cost: 0.8076545075306933\n",
      "869/1000 samples completed\n",
      "NN cost/CDI cost: 1.040723959773824\n",
      "870/1000 samples completed\n",
      "NN cost/CDI cost: 0.9872970416666735\n",
      "871/1000 samples completed\n",
      "NN cost/CDI cost: 0.8893560864942374\n",
      "872/1000 samples completed\n",
      "NN cost/CDI cost: 0.8668693920686982\n",
      "873/1000 samples completed\n",
      "NN cost/CDI cost: 0.8463170561858301\n",
      "874/1000 samples completed\n",
      "NN cost/CDI cost: 0.7460355501631152\n",
      "875/1000 samples completed\n",
      "NN cost/CDI cost: 1.2995691357154882\n",
      "876/1000 samples completed\n",
      "NN cost/CDI cost: 1.2571484123496104\n",
      "877/1000 samples completed\n",
      "NN cost/CDI cost: 0.7507358948843058\n",
      "878/1000 samples completed\n",
      "NN cost/CDI cost: 0.7839833418448484\n",
      "879/1000 samples completed\n",
      "NN cost/CDI cost: 0.7963600134714937\n",
      "880/1000 samples completed\n",
      "NN cost/CDI cost: 0.762057936798678\n",
      "881/1000 samples completed\n",
      "NN cost/CDI cost: 0.9438786812079192\n",
      "882/1000 samples completed\n",
      "NN cost/CDI cost: 1.0674515572435908\n",
      "883/1000 samples completed\n",
      "NN cost/CDI cost: 0.7907429500781662\n",
      "884/1000 samples completed\n",
      "NN cost/CDI cost: 1.2786444410459357\n",
      "885/1000 samples completed\n",
      "NN cost/CDI cost: 0.7386944510509094\n",
      "886/1000 samples completed\n",
      "NN cost/CDI cost: 0.729876812009749\n",
      "887/1000 samples completed\n",
      "NN cost/CDI cost: 0.9677769348004398\n",
      "888/1000 samples completed\n",
      "NN cost/CDI cost: 1.3957562515699595\n",
      "889/1000 samples completed\n",
      "NN cost/CDI cost: 0.8322367881153159\n",
      "890/1000 samples completed\n",
      "NN cost/CDI cost: 0.8122419474304542\n",
      "891/1000 samples completed\n",
      "NN cost/CDI cost: 0.7276415928709878\n",
      "892/1000 samples completed\n",
      "NN cost/CDI cost: 0.8596672087214567\n",
      "893/1000 samples completed\n",
      "NN cost/CDI cost: 0.8874001688626636\n",
      "894/1000 samples completed\n",
      "NN cost/CDI cost: 1.01929278832821\n",
      "895/1000 samples completed\n",
      "NN cost/CDI cost: 0.7117988031550464\n",
      "896/1000 samples completed\n",
      "NN cost/CDI cost: 1.1147314740653662\n",
      "897/1000 samples completed\n",
      "NN cost/CDI cost: 1.3928642912099918\n",
      "898/1000 samples completed\n",
      "NN cost/CDI cost: 1.2148703305367974\n",
      "899/1000 samples completed\n",
      "NN cost/CDI cost: 0.7488673320440081\n",
      "900/1000 samples completed\n",
      "NN cost/CDI cost: 0.835608125817018\n",
      "901/1000 samples completed\n",
      "NN cost/CDI cost: 1.2908484795763242\n",
      "902/1000 samples completed\n",
      "NN cost/CDI cost: 0.7563613694428867\n",
      "903/1000 samples completed\n",
      "NN cost/CDI cost: 0.9960760554438755\n",
      "904/1000 samples completed\n",
      "NN cost/CDI cost: 1.0721423673043016\n",
      "905/1000 samples completed\n",
      "NN cost/CDI cost: 0.7115429694327334\n",
      "906/1000 samples completed\n",
      "NN cost/CDI cost: 0.861781150549016\n",
      "907/1000 samples completed\n",
      "NN cost/CDI cost: 1.129965902101796\n",
      "908/1000 samples completed\n",
      "NN cost/CDI cost: 0.8562612449683615\n",
      "909/1000 samples completed\n",
      "NN cost/CDI cost: 0.8373279332977461\n",
      "910/1000 samples completed\n",
      "NN cost/CDI cost: 1.0197845360221682\n",
      "911/1000 samples completed\n",
      "NN cost/CDI cost: 0.8202116647245317\n",
      "912/1000 samples completed\n",
      "NN cost/CDI cost: 1.0061272056211958\n",
      "913/1000 samples completed\n",
      "NN cost/CDI cost: 0.859292738367255\n",
      "914/1000 samples completed\n",
      "NN cost/CDI cost: 1.318648952956818\n",
      "915/1000 samples completed\n",
      "NN cost/CDI cost: 0.8463207654197823\n",
      "916/1000 samples completed\n",
      "NN cost/CDI cost: 0.9578700725384738\n",
      "917/1000 samples completed\n",
      "NN cost/CDI cost: 0.8831051103692696\n",
      "918/1000 samples completed\n",
      "NN cost/CDI cost: 1.0558872747277583\n",
      "919/1000 samples completed\n",
      "NN cost/CDI cost: 1.14616093068302\n",
      "920/1000 samples completed\n",
      "NN cost/CDI cost: 1.5782240222433532\n",
      "921/1000 samples completed\n",
      "NN cost/CDI cost: 1.0642398771977997\n",
      "922/1000 samples completed\n",
      "NN cost/CDI cost: 0.9519052992874231\n",
      "923/1000 samples completed\n",
      "NN cost/CDI cost: 0.7447242048479146\n",
      "924/1000 samples completed\n",
      "NN cost/CDI cost: 1.0529115624940768\n",
      "925/1000 samples completed\n",
      "NN cost/CDI cost: 0.965748935376414\n",
      "926/1000 samples completed\n",
      "NN cost/CDI cost: 0.864557375531139\n",
      "927/1000 samples completed\n",
      "NN cost/CDI cost: 1.0249135465619652\n",
      "928/1000 samples completed\n",
      "NN cost/CDI cost: 1.3508745222027778\n",
      "929/1000 samples completed\n",
      "NN cost/CDI cost: 0.8377392317678662\n",
      "930/1000 samples completed\n",
      "NN cost/CDI cost: 0.8954763788896908\n",
      "931/1000 samples completed\n",
      "NN cost/CDI cost: 0.7556496961680785\n",
      "932/1000 samples completed\n",
      "NN cost/CDI cost: 0.6942710396629387\n",
      "933/1000 samples completed\n",
      "NN cost/CDI cost: 0.8220703395100709\n",
      "934/1000 samples completed\n",
      "NN cost/CDI cost: 1.0533112558981828\n",
      "935/1000 samples completed\n",
      "NN cost/CDI cost: 0.7379124569085221\n",
      "936/1000 samples completed\n",
      "NN cost/CDI cost: 0.9892779101870749\n",
      "937/1000 samples completed\n",
      "NN cost/CDI cost: 1.267311768188755\n",
      "938/1000 samples completed\n",
      "NN cost/CDI cost: 0.8980706183641012\n",
      "939/1000 samples completed\n",
      "NN cost/CDI cost: 0.930563819542754\n",
      "940/1000 samples completed\n",
      "NN cost/CDI cost: 0.789417569125868\n",
      "941/1000 samples completed\n",
      "NN cost/CDI cost: 0.7864826720441223\n",
      "942/1000 samples completed\n",
      "NN cost/CDI cost: 1.5443119540398207\n",
      "943/1000 samples completed\n",
      "NN cost/CDI cost: 0.7875372446504865\n",
      "944/1000 samples completed\n",
      "NN cost/CDI cost: 0.809862697377369\n",
      "945/1000 samples completed\n",
      "NN cost/CDI cost: 0.8494056325906624\n",
      "946/1000 samples completed\n",
      "NN cost/CDI cost: 1.0835178505898835\n",
      "947/1000 samples completed\n",
      "NN cost/CDI cost: 0.7930515231561563\n",
      "948/1000 samples completed\n",
      "NN cost/CDI cost: 0.9868088529600078\n",
      "949/1000 samples completed\n",
      "NN cost/CDI cost: 0.9471660956072122\n",
      "950/1000 samples completed\n",
      "NN cost/CDI cost: 0.8953617991510194\n",
      "951/1000 samples completed\n",
      "NN cost/CDI cost: 1.0981085321247266\n",
      "952/1000 samples completed\n",
      "NN cost/CDI cost: 1.2159282165629126\n",
      "953/1000 samples completed\n",
      "NN cost/CDI cost: 0.8976234380106439\n",
      "954/1000 samples completed\n",
      "NN cost/CDI cost: 1.0389408598232452\n",
      "955/1000 samples completed\n",
      "NN cost/CDI cost: 0.7880426805938394\n",
      "956/1000 samples completed\n",
      "NN cost/CDI cost: 0.9387863882158083\n",
      "957/1000 samples completed\n",
      "NN cost/CDI cost: 1.0630904496545543\n",
      "958/1000 samples completed\n",
      "NN cost/CDI cost: 1.2828185104141148\n",
      "959/1000 samples completed\n",
      "NN cost/CDI cost: 1.0626063721448393\n",
      "960/1000 samples completed\n",
      "NN cost/CDI cost: 1.33482887477024\n",
      "961/1000 samples completed\n",
      "NN cost/CDI cost: 1.2569708008032732\n",
      "962/1000 samples completed\n",
      "NN cost/CDI cost: 1.083947836137711\n",
      "963/1000 samples completed\n",
      "NN cost/CDI cost: 1.4582766580074988\n",
      "964/1000 samples completed\n",
      "NN cost/CDI cost: 0.9960838777257702\n",
      "965/1000 samples completed\n",
      "NN cost/CDI cost: 1.1170261153149397\n",
      "966/1000 samples completed\n",
      "NN cost/CDI cost: 1.2712198827323407\n",
      "967/1000 samples completed\n",
      "NN cost/CDI cost: 0.822125416430559\n",
      "968/1000 samples completed\n",
      "NN cost/CDI cost: 0.8365455786017756\n",
      "969/1000 samples completed\n",
      "NN cost/CDI cost: 0.7953687372742955\n",
      "970/1000 samples completed\n",
      "NN cost/CDI cost: 1.2604885896646725\n",
      "971/1000 samples completed\n",
      "NN cost/CDI cost: 1.0736826177911096\n",
      "972/1000 samples completed\n",
      "NN cost/CDI cost: 0.7752770587883454\n",
      "973/1000 samples completed\n",
      "NN cost/CDI cost: 1.1064835050526622\n",
      "974/1000 samples completed\n",
      "NN cost/CDI cost: 0.896936949539903\n",
      "975/1000 samples completed\n",
      "NN cost/CDI cost: 0.9031597804795973\n",
      "976/1000 samples completed\n",
      "NN cost/CDI cost: 1.3142845421726288\n",
      "977/1000 samples completed\n",
      "NN cost/CDI cost: 1.1660049456105241\n",
      "978/1000 samples completed\n",
      "NN cost/CDI cost: 0.9464100905622975\n",
      "979/1000 samples completed\n",
      "NN cost/CDI cost: 0.8358887412282552\n",
      "980/1000 samples completed\n",
      "NN cost/CDI cost: 0.6647407720214216\n",
      "981/1000 samples completed\n",
      "NN cost/CDI cost: 0.7444949233741571\n",
      "982/1000 samples completed\n",
      "NN cost/CDI cost: 1.6018676216277845\n",
      "983/1000 samples completed\n",
      "NN cost/CDI cost: 0.7896873248179211\n",
      "984/1000 samples completed\n",
      "NN cost/CDI cost: 0.857276323891113\n",
      "985/1000 samples completed\n",
      "NN cost/CDI cost: 0.8556810415457103\n",
      "986/1000 samples completed\n",
      "NN cost/CDI cost: 0.9395070695180581\n",
      "987/1000 samples completed\n",
      "NN cost/CDI cost: 0.7588006560110123\n",
      "988/1000 samples completed\n",
      "NN cost/CDI cost: 1.1048630510065929\n",
      "989/1000 samples completed\n",
      "NN cost/CDI cost: 0.7222949141453775\n",
      "990/1000 samples completed\n",
      "NN cost/CDI cost: 0.8616247154469445\n",
      "991/1000 samples completed\n",
      "NN cost/CDI cost: 1.2760135377911757\n",
      "992/1000 samples completed\n",
      "NN cost/CDI cost: 0.9090672750714547\n",
      "993/1000 samples completed\n",
      "NN cost/CDI cost: 0.8920778575017724\n",
      "994/1000 samples completed\n",
      "NN cost/CDI cost: 1.1743574896184659\n",
      "995/1000 samples completed\n",
      "NN cost/CDI cost: 0.9127159059920046\n",
      "996/1000 samples completed\n",
      "NN cost/CDI cost: 0.767703745071705\n",
      "997/1000 samples completed\n",
      "NN cost/CDI cost: 0.8523654965464934\n",
      "998/1000 samples completed\n",
      "NN cost/CDI cost: 0.6796055544299175\n",
      "999/1000 samples completed\n",
      "NN cost/CDI cost: 0.8890016857398595\n",
      "mean CDI: 775797.296125\n",
      "mean NNC: 742819.71409375\n"
     ]
    }
   ],
   "source": [
    "cost_ratios = []\n",
    "cost_nn = []\n",
    "cost_cdi = []\n",
    "\n",
    "samples = 1000\n",
    "for i in range(samples):\n",
    "    print(\"%d/%d samples completed\"%(i,samples))\n",
    "    nn_inv, nn_qr, nn_qe, nn_ci, nn_mean_cost = evaluate_nnc_on_sample(state_trajectories, \n",
    "                                                                       i)\n",
    "    \n",
    "    cdi_inv, cdi_qr, cdi_qe, cdi_ci, cdi_mean_cost = evaluate_cdi_on_sample(state_trajectories, \n",
    "                                                                            qr_trajectories, \n",
    "                                                                            qe_trajectories, \n",
    "                                                                            i)\n",
    "    cost_nn.append(nn_mean_cost.detach().item())\n",
    "    cost_cdi.append(cdi_mean_cost.detach().item())\n",
    "    print(\"NN cost/CDI cost:\", nn_mean_cost.detach().item()/cdi_mean_cost.detach().item())\n",
    "    cost_ratios.append(nn_mean_cost.detach().item()/cdi_mean_cost.detach().item())\n",
    "\n",
    "print(\"mean CDI:\", np.mean(cost_cdi))\n",
    "print(\"mean NNC:\", np.mean(cost_nn))"
   ]
  },
  {
   "cell_type": "code",
   "execution_count": 29,
   "id": "9a19b30e",
   "metadata": {},
   "outputs": [
    {
     "name": "stdout",
     "output_type": "stream",
     "text": [
      "671\n"
     ]
    }
   ],
   "source": [
    "cost_ratios = np.array(cost_ratios)\n",
    "print(len(cost_ratios[cost_ratios <= 1]))"
   ]
  },
  {
   "cell_type": "code",
   "execution_count": 30,
   "id": "6587dc00",
   "metadata": {},
   "outputs": [
    {
     "name": "stdout",
     "output_type": "stream",
     "text": [
      "692453.90625 769093.28125\n",
      "742819.71409375 775797.296125\n"
     ]
    }
   ],
   "source": [
    "print(np.median(cost_nn),np.median(cost_cdi))\n",
    "print(np.mean(cost_nn),np.mean(cost_cdi))"
   ]
  },
  {
   "cell_type": "code",
   "execution_count": 31,
   "id": "c6ce9926",
   "metadata": {},
   "outputs": [],
   "source": [
    "from scipy.stats import wilcoxon"
   ]
  },
  {
   "cell_type": "code",
   "execution_count": 32,
   "id": "f859982a",
   "metadata": {},
   "outputs": [
    {
     "data": {
      "text/plain": [
       "WilcoxonResult(statistic=334515.0, pvalue=1.433090594113917e-20)"
      ]
     },
     "execution_count": 32,
     "metadata": {},
     "output_type": "execute_result"
    }
   ],
   "source": [
    "scipy.stats.wilcoxon(np.array(cost_cdi)-np.array(cost_nn), alternative='greater')#, mode='approx')"
   ]
  },
  {
   "cell_type": "code",
   "execution_count": 208,
   "id": "7c739568",
   "metadata": {},
   "outputs": [
    {
     "data": {
      "text/plain": [
       "0.9093553803186131"
      ]
     },
     "execution_count": 208,
     "metadata": {},
     "output_type": "execute_result"
    }
   ],
   "source": [
    "789522.85625/868222.56"
   ]
  },
  {
   "cell_type": "code",
   "execution_count": 55,
   "id": "95ea4dd4",
   "metadata": {},
   "outputs": [
    {
     "name": "stderr",
     "output_type": "stream",
     "text": [
      "findfont: Font family ['serif'] not found. Falling back to DejaVu Sans.\n"
     ]
    },
    {
     "data": {
      "image/png": "[encoded data removed]",
      "text/plain": [
       "<Figure size 467.248x144.388 with 2 Axes>"
      ]
     },
     "metadata": {
      "needs_background": "light"
     },
     "output_type": "display_data"
    }
   ],
   "source": [
    "import matplotlib.pyplot as plt\n",
    "from matplotlib import rcParams\n",
    "import seaborn as sns\n",
    "\n",
    "# customized settings\n",
    "params = {  # 'backend': 'ps',\n",
    "    'font.family': 'serif',\n",
    "    'font.serif': 'Latin Modern Roman',\n",
    "    'font.size': 10,\n",
    "    'axes.labelsize': 'medium',\n",
    "    'axes.titlesize': 'medium',\n",
    "    'legend.fontsize': 'medium',\n",
    "    'xtick.labelsize': 'small',\n",
    "    'ytick.labelsize': 'small',\n",
    "    'savefig.dpi': 150,\n",
    "    'text.usetex': True}\n",
    "# tell matplotlib about your params\n",
    "rcParams.update(params)\n",
    "\n",
    "# set nice figure sizes\n",
    "fig_width_pt = 469    # Get this from LaTeX using \\showthe\\columnwidth\n",
    "golden_mean = (np.sqrt(5.) - 1.) / 2.  # Aesthetic ratio\n",
    "ratio = golden_mean\n",
    "inches_per_pt = 1. / 72.27  # Convert pt to inches\n",
    "fig_width = fig_width_pt * inches_per_pt  # width in inches\n",
    "fig_height = fig_width*ratio  # height in inches\n",
    "fig_size = [fig_width, 0.5*fig_height]\n",
    "rcParams.update({'figure.figsize': fig_size})\n",
    "\n",
    "fig, ax = plt.subplots(ncols=2)\n",
    "#ax[0].text(0.02*(24-22)+22,0.88*1.25,r\"(a)\")\n",
    "ax[0].hist(cost_nn,alpha=0.5,bins=50,density=True,label=r\"NNC\",histtype='step',cumulative=True)\n",
    "ax[0].hist(cost_cdi,alpha=0.5,bins=50,density=True,label=r\"CDI\",histtype='step',cumulative=True)\n",
    "#ax[0].set_xlim(22,24)\n",
    "ax[0].set_ylim(0,1.25)\n",
    "ax[0].set_xlabel(r\"average cost\")\n",
    "ax[0].set_ylabel(r\"CDF\")\n",
    "ax[0].legend(loc=2,fontsize=8,frameon=False)\n",
    "\n",
    "#ax[1].text(0.02*(1.04-0.96)+0.96,0.88*40,r\"(b)\")\n",
    "ax[1].hist(cost_ratios,bins=12,alpha=0.5,density=True)\n",
    "ax[1].set_xlim(0.5,1)\n",
    "#ax[1].set_ylim(0,40)\n",
    "ax[1].set_xlabel(r\"cost ratio\")\n",
    "\n",
    "plt.tight_layout()\n",
    "plt.margins(0,0)\n",
    "#plt.savefig(\"cost_comparison_capped_dual_index.png\", dpi = 300, bbox_inches = 'tight', pad_inches = 0.05)\n",
    "plt.show()"
   ]
  },
  {
   "cell_type": "markdown",
   "id": "5b1a0231",
   "metadata": {},
   "source": [
    "## Sample comparison"
   ]
  },
  {
   "cell_type": "code",
   "execution_count": 773,
   "id": "bf1d7b6b",
   "metadata": {},
   "outputs": [],
   "source": [
    "import plotly.express as px\n",
    "from plotly import graph_objects as go"
   ]
  },
  {
   "cell_type": "code",
   "execution_count": 774,
   "id": "00b4760f",
   "metadata": {},
   "outputs": [],
   "source": [
    "fixed_demands = state_trajectories[1, 1:, 1].unsqueeze(-1)\n",
    "nn_inv, nn_qr, nn_qe, nn_ci, nn_mean_cost = evaluate_nnc_on_sample(state_trajectories, 6)\n",
    "cdi_inv, cdi_qr, cdi_qe, cdi_ci, cdi_mean_cost = evaluate_cdi_on_sample(state_trajectories, qr_trajectories, qe_trajectories, 6)"
   ]
  },
  {
   "cell_type": "code",
   "execution_count": 775,
   "id": "4dbf10f3",
   "metadata": {},
   "outputs": [
    {
     "data": {
      "application/vnd.plotly.v1+json": {
       "config": {
        "plotlyServerURL": "https://plot.ly"
       },
       "data": [
        {
         "type": "scatter",
         "y": [
          0,
          0,
          0,
          0,
          0,
          0,
          0,
          0,
          0,
          0,
          0,
          0,
          0,
          0,
          0,
          0,
          0,
          0,
          0,
          0,
          75,
          786,
          116,
          580,
          6188,
          11564,
          106,
          5630,
          4301,
          1038,
          29572,
          30298,
          28199,
          13063,
          22227,
          31767,
          38957,
          64069,
          33640,
          42426,
          23522,
          93304,
          21599,
          49393,
          57072,
          28230,
          51569,
          63184,
          14082,
          35177,
          138399,
          66902,
          21945,
          40657,
          127437,
          42949,
          49577,
          52125,
          54725,
          164058,
          92302,
          170544,
          70822,
          152175,
          51536,
          48064,
          90214,
          81644,
          134161,
          97618,
          31287,
          41764,
          55110,
          9687,
          73622,
          24307,
          170568,
          120140,
          90718,
          19437,
          26946,
          65620,
          87350,
          85401,
          91847,
          150304,
          62979,
          114905,
          58016,
          138965,
          30639,
          33343,
          51513,
          39294,
          37933,
          49299,
          71086,
          36842,
          20130,
          12749,
          17349,
          11865,
          20276,
          51688,
          14145,
          1324,
          12919,
          16576,
          24421,
          22030,
          29117,
          16690,
          17191,
          821,
          25385
         ]
        }
       ],
       "layout": {
        "template": {
         "data": {
          "bar": [
           {
            "error_x": {
             "color": "#2a3f5f"
            },
            "error_y": {
             "color": "#2a3f5f"
            },
            "marker": {
             "line": {
              "color": "#E5ECF6",
              "width": 0.5
             },
             "pattern": {
              "fillmode": "overlay",
              "size": 10,
              "solidity": 0.2
             }
            },
            "type": "bar"
           }
          ],
          "barpolar": [
           {
            "marker": {
             "line": {
              "color": "#E5ECF6",
              "width": 0.5
             },
             "pattern": {
              "fillmode": "overlay",
              "size": 10,
              "solidity": 0.2
             }
            },
            "type": "barpolar"
           }
          ],
          "carpet": [
           {
            "aaxis": {
             "endlinecolor": "#2a3f5f",
             "gridcolor": "white",
             "linecolor": "white",
             "minorgridcolor": "white",
             "startlinecolor": "#2a3f5f"
            },
            "baxis": {
             "endlinecolor": "#2a3f5f",
             "gridcolor": "white",
             "linecolor": "white",
             "minorgridcolor": "white",
             "startlinecolor": "#2a3f5f"
            },
            "type": "carpet"
           }
          ],
          "choropleth": [
           {
            "colorbar": {
             "outlinewidth": 0,
             "ticks": ""
            },
            "type": "choropleth"
           }
          ],
          "contour": [
           {
            "colorbar": {
             "outlinewidth": 0,
             "ticks": ""
            },
            "colorscale": [
             [
              0,
              "#0d0887"
             ],
             [
              0.1111111111111111,
              "#46039f"
             ],
             [
              0.2222222222222222,
              "#7201a8"
             ],
             [
              0.3333333333333333,
              "#9c179e"
             ],
             [
              0.4444444444444444,
              "#bd3786"
             ],
             [
              0.5555555555555556,
              "#d8576b"
             ],
             [
              0.6666666666666666,
              "#ed7953"
             ],
             [
              0.7777777777777778,
              "#fb9f3a"
             ],
             [
              0.8888888888888888,
              "#fdca26"
             ],
             [
              1,
              "#f0f921"
             ]
            ],
            "type": "contour"
           }
          ],
          "contourcarpet": [
           {
            "colorbar": {
             "outlinewidth": 0,
             "ticks": ""
            },
            "type": "contourcarpet"
           }
          ],
          "heatmap": [
           {
            "colorbar": {
             "outlinewidth": 0,
             "ticks": ""
            },
            "colorscale": [
             [
              0,
              "#0d0887"
             ],
             [
              0.1111111111111111,
              "#46039f"
             ],
             [
              0.2222222222222222,
              "#7201a8"
             ],
             [
              0.3333333333333333,
              "#9c179e"
             ],
             [
              0.4444444444444444,
              "#bd3786"
             ],
             [
              0.5555555555555556,
              "#d8576b"
             ],
             [
              0.6666666666666666,
              "#ed7953"
             ],
             [
              0.7777777777777778,
              "#fb9f3a"
             ],
             [
              0.8888888888888888,
              "#fdca26"
             ],
             [
              1,
              "#f0f921"
             ]
            ],
            "type": "heatmap"
           }
          ],
          "heatmapgl": [
           {
            "colorbar": {
             "outlinewidth": 0,
             "ticks": ""
            },
            "colorscale": [
             [
              0,
              "#0d0887"
             ],
             [
              0.1111111111111111,
              "#46039f"
             ],
             [
              0.2222222222222222,
              "#7201a8"
             ],
             [
              0.3333333333333333,
              "#9c179e"
             ],
             [
              0.4444444444444444,
              "#bd3786"
             ],
             [
              0.5555555555555556,
              "#d8576b"
             ],
             [
              0.6666666666666666,
              "#ed7953"
             ],
             [
              0.7777777777777778,
              "#fb9f3a"
             ],
             [
              0.8888888888888888,
              "#fdca26"
             ],
             [
              1,
              "#f0f921"
             ]
            ],
            "type": "heatmapgl"
           }
          ],
          "histogram": [
           {
            "marker": {
             "pattern": {
              "fillmode": "overlay",
              "size": 10,
              "solidity": 0.2
             }
            },
            "type": "histogram"
           }
          ],
          "histogram2d": [
           {
            "colorbar": {
             "outlinewidth": 0,
             "ticks": ""
            },
            "colorscale": [
             [
              0,
              "#0d0887"
             ],
             [
              0.1111111111111111,
              "#46039f"
             ],
             [
              0.2222222222222222,
              "#7201a8"
             ],
             [
              0.3333333333333333,
              "#9c179e"
             ],
             [
              0.4444444444444444,
              "#bd3786"
             ],
             [
              0.5555555555555556,
              "#d8576b"
             ],
             [
              0.6666666666666666,
              "#ed7953"
             ],
             [
              0.7777777777777778,
              "#fb9f3a"
             ],
             [
              0.8888888888888888,
              "#fdca26"
             ],
             [
              1,
              "#f0f921"
             ]
            ],
            "type": "histogram2d"
           }
          ],
          "histogram2dcontour": [
           {
            "colorbar": {
             "outlinewidth": 0,
             "ticks": ""
            },
            "colorscale": [
             [
              0,
              "#0d0887"
             ],
             [
              0.1111111111111111,
              "#46039f"
             ],
             [
              0.2222222222222222,
              "#7201a8"
             ],
             [
              0.3333333333333333,
              "#9c179e"
             ],
             [
              0.4444444444444444,
              "#bd3786"
             ],
             [
              0.5555555555555556,
              "#d8576b"
             ],
             [
              0.6666666666666666,
              "#ed7953"
             ],
             [
              0.7777777777777778,
              "#fb9f3a"
             ],
             [
              0.8888888888888888,
              "#fdca26"
             ],
             [
              1,
              "#f0f921"
             ]
            ],
            "type": "histogram2dcontour"
           }
          ],
          "mesh3d": [
           {
            "colorbar": {
             "outlinewidth": 0,
             "ticks": ""
            },
            "type": "mesh3d"
           }
          ],
          "parcoords": [
           {
            "line": {
             "colorbar": {
              "outlinewidth": 0,
              "ticks": ""
             }
            },
            "type": "parcoords"
           }
          ],
          "pie": [
           {
            "automargin": true,
            "type": "pie"
           }
          ],
          "scatter": [
           {
            "marker": {
             "colorbar": {
              "outlinewidth": 0,
              "ticks": ""
             }
            },
            "type": "scatter"
           }
          ],
          "scatter3d": [
           {
            "line": {
             "colorbar": {
              "outlinewidth": 0,
              "ticks": ""
             }
            },
            "marker": {
             "colorbar": {
              "outlinewidth": 0,
              "ticks": ""
             }
            },
            "type": "scatter3d"
           }
          ],
          "scattercarpet": [
           {
            "marker": {
             "colorbar": {
              "outlinewidth": 0,
              "ticks": ""
             }
            },
            "type": "scattercarpet"
           }
          ],
          "scattergeo": [
           {
            "marker": {
             "colorbar": {
              "outlinewidth": 0,
              "ticks": ""
             }
            },
            "type": "scattergeo"
           }
          ],
          "scattergl": [
           {
            "marker": {
             "colorbar": {
              "outlinewidth": 0,
              "ticks": ""
             }
            },
            "type": "scattergl"
           }
          ],
          "scattermapbox": [
           {
            "marker": {
             "colorbar": {
              "outlinewidth": 0,
              "ticks": ""
             }
            },
            "type": "scattermapbox"
           }
          ],
          "scatterpolar": [
           {
            "marker": {
             "colorbar": {
              "outlinewidth": 0,
              "ticks": ""
             }
            },
            "type": "scatterpolar"
           }
          ],
          "scatterpolargl": [
           {
            "marker": {
             "colorbar": {
              "outlinewidth": 0,
              "ticks": ""
             }
            },
            "type": "scatterpolargl"
           }
          ],
          "scatterternary": [
           {
            "marker": {
             "colorbar": {
              "outlinewidth": 0,
              "ticks": ""
             }
            },
            "type": "scatterternary"
           }
          ],
          "surface": [
           {
            "colorbar": {
             "outlinewidth": 0,
             "ticks": ""
            },
            "colorscale": [
             [
              0,
              "#0d0887"
             ],
             [
              0.1111111111111111,
              "#46039f"
             ],
             [
              0.2222222222222222,
              "#7201a8"
             ],
             [
              0.3333333333333333,
              "#9c179e"
             ],
             [
              0.4444444444444444,
              "#bd3786"
             ],
             [
              0.5555555555555556,
              "#d8576b"
             ],
             [
              0.6666666666666666,
              "#ed7953"
             ],
             [
              0.7777777777777778,
              "#fb9f3a"
             ],
             [
              0.8888888888888888,
              "#fdca26"
             ],
             [
              1,
              "#f0f921"
             ]
            ],
            "type": "surface"
           }
          ],
          "table": [
           {
            "cells": {
             "fill": {
              "color": "#EBF0F8"
             },
             "line": {
              "color": "white"
             }
            },
            "header": {
             "fill": {
              "color": "#C8D4E3"
             },
             "line": {
              "color": "white"
             }
            },
            "type": "table"
           }
          ]
         },
         "layout": {
          "annotationdefaults": {
           "arrowcolor": "#2a3f5f",
           "arrowhead": 0,
           "arrowwidth": 1
          },
          "autotypenumbers": "strict",
          "coloraxis": {
           "colorbar": {
            "outlinewidth": 0,
            "ticks": ""
           }
          },
          "colorscale": {
           "diverging": [
            [
             0,
             "#8e0152"
            ],
            [
             0.1,
             "#c51b7d"
            ],
            [
             0.2,
             "#de77ae"
            ],
            [
             0.3,
             "#f1b6da"
            ],
            [
             0.4,
             "#fde0ef"
            ],
            [
             0.5,
             "#f7f7f7"
            ],
            [
             0.6,
             "#e6f5d0"
            ],
            [
             0.7,
             "#b8e186"
            ],
            [
             0.8,
             "#7fbc41"
            ],
            [
             0.9,
             "#4d9221"
            ],
            [
             1,
             "#276419"
            ]
           ],
           "sequential": [
            [
             0,
             "#0d0887"
            ],
            [
             0.1111111111111111,
             "#46039f"
            ],
            [
             0.2222222222222222,
             "#7201a8"
            ],
            [
             0.3333333333333333,
             "#9c179e"
            ],
            [
             0.4444444444444444,
             "#bd3786"
            ],
            [
             0.5555555555555556,
             "#d8576b"
            ],
            [
             0.6666666666666666,
             "#ed7953"
            ],
            [
             0.7777777777777778,
             "#fb9f3a"
            ],
            [
             0.8888888888888888,
             "#fdca26"
            ],
            [
             1,
             "#f0f921"
            ]
           ],
           "sequentialminus": [
            [
             0,
             "#0d0887"
            ],
            [
             0.1111111111111111,
             "#46039f"
            ],
            [
             0.2222222222222222,
             "#7201a8"
            ],
            [
             0.3333333333333333,
             "#9c179e"
            ],
            [
             0.4444444444444444,
             "#bd3786"
            ],
            [
             0.5555555555555556,
             "#d8576b"
            ],
            [
             0.6666666666666666,
             "#ed7953"
            ],
            [
             0.7777777777777778,
             "#fb9f3a"
            ],
            [
             0.8888888888888888,
             "#fdca26"
            ],
            [
             1,
             "#f0f921"
            ]
           ]
          },
          "colorway": [
           "#636efa",
           "#EF553B",
           "#00cc96",
           "#ab63fa",
           "#FFA15A",
           "#19d3f3",
           "#FF6692",
           "#B6E880",
           "#FF97FF",
           "#FECB52"
          ],
          "font": {
           "color": "#2a3f5f"
          },
          "geo": {
           "bgcolor": "white",
           "lakecolor": "white",
           "landcolor": "#E5ECF6",
           "showlakes": true,
           "showland": true,
           "subunitcolor": "white"
          },
          "hoverlabel": {
           "align": "left"
          },
          "hovermode": "closest",
          "mapbox": {
           "style": "light"
          },
          "paper_bgcolor": "white",
          "plot_bgcolor": "#E5ECF6",
          "polar": {
           "angularaxis": {
            "gridcolor": "white",
            "linecolor": "white",
            "ticks": ""
           },
           "bgcolor": "#E5ECF6",
           "radialaxis": {
            "gridcolor": "white",
            "linecolor": "white",
            "ticks": ""
           }
          },
          "scene": {
           "xaxis": {
            "backgroundcolor": "#E5ECF6",
            "gridcolor": "white",
            "gridwidth": 2,
            "linecolor": "white",
            "showbackground": true,
            "ticks": "",
            "zerolinecolor": "white"
           },
           "yaxis": {
            "backgroundcolor": "#E5ECF6",
            "gridcolor": "white",
            "gridwidth": 2,
            "linecolor": "white",
            "showbackground": true,
            "ticks": "",
            "zerolinecolor": "white"
           },
           "zaxis": {
            "backgroundcolor": "#E5ECF6",
            "gridcolor": "white",
            "gridwidth": 2,
            "linecolor": "white",
            "showbackground": true,
            "ticks": "",
            "zerolinecolor": "white"
           }
          },
          "shapedefaults": {
           "line": {
            "color": "#2a3f5f"
           }
          },
          "ternary": {
           "aaxis": {
            "gridcolor": "white",
            "linecolor": "white",
            "ticks": ""
           },
           "baxis": {
            "gridcolor": "white",
            "linecolor": "white",
            "ticks": ""
           },
           "bgcolor": "#E5ECF6",
           "caxis": {
            "gridcolor": "white",
            "linecolor": "white",
            "ticks": ""
           }
          },
          "title": {
           "x": 0.05
          },
          "xaxis": {
           "automargin": true,
           "gridcolor": "white",
           "linecolor": "white",
           "ticks": "",
           "title": {
            "standoff": 15
           },
           "zerolinecolor": "white",
           "zerolinewidth": 2
          },
          "yaxis": {
           "automargin": true,
           "gridcolor": "white",
           "linecolor": "white",
           "ticks": "",
           "title": {
            "standoff": 15
           },
           "zerolinecolor": "white",
           "zerolinewidth": 2
          }
         }
        },
        "xaxis": {
         "title": {
          "text": "Timestep"
         }
        },
        "yaxis": {
         "title": {
          "text": "Demand"
         }
        }
       }
      },
      "text/html": [
       "<div>                            <div id=\"2c6894ab-5501-4baa-92bd-0e3987d4a670\" class=\"plotly-graph-div\" style=\"height:525px; width:100%;\"></div>            <script type=\"text/javascript\">                require([\"plotly\"], function(Plotly) {                    window.PLOTLYENV=window.PLOTLYENV || {};                                    if (document.getElementById(\"2c6894ab-5501-4baa-92bd-0e3987d4a670\")) {                    Plotly.newPlot(                        \"2c6894ab-5501-4baa-92bd-0e3987d4a670\",                        [{\"type\":\"scatter\",\"y\":[0,0,0,0,0,0,0,0,0,0,0,0,0,0,0,0,0,0,0,0,75,786,116,580,6188,11564,106,5630,4301,1038,29572,30298,28199,13063,22227,31767,38957,64069,33640,42426,23522,93304,21599,49393,57072,28230,51569,63184,14082,35177,138399,66902,21945,40657,127437,42949,49577,52125,54725,164058,92302,170544,70822,152175,51536,48064,90214,81644,134161,97618,31287,41764,55110,9687,73622,24307,170568,120140,90718,19437,26946,65620,87350,85401,91847,150304,62979,114905,58016,138965,30639,33343,51513,39294,37933,49299,71086,36842,20130,12749,17349,11865,20276,51688,14145,1324,12919,16576,24421,22030,29117,16690,17191,821,25385]}],                        {\"template\":{\"data\":{\"bar\":[{\"error_x\":{\"color\":\"#2a3f5f\"},\"error_y\":{\"color\":\"#2a3f5f\"},\"marker\":{\"line\":{\"color\":\"#E5ECF6\",\"width\":0.5},\"pattern\":{\"fillmode\":\"overlay\",\"size\":10,\"solidity\":0.2}},\"type\":\"bar\"}],\"barpolar\":[{\"marker\":{\"line\":{\"color\":\"#E5ECF6\",\"width\":0.5},\"pattern\":{\"fillmode\":\"overlay\",\"size\":10,\"solidity\":0.2}},\"type\":\"barpolar\"}],\"carpet\":[{\"aaxis\":{\"endlinecolor\":\"#2a3f5f\",\"gridcolor\":\"white\",\"linecolor\":\"white\",\"minorgridcolor\":\"white\",\"startlinecolor\":\"#2a3f5f\"},\"baxis\":{\"endlinecolor\":\"#2a3f5f\",\"gridcolor\":\"white\",\"linecolor\":\"white\",\"minorgridcolor\":\"white\",\"startlinecolor\":\"#2a3f5f\"},\"type\":\"carpet\"}],\"choropleth\":[{\"colorbar\":{\"outlinewidth\":0,\"ticks\":\"\"},\"type\":\"choropleth\"}],\"contour\":[{\"colorbar\":{\"outlinewidth\":0,\"ticks\":\"\"},\"colorscale\":[[0.0,\"#0d0887\"],[0.1111111111111111,\"#46039f\"],[0.2222222222222222,\"#7201a8\"],[0.3333333333333333,\"#9c179e\"],[0.4444444444444444,\"#bd3786\"],[0.5555555555555556,\"#d8576b\"],[0.6666666666666666,\"#ed7953\"],[0.7777777777777778,\"#fb9f3a\"],[0.8888888888888888,\"#fdca26\"],[1.0,\"#f0f921\"]],\"type\":\"contour\"}],\"contourcarpet\":[{\"colorbar\":{\"outlinewidth\":0,\"ticks\":\"\"},\"type\":\"contourcarpet\"}],\"heatmap\":[{\"colorbar\":{\"outlinewidth\":0,\"ticks\":\"\"},\"colorscale\":[[0.0,\"#0d0887\"],[0.1111111111111111,\"#46039f\"],[0.2222222222222222,\"#7201a8\"],[0.3333333333333333,\"#9c179e\"],[0.4444444444444444,\"#bd3786\"],[0.5555555555555556,\"#d8576b\"],[0.6666666666666666,\"#ed7953\"],[0.7777777777777778,\"#fb9f3a\"],[0.8888888888888888,\"#fdca26\"],[1.0,\"#f0f921\"]],\"type\":\"heatmap\"}],\"heatmapgl\":[{\"colorbar\":{\"outlinewidth\":0,\"ticks\":\"\"},\"colorscale\":[[0.0,\"#0d0887\"],[0.1111111111111111,\"#46039f\"],[0.2222222222222222,\"#7201a8\"],[0.3333333333333333,\"#9c179e\"],[0.4444444444444444,\"#bd3786\"],[0.5555555555555556,\"#d8576b\"],[0.6666666666666666,\"#ed7953\"],[0.7777777777777778,\"#fb9f3a\"],[0.8888888888888888,\"#fdca26\"],[1.0,\"#f0f921\"]],\"type\":\"heatmapgl\"}],\"histogram\":[{\"marker\":{\"pattern\":{\"fillmode\":\"overlay\",\"size\":10,\"solidity\":0.2}},\"type\":\"histogram\"}],\"histogram2d\":[{\"colorbar\":{\"outlinewidth\":0,\"ticks\":\"\"},\"colorscale\":[[0.0,\"#0d0887\"],[0.1111111111111111,\"#46039f\"],[0.2222222222222222,\"#7201a8\"],[0.3333333333333333,\"#9c179e\"],[0.4444444444444444,\"#bd3786\"],[0.5555555555555556,\"#d8576b\"],[0.6666666666666666,\"#ed7953\"],[0.7777777777777778,\"#fb9f3a\"],[0.8888888888888888,\"#fdca26\"],[1.0,\"#f0f921\"]],\"type\":\"histogram2d\"}],\"histogram2dcontour\":[{\"colorbar\":{\"outlinewidth\":0,\"ticks\":\"\"},\"colorscale\":[[0.0,\"#0d0887\"],[0.1111111111111111,\"#46039f\"],[0.2222222222222222,\"#7201a8\"],[0.3333333333333333,\"#9c179e\"],[0.4444444444444444,\"#bd3786\"],[0.5555555555555556,\"#d8576b\"],[0.6666666666666666,\"#ed7953\"],[0.7777777777777778,\"#fb9f3a\"],[0.8888888888888888,\"#fdca26\"],[1.0,\"#f0f921\"]],\"type\":\"histogram2dcontour\"}],\"mesh3d\":[{\"colorbar\":{\"outlinewidth\":0,\"ticks\":\"\"},\"type\":\"mesh3d\"}],\"parcoords\":[{\"line\":{\"colorbar\":{\"outlinewidth\":0,\"ticks\":\"\"}},\"type\":\"parcoords\"}],\"pie\":[{\"automargin\":true,\"type\":\"pie\"}],\"scatter\":[{\"marker\":{\"colorbar\":{\"outlinewidth\":0,\"ticks\":\"\"}},\"type\":\"scatter\"}],\"scatter3d\":[{\"line\":{\"colorbar\":{\"outlinewidth\":0,\"ticks\":\"\"}},\"marker\":{\"colorbar\":{\"outlinewidth\":0,\"ticks\":\"\"}},\"type\":\"scatter3d\"}],\"scattercarpet\":[{\"marker\":{\"colorbar\":{\"outlinewidth\":0,\"ticks\":\"\"}},\"type\":\"scattercarpet\"}],\"scattergeo\":[{\"marker\":{\"colorbar\":{\"outlinewidth\":0,\"ticks\":\"\"}},\"type\":\"scattergeo\"}],\"scattergl\":[{\"marker\":{\"colorbar\":{\"outlinewidth\":0,\"ticks\":\"\"}},\"type\":\"scattergl\"}],\"scattermapbox\":[{\"marker\":{\"colorbar\":{\"outlinewidth\":0,\"ticks\":\"\"}},\"type\":\"scattermapbox\"}],\"scatterpolar\":[{\"marker\":{\"colorbar\":{\"outlinewidth\":0,\"ticks\":\"\"}},\"type\":\"scatterpolar\"}],\"scatterpolargl\":[{\"marker\":{\"colorbar\":{\"outlinewidth\":0,\"ticks\":\"\"}},\"type\":\"scatterpolargl\"}],\"scatterternary\":[{\"marker\":{\"colorbar\":{\"outlinewidth\":0,\"ticks\":\"\"}},\"type\":\"scatterternary\"}],\"surface\":[{\"colorbar\":{\"outlinewidth\":0,\"ticks\":\"\"},\"colorscale\":[[0.0,\"#0d0887\"],[0.1111111111111111,\"#46039f\"],[0.2222222222222222,\"#7201a8\"],[0.3333333333333333,\"#9c179e\"],[0.4444444444444444,\"#bd3786\"],[0.5555555555555556,\"#d8576b\"],[0.6666666666666666,\"#ed7953\"],[0.7777777777777778,\"#fb9f3a\"],[0.8888888888888888,\"#fdca26\"],[1.0,\"#f0f921\"]],\"type\":\"surface\"}],\"table\":[{\"cells\":{\"fill\":{\"color\":\"#EBF0F8\"},\"line\":{\"color\":\"white\"}},\"header\":{\"fill\":{\"color\":\"#C8D4E3\"},\"line\":{\"color\":\"white\"}},\"type\":\"table\"}]},\"layout\":{\"annotationdefaults\":{\"arrowcolor\":\"#2a3f5f\",\"arrowhead\":0,\"arrowwidth\":1},\"autotypenumbers\":\"strict\",\"coloraxis\":{\"colorbar\":{\"outlinewidth\":0,\"ticks\":\"\"}},\"colorscale\":{\"diverging\":[[0,\"#8e0152\"],[0.1,\"#c51b7d\"],[0.2,\"#de77ae\"],[0.3,\"#f1b6da\"],[0.4,\"#fde0ef\"],[0.5,\"#f7f7f7\"],[0.6,\"#e6f5d0\"],[0.7,\"#b8e186\"],[0.8,\"#7fbc41\"],[0.9,\"#4d9221\"],[1,\"#276419\"]],\"sequential\":[[0.0,\"#0d0887\"],[0.1111111111111111,\"#46039f\"],[0.2222222222222222,\"#7201a8\"],[0.3333333333333333,\"#9c179e\"],[0.4444444444444444,\"#bd3786\"],[0.5555555555555556,\"#d8576b\"],[0.6666666666666666,\"#ed7953\"],[0.7777777777777778,\"#fb9f3a\"],[0.8888888888888888,\"#fdca26\"],[1.0,\"#f0f921\"]],\"sequentialminus\":[[0.0,\"#0d0887\"],[0.1111111111111111,\"#46039f\"],[0.2222222222222222,\"#7201a8\"],[0.3333333333333333,\"#9c179e\"],[0.4444444444444444,\"#bd3786\"],[0.5555555555555556,\"#d8576b\"],[0.6666666666666666,\"#ed7953\"],[0.7777777777777778,\"#fb9f3a\"],[0.8888888888888888,\"#fdca26\"],[1.0,\"#f0f921\"]]},\"colorway\":[\"#636efa\",\"#EF553B\",\"#00cc96\",\"#ab63fa\",\"#FFA15A\",\"#19d3f3\",\"#FF6692\",\"#B6E880\",\"#FF97FF\",\"#FECB52\"],\"font\":{\"color\":\"#2a3f5f\"},\"geo\":{\"bgcolor\":\"white\",\"lakecolor\":\"white\",\"landcolor\":\"#E5ECF6\",\"showlakes\":true,\"showland\":true,\"subunitcolor\":\"white\"},\"hoverlabel\":{\"align\":\"left\"},\"hovermode\":\"closest\",\"mapbox\":{\"style\":\"light\"},\"paper_bgcolor\":\"white\",\"plot_bgcolor\":\"#E5ECF6\",\"polar\":{\"angularaxis\":{\"gridcolor\":\"white\",\"linecolor\":\"white\",\"ticks\":\"\"},\"bgcolor\":\"#E5ECF6\",\"radialaxis\":{\"gridcolor\":\"white\",\"linecolor\":\"white\",\"ticks\":\"\"}},\"scene\":{\"xaxis\":{\"backgroundcolor\":\"#E5ECF6\",\"gridcolor\":\"white\",\"gridwidth\":2,\"linecolor\":\"white\",\"showbackground\":true,\"ticks\":\"\",\"zerolinecolor\":\"white\"},\"yaxis\":{\"backgroundcolor\":\"#E5ECF6\",\"gridcolor\":\"white\",\"gridwidth\":2,\"linecolor\":\"white\",\"showbackground\":true,\"ticks\":\"\",\"zerolinecolor\":\"white\"},\"zaxis\":{\"backgroundcolor\":\"#E5ECF6\",\"gridcolor\":\"white\",\"gridwidth\":2,\"linecolor\":\"white\",\"showbackground\":true,\"ticks\":\"\",\"zerolinecolor\":\"white\"}},\"shapedefaults\":{\"line\":{\"color\":\"#2a3f5f\"}},\"ternary\":{\"aaxis\":{\"gridcolor\":\"white\",\"linecolor\":\"white\",\"ticks\":\"\"},\"baxis\":{\"gridcolor\":\"white\",\"linecolor\":\"white\",\"ticks\":\"\"},\"bgcolor\":\"#E5ECF6\",\"caxis\":{\"gridcolor\":\"white\",\"linecolor\":\"white\",\"ticks\":\"\"}},\"title\":{\"x\":0.05},\"xaxis\":{\"automargin\":true,\"gridcolor\":\"white\",\"linecolor\":\"white\",\"ticks\":\"\",\"title\":{\"standoff\":15},\"zerolinecolor\":\"white\",\"zerolinewidth\":2},\"yaxis\":{\"automargin\":true,\"gridcolor\":\"white\",\"linecolor\":\"white\",\"ticks\":\"\",\"title\":{\"standoff\":15},\"zerolinecolor\":\"white\",\"zerolinewidth\":2}}},\"xaxis\":{\"title\":{\"text\":\"Timestep\"}},\"yaxis\":{\"title\":{\"text\":\"Demand\"}}},                        {\"responsive\": true}                    ).then(function(){\n",
       "                            \n",
       "var gd = document.getElementById('2c6894ab-5501-4baa-92bd-0e3987d4a670');\n",
       "var x = new MutationObserver(function (mutations, observer) {{\n",
       "        var display = window.getComputedStyle(gd).display;\n",
       "        if (!display || display === 'none') {{\n",
       "            console.log([gd, 'removed!']);\n",
       "            Plotly.purge(gd);\n",
       "            observer.disconnect();\n",
       "        }}\n",
       "}});\n",
       "\n",
       "// Listen for the removal of the full notebook cells\n",
       "var notebookContainer = gd.closest('#notebook-container');\n",
       "if (notebookContainer) {{\n",
       "    x.observe(notebookContainer, {childList: true});\n",
       "}}\n",
       "\n",
       "// Listen for the clearing of the current output cell\n",
       "var outputEl = gd.closest('.output');\n",
       "if (outputEl) {{\n",
       "    x.observe(outputEl, {childList: true});\n",
       "}}\n",
       "\n",
       "                        })                };                });            </script>        </div>"
      ]
     },
     "metadata": {},
     "output_type": "display_data"
    }
   ],
   "source": [
    "a = go.Scatter(y=[x.item() for x in fixed_demands])\n",
    "fig = go.Figure(a)\n",
    "fig.layout.xaxis.title = 'Timestep'\n",
    "fig.layout.yaxis.title = 'Demand'\n",
    "fig"
   ]
  },
  {
   "cell_type": "code",
   "execution_count": 776,
   "id": "972e4661",
   "metadata": {},
   "outputs": [
    {
     "data": {
      "application/vnd.plotly.v1+json": {
       "config": {
        "plotlyServerURL": "https://plot.ly"
       },
       "data": [
        {
         "name": "NNC",
         "type": "scatter",
         "y": [
          0,
          0,
          25,
          8,
          6,
          6,
          6,
          5,
          5,
          5,
          5,
          5,
          5,
          5,
          5,
          5,
          5,
          5,
          6,
          6,
          6,
          33,
          50,
          711,
          9369,
          6858,
          3061,
          4213,
          3069,
          4315,
          8487,
          15861,
          20161,
          33092,
          26842,
          26315,
          31603,
          50013,
          41707,
          72541,
          46650,
          32521,
          21890,
          46039,
          25172,
          53377,
          22676,
          18610,
          30071,
          38520,
          53069,
          70790,
          72233,
          72755,
          52307,
          80968,
          86951,
          65058,
          68262,
          35133,
          41410,
          80962,
          73253,
          87089,
          81399,
          68687,
          73555,
          62461,
          72409,
          81678,
          119707,
          77399,
          63833,
          57446,
          68853,
          79468,
          83908,
          43928,
          91025,
          61531,
          63159,
          48134,
          44013,
          90767,
          64915,
          43542,
          51291,
          66314,
          89067,
          85665,
          44265,
          67741,
          36235,
          23085,
          23359,
          34525,
          12970,
          30050,
          28224,
          28707,
          12578,
          18187,
          25950,
          27062,
          21101,
          17405,
          18128,
          13903,
          10497,
          17453,
          22255,
          21714,
          15784,
          11802,
          13625,
          16393,
          18658
         ]
        },
        {
         "name": "CDI",
         "type": "scatter",
         "y": [
          0,
          0,
          0,
          0,
          0,
          0,
          0,
          0,
          0,
          0,
          0,
          0,
          0,
          0,
          0,
          0,
          0,
          0,
          0,
          0,
          0,
          321,
          83,
          1312,
          7201,
          11239,
          559,
          33933,
          0,
          27946,
          84040,
          0,
          89390,
          16333,
          0,
          5073,
          67754,
          126051,
          0,
          159359,
          0,
          0,
          0,
          76735,
          0,
          91557,
          0,
          0,
          0,
          34315,
          112261,
          110682,
          37325,
          63727,
          6410,
          173593,
          207997,
          0,
          0,
          0,
          0,
          181074,
          1726,
          154084,
          50624,
          62365,
          92095,
          28507,
          113009,
          191378,
          84187,
          3335,
          81376,
          55337,
          89227,
          94636,
          111254,
          0,
          207953,
          0,
          0,
          0,
          20382,
          270200,
          0,
          0,
          0,
          136157,
          188468,
          0,
          0,
          94325,
          0,
          0,
          0,
          5947,
          0,
          10972,
          37462,
          47926,
          0,
          0,
          29773,
          17670,
          43,
          0,
          6892,
          0,
          0,
          72177,
          43871,
          0,
          0,
          0,
          0,
          12103,
          34644
         ]
        }
       ],
       "layout": {
        "template": {
         "data": {
          "bar": [
           {
            "error_x": {
             "color": "#2a3f5f"
            },
            "error_y": {
             "color": "#2a3f5f"
            },
            "marker": {
             "line": {
              "color": "#E5ECF6",
              "width": 0.5
             },
             "pattern": {
              "fillmode": "overlay",
              "size": 10,
              "solidity": 0.2
             }
            },
            "type": "bar"
           }
          ],
          "barpolar": [
           {
            "marker": {
             "line": {
              "color": "#E5ECF6",
              "width": 0.5
             },
             "pattern": {
              "fillmode": "overlay",
              "size": 10,
              "solidity": 0.2
             }
            },
            "type": "barpolar"
           }
          ],
          "carpet": [
           {
            "aaxis": {
             "endlinecolor": "#2a3f5f",
             "gridcolor": "white",
             "linecolor": "white",
             "minorgridcolor": "white",
             "startlinecolor": "#2a3f5f"
            },
            "baxis": {
             "endlinecolor": "#2a3f5f",
             "gridcolor": "white",
             "linecolor": "white",
             "minorgridcolor": "white",
             "startlinecolor": "#2a3f5f"
            },
            "type": "carpet"
           }
          ],
          "choropleth": [
           {
            "colorbar": {
             "outlinewidth": 0,
             "ticks": ""
            },
            "type": "choropleth"
           }
          ],
          "contour": [
           {
            "colorbar": {
             "outlinewidth": 0,
             "ticks": ""
            },
            "colorscale": [
             [
              0,
              "#0d0887"
             ],
             [
              0.1111111111111111,
              "#46039f"
             ],
             [
              0.2222222222222222,
              "#7201a8"
             ],
             [
              0.3333333333333333,
              "#9c179e"
             ],
             [
              0.4444444444444444,
              "#bd3786"
             ],
             [
              0.5555555555555556,
              "#d8576b"
             ],
             [
              0.6666666666666666,
              "#ed7953"
             ],
             [
              0.7777777777777778,
              "#fb9f3a"
             ],
             [
              0.8888888888888888,
              "#fdca26"
             ],
             [
              1,
              "#f0f921"
             ]
            ],
            "type": "contour"
           }
          ],
          "contourcarpet": [
           {
            "colorbar": {
             "outlinewidth": 0,
             "ticks": ""
            },
            "type": "contourcarpet"
           }
          ],
          "heatmap": [
           {
            "colorbar": {
             "outlinewidth": 0,
             "ticks": ""
            },
            "colorscale": [
             [
              0,
              "#0d0887"
             ],
             [
              0.1111111111111111,
              "#46039f"
             ],
             [
              0.2222222222222222,
              "#7201a8"
             ],
             [
              0.3333333333333333,
              "#9c179e"
             ],
             [
              0.4444444444444444,
              "#bd3786"
             ],
             [
              0.5555555555555556,
              "#d8576b"
             ],
             [
              0.6666666666666666,
              "#ed7953"
             ],
             [
              0.7777777777777778,
              "#fb9f3a"
             ],
             [
              0.8888888888888888,
              "#fdca26"
             ],
             [
              1,
              "#f0f921"
             ]
            ],
            "type": "heatmap"
           }
          ],
          "heatmapgl": [
           {
            "colorbar": {
             "outlinewidth": 0,
             "ticks": ""
            },
            "colorscale": [
             [
              0,
              "#0d0887"
             ],
             [
              0.1111111111111111,
              "#46039f"
             ],
             [
              0.2222222222222222,
              "#7201a8"
             ],
             [
              0.3333333333333333,
              "#9c179e"
             ],
             [
              0.4444444444444444,
              "#bd3786"
             ],
             [
              0.5555555555555556,
              "#d8576b"
             ],
             [
              0.6666666666666666,
              "#ed7953"
             ],
             [
              0.7777777777777778,
              "#fb9f3a"
             ],
             [
              0.8888888888888888,
              "#fdca26"
             ],
             [
              1,
              "#f0f921"
             ]
            ],
            "type": "heatmapgl"
           }
          ],
          "histogram": [
           {
            "marker": {
             "pattern": {
              "fillmode": "overlay",
              "size": 10,
              "solidity": 0.2
             }
            },
            "type": "histogram"
           }
          ],
          "histogram2d": [
           {
            "colorbar": {
             "outlinewidth": 0,
             "ticks": ""
            },
            "colorscale": [
             [
              0,
              "#0d0887"
             ],
             [
              0.1111111111111111,
              "#46039f"
             ],
             [
              0.2222222222222222,
              "#7201a8"
             ],
             [
              0.3333333333333333,
              "#9c179e"
             ],
             [
              0.4444444444444444,
              "#bd3786"
             ],
             [
              0.5555555555555556,
              "#d8576b"
             ],
             [
              0.6666666666666666,
              "#ed7953"
             ],
             [
              0.7777777777777778,
              "#fb9f3a"
             ],
             [
              0.8888888888888888,
              "#fdca26"
             ],
             [
              1,
              "#f0f921"
             ]
            ],
            "type": "histogram2d"
           }
          ],
          "histogram2dcontour": [
           {
            "colorbar": {
             "outlinewidth": 0,
             "ticks": ""
            },
            "colorscale": [
             [
              0,
              "#0d0887"
             ],
             [
              0.1111111111111111,
              "#46039f"
             ],
             [
              0.2222222222222222,
              "#7201a8"
             ],
             [
              0.3333333333333333,
              "#9c179e"
             ],
             [
              0.4444444444444444,
              "#bd3786"
             ],
             [
              0.5555555555555556,
              "#d8576b"
             ],
             [
              0.6666666666666666,
              "#ed7953"
             ],
             [
              0.7777777777777778,
              "#fb9f3a"
             ],
             [
              0.8888888888888888,
              "#fdca26"
             ],
             [
              1,
              "#f0f921"
             ]
            ],
            "type": "histogram2dcontour"
           }
          ],
          "mesh3d": [
           {
            "colorbar": {
             "outlinewidth": 0,
             "ticks": ""
            },
            "type": "mesh3d"
           }
          ],
          "parcoords": [
           {
            "line": {
             "colorbar": {
              "outlinewidth": 0,
              "ticks": ""
             }
            },
            "type": "parcoords"
           }
          ],
          "pie": [
           {
            "automargin": true,
            "type": "pie"
           }
          ],
          "scatter": [
           {
            "marker": {
             "colorbar": {
              "outlinewidth": 0,
              "ticks": ""
             }
            },
            "type": "scatter"
           }
          ],
          "scatter3d": [
           {
            "line": {
             "colorbar": {
              "outlinewidth": 0,
              "ticks": ""
             }
            },
            "marker": {
             "colorbar": {
              "outlinewidth": 0,
              "ticks": ""
             }
            },
            "type": "scatter3d"
           }
          ],
          "scattercarpet": [
           {
            "marker": {
             "colorbar": {
              "outlinewidth": 0,
              "ticks": ""
             }
            },
            "type": "scattercarpet"
           }
          ],
          "scattergeo": [
           {
            "marker": {
             "colorbar": {
              "outlinewidth": 0,
              "ticks": ""
             }
            },
            "type": "scattergeo"
           }
          ],
          "scattergl": [
           {
            "marker": {
             "colorbar": {
              "outlinewidth": 0,
              "ticks": ""
             }
            },
            "type": "scattergl"
           }
          ],
          "scattermapbox": [
           {
            "marker": {
             "colorbar": {
              "outlinewidth": 0,
              "ticks": ""
             }
            },
            "type": "scattermapbox"
           }
          ],
          "scatterpolar": [
           {
            "marker": {
             "colorbar": {
              "outlinewidth": 0,
              "ticks": ""
             }
            },
            "type": "scatterpolar"
           }
          ],
          "scatterpolargl": [
           {
            "marker": {
             "colorbar": {
              "outlinewidth": 0,
              "ticks": ""
             }
            },
            "type": "scatterpolargl"
           }
          ],
          "scatterternary": [
           {
            "marker": {
             "colorbar": {
              "outlinewidth": 0,
              "ticks": ""
             }
            },
            "type": "scatterternary"
           }
          ],
          "surface": [
           {
            "colorbar": {
             "outlinewidth": 0,
             "ticks": ""
            },
            "colorscale": [
             [
              0,
              "#0d0887"
             ],
             [
              0.1111111111111111,
              "#46039f"
             ],
             [
              0.2222222222222222,
              "#7201a8"
             ],
             [
              0.3333333333333333,
              "#9c179e"
             ],
             [
              0.4444444444444444,
              "#bd3786"
             ],
             [
              0.5555555555555556,
              "#d8576b"
             ],
             [
              0.6666666666666666,
              "#ed7953"
             ],
             [
              0.7777777777777778,
              "#fb9f3a"
             ],
             [
              0.8888888888888888,
              "#fdca26"
             ],
             [
              1,
              "#f0f921"
             ]
            ],
            "type": "surface"
           }
          ],
          "table": [
           {
            "cells": {
             "fill": {
              "color": "#EBF0F8"
             },
             "line": {
              "color": "white"
             }
            },
            "header": {
             "fill": {
              "color": "#C8D4E3"
             },
             "line": {
              "color": "white"
             }
            },
            "type": "table"
           }
          ]
         },
         "layout": {
          "annotationdefaults": {
           "arrowcolor": "#2a3f5f",
           "arrowhead": 0,
           "arrowwidth": 1
          },
          "autotypenumbers": "strict",
          "coloraxis": {
           "colorbar": {
            "outlinewidth": 0,
            "ticks": ""
           }
          },
          "colorscale": {
           "diverging": [
            [
             0,
             "#8e0152"
            ],
            [
             0.1,
             "#c51b7d"
            ],
            [
             0.2,
             "#de77ae"
            ],
            [
             0.3,
             "#f1b6da"
            ],
            [
             0.4,
             "#fde0ef"
            ],
            [
             0.5,
             "#f7f7f7"
            ],
            [
             0.6,
             "#e6f5d0"
            ],
            [
             0.7,
             "#b8e186"
            ],
            [
             0.8,
             "#7fbc41"
            ],
            [
             0.9,
             "#4d9221"
            ],
            [
             1,
             "#276419"
            ]
           ],
           "sequential": [
            [
             0,
             "#0d0887"
            ],
            [
             0.1111111111111111,
             "#46039f"
            ],
            [
             0.2222222222222222,
             "#7201a8"
            ],
            [
             0.3333333333333333,
             "#9c179e"
            ],
            [
             0.4444444444444444,
             "#bd3786"
            ],
            [
             0.5555555555555556,
             "#d8576b"
            ],
            [
             0.6666666666666666,
             "#ed7953"
            ],
            [
             0.7777777777777778,
             "#fb9f3a"
            ],
            [
             0.8888888888888888,
             "#fdca26"
            ],
            [
             1,
             "#f0f921"
            ]
           ],
           "sequentialminus": [
            [
             0,
             "#0d0887"
            ],
            [
             0.1111111111111111,
             "#46039f"
            ],
            [
             0.2222222222222222,
             "#7201a8"
            ],
            [
             0.3333333333333333,
             "#9c179e"
            ],
            [
             0.4444444444444444,
             "#bd3786"
            ],
            [
             0.5555555555555556,
             "#d8576b"
            ],
            [
             0.6666666666666666,
             "#ed7953"
            ],
            [
             0.7777777777777778,
             "#fb9f3a"
            ],
            [
             0.8888888888888888,
             "#fdca26"
            ],
            [
             1,
             "#f0f921"
            ]
           ]
          },
          "colorway": [
           "#636efa",
           "#EF553B",
           "#00cc96",
           "#ab63fa",
           "#FFA15A",
           "#19d3f3",
           "#FF6692",
           "#B6E880",
           "#FF97FF",
           "#FECB52"
          ],
          "font": {
           "color": "#2a3f5f"
          },
          "geo": {
           "bgcolor": "white",
           "lakecolor": "white",
           "landcolor": "#E5ECF6",
           "showlakes": true,
           "showland": true,
           "subunitcolor": "white"
          },
          "hoverlabel": {
           "align": "left"
          },
          "hovermode": "closest",
          "mapbox": {
           "style": "light"
          },
          "paper_bgcolor": "white",
          "plot_bgcolor": "#E5ECF6",
          "polar": {
           "angularaxis": {
            "gridcolor": "white",
            "linecolor": "white",
            "ticks": ""
           },
           "bgcolor": "#E5ECF6",
           "radialaxis": {
            "gridcolor": "white",
            "linecolor": "white",
            "ticks": ""
           }
          },
          "scene": {
           "xaxis": {
            "backgroundcolor": "#E5ECF6",
            "gridcolor": "white",
            "gridwidth": 2,
            "linecolor": "white",
            "showbackground": true,
            "ticks": "",
            "zerolinecolor": "white"
           },
           "yaxis": {
            "backgroundcolor": "#E5ECF6",
            "gridcolor": "white",
            "gridwidth": 2,
            "linecolor": "white",
            "showbackground": true,
            "ticks": "",
            "zerolinecolor": "white"
           },
           "zaxis": {
            "backgroundcolor": "#E5ECF6",
            "gridcolor": "white",
            "gridwidth": 2,
            "linecolor": "white",
            "showbackground": true,
            "ticks": "",
            "zerolinecolor": "white"
           }
          },
          "shapedefaults": {
           "line": {
            "color": "#2a3f5f"
           }
          },
          "ternary": {
           "aaxis": {
            "gridcolor": "white",
            "linecolor": "white",
            "ticks": ""
           },
           "baxis": {
            "gridcolor": "white",
            "linecolor": "white",
            "ticks": ""
           },
           "bgcolor": "#E5ECF6",
           "caxis": {
            "gridcolor": "white",
            "linecolor": "white",
            "ticks": ""
           }
          },
          "title": {
           "x": 0.05
          },
          "xaxis": {
           "automargin": true,
           "gridcolor": "white",
           "linecolor": "white",
           "ticks": "",
           "title": {
            "standoff": 15
           },
           "zerolinecolor": "white",
           "zerolinewidth": 2
          },
          "yaxis": {
           "automargin": true,
           "gridcolor": "white",
           "linecolor": "white",
           "ticks": "",
           "title": {
            "standoff": 15
           },
           "zerolinecolor": "white",
           "zerolinewidth": 2
          }
         }
        },
        "xaxis": {
         "title": {
          "text": "Timestep"
         }
        },
        "yaxis": {
         "title": {
          "text": "Regular Order"
         }
        }
       }
      },
      "text/html": [
       "<div>                            <div id=\"aceaed75-696e-4721-b466-98e52115cbd5\" class=\"plotly-graph-div\" style=\"height:525px; width:100%;\"></div>            <script type=\"text/javascript\">                require([\"plotly\"], function(Plotly) {                    window.PLOTLYENV=window.PLOTLYENV || {};                                    if (document.getElementById(\"aceaed75-696e-4721-b466-98e52115cbd5\")) {                    Plotly.newPlot(                        \"aceaed75-696e-4721-b466-98e52115cbd5\",                        [{\"name\":\"NNC\",\"type\":\"scatter\",\"y\":[0.0,0.0,25.0,8.0,6.0,6.0,6.0,5.0,5.0,5.0,5.0,5.0,5.0,5.0,5.0,5.0,5.0,5.0,6.0,6.0,6.0,33.0,50.0,711.0,9369.0,6858.0,3061.0,4213.0,3069.0,4315.0,8487.0,15861.0,20161.0,33092.0,26842.0,26315.0,31603.0,50013.0,41707.0,72541.0,46650.0,32521.0,21890.0,46039.0,25172.0,53377.0,22676.0,18610.0,30071.0,38520.0,53069.0,70790.0,72233.0,72755.0,52307.0,80968.0,86951.0,65058.0,68262.0,35133.0,41410.0,80962.0,73253.0,87089.0,81399.0,68687.0,73555.0,62461.0,72409.0,81678.0,119707.0,77399.0,63833.0,57446.0,68853.0,79468.0,83908.0,43928.0,91025.0,61531.0,63159.0,48134.0,44013.0,90767.0,64915.0,43542.0,51291.0,66314.0,89067.0,85665.0,44265.0,67741.0,36235.0,23085.0,23359.0,34525.0,12970.0,30050.0,28224.0,28707.0,12578.0,18187.0,25950.0,27062.0,21101.0,17405.0,18128.0,13903.0,10497.0,17453.0,22255.0,21714.0,15784.0,11802.0,13625.0,16393.0,18658.0]},{\"name\":\"CDI\",\"type\":\"scatter\",\"y\":[0,0,0,0,0,0,0,0,0,0,0,0,0,0,0,0,0,0,0,0,0,321,83,1312,7201,11239,559,33933,0,27946,84040,0,89390,16333,0,5073,67754,126051,0,159359,0,0,0,76735,0,91557,0,0,0,34315,112261,110682,37325,63727,6410,173593,207997,0,0,0,0,181074,1726,154084,50624,62365,92095,28507,113009,191378,84187,3335,81376,55337,89227,94636,111254,0,207953,0,0,0,20382,270200,0,0,0,136157,188468,0,0,94325,0,0,0,5947,0,10972,37462,47926,0,0,29773,17670,43,0,6892,0,0,72177,43871,0,0,0,0,12103,34644]}],                        {\"template\":{\"data\":{\"bar\":[{\"error_x\":{\"color\":\"#2a3f5f\"},\"error_y\":{\"color\":\"#2a3f5f\"},\"marker\":{\"line\":{\"color\":\"#E5ECF6\",\"width\":0.5},\"pattern\":{\"fillmode\":\"overlay\",\"size\":10,\"solidity\":0.2}},\"type\":\"bar\"}],\"barpolar\":[{\"marker\":{\"line\":{\"color\":\"#E5ECF6\",\"width\":0.5},\"pattern\":{\"fillmode\":\"overlay\",\"size\":10,\"solidity\":0.2}},\"type\":\"barpolar\"}],\"carpet\":[{\"aaxis\":{\"endlinecolor\":\"#2a3f5f\",\"gridcolor\":\"white\",\"linecolor\":\"white\",\"minorgridcolor\":\"white\",\"startlinecolor\":\"#2a3f5f\"},\"baxis\":{\"endlinecolor\":\"#2a3f5f\",\"gridcolor\":\"white\",\"linecolor\":\"white\",\"minorgridcolor\":\"white\",\"startlinecolor\":\"#2a3f5f\"},\"type\":\"carpet\"}],\"choropleth\":[{\"colorbar\":{\"outlinewidth\":0,\"ticks\":\"\"},\"type\":\"choropleth\"}],\"contour\":[{\"colorbar\":{\"outlinewidth\":0,\"ticks\":\"\"},\"colorscale\":[[0.0,\"#0d0887\"],[0.1111111111111111,\"#46039f\"],[0.2222222222222222,\"#7201a8\"],[0.3333333333333333,\"#9c179e\"],[0.4444444444444444,\"#bd3786\"],[0.5555555555555556,\"#d8576b\"],[0.6666666666666666,\"#ed7953\"],[0.7777777777777778,\"#fb9f3a\"],[0.8888888888888888,\"#fdca26\"],[1.0,\"#f0f921\"]],\"type\":\"contour\"}],\"contourcarpet\":[{\"colorbar\":{\"outlinewidth\":0,\"ticks\":\"\"},\"type\":\"contourcarpet\"}],\"heatmap\":[{\"colorbar\":{\"outlinewidth\":0,\"ticks\":\"\"},\"colorscale\":[[0.0,\"#0d0887\"],[0.1111111111111111,\"#46039f\"],[0.2222222222222222,\"#7201a8\"],[0.3333333333333333,\"#9c179e\"],[0.4444444444444444,\"#bd3786\"],[0.5555555555555556,\"#d8576b\"],[0.6666666666666666,\"#ed7953\"],[0.7777777777777778,\"#fb9f3a\"],[0.8888888888888888,\"#fdca26\"],[1.0,\"#f0f921\"]],\"type\":\"heatmap\"}],\"heatmapgl\":[{\"colorbar\":{\"outlinewidth\":0,\"ticks\":\"\"},\"colorscale\":[[0.0,\"#0d0887\"],[0.1111111111111111,\"#46039f\"],[0.2222222222222222,\"#7201a8\"],[0.3333333333333333,\"#9c179e\"],[0.4444444444444444,\"#bd3786\"],[0.5555555555555556,\"#d8576b\"],[0.6666666666666666,\"#ed7953\"],[0.7777777777777778,\"#fb9f3a\"],[0.8888888888888888,\"#fdca26\"],[1.0,\"#f0f921\"]],\"type\":\"heatmapgl\"}],\"histogram\":[{\"marker\":{\"pattern\":{\"fillmode\":\"overlay\",\"size\":10,\"solidity\":0.2}},\"type\":\"histogram\"}],\"histogram2d\":[{\"colorbar\":{\"outlinewidth\":0,\"ticks\":\"\"},\"colorscale\":[[0.0,\"#0d0887\"],[0.1111111111111111,\"#46039f\"],[0.2222222222222222,\"#7201a8\"],[0.3333333333333333,\"#9c179e\"],[0.4444444444444444,\"#bd3786\"],[0.5555555555555556,\"#d8576b\"],[0.6666666666666666,\"#ed7953\"],[0.7777777777777778,\"#fb9f3a\"],[0.8888888888888888,\"#fdca26\"],[1.0,\"#f0f921\"]],\"type\":\"histogram2d\"}],\"histogram2dcontour\":[{\"colorbar\":{\"outlinewidth\":0,\"ticks\":\"\"},\"colorscale\":[[0.0,\"#0d0887\"],[0.1111111111111111,\"#46039f\"],[0.2222222222222222,\"#7201a8\"],[0.3333333333333333,\"#9c179e\"],[0.4444444444444444,\"#bd3786\"],[0.5555555555555556,\"#d8576b\"],[0.6666666666666666,\"#ed7953\"],[0.7777777777777778,\"#fb9f3a\"],[0.8888888888888888,\"#fdca26\"],[1.0,\"#f0f921\"]],\"type\":\"histogram2dcontour\"}],\"mesh3d\":[{\"colorbar\":{\"outlinewidth\":0,\"ticks\":\"\"},\"type\":\"mesh3d\"}],\"parcoords\":[{\"line\":{\"colorbar\":{\"outlinewidth\":0,\"ticks\":\"\"}},\"type\":\"parcoords\"}],\"pie\":[{\"automargin\":true,\"type\":\"pie\"}],\"scatter\":[{\"marker\":{\"colorbar\":{\"outlinewidth\":0,\"ticks\":\"\"}},\"type\":\"scatter\"}],\"scatter3d\":[{\"line\":{\"colorbar\":{\"outlinewidth\":0,\"ticks\":\"\"}},\"marker\":{\"colorbar\":{\"outlinewidth\":0,\"ticks\":\"\"}},\"type\":\"scatter3d\"}],\"scattercarpet\":[{\"marker\":{\"colorbar\":{\"outlinewidth\":0,\"ticks\":\"\"}},\"type\":\"scattercarpet\"}],\"scattergeo\":[{\"marker\":{\"colorbar\":{\"outlinewidth\":0,\"ticks\":\"\"}},\"type\":\"scattergeo\"}],\"scattergl\":[{\"marker\":{\"colorbar\":{\"outlinewidth\":0,\"ticks\":\"\"}},\"type\":\"scattergl\"}],\"scattermapbox\":[{\"marker\":{\"colorbar\":{\"outlinewidth\":0,\"ticks\":\"\"}},\"type\":\"scattermapbox\"}],\"scatterpolar\":[{\"marker\":{\"colorbar\":{\"outlinewidth\":0,\"ticks\":\"\"}},\"type\":\"scatterpolar\"}],\"scatterpolargl\":[{\"marker\":{\"colorbar\":{\"outlinewidth\":0,\"ticks\":\"\"}},\"type\":\"scatterpolargl\"}],\"scatterternary\":[{\"marker\":{\"colorbar\":{\"outlinewidth\":0,\"ticks\":\"\"}},\"type\":\"scatterternary\"}],\"surface\":[{\"colorbar\":{\"outlinewidth\":0,\"ticks\":\"\"},\"colorscale\":[[0.0,\"#0d0887\"],[0.1111111111111111,\"#46039f\"],[0.2222222222222222,\"#7201a8\"],[0.3333333333333333,\"#9c179e\"],[0.4444444444444444,\"#bd3786\"],[0.5555555555555556,\"#d8576b\"],[0.6666666666666666,\"#ed7953\"],[0.7777777777777778,\"#fb9f3a\"],[0.8888888888888888,\"#fdca26\"],[1.0,\"#f0f921\"]],\"type\":\"surface\"}],\"table\":[{\"cells\":{\"fill\":{\"color\":\"#EBF0F8\"},\"line\":{\"color\":\"white\"}},\"header\":{\"fill\":{\"color\":\"#C8D4E3\"},\"line\":{\"color\":\"white\"}},\"type\":\"table\"}]},\"layout\":{\"annotationdefaults\":{\"arrowcolor\":\"#2a3f5f\",\"arrowhead\":0,\"arrowwidth\":1},\"autotypenumbers\":\"strict\",\"coloraxis\":{\"colorbar\":{\"outlinewidth\":0,\"ticks\":\"\"}},\"colorscale\":{\"diverging\":[[0,\"#8e0152\"],[0.1,\"#c51b7d\"],[0.2,\"#de77ae\"],[0.3,\"#f1b6da\"],[0.4,\"#fde0ef\"],[0.5,\"#f7f7f7\"],[0.6,\"#e6f5d0\"],[0.7,\"#b8e186\"],[0.8,\"#7fbc41\"],[0.9,\"#4d9221\"],[1,\"#276419\"]],\"sequential\":[[0.0,\"#0d0887\"],[0.1111111111111111,\"#46039f\"],[0.2222222222222222,\"#7201a8\"],[0.3333333333333333,\"#9c179e\"],[0.4444444444444444,\"#bd3786\"],[0.5555555555555556,\"#d8576b\"],[0.6666666666666666,\"#ed7953\"],[0.7777777777777778,\"#fb9f3a\"],[0.8888888888888888,\"#fdca26\"],[1.0,\"#f0f921\"]],\"sequentialminus\":[[0.0,\"#0d0887\"],[0.1111111111111111,\"#46039f\"],[0.2222222222222222,\"#7201a8\"],[0.3333333333333333,\"#9c179e\"],[0.4444444444444444,\"#bd3786\"],[0.5555555555555556,\"#d8576b\"],[0.6666666666666666,\"#ed7953\"],[0.7777777777777778,\"#fb9f3a\"],[0.8888888888888888,\"#fdca26\"],[1.0,\"#f0f921\"]]},\"colorway\":[\"#636efa\",\"#EF553B\",\"#00cc96\",\"#ab63fa\",\"#FFA15A\",\"#19d3f3\",\"#FF6692\",\"#B6E880\",\"#FF97FF\",\"#FECB52\"],\"font\":{\"color\":\"#2a3f5f\"},\"geo\":{\"bgcolor\":\"white\",\"lakecolor\":\"white\",\"landcolor\":\"#E5ECF6\",\"showlakes\":true,\"showland\":true,\"subunitcolor\":\"white\"},\"hoverlabel\":{\"align\":\"left\"},\"hovermode\":\"closest\",\"mapbox\":{\"style\":\"light\"},\"paper_bgcolor\":\"white\",\"plot_bgcolor\":\"#E5ECF6\",\"polar\":{\"angularaxis\":{\"gridcolor\":\"white\",\"linecolor\":\"white\",\"ticks\":\"\"},\"bgcolor\":\"#E5ECF6\",\"radialaxis\":{\"gridcolor\":\"white\",\"linecolor\":\"white\",\"ticks\":\"\"}},\"scene\":{\"xaxis\":{\"backgroundcolor\":\"#E5ECF6\",\"gridcolor\":\"white\",\"gridwidth\":2,\"linecolor\":\"white\",\"showbackground\":true,\"ticks\":\"\",\"zerolinecolor\":\"white\"},\"yaxis\":{\"backgroundcolor\":\"#E5ECF6\",\"gridcolor\":\"white\",\"gridwidth\":2,\"linecolor\":\"white\",\"showbackground\":true,\"ticks\":\"\",\"zerolinecolor\":\"white\"},\"zaxis\":{\"backgroundcolor\":\"#E5ECF6\",\"gridcolor\":\"white\",\"gridwidth\":2,\"linecolor\":\"white\",\"showbackground\":true,\"ticks\":\"\",\"zerolinecolor\":\"white\"}},\"shapedefaults\":{\"line\":{\"color\":\"#2a3f5f\"}},\"ternary\":{\"aaxis\":{\"gridcolor\":\"white\",\"linecolor\":\"white\",\"ticks\":\"\"},\"baxis\":{\"gridcolor\":\"white\",\"linecolor\":\"white\",\"ticks\":\"\"},\"bgcolor\":\"#E5ECF6\",\"caxis\":{\"gridcolor\":\"white\",\"linecolor\":\"white\",\"ticks\":\"\"}},\"title\":{\"x\":0.05},\"xaxis\":{\"automargin\":true,\"gridcolor\":\"white\",\"linecolor\":\"white\",\"ticks\":\"\",\"title\":{\"standoff\":15},\"zerolinecolor\":\"white\",\"zerolinewidth\":2},\"yaxis\":{\"automargin\":true,\"gridcolor\":\"white\",\"linecolor\":\"white\",\"ticks\":\"\",\"title\":{\"standoff\":15},\"zerolinecolor\":\"white\",\"zerolinewidth\":2}}},\"xaxis\":{\"title\":{\"text\":\"Timestep\"}},\"yaxis\":{\"title\":{\"text\":\"Regular Order\"}}},                        {\"responsive\": true}                    ).then(function(){\n",
       "                            \n",
       "var gd = document.getElementById('aceaed75-696e-4721-b466-98e52115cbd5');\n",
       "var x = new MutationObserver(function (mutations, observer) {{\n",
       "        var display = window.getComputedStyle(gd).display;\n",
       "        if (!display || display === 'none') {{\n",
       "            console.log([gd, 'removed!']);\n",
       "            Plotly.purge(gd);\n",
       "            observer.disconnect();\n",
       "        }}\n",
       "}});\n",
       "\n",
       "// Listen for the removal of the full notebook cells\n",
       "var notebookContainer = gd.closest('#notebook-container');\n",
       "if (notebookContainer) {{\n",
       "    x.observe(notebookContainer, {childList: true});\n",
       "}}\n",
       "\n",
       "// Listen for the clearing of the current output cell\n",
       "var outputEl = gd.closest('.output');\n",
       "if (outputEl) {{\n",
       "    x.observe(outputEl, {childList: true});\n",
       "}}\n",
       "\n",
       "                        })                };                });            </script>        </div>"
      ]
     },
     "metadata": {},
     "output_type": "display_data"
    }
   ],
   "source": [
    "a = go.Scatter(y=[x.item() for x in nn_qr[1:]], name='NNC')\n",
    "b = go.Scatter(y=cdi_qr, name='CDI')\n",
    "fig = go.Figure([a,b])\n",
    "fig.layout.xaxis.title = 'Timestep'\n",
    "fig.layout.yaxis.title = 'Regular Order'\n",
    "#fig.update_yaxes(range = [0,100])\n",
    "fig"
   ]
  },
  {
   "cell_type": "code",
   "execution_count": 777,
   "id": "8cebf42e",
   "metadata": {},
   "outputs": [
    {
     "data": {
      "application/vnd.plotly.v1+json": {
       "config": {
        "plotlyServerURL": "https://plot.ly"
       },
       "data": [
        {
         "name": "NNC",
         "type": "scatter",
         "y": [
          32,
          1,
          0,
          0,
          0,
          0,
          0,
          0,
          0,
          0,
          0,
          0,
          0,
          0,
          0,
          0,
          0,
          0,
          0,
          103,
          111,
          982,
          8961,
          3764,
          0,
          12481,
          0,
          14493,
          27119,
          10337,
          47488,
          23664,
          8691,
          8173,
          12986,
          25060,
          21762,
          30416,
          14218,
          0,
          0,
          0,
          0,
          0,
          0,
          0,
          0,
          0,
          0,
          14745,
          12434,
          0,
          0,
          8777,
          52835,
          30139,
          9157,
          0,
          0,
          22920,
          12427,
          14712,
          1100,
          12793,
          0,
          0,
          13408,
          39529,
          99118,
          30214,
          0,
          0,
          0,
          4911,
          0,
          0,
          24163,
          0,
          0,
          0,
          0,
          0,
          0,
          0,
          0,
          0,
          32105,
          19407,
          0,
          0,
          0,
          0,
          0,
          0,
          0,
          0,
          0,
          0,
          0,
          0,
          0,
          0,
          0,
          0,
          0,
          0,
          0,
          0,
          0,
          0,
          0,
          0,
          0,
          0,
          0
         ]
        },
        {
         "name": "CDI",
         "type": "scatter",
         "y": [
          0,
          0,
          0,
          0,
          0,
          0,
          0,
          0,
          0,
          0,
          0,
          0,
          0,
          0,
          0,
          0,
          0,
          0,
          0,
          320,
          83,
          729,
          6819,
          6500,
          315,
          14189,
          0,
          0,
          29765,
          0,
          0,
          15866,
          0,
          0,
          0,
          54369,
          0,
          0,
          0,
          0,
          0,
          0,
          0,
          0,
          0,
          0,
          0,
          0,
          0,
          34005,
          0,
          0,
          0,
          0,
          138408,
          0,
          0,
          0,
          0,
          0,
          0,
          0,
          0,
          0,
          0,
          0,
          0,
          80380,
          53412,
          0,
          0,
          0,
          0,
          0,
          0,
          0,
          0,
          0,
          0,
          0,
          0,
          18887,
          13499,
          0,
          0,
          0,
          79128,
          0,
          0,
          0,
          0,
          0,
          0,
          0,
          0,
          0,
          0,
          0,
          0,
          0,
          0,
          0,
          0,
          0,
          0,
          0,
          0,
          2597,
          33237,
          0,
          0,
          0,
          0,
          0,
          0
         ]
        }
       ],
       "layout": {
        "template": {
         "data": {
          "bar": [
           {
            "error_x": {
             "color": "#2a3f5f"
            },
            "error_y": {
             "color": "#2a3f5f"
            },
            "marker": {
             "line": {
              "color": "#E5ECF6",
              "width": 0.5
             },
             "pattern": {
              "fillmode": "overlay",
              "size": 10,
              "solidity": 0.2
             }
            },
            "type": "bar"
           }
          ],
          "barpolar": [
           {
            "marker": {
             "line": {
              "color": "#E5ECF6",
              "width": 0.5
             },
             "pattern": {
              "fillmode": "overlay",
              "size": 10,
              "solidity": 0.2
             }
            },
            "type": "barpolar"
           }
          ],
          "carpet": [
           {
            "aaxis": {
             "endlinecolor": "#2a3f5f",
             "gridcolor": "white",
             "linecolor": "white",
             "minorgridcolor": "white",
             "startlinecolor": "#2a3f5f"
            },
            "baxis": {
             "endlinecolor": "#2a3f5f",
             "gridcolor": "white",
             "linecolor": "white",
             "minorgridcolor": "white",
             "startlinecolor": "#2a3f5f"
            },
            "type": "carpet"
           }
          ],
          "choropleth": [
           {
            "colorbar": {
             "outlinewidth": 0,
             "ticks": ""
            },
            "type": "choropleth"
           }
          ],
          "contour": [
           {
            "colorbar": {
             "outlinewidth": 0,
             "ticks": ""
            },
            "colorscale": [
             [
              0,
              "#0d0887"
             ],
             [
              0.1111111111111111,
              "#46039f"
             ],
             [
              0.2222222222222222,
              "#7201a8"
             ],
             [
              0.3333333333333333,
              "#9c179e"
             ],
             [
              0.4444444444444444,
              "#bd3786"
             ],
             [
              0.5555555555555556,
              "#d8576b"
             ],
             [
              0.6666666666666666,
              "#ed7953"
             ],
             [
              0.7777777777777778,
              "#fb9f3a"
             ],
             [
              0.8888888888888888,
              "#fdca26"
             ],
             [
              1,
              "#f0f921"
             ]
            ],
            "type": "contour"
           }
          ],
          "contourcarpet": [
           {
            "colorbar": {
             "outlinewidth": 0,
             "ticks": ""
            },
            "type": "contourcarpet"
           }
          ],
          "heatmap": [
           {
            "colorbar": {
             "outlinewidth": 0,
             "ticks": ""
            },
            "colorscale": [
             [
              0,
              "#0d0887"
             ],
             [
              0.1111111111111111,
              "#46039f"
             ],
             [
              0.2222222222222222,
              "#7201a8"
             ],
             [
              0.3333333333333333,
              "#9c179e"
             ],
             [
              0.4444444444444444,
              "#bd3786"
             ],
             [
              0.5555555555555556,
              "#d8576b"
             ],
             [
              0.6666666666666666,
              "#ed7953"
             ],
             [
              0.7777777777777778,
              "#fb9f3a"
             ],
             [
              0.8888888888888888,
              "#fdca26"
             ],
             [
              1,
              "#f0f921"
             ]
            ],
            "type": "heatmap"
           }
          ],
          "heatmapgl": [
           {
            "colorbar": {
             "outlinewidth": 0,
             "ticks": ""
            },
            "colorscale": [
             [
              0,
              "#0d0887"
             ],
             [
              0.1111111111111111,
              "#46039f"
             ],
             [
              0.2222222222222222,
              "#7201a8"
             ],
             [
              0.3333333333333333,
              "#9c179e"
             ],
             [
              0.4444444444444444,
              "#bd3786"
             ],
             [
              0.5555555555555556,
              "#d8576b"
             ],
             [
              0.6666666666666666,
              "#ed7953"
             ],
             [
              0.7777777777777778,
              "#fb9f3a"
             ],
             [
              0.8888888888888888,
              "#fdca26"
             ],
             [
              1,
              "#f0f921"
             ]
            ],
            "type": "heatmapgl"
           }
          ],
          "histogram": [
           {
            "marker": {
             "pattern": {
              "fillmode": "overlay",
              "size": 10,
              "solidity": 0.2
             }
            },
            "type": "histogram"
           }
          ],
          "histogram2d": [
           {
            "colorbar": {
             "outlinewidth": 0,
             "ticks": ""
            },
            "colorscale": [
             [
              0,
              "#0d0887"
             ],
             [
              0.1111111111111111,
              "#46039f"
             ],
             [
              0.2222222222222222,
              "#7201a8"
             ],
             [
              0.3333333333333333,
              "#9c179e"
             ],
             [
              0.4444444444444444,
              "#bd3786"
             ],
             [
              0.5555555555555556,
              "#d8576b"
             ],
             [
              0.6666666666666666,
              "#ed7953"
             ],
             [
              0.7777777777777778,
              "#fb9f3a"
             ],
             [
              0.8888888888888888,
              "#fdca26"
             ],
             [
              1,
              "#f0f921"
             ]
            ],
            "type": "histogram2d"
           }
          ],
          "histogram2dcontour": [
           {
            "colorbar": {
             "outlinewidth": 0,
             "ticks": ""
            },
            "colorscale": [
             [
              0,
              "#0d0887"
             ],
             [
              0.1111111111111111,
              "#46039f"
             ],
             [
              0.2222222222222222,
              "#7201a8"
             ],
             [
              0.3333333333333333,
              "#9c179e"
             ],
             [
              0.4444444444444444,
              "#bd3786"
             ],
             [
              0.5555555555555556,
              "#d8576b"
             ],
             [
              0.6666666666666666,
              "#ed7953"
             ],
             [
              0.7777777777777778,
              "#fb9f3a"
             ],
             [
              0.8888888888888888,
              "#fdca26"
             ],
             [
              1,
              "#f0f921"
             ]
            ],
            "type": "histogram2dcontour"
           }
          ],
          "mesh3d": [
           {
            "colorbar": {
             "outlinewidth": 0,
             "ticks": ""
            },
            "type": "mesh3d"
           }
          ],
          "parcoords": [
           {
            "line": {
             "colorbar": {
              "outlinewidth": 0,
              "ticks": ""
             }
            },
            "type": "parcoords"
           }
          ],
          "pie": [
           {
            "automargin": true,
            "type": "pie"
           }
          ],
          "scatter": [
           {
            "marker": {
             "colorbar": {
              "outlinewidth": 0,
              "ticks": ""
             }
            },
            "type": "scatter"
           }
          ],
          "scatter3d": [
           {
            "line": {
             "colorbar": {
              "outlinewidth": 0,
              "ticks": ""
             }
            },
            "marker": {
             "colorbar": {
              "outlinewidth": 0,
              "ticks": ""
             }
            },
            "type": "scatter3d"
           }
          ],
          "scattercarpet": [
           {
            "marker": {
             "colorbar": {
              "outlinewidth": 0,
              "ticks": ""
             }
            },
            "type": "scattercarpet"
           }
          ],
          "scattergeo": [
           {
            "marker": {
             "colorbar": {
              "outlinewidth": 0,
              "ticks": ""
             }
            },
            "type": "scattergeo"
           }
          ],
          "scattergl": [
           {
            "marker": {
             "colorbar": {
              "outlinewidth": 0,
              "ticks": ""
             }
            },
            "type": "scattergl"
           }
          ],
          "scattermapbox": [
           {
            "marker": {
             "colorbar": {
              "outlinewidth": 0,
              "ticks": ""
             }
            },
            "type": "scattermapbox"
           }
          ],
          "scatterpolar": [
           {
            "marker": {
             "colorbar": {
              "outlinewidth": 0,
              "ticks": ""
             }
            },
            "type": "scatterpolar"
           }
          ],
          "scatterpolargl": [
           {
            "marker": {
             "colorbar": {
              "outlinewidth": 0,
              "ticks": ""
             }
            },
            "type": "scatterpolargl"
           }
          ],
          "scatterternary": [
           {
            "marker": {
             "colorbar": {
              "outlinewidth": 0,
              "ticks": ""
             }
            },
            "type": "scatterternary"
           }
          ],
          "surface": [
           {
            "colorbar": {
             "outlinewidth": 0,
             "ticks": ""
            },
            "colorscale": [
             [
              0,
              "#0d0887"
             ],
             [
              0.1111111111111111,
              "#46039f"
             ],
             [
              0.2222222222222222,
              "#7201a8"
             ],
             [
              0.3333333333333333,
              "#9c179e"
             ],
             [
              0.4444444444444444,
              "#bd3786"
             ],
             [
              0.5555555555555556,
              "#d8576b"
             ],
             [
              0.6666666666666666,
              "#ed7953"
             ],
             [
              0.7777777777777778,
              "#fb9f3a"
             ],
             [
              0.8888888888888888,
              "#fdca26"
             ],
             [
              1,
              "#f0f921"
             ]
            ],
            "type": "surface"
           }
          ],
          "table": [
           {
            "cells": {
             "fill": {
              "color": "#EBF0F8"
             },
             "line": {
              "color": "white"
             }
            },
            "header": {
             "fill": {
              "color": "#C8D4E3"
             },
             "line": {
              "color": "white"
             }
            },
            "type": "table"
           }
          ]
         },
         "layout": {
          "annotationdefaults": {
           "arrowcolor": "#2a3f5f",
           "arrowhead": 0,
           "arrowwidth": 1
          },
          "autotypenumbers": "strict",
          "coloraxis": {
           "colorbar": {
            "outlinewidth": 0,
            "ticks": ""
           }
          },
          "colorscale": {
           "diverging": [
            [
             0,
             "#8e0152"
            ],
            [
             0.1,
             "#c51b7d"
            ],
            [
             0.2,
             "#de77ae"
            ],
            [
             0.3,
             "#f1b6da"
            ],
            [
             0.4,
             "#fde0ef"
            ],
            [
             0.5,
             "#f7f7f7"
            ],
            [
             0.6,
             "#e6f5d0"
            ],
            [
             0.7,
             "#b8e186"
            ],
            [
             0.8,
             "#7fbc41"
            ],
            [
             0.9,
             "#4d9221"
            ],
            [
             1,
             "#276419"
            ]
           ],
           "sequential": [
            [
             0,
             "#0d0887"
            ],
            [
             0.1111111111111111,
             "#46039f"
            ],
            [
             0.2222222222222222,
             "#7201a8"
            ],
            [
             0.3333333333333333,
             "#9c179e"
            ],
            [
             0.4444444444444444,
             "#bd3786"
            ],
            [
             0.5555555555555556,
             "#d8576b"
            ],
            [
             0.6666666666666666,
             "#ed7953"
            ],
            [
             0.7777777777777778,
             "#fb9f3a"
            ],
            [
             0.8888888888888888,
             "#fdca26"
            ],
            [
             1,
             "#f0f921"
            ]
           ],
           "sequentialminus": [
            [
             0,
             "#0d0887"
            ],
            [
             0.1111111111111111,
             "#46039f"
            ],
            [
             0.2222222222222222,
             "#7201a8"
            ],
            [
             0.3333333333333333,
             "#9c179e"
            ],
            [
             0.4444444444444444,
             "#bd3786"
            ],
            [
             0.5555555555555556,
             "#d8576b"
            ],
            [
             0.6666666666666666,
             "#ed7953"
            ],
            [
             0.7777777777777778,
             "#fb9f3a"
            ],
            [
             0.8888888888888888,
             "#fdca26"
            ],
            [
             1,
             "#f0f921"
            ]
           ]
          },
          "colorway": [
           "#636efa",
           "#EF553B",
           "#00cc96",
           "#ab63fa",
           "#FFA15A",
           "#19d3f3",
           "#FF6692",
           "#B6E880",
           "#FF97FF",
           "#FECB52"
          ],
          "font": {
           "color": "#2a3f5f"
          },
          "geo": {
           "bgcolor": "white",
           "lakecolor": "white",
           "landcolor": "#E5ECF6",
           "showlakes": true,
           "showland": true,
           "subunitcolor": "white"
          },
          "hoverlabel": {
           "align": "left"
          },
          "hovermode": "closest",
          "mapbox": {
           "style": "light"
          },
          "paper_bgcolor": "white",
          "plot_bgcolor": "#E5ECF6",
          "polar": {
           "angularaxis": {
            "gridcolor": "white",
            "linecolor": "white",
            "ticks": ""
           },
           "bgcolor": "#E5ECF6",
           "radialaxis": {
            "gridcolor": "white",
            "linecolor": "white",
            "ticks": ""
           }
          },
          "scene": {
           "xaxis": {
            "backgroundcolor": "#E5ECF6",
            "gridcolor": "white",
            "gridwidth": 2,
            "linecolor": "white",
            "showbackground": true,
            "ticks": "",
            "zerolinecolor": "white"
           },
           "yaxis": {
            "backgroundcolor": "#E5ECF6",
            "gridcolor": "white",
            "gridwidth": 2,
            "linecolor": "white",
            "showbackground": true,
            "ticks": "",
            "zerolinecolor": "white"
           },
           "zaxis": {
            "backgroundcolor": "#E5ECF6",
            "gridcolor": "white",
            "gridwidth": 2,
            "linecolor": "white",
            "showbackground": true,
            "ticks": "",
            "zerolinecolor": "white"
           }
          },
          "shapedefaults": {
           "line": {
            "color": "#2a3f5f"
           }
          },
          "ternary": {
           "aaxis": {
            "gridcolor": "white",
            "linecolor": "white",
            "ticks": ""
           },
           "baxis": {
            "gridcolor": "white",
            "linecolor": "white",
            "ticks": ""
           },
           "bgcolor": "#E5ECF6",
           "caxis": {
            "gridcolor": "white",
            "linecolor": "white",
            "ticks": ""
           }
          },
          "title": {
           "x": 0.05
          },
          "xaxis": {
           "automargin": true,
           "gridcolor": "white",
           "linecolor": "white",
           "ticks": "",
           "title": {
            "standoff": 15
           },
           "zerolinecolor": "white",
           "zerolinewidth": 2
          },
          "yaxis": {
           "automargin": true,
           "gridcolor": "white",
           "linecolor": "white",
           "ticks": "",
           "title": {
            "standoff": 15
           },
           "zerolinecolor": "white",
           "zerolinewidth": 2
          }
         }
        },
        "xaxis": {
         "title": {
          "text": "Timestep"
         }
        },
        "yaxis": {
         "title": {
          "text": "Expedited Order"
         }
        }
       }
      },
      "text/html": [
       "<div>                            <div id=\"a9862e1e-d7b4-4f89-8091-6f20f6769a96\" class=\"plotly-graph-div\" style=\"height:525px; width:100%;\"></div>            <script type=\"text/javascript\">                require([\"plotly\"], function(Plotly) {                    window.PLOTLYENV=window.PLOTLYENV || {};                                    if (document.getElementById(\"a9862e1e-d7b4-4f89-8091-6f20f6769a96\")) {                    Plotly.newPlot(                        \"a9862e1e-d7b4-4f89-8091-6f20f6769a96\",                        [{\"name\":\"NNC\",\"type\":\"scatter\",\"y\":[32.0,1.0,0.0,0.0,0.0,0.0,0.0,0.0,0.0,0.0,0.0,0.0,0.0,0.0,0.0,0.0,0.0,0.0,0.0,103.0,111.0,982.0,8961.0,3764.0,0.0,12481.0,0.0,14493.0,27119.0,10337.0,47488.0,23664.0,8691.0,8173.0,12986.0,25060.0,21762.0,30416.0,14218.0,0.0,0.0,0.0,0.0,0.0,0.0,0.0,0.0,0.0,0.0,14745.0,12434.0,0.0,0.0,8777.0,52835.0,30139.0,9157.0,0.0,0.0,22920.0,12427.0,14712.0,1100.0,12793.0,0.0,0.0,13408.0,39529.0,99118.0,30214.0,0.0,0.0,0.0,4911.0,0.0,0.0,24163.0,0.0,0.0,0.0,0.0,0.0,0.0,0.0,0.0,0.0,32105.0,19407.0,0.0,0.0,0.0,0.0,0.0,0.0,0.0,0.0,0.0,0.0,0.0,0.0,0.0,0.0,0.0,0.0,0.0,0.0,0.0,0.0,0.0,0.0,0.0,0.0,0.0,0.0,0.0]},{\"name\":\"CDI\",\"type\":\"scatter\",\"y\":[0,0,0,0,0,0,0,0,0,0,0,0,0,0,0,0,0,0,0,320,83,729,6819,6500,315,14189,0,0,29765,0,0,15866,0,0,0,54369,0,0,0,0,0,0,0,0,0,0,0,0,0,34005,0,0,0,0,138408,0,0,0,0,0,0,0,0,0,0,0,0,80380,53412,0,0,0,0,0,0,0,0,0,0,0,0,18887,13499,0,0,0,79128,0,0,0,0,0,0,0,0,0,0,0,0,0,0,0,0,0,0,0,0,2597,33237,0,0,0,0,0,0]}],                        {\"template\":{\"data\":{\"bar\":[{\"error_x\":{\"color\":\"#2a3f5f\"},\"error_y\":{\"color\":\"#2a3f5f\"},\"marker\":{\"line\":{\"color\":\"#E5ECF6\",\"width\":0.5},\"pattern\":{\"fillmode\":\"overlay\",\"size\":10,\"solidity\":0.2}},\"type\":\"bar\"}],\"barpolar\":[{\"marker\":{\"line\":{\"color\":\"#E5ECF6\",\"width\":0.5},\"pattern\":{\"fillmode\":\"overlay\",\"size\":10,\"solidity\":0.2}},\"type\":\"barpolar\"}],\"carpet\":[{\"aaxis\":{\"endlinecolor\":\"#2a3f5f\",\"gridcolor\":\"white\",\"linecolor\":\"white\",\"minorgridcolor\":\"white\",\"startlinecolor\":\"#2a3f5f\"},\"baxis\":{\"endlinecolor\":\"#2a3f5f\",\"gridcolor\":\"white\",\"linecolor\":\"white\",\"minorgridcolor\":\"white\",\"startlinecolor\":\"#2a3f5f\"},\"type\":\"carpet\"}],\"choropleth\":[{\"colorbar\":{\"outlinewidth\":0,\"ticks\":\"\"},\"type\":\"choropleth\"}],\"contour\":[{\"colorbar\":{\"outlinewidth\":0,\"ticks\":\"\"},\"colorscale\":[[0.0,\"#0d0887\"],[0.1111111111111111,\"#46039f\"],[0.2222222222222222,\"#7201a8\"],[0.3333333333333333,\"#9c179e\"],[0.4444444444444444,\"#bd3786\"],[0.5555555555555556,\"#d8576b\"],[0.6666666666666666,\"#ed7953\"],[0.7777777777777778,\"#fb9f3a\"],[0.8888888888888888,\"#fdca26\"],[1.0,\"#f0f921\"]],\"type\":\"contour\"}],\"contourcarpet\":[{\"colorbar\":{\"outlinewidth\":0,\"ticks\":\"\"},\"type\":\"contourcarpet\"}],\"heatmap\":[{\"colorbar\":{\"outlinewidth\":0,\"ticks\":\"\"},\"colorscale\":[[0.0,\"#0d0887\"],[0.1111111111111111,\"#46039f\"],[0.2222222222222222,\"#7201a8\"],[0.3333333333333333,\"#9c179e\"],[0.4444444444444444,\"#bd3786\"],[0.5555555555555556,\"#d8576b\"],[0.6666666666666666,\"#ed7953\"],[0.7777777777777778,\"#fb9f3a\"],[0.8888888888888888,\"#fdca26\"],[1.0,\"#f0f921\"]],\"type\":\"heatmap\"}],\"heatmapgl\":[{\"colorbar\":{\"outlinewidth\":0,\"ticks\":\"\"},\"colorscale\":[[0.0,\"#0d0887\"],[0.1111111111111111,\"#46039f\"],[0.2222222222222222,\"#7201a8\"],[0.3333333333333333,\"#9c179e\"],[0.4444444444444444,\"#bd3786\"],[0.5555555555555556,\"#d8576b\"],[0.6666666666666666,\"#ed7953\"],[0.7777777777777778,\"#fb9f3a\"],[0.8888888888888888,\"#fdca26\"],[1.0,\"#f0f921\"]],\"type\":\"heatmapgl\"}],\"histogram\":[{\"marker\":{\"pattern\":{\"fillmode\":\"overlay\",\"size\":10,\"solidity\":0.2}},\"type\":\"histogram\"}],\"histogram2d\":[{\"colorbar\":{\"outlinewidth\":0,\"ticks\":\"\"},\"colorscale\":[[0.0,\"#0d0887\"],[0.1111111111111111,\"#46039f\"],[0.2222222222222222,\"#7201a8\"],[0.3333333333333333,\"#9c179e\"],[0.4444444444444444,\"#bd3786\"],[0.5555555555555556,\"#d8576b\"],[0.6666666666666666,\"#ed7953\"],[0.7777777777777778,\"#fb9f3a\"],[0.8888888888888888,\"#fdca26\"],[1.0,\"#f0f921\"]],\"type\":\"histogram2d\"}],\"histogram2dcontour\":[{\"colorbar\":{\"outlinewidth\":0,\"ticks\":\"\"},\"colorscale\":[[0.0,\"#0d0887\"],[0.1111111111111111,\"#46039f\"],[0.2222222222222222,\"#7201a8\"],[0.3333333333333333,\"#9c179e\"],[0.4444444444444444,\"#bd3786\"],[0.5555555555555556,\"#d8576b\"],[0.6666666666666666,\"#ed7953\"],[0.7777777777777778,\"#fb9f3a\"],[0.8888888888888888,\"#fdca26\"],[1.0,\"#f0f921\"]],\"type\":\"histogram2dcontour\"}],\"mesh3d\":[{\"colorbar\":{\"outlinewidth\":0,\"ticks\":\"\"},\"type\":\"mesh3d\"}],\"parcoords\":[{\"line\":{\"colorbar\":{\"outlinewidth\":0,\"ticks\":\"\"}},\"type\":\"parcoords\"}],\"pie\":[{\"automargin\":true,\"type\":\"pie\"}],\"scatter\":[{\"marker\":{\"colorbar\":{\"outlinewidth\":0,\"ticks\":\"\"}},\"type\":\"scatter\"}],\"scatter3d\":[{\"line\":{\"colorbar\":{\"outlinewidth\":0,\"ticks\":\"\"}},\"marker\":{\"colorbar\":{\"outlinewidth\":0,\"ticks\":\"\"}},\"type\":\"scatter3d\"}],\"scattercarpet\":[{\"marker\":{\"colorbar\":{\"outlinewidth\":0,\"ticks\":\"\"}},\"type\":\"scattercarpet\"}],\"scattergeo\":[{\"marker\":{\"colorbar\":{\"outlinewidth\":0,\"ticks\":\"\"}},\"type\":\"scattergeo\"}],\"scattergl\":[{\"marker\":{\"colorbar\":{\"outlinewidth\":0,\"ticks\":\"\"}},\"type\":\"scattergl\"}],\"scattermapbox\":[{\"marker\":{\"colorbar\":{\"outlinewidth\":0,\"ticks\":\"\"}},\"type\":\"scattermapbox\"}],\"scatterpolar\":[{\"marker\":{\"colorbar\":{\"outlinewidth\":0,\"ticks\":\"\"}},\"type\":\"scatterpolar\"}],\"scatterpolargl\":[{\"marker\":{\"colorbar\":{\"outlinewidth\":0,\"ticks\":\"\"}},\"type\":\"scatterpolargl\"}],\"scatterternary\":[{\"marker\":{\"colorbar\":{\"outlinewidth\":0,\"ticks\":\"\"}},\"type\":\"scatterternary\"}],\"surface\":[{\"colorbar\":{\"outlinewidth\":0,\"ticks\":\"\"},\"colorscale\":[[0.0,\"#0d0887\"],[0.1111111111111111,\"#46039f\"],[0.2222222222222222,\"#7201a8\"],[0.3333333333333333,\"#9c179e\"],[0.4444444444444444,\"#bd3786\"],[0.5555555555555556,\"#d8576b\"],[0.6666666666666666,\"#ed7953\"],[0.7777777777777778,\"#fb9f3a\"],[0.8888888888888888,\"#fdca26\"],[1.0,\"#f0f921\"]],\"type\":\"surface\"}],\"table\":[{\"cells\":{\"fill\":{\"color\":\"#EBF0F8\"},\"line\":{\"color\":\"white\"}},\"header\":{\"fill\":{\"color\":\"#C8D4E3\"},\"line\":{\"color\":\"white\"}},\"type\":\"table\"}]},\"layout\":{\"annotationdefaults\":{\"arrowcolor\":\"#2a3f5f\",\"arrowhead\":0,\"arrowwidth\":1},\"autotypenumbers\":\"strict\",\"coloraxis\":{\"colorbar\":{\"outlinewidth\":0,\"ticks\":\"\"}},\"colorscale\":{\"diverging\":[[0,\"#8e0152\"],[0.1,\"#c51b7d\"],[0.2,\"#de77ae\"],[0.3,\"#f1b6da\"],[0.4,\"#fde0ef\"],[0.5,\"#f7f7f7\"],[0.6,\"#e6f5d0\"],[0.7,\"#b8e186\"],[0.8,\"#7fbc41\"],[0.9,\"#4d9221\"],[1,\"#276419\"]],\"sequential\":[[0.0,\"#0d0887\"],[0.1111111111111111,\"#46039f\"],[0.2222222222222222,\"#7201a8\"],[0.3333333333333333,\"#9c179e\"],[0.4444444444444444,\"#bd3786\"],[0.5555555555555556,\"#d8576b\"],[0.6666666666666666,\"#ed7953\"],[0.7777777777777778,\"#fb9f3a\"],[0.8888888888888888,\"#fdca26\"],[1.0,\"#f0f921\"]],\"sequentialminus\":[[0.0,\"#0d0887\"],[0.1111111111111111,\"#46039f\"],[0.2222222222222222,\"#7201a8\"],[0.3333333333333333,\"#9c179e\"],[0.4444444444444444,\"#bd3786\"],[0.5555555555555556,\"#d8576b\"],[0.6666666666666666,\"#ed7953\"],[0.7777777777777778,\"#fb9f3a\"],[0.8888888888888888,\"#fdca26\"],[1.0,\"#f0f921\"]]},\"colorway\":[\"#636efa\",\"#EF553B\",\"#00cc96\",\"#ab63fa\",\"#FFA15A\",\"#19d3f3\",\"#FF6692\",\"#B6E880\",\"#FF97FF\",\"#FECB52\"],\"font\":{\"color\":\"#2a3f5f\"},\"geo\":{\"bgcolor\":\"white\",\"lakecolor\":\"white\",\"landcolor\":\"#E5ECF6\",\"showlakes\":true,\"showland\":true,\"subunitcolor\":\"white\"},\"hoverlabel\":{\"align\":\"left\"},\"hovermode\":\"closest\",\"mapbox\":{\"style\":\"light\"},\"paper_bgcolor\":\"white\",\"plot_bgcolor\":\"#E5ECF6\",\"polar\":{\"angularaxis\":{\"gridcolor\":\"white\",\"linecolor\":\"white\",\"ticks\":\"\"},\"bgcolor\":\"#E5ECF6\",\"radialaxis\":{\"gridcolor\":\"white\",\"linecolor\":\"white\",\"ticks\":\"\"}},\"scene\":{\"xaxis\":{\"backgroundcolor\":\"#E5ECF6\",\"gridcolor\":\"white\",\"gridwidth\":2,\"linecolor\":\"white\",\"showbackground\":true,\"ticks\":\"\",\"zerolinecolor\":\"white\"},\"yaxis\":{\"backgroundcolor\":\"#E5ECF6\",\"gridcolor\":\"white\",\"gridwidth\":2,\"linecolor\":\"white\",\"showbackground\":true,\"ticks\":\"\",\"zerolinecolor\":\"white\"},\"zaxis\":{\"backgroundcolor\":\"#E5ECF6\",\"gridcolor\":\"white\",\"gridwidth\":2,\"linecolor\":\"white\",\"showbackground\":true,\"ticks\":\"\",\"zerolinecolor\":\"white\"}},\"shapedefaults\":{\"line\":{\"color\":\"#2a3f5f\"}},\"ternary\":{\"aaxis\":{\"gridcolor\":\"white\",\"linecolor\":\"white\",\"ticks\":\"\"},\"baxis\":{\"gridcolor\":\"white\",\"linecolor\":\"white\",\"ticks\":\"\"},\"bgcolor\":\"#E5ECF6\",\"caxis\":{\"gridcolor\":\"white\",\"linecolor\":\"white\",\"ticks\":\"\"}},\"title\":{\"x\":0.05},\"xaxis\":{\"automargin\":true,\"gridcolor\":\"white\",\"linecolor\":\"white\",\"ticks\":\"\",\"title\":{\"standoff\":15},\"zerolinecolor\":\"white\",\"zerolinewidth\":2},\"yaxis\":{\"automargin\":true,\"gridcolor\":\"white\",\"linecolor\":\"white\",\"ticks\":\"\",\"title\":{\"standoff\":15},\"zerolinecolor\":\"white\",\"zerolinewidth\":2}}},\"xaxis\":{\"title\":{\"text\":\"Timestep\"}},\"yaxis\":{\"title\":{\"text\":\"Expedited Order\"}}},                        {\"responsive\": true}                    ).then(function(){\n",
       "                            \n",
       "var gd = document.getElementById('a9862e1e-d7b4-4f89-8091-6f20f6769a96');\n",
       "var x = new MutationObserver(function (mutations, observer) {{\n",
       "        var display = window.getComputedStyle(gd).display;\n",
       "        if (!display || display === 'none') {{\n",
       "            console.log([gd, 'removed!']);\n",
       "            Plotly.purge(gd);\n",
       "            observer.disconnect();\n",
       "        }}\n",
       "}});\n",
       "\n",
       "// Listen for the removal of the full notebook cells\n",
       "var notebookContainer = gd.closest('#notebook-container');\n",
       "if (notebookContainer) {{\n",
       "    x.observe(notebookContainer, {childList: true});\n",
       "}}\n",
       "\n",
       "// Listen for the clearing of the current output cell\n",
       "var outputEl = gd.closest('.output');\n",
       "if (outputEl) {{\n",
       "    x.observe(outputEl, {childList: true});\n",
       "}}\n",
       "\n",
       "                        })                };                });            </script>        </div>"
      ]
     },
     "metadata": {},
     "output_type": "display_data"
    }
   ],
   "source": [
    "a = go.Scatter(y=[x.item() for x in nn_qe[1:]], name='NNC')\n",
    "b = go.Scatter(y=cdi_qe, name='CDI')\n",
    "fig = go.Figure([a,b])\n",
    "fig.layout.xaxis.title = 'Timestep'\n",
    "fig.layout.yaxis.title = 'Expedited Order'\n",
    "fig"
   ]
  },
  {
   "cell_type": "code",
   "execution_count": 778,
   "id": "138a4f32",
   "metadata": {},
   "outputs": [
    {
     "data": {
      "application/vnd.plotly.v1+json": {
       "config": {
        "plotlyServerURL": "https://plot.ly"
       },
       "data": [
        {
         "name": "NNC",
         "type": "scatter",
         "y": [
          800,
          185,
          290,
          330,
          360,
          390,
          420,
          445,
          470,
          495,
          520,
          545,
          570,
          595,
          620,
          645,
          670,
          695,
          725,
          2915,
          3365,
          20795,
          210065,
          88630,
          45310,
          368905,
          112035,
          469950,
          785345,
          425275,
          1023750,
          628285,
          265565,
          298045,
          503130,
          635460,
          798840,
          851995,
          718020,
          523840,
          592220,
          745620,
          803740,
          834280,
          840160,
          916235,
          914795,
          646525,
          595245,
          861895,
          952885,
          622080,
          645120,
          414555,
          1144535,
          990470,
          921190,
          587670,
          654945,
          1103805,
          849675,
          1017390,
          363650,
          1085805,
          664135,
          467090,
          571695,
          3551690,
          2243375,
          1003785,
          836535,
          847345,
          745905,
          1046240,
          736910,
          713815,
          1543145,
          1247770,
          1230660,
          994385,
          1145720,
          823655,
          887670,
          1260330,
          1028470,
          555540,
          1231030,
          1166070,
          879010,
          943710,
          935425,
          1006540,
          1024640,
          1101530,
          1012440,
          851395,
          693285,
          657010,
          773340,
          908735,
          935945,
          835035,
          946335,
          1002845,
          993630,
          943840,
          864890,
          821390,
          751130,
          751850,
          804595,
          875450,
          892510,
          871825,
          849430
         ]
        },
        {
         "name": "CDI",
         "type": "scatter",
         "y": [
          5,
          5,
          5,
          5,
          5,
          5,
          5,
          5,
          5,
          5,
          5,
          5,
          5,
          5,
          5,
          5,
          5,
          5,
          5,
          7590,
          2970,
          16075,
          157020,
          149830,
          48825,
          430725,
          127185,
          271375,
          927435,
          374175,
          369955,
          649995,
          572105,
          490285,
          399970,
          1418535,
          632440,
          740625,
          650985,
          1175255,
          1010385,
          1001180,
          949850,
          1133870,
          1013890,
          1280865,
          1166045,
          804725,
          603090,
          1330215,
          1021115,
          1138450,
          986950,
          491820,
          3307180,
          1151305,
          2061110,
          1585440,
          1311405,
          1011600,
          698145,
          1247160,
          502525,
          1261830,
          942145,
          713490,
          575595,
          1886255,
          1610270,
          1077950,
          1337380,
          977870,
          964145,
          1131160,
          1021920,
          1074665,
          1436650,
          1404895,
          1972425,
          1428495,
          1264035,
          1173475,
          1079070,
          2078915,
          1522480,
          831840,
          2426450,
          1285070,
          1883155,
          1519530,
          1289920,
          1493955,
          1330880,
          1292345,
          1086460,
          782525,
          559565,
          427900,
          590420,
          821910,
          786230,
          594385,
          724800,
          734350,
          619845,
          483030,
          347900,
          299810,
          956050,
          565650,
          726475,
          688760,
          626900,
          547205,
          456685
         ]
        }
       ],
       "layout": {
        "shapes": [
         {
          "type": "line",
          "x0": 0,
          "x1": 1,
          "xref": "x domain",
          "y0": 681430.5,
          "y1": 681430.5,
          "yref": "y"
         },
         {
          "line": {
           "dash": "dash"
          },
          "type": "line",
          "x0": 0,
          "x1": 1,
          "xref": "x domain",
          "y0": 792494.625,
          "y1": 792494.625,
          "yref": "y"
         }
        ],
        "template": {
         "data": {
          "bar": [
           {
            "error_x": {
             "color": "#2a3f5f"
            },
            "error_y": {
             "color": "#2a3f5f"
            },
            "marker": {
             "line": {
              "color": "#E5ECF6",
              "width": 0.5
             },
             "pattern": {
              "fillmode": "overlay",
              "size": 10,
              "solidity": 0.2
             }
            },
            "type": "bar"
           }
          ],
          "barpolar": [
           {
            "marker": {
             "line": {
              "color": "#E5ECF6",
              "width": 0.5
             },
             "pattern": {
              "fillmode": "overlay",
              "size": 10,
              "solidity": 0.2
             }
            },
            "type": "barpolar"
           }
          ],
          "carpet": [
           {
            "aaxis": {
             "endlinecolor": "#2a3f5f",
             "gridcolor": "white",
             "linecolor": "white",
             "minorgridcolor": "white",
             "startlinecolor": "#2a3f5f"
            },
            "baxis": {
             "endlinecolor": "#2a3f5f",
             "gridcolor": "white",
             "linecolor": "white",
             "minorgridcolor": "white",
             "startlinecolor": "#2a3f5f"
            },
            "type": "carpet"
           }
          ],
          "choropleth": [
           {
            "colorbar": {
             "outlinewidth": 0,
             "ticks": ""
            },
            "type": "choropleth"
           }
          ],
          "contour": [
           {
            "colorbar": {
             "outlinewidth": 0,
             "ticks": ""
            },
            "colorscale": [
             [
              0,
              "#0d0887"
             ],
             [
              0.1111111111111111,
              "#46039f"
             ],
             [
              0.2222222222222222,
              "#7201a8"
             ],
             [
              0.3333333333333333,
              "#9c179e"
             ],
             [
              0.4444444444444444,
              "#bd3786"
             ],
             [
              0.5555555555555556,
              "#d8576b"
             ],
             [
              0.6666666666666666,
              "#ed7953"
             ],
             [
              0.7777777777777778,
              "#fb9f3a"
             ],
             [
              0.8888888888888888,
              "#fdca26"
             ],
             [
              1,
              "#f0f921"
             ]
            ],
            "type": "contour"
           }
          ],
          "contourcarpet": [
           {
            "colorbar": {
             "outlinewidth": 0,
             "ticks": ""
            },
            "type": "contourcarpet"
           }
          ],
          "heatmap": [
           {
            "colorbar": {
             "outlinewidth": 0,
             "ticks": ""
            },
            "colorscale": [
             [
              0,
              "#0d0887"
             ],
             [
              0.1111111111111111,
              "#46039f"
             ],
             [
              0.2222222222222222,
              "#7201a8"
             ],
             [
              0.3333333333333333,
              "#9c179e"
             ],
             [
              0.4444444444444444,
              "#bd3786"
             ],
             [
              0.5555555555555556,
              "#d8576b"
             ],
             [
              0.6666666666666666,
              "#ed7953"
             ],
             [
              0.7777777777777778,
              "#fb9f3a"
             ],
             [
              0.8888888888888888,
              "#fdca26"
             ],
             [
              1,
              "#f0f921"
             ]
            ],
            "type": "heatmap"
           }
          ],
          "heatmapgl": [
           {
            "colorbar": {
             "outlinewidth": 0,
             "ticks": ""
            },
            "colorscale": [
             [
              0,
              "#0d0887"
             ],
             [
              0.1111111111111111,
              "#46039f"
             ],
             [
              0.2222222222222222,
              "#7201a8"
             ],
             [
              0.3333333333333333,
              "#9c179e"
             ],
             [
              0.4444444444444444,
              "#bd3786"
             ],
             [
              0.5555555555555556,
              "#d8576b"
             ],
             [
              0.6666666666666666,
              "#ed7953"
             ],
             [
              0.7777777777777778,
              "#fb9f3a"
             ],
             [
              0.8888888888888888,
              "#fdca26"
             ],
             [
              1,
              "#f0f921"
             ]
            ],
            "type": "heatmapgl"
           }
          ],
          "histogram": [
           {
            "marker": {
             "pattern": {
              "fillmode": "overlay",
              "size": 10,
              "solidity": 0.2
             }
            },
            "type": "histogram"
           }
          ],
          "histogram2d": [
           {
            "colorbar": {
             "outlinewidth": 0,
             "ticks": ""
            },
            "colorscale": [
             [
              0,
              "#0d0887"
             ],
             [
              0.1111111111111111,
              "#46039f"
             ],
             [
              0.2222222222222222,
              "#7201a8"
             ],
             [
              0.3333333333333333,
              "#9c179e"
             ],
             [
              0.4444444444444444,
              "#bd3786"
             ],
             [
              0.5555555555555556,
              "#d8576b"
             ],
             [
              0.6666666666666666,
              "#ed7953"
             ],
             [
              0.7777777777777778,
              "#fb9f3a"
             ],
             [
              0.8888888888888888,
              "#fdca26"
             ],
             [
              1,
              "#f0f921"
             ]
            ],
            "type": "histogram2d"
           }
          ],
          "histogram2dcontour": [
           {
            "colorbar": {
             "outlinewidth": 0,
             "ticks": ""
            },
            "colorscale": [
             [
              0,
              "#0d0887"
             ],
             [
              0.1111111111111111,
              "#46039f"
             ],
             [
              0.2222222222222222,
              "#7201a8"
             ],
             [
              0.3333333333333333,
              "#9c179e"
             ],
             [
              0.4444444444444444,
              "#bd3786"
             ],
             [
              0.5555555555555556,
              "#d8576b"
             ],
             [
              0.6666666666666666,
              "#ed7953"
             ],
             [
              0.7777777777777778,
              "#fb9f3a"
             ],
             [
              0.8888888888888888,
              "#fdca26"
             ],
             [
              1,
              "#f0f921"
             ]
            ],
            "type": "histogram2dcontour"
           }
          ],
          "mesh3d": [
           {
            "colorbar": {
             "outlinewidth": 0,
             "ticks": ""
            },
            "type": "mesh3d"
           }
          ],
          "parcoords": [
           {
            "line": {
             "colorbar": {
              "outlinewidth": 0,
              "ticks": ""
             }
            },
            "type": "parcoords"
           }
          ],
          "pie": [
           {
            "automargin": true,
            "type": "pie"
           }
          ],
          "scatter": [
           {
            "marker": {
             "colorbar": {
              "outlinewidth": 0,
              "ticks": ""
             }
            },
            "type": "scatter"
           }
          ],
          "scatter3d": [
           {
            "line": {
             "colorbar": {
              "outlinewidth": 0,
              "ticks": ""
             }
            },
            "marker": {
             "colorbar": {
              "outlinewidth": 0,
              "ticks": ""
             }
            },
            "type": "scatter3d"
           }
          ],
          "scattercarpet": [
           {
            "marker": {
             "colorbar": {
              "outlinewidth": 0,
              "ticks": ""
             }
            },
            "type": "scattercarpet"
           }
          ],
          "scattergeo": [
           {
            "marker": {
             "colorbar": {
              "outlinewidth": 0,
              "ticks": ""
             }
            },
            "type": "scattergeo"
           }
          ],
          "scattergl": [
           {
            "marker": {
             "colorbar": {
              "outlinewidth": 0,
              "ticks": ""
             }
            },
            "type": "scattergl"
           }
          ],
          "scattermapbox": [
           {
            "marker": {
             "colorbar": {
              "outlinewidth": 0,
              "ticks": ""
             }
            },
            "type": "scattermapbox"
           }
          ],
          "scatterpolar": [
           {
            "marker": {
             "colorbar": {
              "outlinewidth": 0,
              "ticks": ""
             }
            },
            "type": "scatterpolar"
           }
          ],
          "scatterpolargl": [
           {
            "marker": {
             "colorbar": {
              "outlinewidth": 0,
              "ticks": ""
             }
            },
            "type": "scatterpolargl"
           }
          ],
          "scatterternary": [
           {
            "marker": {
             "colorbar": {
              "outlinewidth": 0,
              "ticks": ""
             }
            },
            "type": "scatterternary"
           }
          ],
          "surface": [
           {
            "colorbar": {
             "outlinewidth": 0,
             "ticks": ""
            },
            "colorscale": [
             [
              0,
              "#0d0887"
             ],
             [
              0.1111111111111111,
              "#46039f"
             ],
             [
              0.2222222222222222,
              "#7201a8"
             ],
             [
              0.3333333333333333,
              "#9c179e"
             ],
             [
              0.4444444444444444,
              "#bd3786"
             ],
             [
              0.5555555555555556,
              "#d8576b"
             ],
             [
              0.6666666666666666,
              "#ed7953"
             ],
             [
              0.7777777777777778,
              "#fb9f3a"
             ],
             [
              0.8888888888888888,
              "#fdca26"
             ],
             [
              1,
              "#f0f921"
             ]
            ],
            "type": "surface"
           }
          ],
          "table": [
           {
            "cells": {
             "fill": {
              "color": "#EBF0F8"
             },
             "line": {
              "color": "white"
             }
            },
            "header": {
             "fill": {
              "color": "#C8D4E3"
             },
             "line": {
              "color": "white"
             }
            },
            "type": "table"
           }
          ]
         },
         "layout": {
          "annotationdefaults": {
           "arrowcolor": "#2a3f5f",
           "arrowhead": 0,
           "arrowwidth": 1
          },
          "autotypenumbers": "strict",
          "coloraxis": {
           "colorbar": {
            "outlinewidth": 0,
            "ticks": ""
           }
          },
          "colorscale": {
           "diverging": [
            [
             0,
             "#8e0152"
            ],
            [
             0.1,
             "#c51b7d"
            ],
            [
             0.2,
             "#de77ae"
            ],
            [
             0.3,
             "#f1b6da"
            ],
            [
             0.4,
             "#fde0ef"
            ],
            [
             0.5,
             "#f7f7f7"
            ],
            [
             0.6,
             "#e6f5d0"
            ],
            [
             0.7,
             "#b8e186"
            ],
            [
             0.8,
             "#7fbc41"
            ],
            [
             0.9,
             "#4d9221"
            ],
            [
             1,
             "#276419"
            ]
           ],
           "sequential": [
            [
             0,
             "#0d0887"
            ],
            [
             0.1111111111111111,
             "#46039f"
            ],
            [
             0.2222222222222222,
             "#7201a8"
            ],
            [
             0.3333333333333333,
             "#9c179e"
            ],
            [
             0.4444444444444444,
             "#bd3786"
            ],
            [
             0.5555555555555556,
             "#d8576b"
            ],
            [
             0.6666666666666666,
             "#ed7953"
            ],
            [
             0.7777777777777778,
             "#fb9f3a"
            ],
            [
             0.8888888888888888,
             "#fdca26"
            ],
            [
             1,
             "#f0f921"
            ]
           ],
           "sequentialminus": [
            [
             0,
             "#0d0887"
            ],
            [
             0.1111111111111111,
             "#46039f"
            ],
            [
             0.2222222222222222,
             "#7201a8"
            ],
            [
             0.3333333333333333,
             "#9c179e"
            ],
            [
             0.4444444444444444,
             "#bd3786"
            ],
            [
             0.5555555555555556,
             "#d8576b"
            ],
            [
             0.6666666666666666,
             "#ed7953"
            ],
            [
             0.7777777777777778,
             "#fb9f3a"
            ],
            [
             0.8888888888888888,
             "#fdca26"
            ],
            [
             1,
             "#f0f921"
            ]
           ]
          },
          "colorway": [
           "#636efa",
           "#EF553B",
           "#00cc96",
           "#ab63fa",
           "#FFA15A",
           "#19d3f3",
           "#FF6692",
           "#B6E880",
           "#FF97FF",
           "#FECB52"
          ],
          "font": {
           "color": "#2a3f5f"
          },
          "geo": {
           "bgcolor": "white",
           "lakecolor": "white",
           "landcolor": "#E5ECF6",
           "showlakes": true,
           "showland": true,
           "subunitcolor": "white"
          },
          "hoverlabel": {
           "align": "left"
          },
          "hovermode": "closest",
          "mapbox": {
           "style": "light"
          },
          "paper_bgcolor": "white",
          "plot_bgcolor": "#E5ECF6",
          "polar": {
           "angularaxis": {
            "gridcolor": "white",
            "linecolor": "white",
            "ticks": ""
           },
           "bgcolor": "#E5ECF6",
           "radialaxis": {
            "gridcolor": "white",
            "linecolor": "white",
            "ticks": ""
           }
          },
          "scene": {
           "xaxis": {
            "backgroundcolor": "#E5ECF6",
            "gridcolor": "white",
            "gridwidth": 2,
            "linecolor": "white",
            "showbackground": true,
            "ticks": "",
            "zerolinecolor": "white"
           },
           "yaxis": {
            "backgroundcolor": "#E5ECF6",
            "gridcolor": "white",
            "gridwidth": 2,
            "linecolor": "white",
            "showbackground": true,
            "ticks": "",
            "zerolinecolor": "white"
           },
           "zaxis": {
            "backgroundcolor": "#E5ECF6",
            "gridcolor": "white",
            "gridwidth": 2,
            "linecolor": "white",
            "showbackground": true,
            "ticks": "",
            "zerolinecolor": "white"
           }
          },
          "shapedefaults": {
           "line": {
            "color": "#2a3f5f"
           }
          },
          "ternary": {
           "aaxis": {
            "gridcolor": "white",
            "linecolor": "white",
            "ticks": ""
           },
           "baxis": {
            "gridcolor": "white",
            "linecolor": "white",
            "ticks": ""
           },
           "bgcolor": "#E5ECF6",
           "caxis": {
            "gridcolor": "white",
            "linecolor": "white",
            "ticks": ""
           }
          },
          "title": {
           "x": 0.05
          },
          "xaxis": {
           "automargin": true,
           "gridcolor": "white",
           "linecolor": "white",
           "ticks": "",
           "title": {
            "standoff": 15
           },
           "zerolinecolor": "white",
           "zerolinewidth": 2
          },
          "yaxis": {
           "automargin": true,
           "gridcolor": "white",
           "linecolor": "white",
           "ticks": "",
           "title": {
            "standoff": 15
           },
           "zerolinecolor": "white",
           "zerolinewidth": 2
          }
         }
        },
        "xaxis": {
         "title": {
          "text": "Timestep"
         }
        },
        "yaxis": {
         "title": {
          "text": "Cost"
         }
        }
       }
      },
      "text/html": [
       "<div>                            <div id=\"ece50835-c3f8-4068-9078-8c3538c13196\" class=\"plotly-graph-div\" style=\"height:525px; width:100%;\"></div>            <script type=\"text/javascript\">                require([\"plotly\"], function(Plotly) {                    window.PLOTLYENV=window.PLOTLYENV || {};                                    if (document.getElementById(\"ece50835-c3f8-4068-9078-8c3538c13196\")) {                    Plotly.newPlot(                        \"ece50835-c3f8-4068-9078-8c3538c13196\",                        [{\"name\":\"NNC\",\"type\":\"scatter\",\"y\":[800.0,185.0,290.0,330.0,360.0,390.0,420.0,445.0,470.0,495.0,520.0,545.0,570.0,595.0,620.0,645.0,670.0,695.0,725.0,2915.0,3365.0,20795.0,210065.0,88630.0,45310.0,368905.0,112035.0,469950.0,785345.0,425275.0,1023750.0,628285.0,265565.0,298045.0,503130.0,635460.0,798840.0,851995.0,718020.0,523840.0,592220.0,745620.0,803740.0,834280.0,840160.0,916235.0,914795.0,646525.0,595245.0,861895.0,952885.0,622080.0,645120.0,414555.0,1144535.0,990470.0,921190.0,587670.0,654945.0,1103805.0,849675.0,1017390.0,363650.0,1085805.0,664135.0,467090.0,571695.0,3551690.0,2243375.0,1003785.0,836535.0,847345.0,745905.0,1046240.0,736910.0,713815.0,1543145.0,1247770.0,1230660.0,994385.0,1145720.0,823655.0,887670.0,1260330.0,1028470.0,555540.0,1231030.0,1166070.0,879010.0,943710.0,935425.0,1006540.0,1024640.0,1101530.0,1012440.0,851395.0,693285.0,657010.0,773340.0,908735.0,935945.0,835035.0,946335.0,1002845.0,993630.0,943840.0,864890.0,821390.0,751130.0,751850.0,804595.0,875450.0,892510.0,871825.0,849430.0]},{\"name\":\"CDI\",\"type\":\"scatter\",\"y\":[5,5,5,5,5,5,5,5,5,5,5,5,5,5,5,5,5,5,5,7590,2970,16075,157020,149830,48825,430725,127185,271375,927435,374175,369955,649995,572105,490285,399970,1418535,632440,740625,650985,1175255,1010385,1001180,949850,1133870,1013890,1280865,1166045,804725,603090,1330215,1021115,1138450,986950,491820,3307180,1151305,2061110,1585440,1311405,1011600,698145,1247160,502525,1261830,942145,713490,575595,1886255,1610270,1077950,1337380,977870,964145,1131160,1021920,1074665,1436650,1404895,1972425,1428495,1264035,1173475,1079070,2078915,1522480,831840,2426450,1285070,1883155,1519530,1289920,1493955,1330880,1292345,1086460,782525,559565,427900,590420,821910,786230,594385,724800,734350,619845,483030,347900,299810,956050,565650,726475,688760,626900,547205,456685]}],                        {\"shapes\":[{\"type\":\"line\",\"x0\":0,\"x1\":1,\"xref\":\"x domain\",\"y0\":681430.5,\"y1\":681430.5,\"yref\":\"y\"},{\"line\":{\"dash\":\"dash\"},\"type\":\"line\",\"x0\":0,\"x1\":1,\"xref\":\"x domain\",\"y0\":792494.625,\"y1\":792494.625,\"yref\":\"y\"}],\"template\":{\"data\":{\"bar\":[{\"error_x\":{\"color\":\"#2a3f5f\"},\"error_y\":{\"color\":\"#2a3f5f\"},\"marker\":{\"line\":{\"color\":\"#E5ECF6\",\"width\":0.5},\"pattern\":{\"fillmode\":\"overlay\",\"size\":10,\"solidity\":0.2}},\"type\":\"bar\"}],\"barpolar\":[{\"marker\":{\"line\":{\"color\":\"#E5ECF6\",\"width\":0.5},\"pattern\":{\"fillmode\":\"overlay\",\"size\":10,\"solidity\":0.2}},\"type\":\"barpolar\"}],\"carpet\":[{\"aaxis\":{\"endlinecolor\":\"#2a3f5f\",\"gridcolor\":\"white\",\"linecolor\":\"white\",\"minorgridcolor\":\"white\",\"startlinecolor\":\"#2a3f5f\"},\"baxis\":{\"endlinecolor\":\"#2a3f5f\",\"gridcolor\":\"white\",\"linecolor\":\"white\",\"minorgridcolor\":\"white\",\"startlinecolor\":\"#2a3f5f\"},\"type\":\"carpet\"}],\"choropleth\":[{\"colorbar\":{\"outlinewidth\":0,\"ticks\":\"\"},\"type\":\"choropleth\"}],\"contour\":[{\"colorbar\":{\"outlinewidth\":0,\"ticks\":\"\"},\"colorscale\":[[0.0,\"#0d0887\"],[0.1111111111111111,\"#46039f\"],[0.2222222222222222,\"#7201a8\"],[0.3333333333333333,\"#9c179e\"],[0.4444444444444444,\"#bd3786\"],[0.5555555555555556,\"#d8576b\"],[0.6666666666666666,\"#ed7953\"],[0.7777777777777778,\"#fb9f3a\"],[0.8888888888888888,\"#fdca26\"],[1.0,\"#f0f921\"]],\"type\":\"contour\"}],\"contourcarpet\":[{\"colorbar\":{\"outlinewidth\":0,\"ticks\":\"\"},\"type\":\"contourcarpet\"}],\"heatmap\":[{\"colorbar\":{\"outlinewidth\":0,\"ticks\":\"\"},\"colorscale\":[[0.0,\"#0d0887\"],[0.1111111111111111,\"#46039f\"],[0.2222222222222222,\"#7201a8\"],[0.3333333333333333,\"#9c179e\"],[0.4444444444444444,\"#bd3786\"],[0.5555555555555556,\"#d8576b\"],[0.6666666666666666,\"#ed7953\"],[0.7777777777777778,\"#fb9f3a\"],[0.8888888888888888,\"#fdca26\"],[1.0,\"#f0f921\"]],\"type\":\"heatmap\"}],\"heatmapgl\":[{\"colorbar\":{\"outlinewidth\":0,\"ticks\":\"\"},\"colorscale\":[[0.0,\"#0d0887\"],[0.1111111111111111,\"#46039f\"],[0.2222222222222222,\"#7201a8\"],[0.3333333333333333,\"#9c179e\"],[0.4444444444444444,\"#bd3786\"],[0.5555555555555556,\"#d8576b\"],[0.6666666666666666,\"#ed7953\"],[0.7777777777777778,\"#fb9f3a\"],[0.8888888888888888,\"#fdca26\"],[1.0,\"#f0f921\"]],\"type\":\"heatmapgl\"}],\"histogram\":[{\"marker\":{\"pattern\":{\"fillmode\":\"overlay\",\"size\":10,\"solidity\":0.2}},\"type\":\"histogram\"}],\"histogram2d\":[{\"colorbar\":{\"outlinewidth\":0,\"ticks\":\"\"},\"colorscale\":[[0.0,\"#0d0887\"],[0.1111111111111111,\"#46039f\"],[0.2222222222222222,\"#7201a8\"],[0.3333333333333333,\"#9c179e\"],[0.4444444444444444,\"#bd3786\"],[0.5555555555555556,\"#d8576b\"],[0.6666666666666666,\"#ed7953\"],[0.7777777777777778,\"#fb9f3a\"],[0.8888888888888888,\"#fdca26\"],[1.0,\"#f0f921\"]],\"type\":\"histogram2d\"}],\"histogram2dcontour\":[{\"colorbar\":{\"outlinewidth\":0,\"ticks\":\"\"},\"colorscale\":[[0.0,\"#0d0887\"],[0.1111111111111111,\"#46039f\"],[0.2222222222222222,\"#7201a8\"],[0.3333333333333333,\"#9c179e\"],[0.4444444444444444,\"#bd3786\"],[0.5555555555555556,\"#d8576b\"],[0.6666666666666666,\"#ed7953\"],[0.7777777777777778,\"#fb9f3a\"],[0.8888888888888888,\"#fdca26\"],[1.0,\"#f0f921\"]],\"type\":\"histogram2dcontour\"}],\"mesh3d\":[{\"colorbar\":{\"outlinewidth\":0,\"ticks\":\"\"},\"type\":\"mesh3d\"}],\"parcoords\":[{\"line\":{\"colorbar\":{\"outlinewidth\":0,\"ticks\":\"\"}},\"type\":\"parcoords\"}],\"pie\":[{\"automargin\":true,\"type\":\"pie\"}],\"scatter\":[{\"marker\":{\"colorbar\":{\"outlinewidth\":0,\"ticks\":\"\"}},\"type\":\"scatter\"}],\"scatter3d\":[{\"line\":{\"colorbar\":{\"outlinewidth\":0,\"ticks\":\"\"}},\"marker\":{\"colorbar\":{\"outlinewidth\":0,\"ticks\":\"\"}},\"type\":\"scatter3d\"}],\"scattercarpet\":[{\"marker\":{\"colorbar\":{\"outlinewidth\":0,\"ticks\":\"\"}},\"type\":\"scattercarpet\"}],\"scattergeo\":[{\"marker\":{\"colorbar\":{\"outlinewidth\":0,\"ticks\":\"\"}},\"type\":\"scattergeo\"}],\"scattergl\":[{\"marker\":{\"colorbar\":{\"outlinewidth\":0,\"ticks\":\"\"}},\"type\":\"scattergl\"}],\"scattermapbox\":[{\"marker\":{\"colorbar\":{\"outlinewidth\":0,\"ticks\":\"\"}},\"type\":\"scattermapbox\"}],\"scatterpolar\":[{\"marker\":{\"colorbar\":{\"outlinewidth\":0,\"ticks\":\"\"}},\"type\":\"scatterpolar\"}],\"scatterpolargl\":[{\"marker\":{\"colorbar\":{\"outlinewidth\":0,\"ticks\":\"\"}},\"type\":\"scatterpolargl\"}],\"scatterternary\":[{\"marker\":{\"colorbar\":{\"outlinewidth\":0,\"ticks\":\"\"}},\"type\":\"scatterternary\"}],\"surface\":[{\"colorbar\":{\"outlinewidth\":0,\"ticks\":\"\"},\"colorscale\":[[0.0,\"#0d0887\"],[0.1111111111111111,\"#46039f\"],[0.2222222222222222,\"#7201a8\"],[0.3333333333333333,\"#9c179e\"],[0.4444444444444444,\"#bd3786\"],[0.5555555555555556,\"#d8576b\"],[0.6666666666666666,\"#ed7953\"],[0.7777777777777778,\"#fb9f3a\"],[0.8888888888888888,\"#fdca26\"],[1.0,\"#f0f921\"]],\"type\":\"surface\"}],\"table\":[{\"cells\":{\"fill\":{\"color\":\"#EBF0F8\"},\"line\":{\"color\":\"white\"}},\"header\":{\"fill\":{\"color\":\"#C8D4E3\"},\"line\":{\"color\":\"white\"}},\"type\":\"table\"}]},\"layout\":{\"annotationdefaults\":{\"arrowcolor\":\"#2a3f5f\",\"arrowhead\":0,\"arrowwidth\":1},\"autotypenumbers\":\"strict\",\"coloraxis\":{\"colorbar\":{\"outlinewidth\":0,\"ticks\":\"\"}},\"colorscale\":{\"diverging\":[[0,\"#8e0152\"],[0.1,\"#c51b7d\"],[0.2,\"#de77ae\"],[0.3,\"#f1b6da\"],[0.4,\"#fde0ef\"],[0.5,\"#f7f7f7\"],[0.6,\"#e6f5d0\"],[0.7,\"#b8e186\"],[0.8,\"#7fbc41\"],[0.9,\"#4d9221\"],[1,\"#276419\"]],\"sequential\":[[0.0,\"#0d0887\"],[0.1111111111111111,\"#46039f\"],[0.2222222222222222,\"#7201a8\"],[0.3333333333333333,\"#9c179e\"],[0.4444444444444444,\"#bd3786\"],[0.5555555555555556,\"#d8576b\"],[0.6666666666666666,\"#ed7953\"],[0.7777777777777778,\"#fb9f3a\"],[0.8888888888888888,\"#fdca26\"],[1.0,\"#f0f921\"]],\"sequentialminus\":[[0.0,\"#0d0887\"],[0.1111111111111111,\"#46039f\"],[0.2222222222222222,\"#7201a8\"],[0.3333333333333333,\"#9c179e\"],[0.4444444444444444,\"#bd3786\"],[0.5555555555555556,\"#d8576b\"],[0.6666666666666666,\"#ed7953\"],[0.7777777777777778,\"#fb9f3a\"],[0.8888888888888888,\"#fdca26\"],[1.0,\"#f0f921\"]]},\"colorway\":[\"#636efa\",\"#EF553B\",\"#00cc96\",\"#ab63fa\",\"#FFA15A\",\"#19d3f3\",\"#FF6692\",\"#B6E880\",\"#FF97FF\",\"#FECB52\"],\"font\":{\"color\":\"#2a3f5f\"},\"geo\":{\"bgcolor\":\"white\",\"lakecolor\":\"white\",\"landcolor\":\"#E5ECF6\",\"showlakes\":true,\"showland\":true,\"subunitcolor\":\"white\"},\"hoverlabel\":{\"align\":\"left\"},\"hovermode\":\"closest\",\"mapbox\":{\"style\":\"light\"},\"paper_bgcolor\":\"white\",\"plot_bgcolor\":\"#E5ECF6\",\"polar\":{\"angularaxis\":{\"gridcolor\":\"white\",\"linecolor\":\"white\",\"ticks\":\"\"},\"bgcolor\":\"#E5ECF6\",\"radialaxis\":{\"gridcolor\":\"white\",\"linecolor\":\"white\",\"ticks\":\"\"}},\"scene\":{\"xaxis\":{\"backgroundcolor\":\"#E5ECF6\",\"gridcolor\":\"white\",\"gridwidth\":2,\"linecolor\":\"white\",\"showbackground\":true,\"ticks\":\"\",\"zerolinecolor\":\"white\"},\"yaxis\":{\"backgroundcolor\":\"#E5ECF6\",\"gridcolor\":\"white\",\"gridwidth\":2,\"linecolor\":\"white\",\"showbackground\":true,\"ticks\":\"\",\"zerolinecolor\":\"white\"},\"zaxis\":{\"backgroundcolor\":\"#E5ECF6\",\"gridcolor\":\"white\",\"gridwidth\":2,\"linecolor\":\"white\",\"showbackground\":true,\"ticks\":\"\",\"zerolinecolor\":\"white\"}},\"shapedefaults\":{\"line\":{\"color\":\"#2a3f5f\"}},\"ternary\":{\"aaxis\":{\"gridcolor\":\"white\",\"linecolor\":\"white\",\"ticks\":\"\"},\"baxis\":{\"gridcolor\":\"white\",\"linecolor\":\"white\",\"ticks\":\"\"},\"bgcolor\":\"#E5ECF6\",\"caxis\":{\"gridcolor\":\"white\",\"linecolor\":\"white\",\"ticks\":\"\"}},\"title\":{\"x\":0.05},\"xaxis\":{\"automargin\":true,\"gridcolor\":\"white\",\"linecolor\":\"white\",\"ticks\":\"\",\"title\":{\"standoff\":15},\"zerolinecolor\":\"white\",\"zerolinewidth\":2},\"yaxis\":{\"automargin\":true,\"gridcolor\":\"white\",\"linecolor\":\"white\",\"ticks\":\"\",\"title\":{\"standoff\":15},\"zerolinecolor\":\"white\",\"zerolinewidth\":2}}},\"xaxis\":{\"title\":{\"text\":\"Timestep\"}},\"yaxis\":{\"title\":{\"text\":\"Cost\"}}},                        {\"responsive\": true}                    ).then(function(){\n",
       "                            \n",
       "var gd = document.getElementById('ece50835-c3f8-4068-9078-8c3538c13196');\n",
       "var x = new MutationObserver(function (mutations, observer) {{\n",
       "        var display = window.getComputedStyle(gd).display;\n",
       "        if (!display || display === 'none') {{\n",
       "            console.log([gd, 'removed!']);\n",
       "            Plotly.purge(gd);\n",
       "            observer.disconnect();\n",
       "        }}\n",
       "}});\n",
       "\n",
       "// Listen for the removal of the full notebook cells\n",
       "var notebookContainer = gd.closest('#notebook-container');\n",
       "if (notebookContainer) {{\n",
       "    x.observe(notebookContainer, {childList: true});\n",
       "}}\n",
       "\n",
       "// Listen for the clearing of the current output cell\n",
       "var outputEl = gd.closest('.output');\n",
       "if (outputEl) {{\n",
       "    x.observe(outputEl, {childList: true});\n",
       "}}\n",
       "\n",
       "                        })                };                });            </script>        </div>"
      ]
     },
     "metadata": {},
     "output_type": "display_data"
    }
   ],
   "source": [
    "a = go.Scatter(y=[x.item() for x in nn_ci], name='NNC')\n",
    "b = go.Scatter(y=[x.item() for x in cdi_ci], name='CDI')\n",
    "fig = go.Figure([a,b])\n",
    "fig.add_hline(nn_mean_cost.detach().item())\n",
    "fig.add_hline(cdi_mean_cost.detach().item(),line={'dash':'dash'})\n",
    "fig.layout.xaxis.title = 'Timestep'\n",
    "fig.layout.yaxis.title = 'Cost'\n",
    "fig"
   ]
  },
  {
   "cell_type": "code",
   "execution_count": 781,
   "id": "5c09c03c",
   "metadata": {},
   "outputs": [
    {
     "data": {
      "text/plain": [
       "792494.625"
      ]
     },
     "execution_count": 781,
     "metadata": {},
     "output_type": "execute_result"
    }
   ],
   "source": [
    "cdi_mean_cost.detach().item()"
   ]
  },
  {
   "cell_type": "code",
   "execution_count": 782,
   "id": "4ae2e786",
   "metadata": {},
   "outputs": [
    {
     "data": {
      "text/plain": [
       "681430.5"
      ]
     },
     "execution_count": 782,
     "metadata": {},
     "output_type": "execute_result"
    }
   ],
   "source": [
    "nn_mean_cost.detach().item()"
   ]
  },
  {
   "cell_type": "code",
   "execution_count": 783,
   "id": "6388273c",
   "metadata": {},
   "outputs": [
    {
     "data": {
      "text/plain": [
       "416666.6666666667"
      ]
     },
     "execution_count": 783,
     "metadata": {},
     "output_type": "execute_result"
    }
   ],
   "source": [
    "2.5e6*20/120"
   ]
  },
  {
   "cell_type": "code",
   "execution_count": 784,
   "id": "ccf07349",
   "metadata": {},
   "outputs": [
    {
     "data": {
      "application/vnd.plotly.v1+json": {
       "config": {
        "plotlyServerURL": "https://plot.ly"
       },
       "data": [
        {
         "name": "NNC Inventory",
         "type": "scatter",
         "y": [
          0,
          32,
          33,
          58,
          66,
          72,
          78,
          84,
          89,
          94,
          99,
          104,
          109,
          114,
          119,
          124,
          129,
          134,
          139,
          145,
          171,
          229,
          231,
          6169,
          2670,
          9062,
          23857,
          22407,
          36018,
          48593,
          43707,
          14798,
          31001,
          18349,
          26917,
          48682,
          26852,
          72720,
          48735,
          86732,
          104768,
          118444,
          149124,
          160748,
          166856,
          168032,
          183247,
          182959,
          129305,
          119049,
          113399,
          140841,
          124416,
          129024,
          47803,
          17567,
          77538,
          147610,
          117534,
          130989,
          129081,
          120227,
          144630,
          68330,
          165989,
          132827,
          93418,
          60707,
          -5578,
          52203,
          79901,
          167307,
          169469,
          149181,
          189604,
          147382,
          142763,
          211977,
          249554,
          246132,
          198877,
          229144,
          164731,
          177534,
          252066,
          205694,
          111108,
          117786,
          155586,
          175802,
          188742,
          187085,
          201308,
          204928,
          220306,
          202488,
          170279,
          138657,
          131402,
          154668,
          181747,
          187189,
          167007,
          189267,
          200569,
          198726,
          188768,
          172978,
          164278,
          150226,
          150370,
          160919,
          175090,
          178502,
          174365,
          169886
         ]
        },
        {
         "name": "CDI Inventory",
         "type": "scatter",
         "y": [
          1,
          1,
          1,
          1,
          1,
          1,
          1,
          1,
          1,
          1,
          1,
          1,
          1,
          1,
          1,
          1,
          1,
          1,
          1,
          1,
          238,
          262,
          299,
          4128,
          3966,
          8505,
          29389,
          25437,
          54275,
          66427,
          74835,
          73991,
          66535,
          114421,
          98057,
          79994,
          66231,
          126488,
          148125,
          130197,
          235051,
          202077,
          200236,
          189970,
          226774,
          202778,
          256173,
          233209,
          160945,
          120618,
          130023,
          204223,
          227690,
          197390,
          98364,
          107804,
          230261,
          412222,
          317088,
          262281,
          202320,
          139629,
          249432,
          100505,
          252366,
          188429,
          142698,
          115119,
          55731,
          108406,
          215590,
          267476,
          195574,
          192829,
          226232,
          204384,
          214933,
          287330,
          280979,
          394485,
          285699,
          252807,
          159147,
          161818,
          415783,
          304496,
          166368,
          168778,
          257014,
          376631,
          303906,
          257984,
          298791,
          266176,
          258469,
          217292,
          156505,
          111913,
          85580,
          118084,
          164382,
          157246,
          118877,
          144960,
          146870,
          123969,
          96606,
          69580,
          49574,
          58262,
          113130,
          145295,
          137752,
          125380,
          109441,
          91337
         ]
        },
        {
         "name": "Demand",
         "type": "scatter",
         "x": [
          1,
          2,
          3,
          4,
          5,
          6,
          7,
          8,
          9,
          10,
          11,
          12,
          13,
          14,
          15,
          16,
          17,
          18,
          19,
          20,
          21,
          22,
          23,
          24,
          25,
          26,
          27,
          28,
          29,
          30,
          31,
          32,
          33,
          34,
          35,
          36,
          37,
          38,
          39,
          40,
          41,
          42,
          43,
          44,
          45,
          46,
          47,
          48,
          49,
          50,
          51,
          52,
          53,
          54,
          55,
          56,
          57,
          58,
          59,
          60,
          61,
          62,
          63,
          64,
          65,
          66,
          67,
          68,
          69,
          70,
          71,
          72,
          73,
          74,
          75,
          76,
          77,
          78,
          79,
          80,
          81,
          82,
          83,
          84,
          85,
          86,
          87,
          88,
          89,
          90,
          91,
          92,
          93,
          94,
          95,
          96,
          97,
          98,
          99,
          100,
          101,
          102,
          103,
          104,
          105,
          106,
          107,
          108,
          109,
          110,
          111,
          112,
          113,
          114,
          115,
          116,
          117,
          118,
          119,
          120,
          121,
          122,
          123,
          124,
          125,
          126,
          127,
          128,
          129,
          130,
          131,
          132,
          133,
          134,
          135,
          136,
          137,
          138,
          139,
          140,
          141,
          142,
          143,
          144,
          145,
          146,
          147,
          148,
          149,
          150,
          151,
          152,
          153,
          154,
          155,
          156,
          157,
          158,
          159,
          160,
          161,
          162,
          163,
          164,
          165,
          166,
          167,
          168,
          169,
          170,
          171,
          172,
          173,
          174,
          175,
          176,
          177,
          178,
          179,
          180,
          181,
          182,
          183,
          184,
          185,
          186,
          187,
          188,
          189,
          190,
          191,
          192,
          193,
          194,
          195,
          196,
          197,
          198,
          199,
          200,
          201,
          202,
          203,
          204,
          205,
          206,
          207,
          208,
          209,
          210,
          211,
          212,
          213,
          214,
          215,
          216,
          217,
          218,
          219,
          220,
          221,
          222,
          223,
          224,
          225,
          226,
          227,
          228,
          229,
          230,
          231,
          232,
          233,
          234,
          235,
          236,
          237,
          238,
          239,
          240,
          241,
          242,
          243,
          244,
          245,
          246,
          247,
          248,
          249,
          250,
          251,
          252,
          253,
          254,
          255,
          256,
          257,
          258,
          259,
          260,
          261,
          262,
          263,
          264,
          265,
          266,
          267,
          268,
          269,
          270,
          271,
          272,
          273,
          274,
          275,
          276,
          277,
          278,
          279,
          280,
          281,
          282,
          283,
          284,
          285,
          286,
          287,
          288,
          289,
          290,
          291,
          292,
          293,
          294,
          295,
          296,
          297,
          298,
          299,
          300,
          301,
          302,
          303,
          304,
          305,
          306,
          307,
          308,
          309,
          310,
          311,
          312,
          313,
          314,
          315,
          316,
          317,
          318,
          319,
          320,
          321,
          322,
          323,
          324,
          325,
          326,
          327,
          328,
          329,
          330,
          331,
          332,
          333,
          334,
          335,
          336,
          337,
          338,
          339,
          340,
          341,
          342,
          343,
          344,
          345,
          346,
          347,
          348,
          349,
          350,
          351,
          352,
          353,
          354,
          355,
          356,
          357,
          358,
          359,
          360,
          361,
          362,
          363,
          364,
          365,
          366,
          367,
          368,
          369,
          370,
          371,
          372,
          373,
          374,
          375,
          376,
          377,
          378,
          379,
          380,
          381,
          382,
          383,
          384,
          385,
          386,
          387,
          388,
          389,
          390,
          391,
          392,
          393,
          394,
          395,
          396,
          397,
          398,
          399,
          400,
          401,
          402,
          403,
          404,
          405,
          406,
          407,
          408,
          409,
          410,
          411,
          412,
          413,
          414,
          415,
          416,
          417,
          418,
          419,
          420,
          421,
          422,
          423,
          424,
          425,
          426,
          427,
          428,
          429,
          430,
          431,
          432,
          433,
          434,
          435,
          436,
          437,
          438,
          439,
          440,
          441,
          442,
          443,
          444,
          445,
          446,
          447,
          448,
          449,
          450,
          451,
          452,
          453,
          454,
          455,
          456,
          457,
          458,
          459,
          460,
          461,
          462,
          463,
          464,
          465,
          466,
          467,
          468,
          469,
          470,
          471,
          472,
          473,
          474,
          475,
          476,
          477,
          478,
          479,
          480,
          481,
          482,
          483,
          484,
          485,
          486,
          487,
          488,
          489,
          490,
          491,
          492,
          493,
          494,
          495,
          496,
          497,
          498,
          499,
          500,
          501,
          502,
          503,
          504,
          505,
          506,
          507,
          508,
          509,
          510,
          511,
          512,
          513,
          514,
          515,
          516,
          517,
          518,
          519,
          520,
          521,
          522,
          523,
          524,
          525,
          526,
          527,
          528,
          529,
          530,
          531,
          532,
          533,
          534,
          535,
          536,
          537,
          538,
          539,
          540,
          541,
          542,
          543,
          544,
          545,
          546,
          547,
          548,
          549,
          550,
          551,
          552,
          553,
          554,
          555,
          556,
          557,
          558,
          559,
          560,
          561,
          562,
          563,
          564,
          565,
          566,
          567,
          568,
          569,
          570,
          571,
          572,
          573,
          574,
          575,
          576,
          577,
          578,
          579,
          580,
          581,
          582,
          583,
          584,
          585,
          586,
          587,
          588,
          589,
          590,
          591,
          592,
          593,
          594,
          595,
          596,
          597,
          598,
          599,
          600,
          601,
          602,
          603,
          604,
          605,
          606,
          607,
          608,
          609,
          610,
          611,
          612,
          613,
          614,
          615,
          616,
          617,
          618,
          619,
          620,
          621,
          622,
          623,
          624,
          625,
          626,
          627,
          628,
          629,
          630,
          631,
          632,
          633,
          634,
          635,
          636,
          637,
          638,
          639,
          640,
          641,
          642,
          643,
          644,
          645,
          646,
          647,
          648,
          649,
          650,
          651,
          652,
          653,
          654,
          655,
          656,
          657,
          658,
          659,
          660,
          661,
          662,
          663,
          664,
          665,
          666,
          667,
          668,
          669,
          670,
          671,
          672,
          673,
          674,
          675,
          676,
          677,
          678,
          679,
          680,
          681,
          682,
          683,
          684,
          685,
          686,
          687,
          688,
          689,
          690,
          691,
          692,
          693,
          694,
          695,
          696,
          697,
          698,
          699,
          700,
          701,
          702,
          703,
          704,
          705,
          706,
          707,
          708,
          709,
          710,
          711,
          712,
          713,
          714,
          715,
          716,
          717,
          718,
          719,
          720,
          721,
          722,
          723,
          724,
          725,
          726,
          727,
          728,
          729,
          730,
          731,
          732,
          733,
          734,
          735,
          736,
          737,
          738,
          739,
          740,
          741,
          742,
          743,
          744,
          745,
          746,
          747,
          748,
          749,
          750,
          751,
          752,
          753,
          754,
          755,
          756,
          757,
          758,
          759,
          760,
          761,
          762,
          763,
          764,
          765,
          766,
          767,
          768,
          769,
          770,
          771,
          772,
          773,
          774,
          775,
          776,
          777,
          778,
          779,
          780,
          781,
          782,
          783,
          784,
          785,
          786,
          787,
          788,
          789,
          790,
          791,
          792,
          793,
          794,
          795,
          796,
          797,
          798,
          799,
          800,
          801,
          802,
          803,
          804,
          805,
          806,
          807,
          808,
          809,
          810,
          811,
          812,
          813,
          814,
          815,
          816,
          817,
          818,
          819,
          820,
          821,
          822,
          823,
          824,
          825,
          826,
          827,
          828,
          829,
          830,
          831,
          832,
          833,
          834,
          835,
          836,
          837,
          838,
          839,
          840,
          841,
          842,
          843,
          844,
          845,
          846,
          847,
          848,
          849,
          850,
          851,
          852,
          853,
          854,
          855,
          856,
          857,
          858,
          859,
          860,
          861,
          862,
          863,
          864,
          865,
          866,
          867,
          868,
          869,
          870,
          871,
          872,
          873,
          874,
          875,
          876,
          877,
          878,
          879,
          880,
          881,
          882,
          883,
          884,
          885,
          886,
          887,
          888,
          889,
          890,
          891,
          892,
          893,
          894,
          895,
          896,
          897,
          898,
          899,
          900,
          901,
          902,
          903,
          904,
          905,
          906,
          907,
          908,
          909,
          910,
          911,
          912,
          913,
          914,
          915,
          916,
          917,
          918,
          919,
          920,
          921,
          922,
          923,
          924,
          925,
          926,
          927,
          928,
          929,
          930,
          931,
          932,
          933,
          934,
          935,
          936,
          937,
          938,
          939,
          940,
          941,
          942,
          943,
          944,
          945,
          946,
          947,
          948,
          949,
          950,
          951,
          952,
          953,
          954,
          955,
          956,
          957,
          958,
          959,
          960,
          961,
          962,
          963,
          964,
          965,
          966,
          967,
          968,
          969,
          970,
          971,
          972,
          973,
          974,
          975,
          976,
          977,
          978,
          979,
          980,
          981,
          982,
          983,
          984,
          985,
          986,
          987,
          988,
          989,
          990,
          991,
          992,
          993,
          994,
          995,
          996,
          997,
          998,
          999,
          1000
         ],
         "y": [
          0,
          0,
          0,
          0,
          0,
          0,
          0,
          0,
          0,
          0,
          0,
          0,
          0,
          0,
          0,
          0,
          0,
          0,
          0,
          0,
          75,
          786,
          116,
          580,
          6188,
          11564,
          106,
          5630,
          4301,
          1038,
          29572,
          30298,
          28199,
          13063,
          22227,
          31767,
          38957,
          64069,
          33640,
          42426,
          23522,
          93304,
          21599,
          49393,
          57072,
          28230,
          51569,
          63184,
          14082,
          35177,
          138399,
          66902,
          21945,
          40657,
          127437,
          42949,
          49577,
          52125,
          54725,
          164058,
          92302,
          170544,
          70822,
          152175,
          51536,
          48064,
          90214,
          81644,
          134161,
          97618,
          31287,
          41764,
          55110,
          9687,
          73622,
          24307,
          170568,
          120140,
          90718,
          19437,
          26946,
          65620,
          87350,
          85401,
          91847,
          150304,
          62979,
          114905,
          58016,
          138965,
          30639,
          33343,
          51513,
          39294,
          37933,
          49299,
          71086,
          36842,
          20130,
          12749,
          17349,
          11865,
          20276,
          51688,
          14145,
          1324,
          12919,
          16576,
          24421,
          22030,
          29117,
          16690,
          17191,
          821,
          25385
         ]
        }
       ],
       "layout": {
        "template": {
         "data": {
          "bar": [
           {
            "error_x": {
             "color": "#2a3f5f"
            },
            "error_y": {
             "color": "#2a3f5f"
            },
            "marker": {
             "line": {
              "color": "#E5ECF6",
              "width": 0.5
             },
             "pattern": {
              "fillmode": "overlay",
              "size": 10,
              "solidity": 0.2
             }
            },
            "type": "bar"
           }
          ],
          "barpolar": [
           {
            "marker": {
             "line": {
              "color": "#E5ECF6",
              "width": 0.5
             },
             "pattern": {
              "fillmode": "overlay",
              "size": 10,
              "solidity": 0.2
             }
            },
            "type": "barpolar"
           }
          ],
          "carpet": [
           {
            "aaxis": {
             "endlinecolor": "#2a3f5f",
             "gridcolor": "white",
             "linecolor": "white",
             "minorgridcolor": "white",
             "startlinecolor": "#2a3f5f"
            },
            "baxis": {
             "endlinecolor": "#2a3f5f",
             "gridcolor": "white",
             "linecolor": "white",
             "minorgridcolor": "white",
             "startlinecolor": "#2a3f5f"
            },
            "type": "carpet"
           }
          ],
          "choropleth": [
           {
            "colorbar": {
             "outlinewidth": 0,
             "ticks": ""
            },
            "type": "choropleth"
           }
          ],
          "contour": [
           {
            "colorbar": {
             "outlinewidth": 0,
             "ticks": ""
            },
            "colorscale": [
             [
              0,
              "#0d0887"
             ],
             [
              0.1111111111111111,
              "#46039f"
             ],
             [
              0.2222222222222222,
              "#7201a8"
             ],
             [
              0.3333333333333333,
              "#9c179e"
             ],
             [
              0.4444444444444444,
              "#bd3786"
             ],
             [
              0.5555555555555556,
              "#d8576b"
             ],
             [
              0.6666666666666666,
              "#ed7953"
             ],
             [
              0.7777777777777778,
              "#fb9f3a"
             ],
             [
              0.8888888888888888,
              "#fdca26"
             ],
             [
              1,
              "#f0f921"
             ]
            ],
            "type": "contour"
           }
          ],
          "contourcarpet": [
           {
            "colorbar": {
             "outlinewidth": 0,
             "ticks": ""
            },
            "type": "contourcarpet"
           }
          ],
          "heatmap": [
           {
            "colorbar": {
             "outlinewidth": 0,
             "ticks": ""
            },
            "colorscale": [
             [
              0,
              "#0d0887"
             ],
             [
              0.1111111111111111,
              "#46039f"
             ],
             [
              0.2222222222222222,
              "#7201a8"
             ],
             [
              0.3333333333333333,
              "#9c179e"
             ],
             [
              0.4444444444444444,
              "#bd3786"
             ],
             [
              0.5555555555555556,
              "#d8576b"
             ],
             [
              0.6666666666666666,
              "#ed7953"
             ],
             [
              0.7777777777777778,
              "#fb9f3a"
             ],
             [
              0.8888888888888888,
              "#fdca26"
             ],
             [
              1,
              "#f0f921"
             ]
            ],
            "type": "heatmap"
           }
          ],
          "heatmapgl": [
           {
            "colorbar": {
             "outlinewidth": 0,
             "ticks": ""
            },
            "colorscale": [
             [
              0,
              "#0d0887"
             ],
             [
              0.1111111111111111,
              "#46039f"
             ],
             [
              0.2222222222222222,
              "#7201a8"
             ],
             [
              0.3333333333333333,
              "#9c179e"
             ],
             [
              0.4444444444444444,
              "#bd3786"
             ],
             [
              0.5555555555555556,
              "#d8576b"
             ],
             [
              0.6666666666666666,
              "#ed7953"
             ],
             [
              0.7777777777777778,
              "#fb9f3a"
             ],
             [
              0.8888888888888888,
              "#fdca26"
             ],
             [
              1,
              "#f0f921"
             ]
            ],
            "type": "heatmapgl"
           }
          ],
          "histogram": [
           {
            "marker": {
             "pattern": {
              "fillmode": "overlay",
              "size": 10,
              "solidity": 0.2
             }
            },
            "type": "histogram"
           }
          ],
          "histogram2d": [
           {
            "colorbar": {
             "outlinewidth": 0,
             "ticks": ""
            },
            "colorscale": [
             [
              0,
              "#0d0887"
             ],
             [
              0.1111111111111111,
              "#46039f"
             ],
             [
              0.2222222222222222,
              "#7201a8"
             ],
             [
              0.3333333333333333,
              "#9c179e"
             ],
             [
              0.4444444444444444,
              "#bd3786"
             ],
             [
              0.5555555555555556,
              "#d8576b"
             ],
             [
              0.6666666666666666,
              "#ed7953"
             ],
             [
              0.7777777777777778,
              "#fb9f3a"
             ],
             [
              0.8888888888888888,
              "#fdca26"
             ],
             [
              1,
              "#f0f921"
             ]
            ],
            "type": "histogram2d"
           }
          ],
          "histogram2dcontour": [
           {
            "colorbar": {
             "outlinewidth": 0,
             "ticks": ""
            },
            "colorscale": [
             [
              0,
              "#0d0887"
             ],
             [
              0.1111111111111111,
              "#46039f"
             ],
             [
              0.2222222222222222,
              "#7201a8"
             ],
             [
              0.3333333333333333,
              "#9c179e"
             ],
             [
              0.4444444444444444,
              "#bd3786"
             ],
             [
              0.5555555555555556,
              "#d8576b"
             ],
             [
              0.6666666666666666,
              "#ed7953"
             ],
             [
              0.7777777777777778,
              "#fb9f3a"
             ],
             [
              0.8888888888888888,
              "#fdca26"
             ],
             [
              1,
              "#f0f921"
             ]
            ],
            "type": "histogram2dcontour"
           }
          ],
          "mesh3d": [
           {
            "colorbar": {
             "outlinewidth": 0,
             "ticks": ""
            },
            "type": "mesh3d"
           }
          ],
          "parcoords": [
           {
            "line": {
             "colorbar": {
              "outlinewidth": 0,
              "ticks": ""
             }
            },
            "type": "parcoords"
           }
          ],
          "pie": [
           {
            "automargin": true,
            "type": "pie"
           }
          ],
          "scatter": [
           {
            "marker": {
             "colorbar": {
              "outlinewidth": 0,
              "ticks": ""
             }
            },
            "type": "scatter"
           }
          ],
          "scatter3d": [
           {
            "line": {
             "colorbar": {
              "outlinewidth": 0,
              "ticks": ""
             }
            },
            "marker": {
             "colorbar": {
              "outlinewidth": 0,
              "ticks": ""
             }
            },
            "type": "scatter3d"
           }
          ],
          "scattercarpet": [
           {
            "marker": {
             "colorbar": {
              "outlinewidth": 0,
              "ticks": ""
             }
            },
            "type": "scattercarpet"
           }
          ],
          "scattergeo": [
           {
            "marker": {
             "colorbar": {
              "outlinewidth": 0,
              "ticks": ""
             }
            },
            "type": "scattergeo"
           }
          ],
          "scattergl": [
           {
            "marker": {
             "colorbar": {
              "outlinewidth": 0,
              "ticks": ""
             }
            },
            "type": "scattergl"
           }
          ],
          "scattermapbox": [
           {
            "marker": {
             "colorbar": {
              "outlinewidth": 0,
              "ticks": ""
             }
            },
            "type": "scattermapbox"
           }
          ],
          "scatterpolar": [
           {
            "marker": {
             "colorbar": {
              "outlinewidth": 0,
              "ticks": ""
             }
            },
            "type": "scatterpolar"
           }
          ],
          "scatterpolargl": [
           {
            "marker": {
             "colorbar": {
              "outlinewidth": 0,
              "ticks": ""
             }
            },
            "type": "scatterpolargl"
           }
          ],
          "scatterternary": [
           {
            "marker": {
             "colorbar": {
              "outlinewidth": 0,
              "ticks": ""
             }
            },
            "type": "scatterternary"
           }
          ],
          "surface": [
           {
            "colorbar": {
             "outlinewidth": 0,
             "ticks": ""
            },
            "colorscale": [
             [
              0,
              "#0d0887"
             ],
             [
              0.1111111111111111,
              "#46039f"
             ],
             [
              0.2222222222222222,
              "#7201a8"
             ],
             [
              0.3333333333333333,
              "#9c179e"
             ],
             [
              0.4444444444444444,
              "#bd3786"
             ],
             [
              0.5555555555555556,
              "#d8576b"
             ],
             [
              0.6666666666666666,
              "#ed7953"
             ],
             [
              0.7777777777777778,
              "#fb9f3a"
             ],
             [
              0.8888888888888888,
              "#fdca26"
             ],
             [
              1,
              "#f0f921"
             ]
            ],
            "type": "surface"
           }
          ],
          "table": [
           {
            "cells": {
             "fill": {
              "color": "#EBF0F8"
             },
             "line": {
              "color": "white"
             }
            },
            "header": {
             "fill": {
              "color": "#C8D4E3"
             },
             "line": {
              "color": "white"
             }
            },
            "type": "table"
           }
          ]
         },
         "layout": {
          "annotationdefaults": {
           "arrowcolor": "#2a3f5f",
           "arrowhead": 0,
           "arrowwidth": 1
          },
          "autotypenumbers": "strict",
          "coloraxis": {
           "colorbar": {
            "outlinewidth": 0,
            "ticks": ""
           }
          },
          "colorscale": {
           "diverging": [
            [
             0,
             "#8e0152"
            ],
            [
             0.1,
             "#c51b7d"
            ],
            [
             0.2,
             "#de77ae"
            ],
            [
             0.3,
             "#f1b6da"
            ],
            [
             0.4,
             "#fde0ef"
            ],
            [
             0.5,
             "#f7f7f7"
            ],
            [
             0.6,
             "#e6f5d0"
            ],
            [
             0.7,
             "#b8e186"
            ],
            [
             0.8,
             "#7fbc41"
            ],
            [
             0.9,
             "#4d9221"
            ],
            [
             1,
             "#276419"
            ]
           ],
           "sequential": [
            [
             0,
             "#0d0887"
            ],
            [
             0.1111111111111111,
             "#46039f"
            ],
            [
             0.2222222222222222,
             "#7201a8"
            ],
            [
             0.3333333333333333,
             "#9c179e"
            ],
            [
             0.4444444444444444,
             "#bd3786"
            ],
            [
             0.5555555555555556,
             "#d8576b"
            ],
            [
             0.6666666666666666,
             "#ed7953"
            ],
            [
             0.7777777777777778,
             "#fb9f3a"
            ],
            [
             0.8888888888888888,
             "#fdca26"
            ],
            [
             1,
             "#f0f921"
            ]
           ],
           "sequentialminus": [
            [
             0,
             "#0d0887"
            ],
            [
             0.1111111111111111,
             "#46039f"
            ],
            [
             0.2222222222222222,
             "#7201a8"
            ],
            [
             0.3333333333333333,
             "#9c179e"
            ],
            [
             0.4444444444444444,
             "#bd3786"
            ],
            [
             0.5555555555555556,
             "#d8576b"
            ],
            [
             0.6666666666666666,
             "#ed7953"
            ],
            [
             0.7777777777777778,
             "#fb9f3a"
            ],
            [
             0.8888888888888888,
             "#fdca26"
            ],
            [
             1,
             "#f0f921"
            ]
           ]
          },
          "colorway": [
           "#636efa",
           "#EF553B",
           "#00cc96",
           "#ab63fa",
           "#FFA15A",
           "#19d3f3",
           "#FF6692",
           "#B6E880",
           "#FF97FF",
           "#FECB52"
          ],
          "font": {
           "color": "#2a3f5f"
          },
          "geo": {
           "bgcolor": "white",
           "lakecolor": "white",
           "landcolor": "#E5ECF6",
           "showlakes": true,
           "showland": true,
           "subunitcolor": "white"
          },
          "hoverlabel": {
           "align": "left"
          },
          "hovermode": "closest",
          "mapbox": {
           "style": "light"
          },
          "paper_bgcolor": "white",
          "plot_bgcolor": "#E5ECF6",
          "polar": {
           "angularaxis": {
            "gridcolor": "white",
            "linecolor": "white",
            "ticks": ""
           },
           "bgcolor": "#E5ECF6",
           "radialaxis": {
            "gridcolor": "white",
            "linecolor": "white",
            "ticks": ""
           }
          },
          "scene": {
           "xaxis": {
            "backgroundcolor": "#E5ECF6",
            "gridcolor": "white",
            "gridwidth": 2,
            "linecolor": "white",
            "showbackground": true,
            "ticks": "",
            "zerolinecolor": "white"
           },
           "yaxis": {
            "backgroundcolor": "#E5ECF6",
            "gridcolor": "white",
            "gridwidth": 2,
            "linecolor": "white",
            "showbackground": true,
            "ticks": "",
            "zerolinecolor": "white"
           },
           "zaxis": {
            "backgroundcolor": "#E5ECF6",
            "gridcolor": "white",
            "gridwidth": 2,
            "linecolor": "white",
            "showbackground": true,
            "ticks": "",
            "zerolinecolor": "white"
           }
          },
          "shapedefaults": {
           "line": {
            "color": "#2a3f5f"
           }
          },
          "ternary": {
           "aaxis": {
            "gridcolor": "white",
            "linecolor": "white",
            "ticks": ""
           },
           "baxis": {
            "gridcolor": "white",
            "linecolor": "white",
            "ticks": ""
           },
           "bgcolor": "#E5ECF6",
           "caxis": {
            "gridcolor": "white",
            "linecolor": "white",
            "ticks": ""
           }
          },
          "title": {
           "x": 0.05
          },
          "xaxis": {
           "automargin": true,
           "gridcolor": "white",
           "linecolor": "white",
           "ticks": "",
           "title": {
            "standoff": 15
           },
           "zerolinecolor": "white",
           "zerolinewidth": 2
          },
          "yaxis": {
           "automargin": true,
           "gridcolor": "white",
           "linecolor": "white",
           "ticks": "",
           "title": {
            "standoff": 15
           },
           "zerolinecolor": "white",
           "zerolinewidth": 2
          }
         }
        },
        "xaxis": {
         "title": {
          "text": "Timestep"
         }
        },
        "yaxis": {
         "title": {
          "text": "Quantity"
         }
        }
       }
      },
      "text/html": [
       "<div>                            <div id=\"da766b2b-25ae-4608-a9e3-07ef55e2e641\" class=\"plotly-graph-div\" style=\"height:525px; width:100%;\"></div>            <script type=\"text/javascript\">                require([\"plotly\"], function(Plotly) {                    window.PLOTLYENV=window.PLOTLYENV || {};                                    if (document.getElementById(\"da766b2b-25ae-4608-a9e3-07ef55e2e641\")) {                    Plotly.newPlot(                        \"da766b2b-25ae-4608-a9e3-07ef55e2e641\",                        [{\"name\":\"NNC Inventory\",\"type\":\"scatter\",\"y\":[0.0,32.0,33.0,58.0,66.0,72.0,78.0,84.0,89.0,94.0,99.0,104.0,109.0,114.0,119.0,124.0,129.0,134.0,139.0,145.0,171.0,229.0,231.0,6169.0,2670.0,9062.0,23857.0,22407.0,36018.0,48593.0,43707.0,14798.0,31001.0,18349.0,26917.0,48682.0,26852.0,72720.0,48735.0,86732.0,104768.0,118444.0,149124.0,160748.0,166856.0,168032.0,183247.0,182959.0,129305.0,119049.0,113399.0,140841.0,124416.0,129024.0,47803.0,17567.0,77538.0,147610.0,117534.0,130989.0,129081.0,120227.0,144630.0,68330.0,165989.0,132827.0,93418.0,60707.0,-5578.0,52203.0,79901.0,167307.0,169469.0,149181.0,189604.0,147382.0,142763.0,211977.0,249554.0,246132.0,198877.0,229144.0,164731.0,177534.0,252066.0,205694.0,111108.0,117786.0,155586.0,175802.0,188742.0,187085.0,201308.0,204928.0,220306.0,202488.0,170279.0,138657.0,131402.0,154668.0,181747.0,187189.0,167007.0,189267.0,200569.0,198726.0,188768.0,172978.0,164278.0,150226.0,150370.0,160919.0,175090.0,178502.0,174365.0,169886.0]},{\"name\":\"CDI Inventory\",\"type\":\"scatter\",\"y\":[1,1,1,1,1,1,1,1,1,1,1,1,1,1,1,1,1,1,1,1,238,262,299,4128,3966,8505,29389,25437,54275,66427,74835,73991,66535,114421,98057,79994,66231,126488,148125,130197,235051,202077,200236,189970,226774,202778,256173,233209,160945,120618,130023,204223,227690,197390,98364,107804,230261,412222,317088,262281,202320,139629,249432,100505,252366,188429,142698,115119,55731,108406,215590,267476,195574,192829,226232,204384,214933,287330,280979,394485,285699,252807,159147,161818,415783,304496,166368,168778,257014,376631,303906,257984,298791,266176,258469,217292,156505,111913,85580,118084,164382,157246,118877,144960,146870,123969,96606,69580,49574,58262,113130,145295,137752,125380,109441,91337]},{\"name\":\"Demand\",\"type\":\"scatter\",\"x\":[1,2,3,4,5,6,7,8,9,10,11,12,13,14,15,16,17,18,19,20,21,22,23,24,25,26,27,28,29,30,31,32,33,34,35,36,37,38,39,40,41,42,43,44,45,46,47,48,49,50,51,52,53,54,55,56,57,58,59,60,61,62,63,64,65,66,67,68,69,70,71,72,73,74,75,76,77,78,79,80,81,82,83,84,85,86,87,88,89,90,91,92,93,94,95,96,97,98,99,100,101,102,103,104,105,106,107,108,109,110,111,112,113,114,115,116,117,118,119,120,121,122,123,124,125,126,127,128,129,130,131,132,133,134,135,136,137,138,139,140,141,142,143,144,145,146,147,148,149,150,151,152,153,154,155,156,157,158,159,160,161,162,163,164,165,166,167,168,169,170,171,172,173,174,175,176,177,178,179,180,181,182,183,184,185,186,187,188,189,190,191,192,193,194,195,196,197,198,199,200,201,202,203,204,205,206,207,208,209,210,211,212,213,214,215,216,217,218,219,220,221,222,223,224,225,226,227,228,229,230,231,232,233,234,235,236,237,238,239,240,241,242,243,244,245,246,247,248,249,250,251,252,253,254,255,256,257,258,259,260,261,262,263,264,265,266,267,268,269,270,271,272,273,274,275,276,277,278,279,280,281,282,283,284,285,286,287,288,289,290,291,292,293,294,295,296,297,298,299,300,301,302,303,304,305,306,307,308,309,310,311,312,313,314,315,316,317,318,319,320,321,322,323,324,325,326,327,328,329,330,331,332,333,334,335,336,337,338,339,340,341,342,343,344,345,346,347,348,349,350,351,352,353,354,355,356,357,358,359,360,361,362,363,364,365,366,367,368,369,370,371,372,373,374,375,376,377,378,379,380,381,382,383,384,385,386,387,388,389,390,391,392,393,394,395,396,397,398,399,400,401,402,403,404,405,406,407,408,409,410,411,412,413,414,415,416,417,418,419,420,421,422,423,424,425,426,427,428,429,430,431,432,433,434,435,436,437,438,439,440,441,442,443,444,445,446,447,448,449,450,451,452,453,454,455,456,457,458,459,460,461,462,463,464,465,466,467,468,469,470,471,472,473,474,475,476,477,478,479,480,481,482,483,484,485,486,487,488,489,490,491,492,493,494,495,496,497,498,499,500,501,502,503,504,505,506,507,508,509,510,511,512,513,514,515,516,517,518,519,520,521,522,523,524,525,526,527,528,529,530,531,532,533,534,535,536,537,538,539,540,541,542,543,544,545,546,547,548,549,550,551,552,553,554,555,556,557,558,559,560,561,562,563,564,565,566,567,568,569,570,571,572,573,574,575,576,577,578,579,580,581,582,583,584,585,586,587,588,589,590,591,592,593,594,595,596,597,598,599,600,601,602,603,604,605,606,607,608,609,610,611,612,613,614,615,616,617,618,619,620,621,622,623,624,625,626,627,628,629,630,631,632,633,634,635,636,637,638,639,640,641,642,643,644,645,646,647,648,649,650,651,652,653,654,655,656,657,658,659,660,661,662,663,664,665,666,667,668,669,670,671,672,673,674,675,676,677,678,679,680,681,682,683,684,685,686,687,688,689,690,691,692,693,694,695,696,697,698,699,700,701,702,703,704,705,706,707,708,709,710,711,712,713,714,715,716,717,718,719,720,721,722,723,724,725,726,727,728,729,730,731,732,733,734,735,736,737,738,739,740,741,742,743,744,745,746,747,748,749,750,751,752,753,754,755,756,757,758,759,760,761,762,763,764,765,766,767,768,769,770,771,772,773,774,775,776,777,778,779,780,781,782,783,784,785,786,787,788,789,790,791,792,793,794,795,796,797,798,799,800,801,802,803,804,805,806,807,808,809,810,811,812,813,814,815,816,817,818,819,820,821,822,823,824,825,826,827,828,829,830,831,832,833,834,835,836,837,838,839,840,841,842,843,844,845,846,847,848,849,850,851,852,853,854,855,856,857,858,859,860,861,862,863,864,865,866,867,868,869,870,871,872,873,874,875,876,877,878,879,880,881,882,883,884,885,886,887,888,889,890,891,892,893,894,895,896,897,898,899,900,901,902,903,904,905,906,907,908,909,910,911,912,913,914,915,916,917,918,919,920,921,922,923,924,925,926,927,928,929,930,931,932,933,934,935,936,937,938,939,940,941,942,943,944,945,946,947,948,949,950,951,952,953,954,955,956,957,958,959,960,961,962,963,964,965,966,967,968,969,970,971,972,973,974,975,976,977,978,979,980,981,982,983,984,985,986,987,988,989,990,991,992,993,994,995,996,997,998,999,1000],\"y\":[0,0,0,0,0,0,0,0,0,0,0,0,0,0,0,0,0,0,0,0,75,786,116,580,6188,11564,106,5630,4301,1038,29572,30298,28199,13063,22227,31767,38957,64069,33640,42426,23522,93304,21599,49393,57072,28230,51569,63184,14082,35177,138399,66902,21945,40657,127437,42949,49577,52125,54725,164058,92302,170544,70822,152175,51536,48064,90214,81644,134161,97618,31287,41764,55110,9687,73622,24307,170568,120140,90718,19437,26946,65620,87350,85401,91847,150304,62979,114905,58016,138965,30639,33343,51513,39294,37933,49299,71086,36842,20130,12749,17349,11865,20276,51688,14145,1324,12919,16576,24421,22030,29117,16690,17191,821,25385]}],                        {\"template\":{\"data\":{\"bar\":[{\"error_x\":{\"color\":\"#2a3f5f\"},\"error_y\":{\"color\":\"#2a3f5f\"},\"marker\":{\"line\":{\"color\":\"#E5ECF6\",\"width\":0.5},\"pattern\":{\"fillmode\":\"overlay\",\"size\":10,\"solidity\":0.2}},\"type\":\"bar\"}],\"barpolar\":[{\"marker\":{\"line\":{\"color\":\"#E5ECF6\",\"width\":0.5},\"pattern\":{\"fillmode\":\"overlay\",\"size\":10,\"solidity\":0.2}},\"type\":\"barpolar\"}],\"carpet\":[{\"aaxis\":{\"endlinecolor\":\"#2a3f5f\",\"gridcolor\":\"white\",\"linecolor\":\"white\",\"minorgridcolor\":\"white\",\"startlinecolor\":\"#2a3f5f\"},\"baxis\":{\"endlinecolor\":\"#2a3f5f\",\"gridcolor\":\"white\",\"linecolor\":\"white\",\"minorgridcolor\":\"white\",\"startlinecolor\":\"#2a3f5f\"},\"type\":\"carpet\"}],\"choropleth\":[{\"colorbar\":{\"outlinewidth\":0,\"ticks\":\"\"},\"type\":\"choropleth\"}],\"contour\":[{\"colorbar\":{\"outlinewidth\":0,\"ticks\":\"\"},\"colorscale\":[[0.0,\"#0d0887\"],[0.1111111111111111,\"#46039f\"],[0.2222222222222222,\"#7201a8\"],[0.3333333333333333,\"#9c179e\"],[0.4444444444444444,\"#bd3786\"],[0.5555555555555556,\"#d8576b\"],[0.6666666666666666,\"#ed7953\"],[0.7777777777777778,\"#fb9f3a\"],[0.8888888888888888,\"#fdca26\"],[1.0,\"#f0f921\"]],\"type\":\"contour\"}],\"contourcarpet\":[{\"colorbar\":{\"outlinewidth\":0,\"ticks\":\"\"},\"type\":\"contourcarpet\"}],\"heatmap\":[{\"colorbar\":{\"outlinewidth\":0,\"ticks\":\"\"},\"colorscale\":[[0.0,\"#0d0887\"],[0.1111111111111111,\"#46039f\"],[0.2222222222222222,\"#7201a8\"],[0.3333333333333333,\"#9c179e\"],[0.4444444444444444,\"#bd3786\"],[0.5555555555555556,\"#d8576b\"],[0.6666666666666666,\"#ed7953\"],[0.7777777777777778,\"#fb9f3a\"],[0.8888888888888888,\"#fdca26\"],[1.0,\"#f0f921\"]],\"type\":\"heatmap\"}],\"heatmapgl\":[{\"colorbar\":{\"outlinewidth\":0,\"ticks\":\"\"},\"colorscale\":[[0.0,\"#0d0887\"],[0.1111111111111111,\"#46039f\"],[0.2222222222222222,\"#7201a8\"],[0.3333333333333333,\"#9c179e\"],[0.4444444444444444,\"#bd3786\"],[0.5555555555555556,\"#d8576b\"],[0.6666666666666666,\"#ed7953\"],[0.7777777777777778,\"#fb9f3a\"],[0.8888888888888888,\"#fdca26\"],[1.0,\"#f0f921\"]],\"type\":\"heatmapgl\"}],\"histogram\":[{\"marker\":{\"pattern\":{\"fillmode\":\"overlay\",\"size\":10,\"solidity\":0.2}},\"type\":\"histogram\"}],\"histogram2d\":[{\"colorbar\":{\"outlinewidth\":0,\"ticks\":\"\"},\"colorscale\":[[0.0,\"#0d0887\"],[0.1111111111111111,\"#46039f\"],[0.2222222222222222,\"#7201a8\"],[0.3333333333333333,\"#9c179e\"],[0.4444444444444444,\"#bd3786\"],[0.5555555555555556,\"#d8576b\"],[0.6666666666666666,\"#ed7953\"],[0.7777777777777778,\"#fb9f3a\"],[0.8888888888888888,\"#fdca26\"],[1.0,\"#f0f921\"]],\"type\":\"histogram2d\"}],\"histogram2dcontour\":[{\"colorbar\":{\"outlinewidth\":0,\"ticks\":\"\"},\"colorscale\":[[0.0,\"#0d0887\"],[0.1111111111111111,\"#46039f\"],[0.2222222222222222,\"#7201a8\"],[0.3333333333333333,\"#9c179e\"],[0.4444444444444444,\"#bd3786\"],[0.5555555555555556,\"#d8576b\"],[0.6666666666666666,\"#ed7953\"],[0.7777777777777778,\"#fb9f3a\"],[0.8888888888888888,\"#fdca26\"],[1.0,\"#f0f921\"]],\"type\":\"histogram2dcontour\"}],\"mesh3d\":[{\"colorbar\":{\"outlinewidth\":0,\"ticks\":\"\"},\"type\":\"mesh3d\"}],\"parcoords\":[{\"line\":{\"colorbar\":{\"outlinewidth\":0,\"ticks\":\"\"}},\"type\":\"parcoords\"}],\"pie\":[{\"automargin\":true,\"type\":\"pie\"}],\"scatter\":[{\"marker\":{\"colorbar\":{\"outlinewidth\":0,\"ticks\":\"\"}},\"type\":\"scatter\"}],\"scatter3d\":[{\"line\":{\"colorbar\":{\"outlinewidth\":0,\"ticks\":\"\"}},\"marker\":{\"colorbar\":{\"outlinewidth\":0,\"ticks\":\"\"}},\"type\":\"scatter3d\"}],\"scattercarpet\":[{\"marker\":{\"colorbar\":{\"outlinewidth\":0,\"ticks\":\"\"}},\"type\":\"scattercarpet\"}],\"scattergeo\":[{\"marker\":{\"colorbar\":{\"outlinewidth\":0,\"ticks\":\"\"}},\"type\":\"scattergeo\"}],\"scattergl\":[{\"marker\":{\"colorbar\":{\"outlinewidth\":0,\"ticks\":\"\"}},\"type\":\"scattergl\"}],\"scattermapbox\":[{\"marker\":{\"colorbar\":{\"outlinewidth\":0,\"ticks\":\"\"}},\"type\":\"scattermapbox\"}],\"scatterpolar\":[{\"marker\":{\"colorbar\":{\"outlinewidth\":0,\"ticks\":\"\"}},\"type\":\"scatterpolar\"}],\"scatterpolargl\":[{\"marker\":{\"colorbar\":{\"outlinewidth\":0,\"ticks\":\"\"}},\"type\":\"scatterpolargl\"}],\"scatterternary\":[{\"marker\":{\"colorbar\":{\"outlinewidth\":0,\"ticks\":\"\"}},\"type\":\"scatterternary\"}],\"surface\":[{\"colorbar\":{\"outlinewidth\":0,\"ticks\":\"\"},\"colorscale\":[[0.0,\"#0d0887\"],[0.1111111111111111,\"#46039f\"],[0.2222222222222222,\"#7201a8\"],[0.3333333333333333,\"#9c179e\"],[0.4444444444444444,\"#bd3786\"],[0.5555555555555556,\"#d8576b\"],[0.6666666666666666,\"#ed7953\"],[0.7777777777777778,\"#fb9f3a\"],[0.8888888888888888,\"#fdca26\"],[1.0,\"#f0f921\"]],\"type\":\"surface\"}],\"table\":[{\"cells\":{\"fill\":{\"color\":\"#EBF0F8\"},\"line\":{\"color\":\"white\"}},\"header\":{\"fill\":{\"color\":\"#C8D4E3\"},\"line\":{\"color\":\"white\"}},\"type\":\"table\"}]},\"layout\":{\"annotationdefaults\":{\"arrowcolor\":\"#2a3f5f\",\"arrowhead\":0,\"arrowwidth\":1},\"autotypenumbers\":\"strict\",\"coloraxis\":{\"colorbar\":{\"outlinewidth\":0,\"ticks\":\"\"}},\"colorscale\":{\"diverging\":[[0,\"#8e0152\"],[0.1,\"#c51b7d\"],[0.2,\"#de77ae\"],[0.3,\"#f1b6da\"],[0.4,\"#fde0ef\"],[0.5,\"#f7f7f7\"],[0.6,\"#e6f5d0\"],[0.7,\"#b8e186\"],[0.8,\"#7fbc41\"],[0.9,\"#4d9221\"],[1,\"#276419\"]],\"sequential\":[[0.0,\"#0d0887\"],[0.1111111111111111,\"#46039f\"],[0.2222222222222222,\"#7201a8\"],[0.3333333333333333,\"#9c179e\"],[0.4444444444444444,\"#bd3786\"],[0.5555555555555556,\"#d8576b\"],[0.6666666666666666,\"#ed7953\"],[0.7777777777777778,\"#fb9f3a\"],[0.8888888888888888,\"#fdca26\"],[1.0,\"#f0f921\"]],\"sequentialminus\":[[0.0,\"#0d0887\"],[0.1111111111111111,\"#46039f\"],[0.2222222222222222,\"#7201a8\"],[0.3333333333333333,\"#9c179e\"],[0.4444444444444444,\"#bd3786\"],[0.5555555555555556,\"#d8576b\"],[0.6666666666666666,\"#ed7953\"],[0.7777777777777778,\"#fb9f3a\"],[0.8888888888888888,\"#fdca26\"],[1.0,\"#f0f921\"]]},\"colorway\":[\"#636efa\",\"#EF553B\",\"#00cc96\",\"#ab63fa\",\"#FFA15A\",\"#19d3f3\",\"#FF6692\",\"#B6E880\",\"#FF97FF\",\"#FECB52\"],\"font\":{\"color\":\"#2a3f5f\"},\"geo\":{\"bgcolor\":\"white\",\"lakecolor\":\"white\",\"landcolor\":\"#E5ECF6\",\"showlakes\":true,\"showland\":true,\"subunitcolor\":\"white\"},\"hoverlabel\":{\"align\":\"left\"},\"hovermode\":\"closest\",\"mapbox\":{\"style\":\"light\"},\"paper_bgcolor\":\"white\",\"plot_bgcolor\":\"#E5ECF6\",\"polar\":{\"angularaxis\":{\"gridcolor\":\"white\",\"linecolor\":\"white\",\"ticks\":\"\"},\"bgcolor\":\"#E5ECF6\",\"radialaxis\":{\"gridcolor\":\"white\",\"linecolor\":\"white\",\"ticks\":\"\"}},\"scene\":{\"xaxis\":{\"backgroundcolor\":\"#E5ECF6\",\"gridcolor\":\"white\",\"gridwidth\":2,\"linecolor\":\"white\",\"showbackground\":true,\"ticks\":\"\",\"zerolinecolor\":\"white\"},\"yaxis\":{\"backgroundcolor\":\"#E5ECF6\",\"gridcolor\":\"white\",\"gridwidth\":2,\"linecolor\":\"white\",\"showbackground\":true,\"ticks\":\"\",\"zerolinecolor\":\"white\"},\"zaxis\":{\"backgroundcolor\":\"#E5ECF6\",\"gridcolor\":\"white\",\"gridwidth\":2,\"linecolor\":\"white\",\"showbackground\":true,\"ticks\":\"\",\"zerolinecolor\":\"white\"}},\"shapedefaults\":{\"line\":{\"color\":\"#2a3f5f\"}},\"ternary\":{\"aaxis\":{\"gridcolor\":\"white\",\"linecolor\":\"white\",\"ticks\":\"\"},\"baxis\":{\"gridcolor\":\"white\",\"linecolor\":\"white\",\"ticks\":\"\"},\"bgcolor\":\"#E5ECF6\",\"caxis\":{\"gridcolor\":\"white\",\"linecolor\":\"white\",\"ticks\":\"\"}},\"title\":{\"x\":0.05},\"xaxis\":{\"automargin\":true,\"gridcolor\":\"white\",\"linecolor\":\"white\",\"ticks\":\"\",\"title\":{\"standoff\":15},\"zerolinecolor\":\"white\",\"zerolinewidth\":2},\"yaxis\":{\"automargin\":true,\"gridcolor\":\"white\",\"linecolor\":\"white\",\"ticks\":\"\",\"title\":{\"standoff\":15},\"zerolinecolor\":\"white\",\"zerolinewidth\":2}}},\"xaxis\":{\"title\":{\"text\":\"Timestep\"}},\"yaxis\":{\"title\":{\"text\":\"Quantity\"}}},                        {\"responsive\": true}                    ).then(function(){\n",
       "                            \n",
       "var gd = document.getElementById('da766b2b-25ae-4608-a9e3-07ef55e2e641');\n",
       "var x = new MutationObserver(function (mutations, observer) {{\n",
       "        var display = window.getComputedStyle(gd).display;\n",
       "        if (!display || display === 'none') {{\n",
       "            console.log([gd, 'removed!']);\n",
       "            Plotly.purge(gd);\n",
       "            observer.disconnect();\n",
       "        }}\n",
       "}});\n",
       "\n",
       "// Listen for the removal of the full notebook cells\n",
       "var notebookContainer = gd.closest('#notebook-container');\n",
       "if (notebookContainer) {{\n",
       "    x.observe(notebookContainer, {childList: true});\n",
       "}}\n",
       "\n",
       "// Listen for the clearing of the current output cell\n",
       "var outputEl = gd.closest('.output');\n",
       "if (outputEl) {{\n",
       "    x.observe(outputEl, {childList: true});\n",
       "}}\n",
       "\n",
       "                        })                };                });            </script>        </div>"
      ]
     },
     "metadata": {},
     "output_type": "display_data"
    }
   ],
   "source": [
    "a = go.Scatter(y=nn_inv, name='NNC Inventory')\n",
    "b = go.Scatter(y=cdi_inv, name='CDI Inventory')\n",
    "c = go.Scatter(y=[x.detach().item() for x in fixed_demands], name='Demand',\n",
    "               x=torch.arange(1, 1001).tolist() )\n",
    "fig = go.Figure([a,b, c])\n",
    "fig.layout.xaxis.title = 'Timestep'\n",
    "fig.layout.yaxis.title = 'Quantity'\n",
    "fig"
   ]
  },
  {
   "cell_type": "code",
   "execution_count": 69,
   "id": "0bd8b816",
   "metadata": {},
   "outputs": [
    {
     "data": {
      "text/plain": [
       "1.425"
      ]
     },
     "execution_count": 69,
     "metadata": {},
     "output_type": "execute_result"
    }
   ],
   "source": [
    "1+1.7*1.5*20/120"
   ]
  },
  {
   "cell_type": "code",
   "execution_count": 268,
   "id": "4b86dc0c",
   "metadata": {},
   "outputs": [
    {
     "data": {
      "text/plain": [
       "2.4225"
      ]
     },
     "execution_count": 268,
     "metadata": {},
     "output_type": "execute_result"
    }
   ],
   "source": [
    "1.425*1.7"
   ]
  },
  {
   "cell_type": "code",
   "execution_count": 642,
   "id": "045ca41c",
   "metadata": {},
   "outputs": [
    {
     "data": {
      "text/plain": [
       "-1"
      ]
     },
     "execution_count": 642,
     "metadata": {},
     "output_type": "execute_result"
    }
   ],
   "source": [
    "np.sign(-3)"
   ]
  },
  {
   "cell_type": "code",
   "execution_count": 33,
   "id": "b7d45379",
   "metadata": {},
   "outputs": [],
   "source": [
    "import matplotlib as mpl\n",
    "\n",
    "def fix_hist_step_vertical_line_at_end(ax):\n",
    "    axpolygons = [poly for poly in ax.get_children() if isinstance(poly, mpl.patches.Polygon)]\n",
    "    for poly in axpolygons:\n",
    "        poly.set_xy(poly.get_xy()[:-1])"
   ]
  },
  {
   "cell_type": "code",
   "execution_count": 38,
   "id": "8096fa50",
   "metadata": {},
   "outputs": [
    {
     "data": {
      "image/png": "[encoded data removed]",
      "text/plain": [
       "<Figure size 468x289.24 with 4 Axes>"
      ]
     },
     "metadata": {},
     "output_type": "display_data"
    }
   ],
   "source": [
    "import seaborn as sns\n",
    "sns.set_style(\"whitegrid\")\n",
    "\n",
    "# customized settings\n",
    "params = {  # 'backend': 'ps',\n",
    "    'font.family': 'serif',\n",
    "    'font.serif': 'Latin Modern Roman',\n",
    "    'font.size': 10,\n",
    "    'axes.labelsize': 'medium',\n",
    "    'axes.titlesize': 'medium',\n",
    "    'legend.fontsize': 'medium',\n",
    "    'xtick.labelsize': 'small',\n",
    "    'ytick.labelsize': 'small',\n",
    "    'savefig.dpi': 150,\n",
    "    'text.usetex': True}\n",
    "# tell matplotlib about your params\n",
    "rcParams.update(params)\n",
    "\n",
    "# set nice figure sizes\n",
    "fig_width_pt = 469.75499  # Get this from LaTeX using \\showthe\\columnwidth\n",
    "golden_mean = (np.sqrt(5.) - 1.) / 2.  # Aesthetic ratio\n",
    "ratio = golden_mean\n",
    "inches_per_pt = 1. / 72.27  # Convert pt to inches\n",
    "fig_width = fig_width_pt * inches_per_pt  # width in inches\n",
    "fig_height = fig_width*ratio  # height in inches\n",
    "fig_size = [fig_width, fig_height]\n",
    "rcParams.update({'figure.figsize': fig_size})\n",
    "\n",
    "fig, ax = plt.subplots(ncols=2,nrows=2)\n",
    "\n",
    "CI_0025 = [quantile_function_0025(i) for i in range(max_weeks)]\n",
    "CI_0975 = [quantile_function_0975(i) for i in range(max_weeks)]\n",
    "\n",
    "ax[0,0].text(0.02*120,0.88*2.5,r\"(a)\")\n",
    "for i in range(len(SKUs)):\n",
    "    ax[0,0].plot(X, y_impute[i]/1e5,alpha=0.1,color='k',linewidth=0.5)\n",
    "ax[0,0].plot(X,mean_arr,color='k',alpha=0.5)\n",
    "#ax[0,0].fill_between(X,mean_arr+1.96*std_arr,mean_arr-1.96*std_arr,alpha=0.1,color='tab:red')\n",
    "ax[0,0].fill_between(X,CI_0975,CI_0025,alpha=0.1,color='k')\n",
    "ax[0,0].xaxis.set_minor_locator(MultipleLocator(5))\n",
    "ax[0,0].set_xlim(0,120)\n",
    "ax[0,0].set_ylim(0,2.5)\n",
    "ax[0,0].set_xlabel(r\"Week\")\n",
    "ax[0,0].set_ylabel(r\"Customer demand [$\\times 10^5$]\")\n",
    "\n",
    "ax[0,1].text(0.02*1.0+0.5,0.88*1.25,r\"(b)\")\n",
    "ax[0,1].plot(-10,-10,color=r\"tab:blue\",label=r\"NNC\")\n",
    "ax[0,1].plot(-10,-10,color=r\"tab:orange\",label=r\"CDI\",ls=(0, (5, 1)))\n",
    "ax[0,1].hist(np.array(cost_nn)/1e6,alpha=1.0,bins=100,density=True,histtype='step',cumulative=True)\n",
    "ax[0,1].hist(np.array(cost_cdi)/1e6,alpha=1.0,bins=100,density=True,histtype='step',cumulative=True,ls=(0, (5, 1)))\n",
    "ax[0,1].vlines(np.mean(cost_nn)/1e6,0,1.25,colors=\"tab:blue\",linewidths=1.0)\n",
    "ax[0,1].vlines(np.mean(cost_cdi)/1e6,0,1.25,colors=\"tab:orange\",ls=(0, (5, 1)),linewidths=1.0)\n",
    "ax[0,1].set_xlim(0.5,1.5)\n",
    "ax[0,1].set_xticks([0.5,0.75,1.0,1.25,1.5])\n",
    "ax[0,1].set_ylim(0,1.25)\n",
    "ax[0,1].set_xlabel(r\"Cost per period [$\\times 10^6$]\")\n",
    "ax[0,1].set_ylabel(r\"CDF\")\n",
    "ax[0,1].legend(loc=4,fontsize=8,frameon=False)\n",
    "fix_hist_step_vertical_line_at_end(ax[0,1])\n",
    "\n",
    "a = np.array([x.item() for x in nn_qr[1:]])/1e5\n",
    "b = np.array(cdi_qr)/1e5\n",
    "ax[1,0].text(0.02*120,0.88*3,r\"(c)\")\n",
    "ax[1,0].plot(b,color=r\"tab:orange\",label=r\"CDI\",alpha=0.6,ls=(0, (5, 1)))\n",
    "ax[1,0].plot(a,color=r\"tab:blue\",label=r\"NNC\",alpha=0.5)\n",
    "ax[1,0].set_xlim(0,120)\n",
    "ax[1,0].set_ylim(0,3)\n",
    "ax[1,0].set_yticks([0,1,2,3])\n",
    "ax[1,0].set_xlabel(r\"Week\")\n",
    "ax[1,0].set_ylabel(r\"Regular order $q^{\\mathrm{r}}_t$ [$\\times 10^5$]\")\n",
    "#ax[0,1].legend(loc=((0.13,0.65)),frameon=False,ncol=1)\n",
    "\n",
    "a = np.array([x.item() for x in nn_qe[1:]])/1e5\n",
    "b = np.array(cdi_qe)/1e5\n",
    "ax[1,1].text(0.02*120,0.88*1,r\"(d)\")\n",
    "ax[1,1].plot(b,color=r\"tab:orange\",alpha=0.6,ls=(0, (5, 1)))\n",
    "ax[1,1].plot(a,color=r\"tab:blue\",alpha=0.5)#,ls=(0, (1, 2)))\n",
    "ax[1,1].set_xlim(0,120)\n",
    "ax[1,1].set_ylim(0,1)\n",
    "ax[1,1].set_xlabel(r\"Period\")\n",
    "ax[1,1].set_ylabel(r\"Expedited order $q^{\\mathrm{e}}_t$ [$\\times 10^5$]\")\n",
    "\n",
    "plt.tight_layout()\n",
    "plt.margins(0,0)\n",
    "plt.subplots_adjust(wspace=0.35, hspace=0.5)\n",
    "plt.savefig(\"empirical_example_test.svg\", dpi = 300, bbox_inches = 'tight', pad_inches = 0.05)\n",
    "plt.show()"
   ]
  },
  {
   "cell_type": "code",
   "execution_count": null,
   "id": "4db5a6fb",
   "metadata": {},
   "outputs": [],
   "source": []
  }
 ],
 "metadata": {
  "kernelspec": {
   "display_name": "Python 3",
   "language": "python",
   "name": "python3"
  },
  "language_info": {
   "codemirror_mode": {
    "name": "ipython",
    "version": 3
   },
   "file_extension": ".py",
   "mimetype": "text/x-python",
   "name": "python",
   "nbconvert_exporter": "python",
   "pygments_lexer": "ipython3",
   "version": "3.6.13"
  }
 },
 "nbformat": 4,
 "nbformat_minor": 5
}
