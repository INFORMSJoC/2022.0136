{
 "cells": [
  {
   "cell_type": "code",
   "execution_count": 1,
   "id": "ff7e4961",
   "metadata": {},
   "outputs": [],
   "source": [
    "import numpy as np\n",
    "import pandas as pd\n",
    "import scipy\n",
    "import time\n",
    "import torch\n",
    "import sys\n",
    "sys.path.append('../sourcing_models/')\n",
    "import matplotlib.pyplot as plt\n",
    "from lib.dual_sourcing import *\n",
    "\n",
    "from copy import deepcopy\n",
    "from collections import Counter\n",
    "from scipy.stats import truncnorm\n",
    "from matplotlib import rcParams\n",
    "from matplotlib.ticker import (MultipleLocator, AutoMinorLocator)\n",
    "\n",
    "# customized settings\n",
    "params = {  # 'backend': 'ps',\n",
    "    'font.family': 'serif',\n",
    "    'font.serif': 'Fira',\n",
    "    'font.size': 10,\n",
    "    'axes.labelsize': 'medium',\n",
    "    'axes.titlesize': 'medium',\n",
    "    'legend.fontsize': 'medium',\n",
    "    'xtick.labelsize': 'small',\n",
    "    'ytick.labelsize': 'small',\n",
    "    'savefig.dpi': 150,\n",
    "    'text.usetex': True}\n",
    "# tell matplotlib about your params\n",
    "rcParams.update(params)\n",
    "\n",
    "# set nice figure sizes\n",
    "fig_width_pt = 245    # Get this from LaTeX using \\showthe\\columnwidth\n",
    "golden_mean = (np.sqrt(5.) - 1.) / 2.  # Aesthetic ratio\n",
    "ratio = golden_mean\n",
    "inches_per_pt = 1. / 72.27  # Convert pt to inches\n",
    "fig_width = fig_width_pt * inches_per_pt  # width in inches\n",
    "fig_height = fig_width*ratio  # height in inches\n",
    "fig_size = [fig_width, fig_height]\n",
    "rcParams.update({'figure.figsize': fig_size})"
   ]
  },
  {
   "cell_type": "markdown",
   "id": "1d350693",
   "metadata": {},
   "source": [
    "# Load data\n",
    "We first load the data that was published along with the MSOM article \"Data Set: 187 Weeks of Customer Forecasts and Orders for Microprocessors from Intel Corporation\"."
   ]
  },
  {
   "cell_type": "code",
   "execution_count": 2,
   "id": "346599bd",
   "metadata": {},
   "outputs": [],
   "source": [
    "data = pd.read_csv(\"../../data/MSOM_data/msom.2020.0933.csv\")\n",
    "max_weeks = max(data[\"Week\"].to_numpy())\n",
    "max_weeks = 115\n",
    "X = np.arange(1,max_weeks+1)"
   ]
  },
  {
   "cell_type": "markdown",
   "id": "b89d8e15",
   "metadata": {},
   "source": [
    "Next, we select the relevant stock keeping units (SKUs) and customer orders."
   ]
  },
  {
   "cell_type": "code",
   "execution_count": 3,
   "id": "a4627e82",
   "metadata": {},
   "outputs": [],
   "source": [
    "def select_SKUs(SKUs):\n",
    "    \n",
    "    y = []\n",
    "    for SKU in SKUs:\n",
    "        \n",
    "        data_ = data[data[\"SKU\"] == SKU]\n",
    "        weeks = data_[data_[\"SKU\"] == SKU][\"Week\"].to_numpy()\n",
    "        orders = data_[data_[\"SKU\"] == SKU][\"Customer Orders\"].to_numpy()\n",
    "        data_[\"Total Customer Orders\"] = data_.groupby([\"Week\"])['Customer Orders'].transform('sum')\n",
    "        total_orders = data_[\"Total Customer Orders\"].to_numpy()\n",
    "        \n",
    "        weeks_total_orders = sorted(set([(x[0],x[1]) for x in zip(weeks,total_orders)]))\n",
    "        \n",
    "        weeks_ = np.array([x[0] for x in weeks_total_orders])\n",
    "        total_orders_ = np.array([x[1] for x in weeks_total_orders])\n",
    "        \n",
    "        y_ = []\n",
    "        for i in range(len(X)):\n",
    "            \n",
    "            if X[i] in weeks_:\n",
    "                y_.append(total_orders_[X[i] == weeks_][0])\n",
    "            else:\n",
    "                y_.append(np.nan)\n",
    "        \n",
    "        y.append(np.array(y_))\n",
    "    \n",
    "    return np.array(y)"
   ]
  },
  {
   "cell_type": "markdown",
   "id": "d178cdf0",
   "metadata": {},
   "source": [
    "We select third generation SKUs."
   ]
  },
  {
   "cell_type": "code",
   "execution_count": 4,
   "id": "3b9d9763",
   "metadata": {},
   "outputs": [
    {
     "name": "stderr",
     "output_type": "stream",
     "text": [
      "/home/lucasb/anaconda3/envs/TCR/lib/python3.6/site-packages/ipykernel_launcher.py:9: SettingWithCopyWarning: \n",
      "A value is trying to be set on a copy of a slice from a DataFrame.\n",
      "Try using .loc[row_indexer,col_indexer] = value instead\n",
      "\n",
      "See the caveats in the documentation: https://pandas.pydata.org/pandas-docs/stable/user_guide/indexing.html#returning-a-view-versus-a-copy\n",
      "  if __name__ == '__main__':\n"
     ]
    }
   ],
   "source": [
    "#SKUs = [\"SKU-A-2\", \"SKU-B-2\", \"SKU-C-1\", \"SKU-C-2\", \"SKU-F-1\", \"SKU-F-2\", \"SKU-H-2\", \"SKU-I-2\", \"SKU-J-2\", \"SKU-K-2\", \"SKU-L-1\", \"SKU-L-2\", \"SKU-M-2\", \"SKU-O-1\", \"SKU-O-2\", \"SKU-Q-2\", \"SKU-S-2\"]\n",
    "SKUs = [\"SKU-A-3\", \"SKU-B-3\", \"SKU-C-3\", \"SKU-E-3\", \"SKU-H-3\", \"SKU-I-3\", \"SKU-J-3\", \"SKU-N-3\", \"SKU-S-3\", \"SKU-T-3\"]\n",
    "y = select_SKUs(SKUs)"
   ]
  },
  {
   "cell_type": "code",
   "execution_count": 5,
   "id": "b51082b9",
   "metadata": {},
   "outputs": [],
   "source": [
    "y_impute = np.nan_to_num(y,nan=0)\n",
    "max_y = np.max(y_impute)"
   ]
  },
  {
   "cell_type": "markdown",
   "id": "0e9a0a7b",
   "metadata": {},
   "source": [
    "# Model data by Gaussian process"
   ]
  },
  {
   "cell_type": "markdown",
   "id": "ce0c0b9c",
   "metadata": {},
   "source": [
    "We now determine the means and standard deviations separately for all weeks."
   ]
  },
  {
   "cell_type": "code",
   "execution_count": 6,
   "id": "223db7fa",
   "metadata": {},
   "outputs": [],
   "source": [
    "mean_arr = np.array([np.mean(y_impute[:,i]/1e5) for i in range(len(X))])\n",
    "std_arr = np.array([np.std(y_impute[:,i]/1e5,ddof=1) for i in range(len(X))])"
   ]
  },
  {
   "cell_type": "markdown",
   "id": "887cc5d5",
   "metadata": {},
   "source": [
    "Plot the original data, mean, and 95% confidence interval."
   ]
  },
  {
   "cell_type": "code",
   "execution_count": 7,
   "id": "cb047e0d",
   "metadata": {},
   "outputs": [
    {
     "data": {
      "image/png": "[encoded data removed]",
      "text/plain": [
       "<Figure size 244.085x150.853 with 1 Axes>"
      ]
     },
     "metadata": {},
     "output_type": "display_data"
    }
   ],
   "source": [
    "fig, ax = plt.subplots(facecolor='white')\n",
    "for i in range(len(SKUs)):\n",
    "    plt.plot(X, y_impute[i]/1e5,alpha=0.3,color='Grey')\n",
    "plt.plot(X,mean_arr,color='tab:blue',alpha=0.8)\n",
    "plt.fill_between(X,mean_arr+1.96*std_arr,mean_arr-1.96*std_arr,alpha=0.3)\n",
    "ax.xaxis.set_minor_locator(MultipleLocator(5))\n",
    "plt.xlim(0,120)\n",
    "plt.ylim(0,2.5)\n",
    "plt.xlabel(r\"week\")\n",
    "plt.ylabel(r\"customer orders [$\\times 10^5$]\")\n",
    "plt.tight_layout()\n",
    "plt.savefig(\"gaussian_sampling.png\",dpi=480)\n",
    "plt.show()"
   ]
  },
  {
   "cell_type": "markdown",
   "id": "1ada1307",
   "metadata": {},
   "source": [
    "Generate samples using a truncated normal distribution."
   ]
  },
  {
   "cell_type": "code",
   "execution_count": 8,
   "id": "c05a15b4",
   "metadata": {},
   "outputs": [],
   "source": [
    "num_samples = 1000\n",
    "samples = []\n",
    "myclip_a = 0\n",
    "myclip_b = 1e3\n",
    "\n",
    "for i in range(len(mean_arr)):\n",
    "    \n",
    "    my_mean = mean_arr[i]\n",
    "    my_std = std_arr[i]\n",
    "    a, b = (myclip_a - my_mean) / (1e-9+my_std), (myclip_b - my_mean) / (1e-9+my_std)\n",
    "    r = truncnorm.rvs(a, b, loc=my_mean, scale=my_std, size=num_samples)\n",
    "    samples.append(r)"
   ]
  },
  {
   "cell_type": "code",
   "execution_count": 9,
   "id": "fb692a75",
   "metadata": {},
   "outputs": [
    {
     "name": "stderr",
     "output_type": "stream",
     "text": [
      "/home/lucasb/anaconda3/envs/TCR/lib/python3.6/site-packages/scipy/stats/_distn_infrastructure.py:1760: RuntimeWarning: divide by zero encountered in true_divide\n",
      "  x = np.asarray((x - loc)/scale, dtype=dtyp)\n",
      "/home/lucasb/anaconda3/envs/TCR/lib/python3.6/site-packages/scipy/stats/_distn_infrastructure.py:1760: RuntimeWarning: invalid value encountered in true_divide\n",
      "  x = np.asarray((x - loc)/scale, dtype=dtyp)\n",
      "/home/lucasb/anaconda3/envs/TCR/lib/python3.6/site-packages/scipy/stats/_distn_infrastructure.py:1760: RuntimeWarning: divide by zero encountered in true_divide\n",
      "  x = np.asarray((x - loc)/scale, dtype=dtyp)\n",
      "/home/lucasb/anaconda3/envs/TCR/lib/python3.6/site-packages/scipy/stats/_distn_infrastructure.py:1760: RuntimeWarning: invalid value encountered in true_divide\n",
      "  x = np.asarray((x - loc)/scale, dtype=dtyp)\n",
      "/home/lucasb/anaconda3/envs/TCR/lib/python3.6/site-packages/scipy/stats/_distn_infrastructure.py:1760: RuntimeWarning: divide by zero encountered in true_divide\n",
      "  x = np.asarray((x - loc)/scale, dtype=dtyp)\n",
      "/home/lucasb/anaconda3/envs/TCR/lib/python3.6/site-packages/scipy/stats/_distn_infrastructure.py:1760: RuntimeWarning: invalid value encountered in true_divide\n",
      "  x = np.asarray((x - loc)/scale, dtype=dtyp)\n",
      "/home/lucasb/anaconda3/envs/TCR/lib/python3.6/site-packages/scipy/stats/_distn_infrastructure.py:1760: RuntimeWarning: divide by zero encountered in true_divide\n",
      "  x = np.asarray((x - loc)/scale, dtype=dtyp)\n",
      "/home/lucasb/anaconda3/envs/TCR/lib/python3.6/site-packages/scipy/stats/_distn_infrastructure.py:1760: RuntimeWarning: invalid value encountered in true_divide\n",
      "  x = np.asarray((x - loc)/scale, dtype=dtyp)\n",
      "/home/lucasb/anaconda3/envs/TCR/lib/python3.6/site-packages/scipy/stats/_distn_infrastructure.py:1760: RuntimeWarning: divide by zero encountered in true_divide\n",
      "  x = np.asarray((x - loc)/scale, dtype=dtyp)\n",
      "/home/lucasb/anaconda3/envs/TCR/lib/python3.6/site-packages/scipy/stats/_distn_infrastructure.py:1760: RuntimeWarning: invalid value encountered in true_divide\n",
      "  x = np.asarray((x - loc)/scale, dtype=dtyp)\n",
      "/home/lucasb/anaconda3/envs/TCR/lib/python3.6/site-packages/scipy/stats/_distn_infrastructure.py:1760: RuntimeWarning: divide by zero encountered in true_divide\n",
      "  x = np.asarray((x - loc)/scale, dtype=dtyp)\n",
      "/home/lucasb/anaconda3/envs/TCR/lib/python3.6/site-packages/scipy/stats/_distn_infrastructure.py:1760: RuntimeWarning: invalid value encountered in true_divide\n",
      "  x = np.asarray((x - loc)/scale, dtype=dtyp)\n",
      "/home/lucasb/anaconda3/envs/TCR/lib/python3.6/site-packages/scipy/stats/_distn_infrastructure.py:1760: RuntimeWarning: divide by zero encountered in true_divide\n",
      "  x = np.asarray((x - loc)/scale, dtype=dtyp)\n",
      "/home/lucasb/anaconda3/envs/TCR/lib/python3.6/site-packages/scipy/stats/_distn_infrastructure.py:1760: RuntimeWarning: invalid value encountered in true_divide\n",
      "  x = np.asarray((x - loc)/scale, dtype=dtyp)\n",
      "/home/lucasb/anaconda3/envs/TCR/lib/python3.6/site-packages/scipy/stats/_distn_infrastructure.py:1760: RuntimeWarning: divide by zero encountered in true_divide\n",
      "  x = np.asarray((x - loc)/scale, dtype=dtyp)\n",
      "/home/lucasb/anaconda3/envs/TCR/lib/python3.6/site-packages/scipy/stats/_distn_infrastructure.py:1760: RuntimeWarning: invalid value encountered in true_divide\n",
      "  x = np.asarray((x - loc)/scale, dtype=dtyp)\n",
      "/home/lucasb/anaconda3/envs/TCR/lib/python3.6/site-packages/scipy/stats/_distn_infrastructure.py:1760: RuntimeWarning: divide by zero encountered in true_divide\n",
      "  x = np.asarray((x - loc)/scale, dtype=dtyp)\n",
      "/home/lucasb/anaconda3/envs/TCR/lib/python3.6/site-packages/scipy/stats/_distn_infrastructure.py:1760: RuntimeWarning: invalid value encountered in true_divide\n",
      "  x = np.asarray((x - loc)/scale, dtype=dtyp)\n",
      "/home/lucasb/anaconda3/envs/TCR/lib/python3.6/site-packages/scipy/stats/_distn_infrastructure.py:1760: RuntimeWarning: divide by zero encountered in true_divide\n",
      "  x = np.asarray((x - loc)/scale, dtype=dtyp)\n",
      "/home/lucasb/anaconda3/envs/TCR/lib/python3.6/site-packages/scipy/stats/_distn_infrastructure.py:1760: RuntimeWarning: invalid value encountered in true_divide\n",
      "  x = np.asarray((x - loc)/scale, dtype=dtyp)\n",
      "/home/lucasb/anaconda3/envs/TCR/lib/python3.6/site-packages/scipy/stats/_distn_infrastructure.py:1760: RuntimeWarning: divide by zero encountered in true_divide\n",
      "  x = np.asarray((x - loc)/scale, dtype=dtyp)\n",
      "/home/lucasb/anaconda3/envs/TCR/lib/python3.6/site-packages/scipy/stats/_distn_infrastructure.py:1760: RuntimeWarning: invalid value encountered in true_divide\n",
      "  x = np.asarray((x - loc)/scale, dtype=dtyp)\n",
      "/home/lucasb/anaconda3/envs/TCR/lib/python3.6/site-packages/scipy/stats/_distn_infrastructure.py:1760: RuntimeWarning: divide by zero encountered in true_divide\n",
      "  x = np.asarray((x - loc)/scale, dtype=dtyp)\n",
      "/home/lucasb/anaconda3/envs/TCR/lib/python3.6/site-packages/scipy/stats/_distn_infrastructure.py:1760: RuntimeWarning: invalid value encountered in true_divide\n",
      "  x = np.asarray((x - loc)/scale, dtype=dtyp)\n",
      "/home/lucasb/anaconda3/envs/TCR/lib/python3.6/site-packages/scipy/stats/_distn_infrastructure.py:1760: RuntimeWarning: divide by zero encountered in true_divide\n",
      "  x = np.asarray((x - loc)/scale, dtype=dtyp)\n",
      "/home/lucasb/anaconda3/envs/TCR/lib/python3.6/site-packages/scipy/stats/_distn_infrastructure.py:1760: RuntimeWarning: invalid value encountered in true_divide\n",
      "  x = np.asarray((x - loc)/scale, dtype=dtyp)\n",
      "/home/lucasb/anaconda3/envs/TCR/lib/python3.6/site-packages/scipy/stats/_distn_infrastructure.py:1760: RuntimeWarning: divide by zero encountered in true_divide\n",
      "  x = np.asarray((x - loc)/scale, dtype=dtyp)\n",
      "/home/lucasb/anaconda3/envs/TCR/lib/python3.6/site-packages/scipy/stats/_distn_infrastructure.py:1760: RuntimeWarning: invalid value encountered in true_divide\n",
      "  x = np.asarray((x - loc)/scale, dtype=dtyp)\n",
      "/home/lucasb/anaconda3/envs/TCR/lib/python3.6/site-packages/scipy/stats/_distn_infrastructure.py:1760: RuntimeWarning: divide by zero encountered in true_divide\n",
      "  x = np.asarray((x - loc)/scale, dtype=dtyp)\n",
      "/home/lucasb/anaconda3/envs/TCR/lib/python3.6/site-packages/scipy/stats/_distn_infrastructure.py:1760: RuntimeWarning: invalid value encountered in true_divide\n",
      "  x = np.asarray((x - loc)/scale, dtype=dtyp)\n",
      "/home/lucasb/anaconda3/envs/TCR/lib/python3.6/site-packages/scipy/stats/_distn_infrastructure.py:1760: RuntimeWarning: divide by zero encountered in true_divide\n",
      "  x = np.asarray((x - loc)/scale, dtype=dtyp)\n",
      "/home/lucasb/anaconda3/envs/TCR/lib/python3.6/site-packages/scipy/stats/_distn_infrastructure.py:1760: RuntimeWarning: invalid value encountered in true_divide\n",
      "  x = np.asarray((x - loc)/scale, dtype=dtyp)\n",
      "/home/lucasb/anaconda3/envs/TCR/lib/python3.6/site-packages/scipy/stats/_distn_infrastructure.py:1760: RuntimeWarning: divide by zero encountered in true_divide\n",
      "  x = np.asarray((x - loc)/scale, dtype=dtyp)\n",
      "/home/lucasb/anaconda3/envs/TCR/lib/python3.6/site-packages/scipy/stats/_distn_infrastructure.py:1760: RuntimeWarning: invalid value encountered in true_divide\n",
      "  x = np.asarray((x - loc)/scale, dtype=dtyp)\n",
      "/home/lucasb/anaconda3/envs/TCR/lib/python3.6/site-packages/scipy/stats/_distn_infrastructure.py:1760: RuntimeWarning: divide by zero encountered in true_divide\n",
      "  x = np.asarray((x - loc)/scale, dtype=dtyp)\n",
      "/home/lucasb/anaconda3/envs/TCR/lib/python3.6/site-packages/scipy/stats/_distn_infrastructure.py:1760: RuntimeWarning: invalid value encountered in true_divide\n",
      "  x = np.asarray((x - loc)/scale, dtype=dtyp)\n",
      "/home/lucasb/anaconda3/envs/TCR/lib/python3.6/site-packages/scipy/stats/_distn_infrastructure.py:1760: RuntimeWarning: divide by zero encountered in true_divide\n",
      "  x = np.asarray((x - loc)/scale, dtype=dtyp)\n",
      "/home/lucasb/anaconda3/envs/TCR/lib/python3.6/site-packages/scipy/stats/_distn_infrastructure.py:1760: RuntimeWarning: invalid value encountered in true_divide\n",
      "  x = np.asarray((x - loc)/scale, dtype=dtyp)\n"
     ]
    },
    {
     "data": {
      "image/png": "[encoded data removed]",
      "text/plain": [
       "<Figure size 244.085x150.853 with 1 Axes>"
      ]
     },
     "metadata": {
      "needs_background": "light"
     },
     "output_type": "display_data"
    }
   ],
   "source": [
    "x = np.linspace(0,4,100)\n",
    "plt.figure()\n",
    "for i in range(40):\n",
    "    myclip_a = 0\n",
    "    myclip_b = 1e2\n",
    "    my_mean = mean_arr[i]\n",
    "    my_std = std_arr[i]\n",
    "    a, b = (myclip_a - my_mean) / (1e-9+my_std), (myclip_b - my_mean) / (1e-9+my_std)\n",
    "    rv = truncnorm(a, b, loc=my_mean, scale=my_std)\n",
    "    r = lambda x: rv.pdf(x)\n",
    "    plt.plot(x,r(x))\n",
    "plt.xlabel(r\"orders\")\n",
    "plt.ylabel(r\"PDF\")\n",
    "plt.show()"
   ]
  },
  {
   "cell_type": "markdown",
   "id": "160a5f4e",
   "metadata": {},
   "source": [
    "Compare original data and samples."
   ]
  },
  {
   "cell_type": "code",
   "execution_count": 10,
   "id": "08776522",
   "metadata": {},
   "outputs": [
    {
     "name": "stderr",
     "output_type": "stream",
     "text": [
      "findfont: Font family ['serif'] not found. Falling back to DejaVu Sans.\n"
     ]
    },
    {
     "data": {
      "image/png": "[encoded data removed]",
      "text/plain": [
       "<Figure size 244.085x150.853 with 1 Axes>"
      ]
     },
     "metadata": {},
     "output_type": "display_data"
    }
   ],
   "source": [
    "fig, ax = plt.subplots(facecolor=\"white\")\n",
    "for i in range(len(SKUs)):\n",
    "    plt.plot(X, y_impute[i]/1e5,alpha=0.2,color=\"tab:blue\")\n",
    "plt.plot(X,samples,alpha=0.02,color=\"Grey\")\n",
    "plt.plot(100, 100,alpha=0.3,color=\"tab:blue\",label=\"data\")\n",
    "plt.plot(100,100,alpha=0.3,color=\"Grey\",label=\"sample\")\n",
    "ax.xaxis.set_minor_locator(MultipleLocator(5))\n",
    "plt.xlim(0,120)\n",
    "plt.ylim(0,2.5)\n",
    "plt.xlabel(r\"week\")\n",
    "plt.ylabel(r\"customer orders [$\\times 10^5$]\")\n",
    "plt.legend(loc=2,frameon=False,fontsize=8)\n",
    "plt.tight_layout()\n",
    "plt.savefig(\"gaussian_sampling_2.png\",dpi=480)\n",
    "plt.show()"
   ]
  },
  {
   "cell_type": "markdown",
   "id": "7a9d5d03",
   "metadata": {},
   "source": [
    "# Apply CDI policy to empirical demand data"
   ]
  },
  {
   "cell_type": "code",
   "execution_count": 11,
   "id": "7a9db52e",
   "metadata": {},
   "outputs": [],
   "source": [
    "#np.random.seed(10)\n",
    "\n",
    "ce = 20\n",
    "cr = 0\n",
    "le = 0\n",
    "lr = 2\n",
    "h = 5\n",
    "b = 495\n",
    "\n",
    "l = lr-le"
   ]
  },
  {
   "cell_type": "code",
   "execution_count": 12,
   "id": "1fcd193d",
   "metadata": {},
   "outputs": [],
   "source": [
    "myclip_a = 0\n",
    "myclip_b = 1e3\n",
    "mean_arr = mean_arr\n",
    "std_arr = std_arr\n",
    "max_weeks = len(mean_arr)\n",
    "\n",
    "#mean_arr = np.append(mean_arr,mean_arr)\n",
    "#std_arr = np.append(std_arr,std_arr)\n",
    "#max_weeks = 2*max_weeks\n",
    "\n",
    "sampling_function = lambda i, num_samples: 1e5*truncnorm.rvs((myclip_a - mean_arr[i]) / (1e-9+std_arr[i]), \n",
    "                                                         (myclip_b - mean_arr[i]) / (1e-9+std_arr[i]), \n",
    "                                                         loc=mean_arr[i], scale=std_arr[i], \n",
    "                                                         size=num_samples)\n",
    "\n",
    "quantile_function_0025 = lambda i: truncnorm.ppf(0.025, (myclip_a - mean_arr[i]) / (1e-9+std_arr[i]), \n",
    "                                                         (myclip_b - mean_arr[i]) / (1e-9+std_arr[i]), \n",
    "                                                         loc=mean_arr[i], scale=std_arr[i])\n",
    "quantile_function_0975 = lambda i: truncnorm.ppf(0.975, (myclip_a - mean_arr[i]) / (1e-9+std_arr[i]), \n",
    "                                                         (myclip_b - mean_arr[i]) / (1e-9+std_arr[i]), \n",
    "                                                         loc=mean_arr[i], scale=std_arr[i])"
   ]
  },
  {
   "cell_type": "code",
   "execution_count": 13,
   "id": "8401c1e7",
   "metadata": {},
   "outputs": [],
   "source": [
    "def optimal_u1_func(h,\n",
    "                    b,\n",
    "                    D_low,\n",
    "                    D_high):\n",
    "\n",
    "    return (h*D_low+b*D_high)/(h+b)\n",
    "\n",
    "def optimal_u2_func(h,\n",
    "                    b,\n",
    "                    D_low,\n",
    "                    D_high,\n",
    "                    L):\n",
    "    \n",
    "    return (h*D_low*L+b*D_high*L)/(h+b)"
   ]
  },
  {
   "cell_type": "code",
   "execution_count": 14,
   "id": "f9386e0a",
   "metadata": {},
   "outputs": [],
   "source": [
    "# determine optimal CDI parameters                             \n",
    "optimal_u1_old = [int(optimal_u1_func(h, b, \\\n",
    "             max(0,1e5*mean_arr[i]-2.58*1e5*std_arr[i]), \\\n",
    "             1e5*mean_arr[i]+2.58*1e5*std_arr[i])) \\\n",
    "             for i in range(len(mean_arr))]\n",
    "optimal_u2_old = [int(optimal_u2_func(h, b, \\\n",
    "             max(0,1e5*mean_arr[i]-2.58*1e5*std_arr[i]), \\\n",
    "             1e5*mean_arr[i]+2.58*1e5*std_arr[i], lr-le)) \\\n",
    "             for i in range(len(mean_arr))]\n",
    "optimal_u3_old = optimal_u1_old"
   ]
  },
  {
   "cell_type": "code",
   "execution_count": 15,
   "id": "51cf9dc2",
   "metadata": {},
   "outputs": [],
   "source": [
    "# determine optimal CDI parameters                             \n",
    "optimal_u1 = [(h*max(0,1e5*mean_arr[i]-2.58*1e5*std_arr[i])+b*( \\\n",
    "             1e5*mean_arr[i]+2.58*1e5*std_arr[i]))/(h+b) \\\n",
    "             for i in range(len(mean_arr))]\n",
    "\n",
    "optimal_u2 = [(h*sum([max(0,1e5*mean_arr[i+j]-2.58*1e5*std_arr[i+j]) for j in range(l)]) + b*(\\\n",
    "             sum([1e5*mean_arr[i+j]+2.58*1e5*std_arr[i+j] for j in range(l)])))/(h+b) if i < len(mean_arr)-l else \\\n",
    "             (h*(sum([max(0,1e5*mean_arr[i+j]-2.58*1e5*std_arr[i+j]) for j in range(len(mean_arr)-i)])+\\\n",
    "             (l-len(mean_arr)+i)*max(0,1e5*mean_arr[-1]-2.58*1e5*std_arr[-1])) + b*(\\\n",
    "             sum([1e5*mean_arr[i+j]+2.58*1e5*std_arr[i+j] for j in range(len(mean_arr)-i)])+\\\n",
    "             (l-len(mean_arr)+i)*max(0,1e5*mean_arr[-1]+2.58*1e5*std_arr[-1])))/(h+b)\n",
    "             for i in range(len(mean_arr))]\n",
    "\n",
    "optimal_u3 =  [(h*max(0,1e5*mean_arr[i+l]-2.58*1e5*std_arr[i+l])+b*( \\\n",
    "             1e5*mean_arr[i+l]+2.58*1e5*std_arr[i+l]))/(h+b) if i < len(mean_arr)-l else \n",
    "             (h*max(0,1e5*mean_arr[-1]-2.58*1e5*std_arr[-1])+b*( \\\n",
    "             1e5*mean_arr[-1]+2.58*1e5*std_arr[-1]))/(h+b) \\\n",
    "             for i in range(len(mean_arr))]"
   ]
  },
  {
   "cell_type": "code",
   "execution_count": 16,
   "id": "8b8f813a",
   "metadata": {},
   "outputs": [
    {
     "data": {
      "image/png": "[encoded data removed]",
      "text/plain": [
       "<Figure size 244.085x150.853 with 1 Axes>"
      ]
     },
     "metadata": {
      "needs_background": "light"
     },
     "output_type": "display_data"
    }
   ],
   "source": [
    "plt.figure()\n",
    "plt.plot(optimal_u1_old)\n",
    "plt.plot(optimal_u1)\n",
    "plt.show()"
   ]
  },
  {
   "cell_type": "code",
   "execution_count": 17,
   "id": "21fd96b0",
   "metadata": {},
   "outputs": [
    {
     "data": {
      "image/png": "[encoded data removed]",
      "text/plain": [
       "<Figure size 244.085x150.853 with 1 Axes>"
      ]
     },
     "metadata": {
      "needs_background": "light"
     },
     "output_type": "display_data"
    }
   ],
   "source": [
    "plt.figure()\n",
    "plt.plot(optimal_u2_old)\n",
    "plt.plot(optimal_u2)\n",
    "plt.show()"
   ]
  },
  {
   "cell_type": "code",
   "execution_count": 18,
   "id": "ba9b0766",
   "metadata": {},
   "outputs": [
    {
     "data": {
      "image/png": "[encoded data removed]",
      "text/plain": [
       "<Figure size 244.085x150.853 with 1 Axes>"
      ]
     },
     "metadata": {
      "needs_background": "light"
     },
     "output_type": "display_data"
    }
   ],
   "source": [
    "plt.figure()\n",
    "plt.plot(optimal_u3_old)\n",
    "plt.plot(optimal_u3)\n",
    "plt.show()"
   ]
  },
  {
   "cell_type": "code",
   "execution_count": 19,
   "id": "824f149b",
   "metadata": {},
   "outputs": [],
   "source": [
    "cost_arr = []\n",
    "I0 = 0\n",
    "for i in range(1000):\n",
    "        S = DualSourcingModel(ce=ce, \n",
    "                              cr=cr, \n",
    "                              le=le, \n",
    "                              lr=lr, \n",
    "                              h=h, \n",
    "                              b=b,\n",
    "                              T=max_weeks, \n",
    "                              I0=I0,\n",
    "                              u1=optimal_u1,\n",
    "                              u2=optimal_u2,\n",
    "                              u3=optimal_u3,\n",
    "                              capped_dual_index=True,\n",
    "                              demand_distribution=[sampling_function])\n",
    "\n",
    "        S.simulate()\n",
    "        cost_arr.append(S.total_cost)"
   ]
  },
  {
   "cell_type": "code",
   "execution_count": 20,
   "id": "7047f343",
   "metadata": {},
   "outputs": [
    {
     "name": "stdout",
     "output_type": "stream",
     "text": [
      "721157.6328695653 54369.22453095192\n"
     ]
    }
   ],
   "source": [
    "print(np.mean(cost_arr)/max_weeks,np.std(cost_arr)/max_weeks)"
   ]
  },
  {
   "cell_type": "markdown",
   "id": "fb3a4793",
   "metadata": {},
   "source": [
    "# Compare CDI with NNC-based policies"
   ]
  },
  {
   "cell_type": "markdown",
   "id": "b3006803",
   "metadata": {},
   "source": [
    "Generate sampling function."
   ]
  },
  {
   "cell_type": "code",
   "execution_count": 21,
   "id": "be51cafa",
   "metadata": {},
   "outputs": [],
   "source": [
    "myclip_a = 0\n",
    "myclip_b = 1e3\n",
    "mean_arr = mean_arr\n",
    "std_arr = std_arr\n",
    "max_weeks = len(mean_arr)\n",
    "\n",
    "#mean_arr = np.append(mean_arr,mean_arr)\n",
    "#std_arr = np.append(std_arr,std_arr)\n",
    "#max_weeks = 2*max_weeks\n",
    "\n",
    "sampling_function = lambda i, num_samples: 1e5*truncnorm.rvs((myclip_a - mean_arr[i]) / (1e-9+std_arr[i]), \n",
    "                                                         (myclip_b - mean_arr[i]) / (1e-9+std_arr[i]), \n",
    "                                                         loc=mean_arr[i], scale=std_arr[i], \n",
    "                                                         size=num_samples)"
   ]
  },
  {
   "cell_type": "code",
   "execution_count": 22,
   "id": "75444488",
   "metadata": {},
   "outputs": [
    {
     "data": {
      "image/png": "[encoded data removed]",
      "text/plain": [
       "<Figure size 244.085x150.853 with 1 Axes>"
      ]
     },
     "metadata": {
      "needs_background": "light"
     },
     "output_type": "display_data"
    }
   ],
   "source": [
    "plt.figure()\n",
    "plt.plot([np.mean(sampling_function(i,1)) for i in range(max_weeks)])\n",
    "plt.show()"
   ]
  },
  {
   "cell_type": "code",
   "execution_count": 145,
   "id": "e29f223d",
   "metadata": {},
   "outputs": [],
   "source": [
    "sourcing_parameters = dict(ce=20,\n",
    "                           cr=0,\n",
    "                           le=0,\n",
    "                           lr=2,\n",
    "                           h=5,\n",
    "                           b=495,\n",
    "                           T=max_weeks,\n",
    "                           demand_distribution=[sampling_function],\n",
    "                           empirical_baseline=2)    "
   ]
  },
  {
   "cell_type": "code",
   "execution_count": 146,
   "id": "ae9bde0d",
   "metadata": {},
   "outputs": [
    {
     "data": {
      "text/plain": [
       "<torch._C.Generator at 0x7fc1c16f4ed0>"
      ]
     },
     "execution_count": 146,
     "metadata": {},
     "output_type": "execute_result"
    }
   ],
   "source": [
    "random_seed = 2131755962840\n",
    "torch.manual_seed(random_seed)"
   ]
  },
  {
   "cell_type": "markdown",
   "id": "98dc2b0e",
   "metadata": {},
   "source": [
    "## NNC Initialization\n",
    "Here we initialize an NNC model and set  its hyperparameters for training."
   ]
  },
  {
   "cell_type": "code",
   "execution_count": 147,
   "id": "6111473c",
   "metadata": {},
   "outputs": [
    {
     "name": "stdout",
     "output_type": "stream",
     "text": [
      "The autoreload extension is already loaded. To reload it, use:\n",
      "  %reload_ext autoreload\n"
     ]
    }
   ],
   "source": [
    "%load_ext autoreload\n",
    "%autoreload 2\n",
    "import sys\n",
    "sys.path.append('../')\n",
    "import torch\n",
    "from neural_control.controllers import DualFullyConnectedRegressionControllerTime2\n",
    "from neural_control.dynamics import DualSourcingModel\n",
    "from copy import deepcopy\n",
    "from sourcing_models.utilities import sample_trajectories_capped_dual_index_temporal, \\\n",
    "sample_trajectories_dual_index, sample_trajectories_single_index, sample_trajectories_tailored_base_surge"
   ]
  },
  {
   "cell_type": "code",
   "execution_count": 148,
   "id": "b2bb2289",
   "metadata": {},
   "outputs": [],
   "source": [
    "### One can experiment with different layer architectures and activations per layer\n",
    "nnc_hyperparameters = dict(\n",
    "    n_hidden_units = [8,8,8]\n",
    ")\n",
    "\n",
    "### We use celu non-linearities for the input layer, hidden layers, and output layer\n",
    "nnc_hyperparameters['n_activations'] = [torch.nn.CELU(alpha=0.1)]*(2 + len(nnc_hyperparameters['n_hidden_units']))\n",
    "\n",
    "\n",
    "fcc = DualFullyConnectedRegressionControllerTime2(\n",
    "                                         lr=sourcing_parameters['lr'], \n",
    "                                         le=sourcing_parameters['le'], \n",
    "                                         n_hidden_units= nnc_hyperparameters ['n_hidden_units'],\n",
    "                                         activations=nnc_hyperparameters['n_activations']\n",
    "                                        ) # controller neural network object\n"
   ]
  },
  {
   "cell_type": "markdown",
   "id": "dbce1fe5",
   "metadata": {},
   "source": [
    "## Dynamics Initialization\n",
    "To further optimize NNC (''fine tuning''), we now apply gradient propagation to the inventory evolution equation:\n",
    "\n",
    "$I_t = I_{t-1} + q^{\\rm e}_{t-l_{\\rm e}} + q^{\\rm r}_{t-l_{\\rm r}} - D_t$\n",
    "\n",
    "where $I_0, q^{\\rm e}_{t},q^{\\rm r}_{t}$ are NNC outputs."
   ]
  },
  {
   "cell_type": "code",
   "execution_count": 149,
   "id": "74d6e279",
   "metadata": {},
   "outputs": [],
   "source": [
    "dsd = DualSourcingModel(fcc, I_0=4, **sourcing_parameters) # Dual Sourcing Dynamics object"
   ]
  },
  {
   "cell_type": "markdown",
   "id": "230242c8",
   "metadata": {},
   "source": [
    "We preserve the best performing model in training, assuming that the neural network generalizes well during training and that our training sample is large enough."
   ]
  },
  {
   "cell_type": "code",
   "execution_count": 150,
   "id": "3558ba38",
   "metadata": {},
   "outputs": [],
   "source": [
    "best_loss = [np.infty]\n",
    "best_model = [None]"
   ]
  },
  {
   "cell_type": "code",
   "execution_count": 151,
   "id": "4524091c",
   "metadata": {},
   "outputs": [],
   "source": [
    "all_training_costs = []"
   ]
  },
  {
   "cell_type": "code",
   "execution_count": 152,
   "id": "2335f062",
   "metadata": {},
   "outputs": [],
   "source": [
    "optimizer = torch.optim.RMSprop(#[dsd.I_0],\n",
    "                                list(fcc.parameters()), \n",
    "                                lr=4e-4)\n",
    "                               \n",
    "optimizer2 = torch.optim.RMSprop([dsd.I_0],\n",
    "                                #list(fcc.parameters()), \n",
    "                                lr=1e-1\n",
    "                               )"
   ]
  },
  {
   "cell_type": "code",
   "execution_count": 153,
   "id": "1e772134",
   "metadata": {},
   "outputs": [],
   "source": [
    "mean_arr_ext = np.append(mean_arr,l*[mean_arr[-1]])\n",
    "std_arr_ext = np.append(std_arr,l*[std_arr[-1]])"
   ]
  },
  {
   "cell_type": "code",
   "execution_count": 154,
   "id": "fdc0fc6f",
   "metadata": {
    "scrolled": true
   },
   "outputs": [
    {
     "name": "stdout",
     "output_type": "stream",
     "text": [
      "tensor(9.4323e+08, grad_fn=<DivBackward0>)\n",
      "tensor(8.9309e+08, grad_fn=<DivBackward0>)\n",
      "tensor(8.5179e+08, grad_fn=<DivBackward0>)\n",
      "tensor(8.1179e+08, grad_fn=<DivBackward0>)\n",
      "tensor(7.7152e+08, grad_fn=<DivBackward0>)\n",
      "tensor(7.2658e+08, grad_fn=<DivBackward0>)\n",
      "tensor(6.6471e+08, grad_fn=<DivBackward0>)\n",
      "tensor(5.7604e+08, grad_fn=<DivBackward0>)\n",
      "tensor(4.7270e+08, grad_fn=<DivBackward0>)\n",
      "tensor(3.8268e+08, grad_fn=<DivBackward0>)\n",
      "tensor(3.0295e+08, grad_fn=<DivBackward0>)\n",
      "tensor(2.1967e+08, grad_fn=<DivBackward0>)\n",
      "tensor(1.2811e+08, grad_fn=<DivBackward0>)\n",
      "tensor(34331348., grad_fn=<DivBackward0>)\n",
      "tensor(7906783.5000, grad_fn=<DivBackward0>)\n",
      "tensor(6094825.5000, grad_fn=<DivBackward0>)\n",
      "tensor(4723393.5000, grad_fn=<DivBackward0>)\n",
      "tensor(3751554.7500, grad_fn=<DivBackward0>)\n",
      "tensor(3117180.7500, grad_fn=<DivBackward0>)\n",
      "tensor(2621127.2500, grad_fn=<DivBackward0>)\n",
      "tensor(2241153.7500, grad_fn=<DivBackward0>)\n",
      "tensor(2053394.6250, grad_fn=<DivBackward0>)\n",
      "tensor(1974037.8750, grad_fn=<DivBackward0>)\n",
      "tensor(1900047.2500, grad_fn=<DivBackward0>)\n",
      "tensor(1822099.5000, grad_fn=<DivBackward0>)\n",
      "tensor(1742939.5000, grad_fn=<DivBackward0>)\n",
      "tensor(1666882.3750, grad_fn=<DivBackward0>)\n",
      "tensor(1590812.3750, grad_fn=<DivBackward0>)\n",
      "tensor(1512780.1250, grad_fn=<DivBackward0>)\n",
      "tensor(1428909.7500, grad_fn=<DivBackward0>)\n",
      "tensor(1337726.5000, grad_fn=<DivBackward0>)\n",
      "tensor(1249797.3750, grad_fn=<DivBackward0>)\n",
      "tensor(1211688.3750, grad_fn=<DivBackward0>)\n",
      "tensor(1178766.6250, grad_fn=<DivBackward0>)\n",
      "tensor(1145061.7500, grad_fn=<DivBackward0>)\n",
      "tensor(1115167.1250, grad_fn=<DivBackward0>)\n",
      "tensor(1082241.1250, grad_fn=<DivBackward0>)\n",
      "tensor(1055451.8750, grad_fn=<DivBackward0>)\n",
      "tensor(1027082.4375, grad_fn=<DivBackward0>)\n",
      "tensor(1001727.3750, grad_fn=<DivBackward0>)\n",
      "tensor(972603.5625, grad_fn=<DivBackward0>)\n",
      "tensor(941480.3750, grad_fn=<DivBackward0>)\n",
      "tensor(930334.7500, grad_fn=<DivBackward0>)\n",
      "tensor(920113.3125, grad_fn=<DivBackward0>)\n",
      "tensor(910230.9375, grad_fn=<DivBackward0>)\n",
      "tensor(898082.8125, grad_fn=<DivBackward0>)\n",
      "tensor(888540.3750, grad_fn=<DivBackward0>)\n",
      "tensor(880321.7500, grad_fn=<DivBackward0>)\n",
      "tensor(871331.1875, grad_fn=<DivBackward0>)\n",
      "tensor(862713.5000, grad_fn=<DivBackward0>)\n"
     ]
    },
    {
     "ename": "KeyboardInterrupt",
     "evalue": "",
     "output_type": "error",
     "traceback": [
      "\u001b[0;31m---------------------------------------------------------------------------\u001b[0m",
      "\u001b[0;31mKeyboardInterrupt\u001b[0m                         Traceback (most recent call last)",
      "\u001b[0;32m<ipython-input-154-e7da5f4e6167>\u001b[0m in \u001b[0;36m<module>\u001b[0;34m\u001b[0m\n\u001b[1;32m     28\u001b[0m         \u001b[0moptimizer2\u001b[0m\u001b[0;34m.\u001b[0m\u001b[0mstep\u001b[0m\u001b[0;34m(\u001b[0m\u001b[0mclosure\u001b[0m\u001b[0;34m)\u001b[0m\u001b[0;34m\u001b[0m\u001b[0;34m\u001b[0m\u001b[0m\n\u001b[1;32m     29\u001b[0m     \u001b[0;32melse\u001b[0m\u001b[0;34m:\u001b[0m\u001b[0;34m\u001b[0m\u001b[0;34m\u001b[0m\u001b[0m\n\u001b[0;32m---> 30\u001b[0;31m         \u001b[0moptimizer\u001b[0m\u001b[0;34m.\u001b[0m\u001b[0mstep\u001b[0m\u001b[0;34m(\u001b[0m\u001b[0mclosure\u001b[0m\u001b[0;34m)\u001b[0m\u001b[0;34m\u001b[0m\u001b[0;34m\u001b[0m\u001b[0m\n\u001b[0m\u001b[1;32m     31\u001b[0m \u001b[0mt1\u001b[0m \u001b[0;34m=\u001b[0m \u001b[0mtime\u001b[0m\u001b[0;34m.\u001b[0m\u001b[0mtime\u001b[0m\u001b[0;34m(\u001b[0m\u001b[0;34m)\u001b[0m\u001b[0;34m\u001b[0m\u001b[0;34m\u001b[0m\u001b[0m\n\u001b[1;32m     32\u001b[0m \u001b[0mtotal\u001b[0m \u001b[0;34m=\u001b[0m \u001b[0mt1\u001b[0m\u001b[0;34m-\u001b[0m\u001b[0mt0\u001b[0m\u001b[0;34m\u001b[0m\u001b[0;34m\u001b[0m\u001b[0m\n",
      "\u001b[0;32m~/anaconda3/envs/TCR/lib/python3.6/site-packages/torch/autograd/grad_mode.py\u001b[0m in \u001b[0;36mdecorate_context\u001b[0;34m(*args, **kwargs)\u001b[0m\n\u001b[1;32m     24\u001b[0m         \u001b[0;32mdef\u001b[0m \u001b[0mdecorate_context\u001b[0m\u001b[0;34m(\u001b[0m\u001b[0;34m*\u001b[0m\u001b[0margs\u001b[0m\u001b[0;34m,\u001b[0m \u001b[0;34m**\u001b[0m\u001b[0mkwargs\u001b[0m\u001b[0;34m)\u001b[0m\u001b[0;34m:\u001b[0m\u001b[0;34m\u001b[0m\u001b[0;34m\u001b[0m\u001b[0m\n\u001b[1;32m     25\u001b[0m             \u001b[0;32mwith\u001b[0m \u001b[0mself\u001b[0m\u001b[0;34m.\u001b[0m\u001b[0m__class__\u001b[0m\u001b[0;34m(\u001b[0m\u001b[0;34m)\u001b[0m\u001b[0;34m:\u001b[0m\u001b[0;34m\u001b[0m\u001b[0;34m\u001b[0m\u001b[0m\n\u001b[0;32m---> 26\u001b[0;31m                 \u001b[0;32mreturn\u001b[0m \u001b[0mfunc\u001b[0m\u001b[0;34m(\u001b[0m\u001b[0;34m*\u001b[0m\u001b[0margs\u001b[0m\u001b[0;34m,\u001b[0m \u001b[0;34m**\u001b[0m\u001b[0mkwargs\u001b[0m\u001b[0;34m)\u001b[0m\u001b[0;34m\u001b[0m\u001b[0;34m\u001b[0m\u001b[0m\n\u001b[0m\u001b[1;32m     27\u001b[0m         \u001b[0;32mreturn\u001b[0m \u001b[0mcast\u001b[0m\u001b[0;34m(\u001b[0m\u001b[0mF\u001b[0m\u001b[0;34m,\u001b[0m \u001b[0mdecorate_context\u001b[0m\u001b[0;34m)\u001b[0m\u001b[0;34m\u001b[0m\u001b[0;34m\u001b[0m\u001b[0m\n\u001b[1;32m     28\u001b[0m \u001b[0;34m\u001b[0m\u001b[0m\n",
      "\u001b[0;32m~/anaconda3/envs/TCR/lib/python3.6/site-packages/torch/optim/rmsprop.py\u001b[0m in \u001b[0;36mstep\u001b[0;34m(self, closure)\u001b[0m\n\u001b[1;32m     64\u001b[0m         \u001b[0;32mif\u001b[0m \u001b[0mclosure\u001b[0m \u001b[0;32mis\u001b[0m \u001b[0;32mnot\u001b[0m \u001b[0;32mNone\u001b[0m\u001b[0;34m:\u001b[0m\u001b[0;34m\u001b[0m\u001b[0;34m\u001b[0m\u001b[0m\n\u001b[1;32m     65\u001b[0m             \u001b[0;32mwith\u001b[0m \u001b[0mtorch\u001b[0m\u001b[0;34m.\u001b[0m\u001b[0menable_grad\u001b[0m\u001b[0;34m(\u001b[0m\u001b[0;34m)\u001b[0m\u001b[0;34m:\u001b[0m\u001b[0;34m\u001b[0m\u001b[0;34m\u001b[0m\u001b[0m\n\u001b[0;32m---> 66\u001b[0;31m                 \u001b[0mloss\u001b[0m \u001b[0;34m=\u001b[0m \u001b[0mclosure\u001b[0m\u001b[0;34m(\u001b[0m\u001b[0;34m)\u001b[0m\u001b[0;34m\u001b[0m\u001b[0;34m\u001b[0m\u001b[0m\n\u001b[0m\u001b[1;32m     67\u001b[0m \u001b[0;34m\u001b[0m\u001b[0m\n\u001b[1;32m     68\u001b[0m         \u001b[0;32mfor\u001b[0m \u001b[0mgroup\u001b[0m \u001b[0;32min\u001b[0m \u001b[0mself\u001b[0m\u001b[0;34m.\u001b[0m\u001b[0mparam_groups\u001b[0m\u001b[0;34m:\u001b[0m\u001b[0;34m\u001b[0m\u001b[0;34m\u001b[0m\u001b[0m\n",
      "\u001b[0;32m<ipython-input-154-e7da5f4e6167>\u001b[0m in \u001b[0;36mclosure\u001b[0;34m()\u001b[0m\n\u001b[1;32m     15\u001b[0m             \u001b[0mtotal_costs\u001b[0m \u001b[0;34m=\u001b[0m \u001b[0mcurrent_costs\u001b[0m\u001b[0;34m.\u001b[0m\u001b[0mmean\u001b[0m\u001b[0;34m(\u001b[0m\u001b[0;34m)\u001b[0m \u001b[0;34m+\u001b[0m \u001b[0mtotal_costs\u001b[0m \u001b[0;31m#1e1*sourcing_parameters[\"ce\"]*int(sum(qea))\u001b[0m\u001b[0;34m\u001b[0m\u001b[0;34m\u001b[0m\u001b[0m\n\u001b[1;32m     16\u001b[0m         \u001b[0mall_training_costs\u001b[0m\u001b[0;34m.\u001b[0m\u001b[0mappend\u001b[0m\u001b[0;34m(\u001b[0m\u001b[0mfloat\u001b[0m\u001b[0;34m(\u001b[0m\u001b[0mtotal_costs\u001b[0m\u001b[0;34m)\u001b[0m\u001b[0;34m/\u001b[0m\u001b[0mdsd\u001b[0m\u001b[0;34m.\u001b[0m\u001b[0mT\u001b[0m\u001b[0;34m)\u001b[0m\u001b[0;34m\u001b[0m\u001b[0;34m\u001b[0m\u001b[0m\n\u001b[0;32m---> 17\u001b[0;31m         \u001b[0mtotal_costs\u001b[0m\u001b[0;34m.\u001b[0m\u001b[0mbackward\u001b[0m\u001b[0;34m(\u001b[0m\u001b[0;34m)\u001b[0m\u001b[0;34m\u001b[0m\u001b[0;34m\u001b[0m\u001b[0m\n\u001b[0m\u001b[1;32m     18\u001b[0m         \u001b[0;32mif\u001b[0m \u001b[0mit\u001b[0m \u001b[0;34m%\u001b[0m \u001b[0;36m20\u001b[0m \u001b[0;34m==\u001b[0m \u001b[0;36m0\u001b[0m\u001b[0;34m:\u001b[0m\u001b[0;34m\u001b[0m\u001b[0;34m\u001b[0m\u001b[0m\n\u001b[1;32m     19\u001b[0m             \u001b[0mprint\u001b[0m\u001b[0;34m(\u001b[0m\u001b[0mtotal_costs\u001b[0m\u001b[0;34m/\u001b[0m\u001b[0mdsd\u001b[0m\u001b[0;34m.\u001b[0m\u001b[0mT\u001b[0m\u001b[0;34m)\u001b[0m\u001b[0;34m\u001b[0m\u001b[0;34m\u001b[0m\u001b[0m\n",
      "\u001b[0;32m~/anaconda3/envs/TCR/lib/python3.6/site-packages/torch/tensor.py\u001b[0m in \u001b[0;36mbackward\u001b[0;34m(self, gradient, retain_graph, create_graph)\u001b[0m\n\u001b[1;32m    219\u001b[0m                 \u001b[0mretain_graph\u001b[0m\u001b[0;34m=\u001b[0m\u001b[0mretain_graph\u001b[0m\u001b[0;34m,\u001b[0m\u001b[0;34m\u001b[0m\u001b[0;34m\u001b[0m\u001b[0m\n\u001b[1;32m    220\u001b[0m                 create_graph=create_graph)\n\u001b[0;32m--> 221\u001b[0;31m         \u001b[0mtorch\u001b[0m\u001b[0;34m.\u001b[0m\u001b[0mautograd\u001b[0m\u001b[0;34m.\u001b[0m\u001b[0mbackward\u001b[0m\u001b[0;34m(\u001b[0m\u001b[0mself\u001b[0m\u001b[0;34m,\u001b[0m \u001b[0mgradient\u001b[0m\u001b[0;34m,\u001b[0m \u001b[0mretain_graph\u001b[0m\u001b[0;34m,\u001b[0m \u001b[0mcreate_graph\u001b[0m\u001b[0;34m)\u001b[0m\u001b[0;34m\u001b[0m\u001b[0;34m\u001b[0m\u001b[0m\n\u001b[0m\u001b[1;32m    222\u001b[0m \u001b[0;34m\u001b[0m\u001b[0m\n\u001b[1;32m    223\u001b[0m     \u001b[0;32mdef\u001b[0m \u001b[0mregister_hook\u001b[0m\u001b[0;34m(\u001b[0m\u001b[0mself\u001b[0m\u001b[0;34m,\u001b[0m \u001b[0mhook\u001b[0m\u001b[0;34m)\u001b[0m\u001b[0;34m:\u001b[0m\u001b[0;34m\u001b[0m\u001b[0;34m\u001b[0m\u001b[0m\n",
      "\u001b[0;32m~/anaconda3/envs/TCR/lib/python3.6/site-packages/torch/autograd/__init__.py\u001b[0m in \u001b[0;36mbackward\u001b[0;34m(tensors, grad_tensors, retain_graph, create_graph, grad_variables)\u001b[0m\n\u001b[1;32m    130\u001b[0m     Variable._execution_engine.run_backward(\n\u001b[1;32m    131\u001b[0m         \u001b[0mtensors\u001b[0m\u001b[0;34m,\u001b[0m \u001b[0mgrad_tensors_\u001b[0m\u001b[0;34m,\u001b[0m \u001b[0mretain_graph\u001b[0m\u001b[0;34m,\u001b[0m \u001b[0mcreate_graph\u001b[0m\u001b[0;34m,\u001b[0m\u001b[0;34m\u001b[0m\u001b[0;34m\u001b[0m\u001b[0m\n\u001b[0;32m--> 132\u001b[0;31m         allow_unreachable=True)  # allow_unreachable flag\n\u001b[0m\u001b[1;32m    133\u001b[0m \u001b[0;34m\u001b[0m\u001b[0m\n\u001b[1;32m    134\u001b[0m \u001b[0;34m\u001b[0m\u001b[0m\n",
      "\u001b[0;31mKeyboardInterrupt\u001b[0m: "
     ]
    }
   ],
   "source": [
    "fine_tuning_iterations = 3000\n",
    "minibatch_size = 1\n",
    "random_seed = 4\n",
    "\n",
    "t0 = time.time()\n",
    "for it in range(fine_tuning_iterations):\n",
    "    optimizer.zero_grad()\n",
    "    optimizer2.zero_grad()\n",
    "    def closure():\n",
    "        dsd.reset(minibatch_size, seed=random_seed)\n",
    "        total_costs = 0\n",
    "        for i in range(dsd.T):\n",
    "            current_costs, demands, current_inventories, qr, qra, qe, qea = dsd.simulate(\\\n",
    "                                    1e5*mean_arr_ext[i:i+l],1e5*std_arr_ext[i:i+l])\n",
    "            total_costs = current_costs.mean() + total_costs #1e1*sourcing_parameters[\"ce\"]*int(sum(qea))\n",
    "        all_training_costs.append(float(total_costs)/dsd.T)\n",
    "        total_costs.backward()\n",
    "        if it % 20 == 0:\n",
    "            print(total_costs/dsd.T)\n",
    "        if total_costs < best_loss[0]:\n",
    "            best_loss[0] = total_costs.detach().cpu().item()\n",
    "            best_model[0] = deepcopy(fcc.state_dict())\n",
    "        return total_costs\n",
    "    \n",
    "    #if best_loss[0]/dsd.T < 8e5:\n",
    "    #    break\n",
    "    if it % 10 > 6:\n",
    "        optimizer2.step(closure)\n",
    "    else:\n",
    "        optimizer.step(closure)\n",
    "t1 = time.time()\n",
    "total = t1-t0\n",
    "print(total)"
   ]
  },
  {
   "cell_type": "code",
   "execution_count": 161,
   "id": "e5dc8658",
   "metadata": {},
   "outputs": [],
   "source": [
    "optimizer = torch.optim.RMSprop(#[dsd.I_0],\n",
    "                                list(fcc.parameters()), \n",
    "                                lr=1e-5)\n",
    "                               \n",
    "optimizer2 = torch.optim.RMSprop([dsd.I_0],\n",
    "                                #list(fcc.parameters()), \n",
    "                                lr=1e-1\n",
    "                               )"
   ]
  },
  {
   "cell_type": "code",
   "execution_count": 162,
   "id": "80ce7961",
   "metadata": {},
   "outputs": [
    {
     "name": "stdout",
     "output_type": "stream",
     "text": [
      "tensor(630107.5000, grad_fn=<DivBackward0>)\n",
      "tensor(629796.3125, grad_fn=<DivBackward0>)\n"
     ]
    },
    {
     "ename": "KeyboardInterrupt",
     "evalue": "",
     "output_type": "error",
     "traceback": [
      "\u001b[0;31m---------------------------------------------------------------------------\u001b[0m",
      "\u001b[0;31mKeyboardInterrupt\u001b[0m                         Traceback (most recent call last)",
      "\u001b[0;32m<ipython-input-162-c1df21eebd1c>\u001b[0m in \u001b[0;36m<module>\u001b[0;34m\u001b[0m\n\u001b[1;32m     28\u001b[0m         \u001b[0moptimizer2\u001b[0m\u001b[0;34m.\u001b[0m\u001b[0mstep\u001b[0m\u001b[0;34m(\u001b[0m\u001b[0mclosure\u001b[0m\u001b[0;34m)\u001b[0m\u001b[0;34m\u001b[0m\u001b[0;34m\u001b[0m\u001b[0m\n\u001b[1;32m     29\u001b[0m     \u001b[0;32melse\u001b[0m\u001b[0;34m:\u001b[0m\u001b[0;34m\u001b[0m\u001b[0;34m\u001b[0m\u001b[0m\n\u001b[0;32m---> 30\u001b[0;31m         \u001b[0moptimizer\u001b[0m\u001b[0;34m.\u001b[0m\u001b[0mstep\u001b[0m\u001b[0;34m(\u001b[0m\u001b[0mclosure\u001b[0m\u001b[0;34m)\u001b[0m\u001b[0;34m\u001b[0m\u001b[0;34m\u001b[0m\u001b[0m\n\u001b[0m\u001b[1;32m     31\u001b[0m \u001b[0mt1\u001b[0m \u001b[0;34m=\u001b[0m \u001b[0mtime\u001b[0m\u001b[0;34m.\u001b[0m\u001b[0mtime\u001b[0m\u001b[0;34m(\u001b[0m\u001b[0;34m)\u001b[0m\u001b[0;34m\u001b[0m\u001b[0;34m\u001b[0m\u001b[0m\n\u001b[1;32m     32\u001b[0m \u001b[0mtotal\u001b[0m \u001b[0;34m=\u001b[0m \u001b[0mt1\u001b[0m\u001b[0;34m-\u001b[0m\u001b[0mt0\u001b[0m\u001b[0;34m\u001b[0m\u001b[0;34m\u001b[0m\u001b[0m\n",
      "\u001b[0;32m~/anaconda3/envs/TCR/lib/python3.6/site-packages/torch/autograd/grad_mode.py\u001b[0m in \u001b[0;36mdecorate_context\u001b[0;34m(*args, **kwargs)\u001b[0m\n\u001b[1;32m     24\u001b[0m         \u001b[0;32mdef\u001b[0m \u001b[0mdecorate_context\u001b[0m\u001b[0;34m(\u001b[0m\u001b[0;34m*\u001b[0m\u001b[0margs\u001b[0m\u001b[0;34m,\u001b[0m \u001b[0;34m**\u001b[0m\u001b[0mkwargs\u001b[0m\u001b[0;34m)\u001b[0m\u001b[0;34m:\u001b[0m\u001b[0;34m\u001b[0m\u001b[0;34m\u001b[0m\u001b[0m\n\u001b[1;32m     25\u001b[0m             \u001b[0;32mwith\u001b[0m \u001b[0mself\u001b[0m\u001b[0;34m.\u001b[0m\u001b[0m__class__\u001b[0m\u001b[0;34m(\u001b[0m\u001b[0;34m)\u001b[0m\u001b[0;34m:\u001b[0m\u001b[0;34m\u001b[0m\u001b[0;34m\u001b[0m\u001b[0m\n\u001b[0;32m---> 26\u001b[0;31m                 \u001b[0;32mreturn\u001b[0m \u001b[0mfunc\u001b[0m\u001b[0;34m(\u001b[0m\u001b[0;34m*\u001b[0m\u001b[0margs\u001b[0m\u001b[0;34m,\u001b[0m \u001b[0;34m**\u001b[0m\u001b[0mkwargs\u001b[0m\u001b[0;34m)\u001b[0m\u001b[0;34m\u001b[0m\u001b[0;34m\u001b[0m\u001b[0m\n\u001b[0m\u001b[1;32m     27\u001b[0m         \u001b[0;32mreturn\u001b[0m \u001b[0mcast\u001b[0m\u001b[0;34m(\u001b[0m\u001b[0mF\u001b[0m\u001b[0;34m,\u001b[0m \u001b[0mdecorate_context\u001b[0m\u001b[0;34m)\u001b[0m\u001b[0;34m\u001b[0m\u001b[0;34m\u001b[0m\u001b[0m\n\u001b[1;32m     28\u001b[0m \u001b[0;34m\u001b[0m\u001b[0m\n",
      "\u001b[0;32m~/anaconda3/envs/TCR/lib/python3.6/site-packages/torch/optim/rmsprop.py\u001b[0m in \u001b[0;36mstep\u001b[0;34m(self, closure)\u001b[0m\n\u001b[1;32m     64\u001b[0m         \u001b[0;32mif\u001b[0m \u001b[0mclosure\u001b[0m \u001b[0;32mis\u001b[0m \u001b[0;32mnot\u001b[0m \u001b[0;32mNone\u001b[0m\u001b[0;34m:\u001b[0m\u001b[0;34m\u001b[0m\u001b[0;34m\u001b[0m\u001b[0m\n\u001b[1;32m     65\u001b[0m             \u001b[0;32mwith\u001b[0m \u001b[0mtorch\u001b[0m\u001b[0;34m.\u001b[0m\u001b[0menable_grad\u001b[0m\u001b[0;34m(\u001b[0m\u001b[0;34m)\u001b[0m\u001b[0;34m:\u001b[0m\u001b[0;34m\u001b[0m\u001b[0;34m\u001b[0m\u001b[0m\n\u001b[0;32m---> 66\u001b[0;31m                 \u001b[0mloss\u001b[0m \u001b[0;34m=\u001b[0m \u001b[0mclosure\u001b[0m\u001b[0;34m(\u001b[0m\u001b[0;34m)\u001b[0m\u001b[0;34m\u001b[0m\u001b[0;34m\u001b[0m\u001b[0m\n\u001b[0m\u001b[1;32m     67\u001b[0m \u001b[0;34m\u001b[0m\u001b[0m\n\u001b[1;32m     68\u001b[0m         \u001b[0;32mfor\u001b[0m \u001b[0mgroup\u001b[0m \u001b[0;32min\u001b[0m \u001b[0mself\u001b[0m\u001b[0;34m.\u001b[0m\u001b[0mparam_groups\u001b[0m\u001b[0;34m:\u001b[0m\u001b[0;34m\u001b[0m\u001b[0;34m\u001b[0m\u001b[0m\n",
      "\u001b[0;32m<ipython-input-162-c1df21eebd1c>\u001b[0m in \u001b[0;36mclosure\u001b[0;34m()\u001b[0m\n\u001b[1;32m     12\u001b[0m         \u001b[0;32mfor\u001b[0m \u001b[0mi\u001b[0m \u001b[0;32min\u001b[0m \u001b[0mrange\u001b[0m\u001b[0;34m(\u001b[0m\u001b[0mdsd\u001b[0m\u001b[0;34m.\u001b[0m\u001b[0mT\u001b[0m\u001b[0;34m)\u001b[0m\u001b[0;34m:\u001b[0m\u001b[0;34m\u001b[0m\u001b[0;34m\u001b[0m\u001b[0m\n\u001b[1;32m     13\u001b[0m             current_costs, demands, current_inventories, qr, qra, qe, qea = dsd.simulate(\\\n\u001b[0;32m---> 14\u001b[0;31m                                     1e5*mean_arr_ext[i:i+l],1e5*std_arr_ext[i:i+l])\n\u001b[0m\u001b[1;32m     15\u001b[0m             \u001b[0mtotal_costs\u001b[0m \u001b[0;34m=\u001b[0m \u001b[0mcurrent_costs\u001b[0m\u001b[0;34m.\u001b[0m\u001b[0mmean\u001b[0m\u001b[0;34m(\u001b[0m\u001b[0;34m)\u001b[0m \u001b[0;34m+\u001b[0m \u001b[0mtotal_costs\u001b[0m \u001b[0;31m#1e1*sourcing_parameters[\"ce\"]*int(sum(qea))\u001b[0m\u001b[0;34m\u001b[0m\u001b[0;34m\u001b[0m\u001b[0m\n\u001b[1;32m     16\u001b[0m         \u001b[0mall_training_costs\u001b[0m\u001b[0;34m.\u001b[0m\u001b[0mappend\u001b[0m\u001b[0;34m(\u001b[0m\u001b[0mfloat\u001b[0m\u001b[0;34m(\u001b[0m\u001b[0mtotal_costs\u001b[0m\u001b[0;34m)\u001b[0m\u001b[0;34m/\u001b[0m\u001b[0mdsd\u001b[0m\u001b[0;34m.\u001b[0m\u001b[0mT\u001b[0m\u001b[0;34m)\u001b[0m\u001b[0;34m\u001b[0m\u001b[0;34m\u001b[0m\u001b[0m\n",
      "\u001b[0;32m~/Documents/Projects/04_Sourcing/inventory-optimization/neural_control/dynamics.py\u001b[0m in \u001b[0;36msimulate\u001b[0;34m(self, mean, std)\u001b[0m\n\u001b[1;32m     58\u001b[0m                 \u001b[0mmin_demands\u001b[0m \u001b[0;34m=\u001b[0m \u001b[0;34m[\u001b[0m\u001b[0mmax\u001b[0m\u001b[0;34m(\u001b[0m\u001b[0;36m0\u001b[0m\u001b[0;34m,\u001b[0m\u001b[0mmean\u001b[0m\u001b[0;34m[\u001b[0m\u001b[0mi\u001b[0m\u001b[0;34m]\u001b[0m\u001b[0;34m-\u001b[0m\u001b[0;36m2.58\u001b[0m\u001b[0;34m*\u001b[0m\u001b[0mstd\u001b[0m\u001b[0;34m[\u001b[0m\u001b[0mi\u001b[0m\u001b[0;34m]\u001b[0m\u001b[0;34m)\u001b[0m \u001b[0;32mfor\u001b[0m \u001b[0mi\u001b[0m \u001b[0;32min\u001b[0m \u001b[0mrange\u001b[0m\u001b[0;34m(\u001b[0m\u001b[0mlen\u001b[0m\u001b[0;34m(\u001b[0m\u001b[0mmean\u001b[0m\u001b[0;34m)\u001b[0m\u001b[0;34m)\u001b[0m\u001b[0;34m]\u001b[0m\u001b[0;34m\u001b[0m\u001b[0;34m\u001b[0m\u001b[0m\n\u001b[1;32m     59\u001b[0m                 \u001b[0mmax_demands\u001b[0m \u001b[0;34m=\u001b[0m \u001b[0;34m[\u001b[0m\u001b[0mmean\u001b[0m\u001b[0;34m[\u001b[0m\u001b[0mi\u001b[0m\u001b[0;34m]\u001b[0m\u001b[0;34m+\u001b[0m\u001b[0;36m2.58\u001b[0m\u001b[0;34m*\u001b[0m\u001b[0mstd\u001b[0m\u001b[0;34m[\u001b[0m\u001b[0mi\u001b[0m\u001b[0;34m]\u001b[0m \u001b[0;32mfor\u001b[0m \u001b[0mi\u001b[0m \u001b[0;32min\u001b[0m \u001b[0mrange\u001b[0m\u001b[0;34m(\u001b[0m\u001b[0mlen\u001b[0m\u001b[0;34m(\u001b[0m\u001b[0mmean\u001b[0m\u001b[0;34m)\u001b[0m\u001b[0;34m)\u001b[0m\u001b[0;34m]\u001b[0m\u001b[0;34m\u001b[0m\u001b[0;34m\u001b[0m\u001b[0m\n\u001b[0;32m---> 60\u001b[0;31m                 \u001b[0mqr\u001b[0m\u001b[0;34m,\u001b[0m \u001b[0mqe\u001b[0m \u001b[0;34m=\u001b[0m \u001b[0mself\u001b[0m\u001b[0;34m.\u001b[0m\u001b[0mcontroller\u001b[0m\u001b[0;34m(\u001b[0m\u001b[0mD\u001b[0m\u001b[0;34m,\u001b[0m \u001b[0mself\u001b[0m\u001b[0;34m.\u001b[0m\u001b[0mI_i\u001b[0m\u001b[0;34m,\u001b[0m \u001b[0mself\u001b[0m\u001b[0;34m.\u001b[0m\u001b[0mprevious_qr\u001b[0m\u001b[0;34m,\u001b[0m \u001b[0mself\u001b[0m\u001b[0;34m.\u001b[0m\u001b[0mprevious_qe\u001b[0m\u001b[0;34m,\u001b[0m \u001b[0mmin_demands\u001b[0m\u001b[0;34m,\u001b[0m \u001b[0mmax_demands\u001b[0m\u001b[0;34m)\u001b[0m\u001b[0;34m\u001b[0m\u001b[0;34m\u001b[0m\u001b[0m\n\u001b[0m\u001b[1;32m     61\u001b[0m             \u001b[0;32melse\u001b[0m\u001b[0;34m:\u001b[0m\u001b[0;34m\u001b[0m\u001b[0;34m\u001b[0m\u001b[0m\n\u001b[1;32m     62\u001b[0m                 \u001b[0mprint\u001b[0m\u001b[0;34m(\u001b[0m\u001b[0mself\u001b[0m\u001b[0;34m.\u001b[0m\u001b[0mdemand_arr\u001b[0m\u001b[0;34m)\u001b[0m\u001b[0;34m\u001b[0m\u001b[0;34m\u001b[0m\u001b[0m\n",
      "\u001b[0;32m~/anaconda3/envs/TCR/lib/python3.6/site-packages/torch/nn/modules/module.py\u001b[0m in \u001b[0;36m_call_impl\u001b[0;34m(self, *input, **kwargs)\u001b[0m\n\u001b[1;32m    725\u001b[0m             \u001b[0mresult\u001b[0m \u001b[0;34m=\u001b[0m \u001b[0mself\u001b[0m\u001b[0;34m.\u001b[0m\u001b[0m_slow_forward\u001b[0m\u001b[0;34m(\u001b[0m\u001b[0;34m*\u001b[0m\u001b[0minput\u001b[0m\u001b[0;34m,\u001b[0m \u001b[0;34m**\u001b[0m\u001b[0mkwargs\u001b[0m\u001b[0;34m)\u001b[0m\u001b[0;34m\u001b[0m\u001b[0;34m\u001b[0m\u001b[0m\n\u001b[1;32m    726\u001b[0m         \u001b[0;32melse\u001b[0m\u001b[0;34m:\u001b[0m\u001b[0;34m\u001b[0m\u001b[0;34m\u001b[0m\u001b[0m\n\u001b[0;32m--> 727\u001b[0;31m             \u001b[0mresult\u001b[0m \u001b[0;34m=\u001b[0m \u001b[0mself\u001b[0m\u001b[0;34m.\u001b[0m\u001b[0mforward\u001b[0m\u001b[0;34m(\u001b[0m\u001b[0;34m*\u001b[0m\u001b[0minput\u001b[0m\u001b[0;34m,\u001b[0m \u001b[0;34m**\u001b[0m\u001b[0mkwargs\u001b[0m\u001b[0;34m)\u001b[0m\u001b[0;34m\u001b[0m\u001b[0;34m\u001b[0m\u001b[0m\n\u001b[0m\u001b[1;32m    728\u001b[0m         for hook in itertools.chain(\n\u001b[1;32m    729\u001b[0m                 \u001b[0m_global_forward_hooks\u001b[0m\u001b[0;34m.\u001b[0m\u001b[0mvalues\u001b[0m\u001b[0;34m(\u001b[0m\u001b[0;34m)\u001b[0m\u001b[0;34m,\u001b[0m\u001b[0;34m\u001b[0m\u001b[0;34m\u001b[0m\u001b[0m\n",
      "\u001b[0;32m~/Documents/Projects/04_Sourcing/inventory-optimization/neural_control/controllers.py\u001b[0m in \u001b[0;36mforward\u001b[0;34m(self, current_demand, current_inventory, past_regular_orders, past_expedited_orders, min_demands, max_demands)\u001b[0m\n\u001b[1;32m    412\u001b[0m             \u001b[0mh\u001b[0m \u001b[0;34m=\u001b[0m \u001b[0mh\u001b[0m \u001b[0;34m-\u001b[0m \u001b[0mtorch\u001b[0m\u001b[0;34m.\u001b[0m\u001b[0mfrac\u001b[0m\u001b[0;34m(\u001b[0m\u001b[0mh\u001b[0m\u001b[0;34m)\u001b[0m\u001b[0;34m.\u001b[0m\u001b[0mclone\u001b[0m\u001b[0;34m(\u001b[0m\u001b[0;34m)\u001b[0m\u001b[0;34m.\u001b[0m\u001b[0mdetach\u001b[0m\u001b[0;34m(\u001b[0m\u001b[0;34m)\u001b[0m\u001b[0;34m\u001b[0m\u001b[0;34m\u001b[0m\u001b[0m\n\u001b[1;32m    413\u001b[0m \u001b[0;34m\u001b[0m\u001b[0m\n\u001b[0;32m--> 414\u001b[0;31m         \u001b[0mqr\u001b[0m \u001b[0;34m=\u001b[0m \u001b[0mh\u001b[0m\u001b[0;34m[\u001b[0m\u001b[0;34m:\u001b[0m\u001b[0;34m,\u001b[0m \u001b[0;36m0\u001b[0m\u001b[0;34m]\u001b[0m\u001b[0;34m.\u001b[0m\u001b[0munsqueeze\u001b[0m\u001b[0;34m(\u001b[0m\u001b[0;34m-\u001b[0m\u001b[0;36m1\u001b[0m\u001b[0;34m)\u001b[0m\u001b[0;34m\u001b[0m\u001b[0;34m\u001b[0m\u001b[0m\n\u001b[0m\u001b[1;32m    415\u001b[0m         \u001b[0mqe\u001b[0m \u001b[0;34m=\u001b[0m \u001b[0mh\u001b[0m\u001b[0;34m[\u001b[0m\u001b[0;34m:\u001b[0m\u001b[0;34m,\u001b[0m \u001b[0;36m1\u001b[0m\u001b[0;34m]\u001b[0m\u001b[0;34m.\u001b[0m\u001b[0munsqueeze\u001b[0m\u001b[0;34m(\u001b[0m\u001b[0;34m-\u001b[0m\u001b[0;36m1\u001b[0m\u001b[0;34m)\u001b[0m\u001b[0;34m\u001b[0m\u001b[0;34m\u001b[0m\u001b[0m\n\u001b[1;32m    416\u001b[0m         \u001b[0;32mreturn\u001b[0m \u001b[0mqr\u001b[0m\u001b[0;34m,\u001b[0m \u001b[0mqe\u001b[0m\u001b[0;34m\u001b[0m\u001b[0;34m\u001b[0m\u001b[0m\n",
      "\u001b[0;31mKeyboardInterrupt\u001b[0m: "
     ]
    }
   ],
   "source": [
    "fine_tuning_iterations = 3000\n",
    "minibatch_size = 128\n",
    "random_seed = 4\n",
    "\n",
    "t0 = time.time()\n",
    "for it in range(fine_tuning_iterations):\n",
    "    optimizer.zero_grad()\n",
    "    optimizer2.zero_grad()\n",
    "    def closure():\n",
    "        dsd.reset(minibatch_size, seed=random_seed)\n",
    "        total_costs = 0\n",
    "        for i in range(dsd.T):\n",
    "            current_costs, demands, current_inventories, qr, qra, qe, qea = dsd.simulate(\\\n",
    "                                    1e5*mean_arr_ext[i:i+l],1e5*std_arr_ext[i:i+l])\n",
    "            total_costs = current_costs.mean() + total_costs #1e1*sourcing_parameters[\"ce\"]*int(sum(qea))\n",
    "        all_training_costs.append(float(total_costs)/dsd.T)\n",
    "        total_costs.backward()\n",
    "        if it % 20 == 0:\n",
    "            print(total_costs/dsd.T)\n",
    "        if total_costs < best_loss[0]:\n",
    "            best_loss[0] = total_costs.detach().cpu().item()\n",
    "            best_model[0] = deepcopy(fcc.state_dict())\n",
    "        return total_costs\n",
    "    \n",
    "    if best_loss[0]/dsd.T < 5.0e5:\n",
    "        break    \n",
    "    if it % 10 > 6:\n",
    "        optimizer2.step(closure)\n",
    "    else:\n",
    "        optimizer.step(closure)\n",
    "t1 = time.time()\n",
    "total = t1-t0\n",
    "print(total)"
   ]
  },
  {
   "cell_type": "code",
   "execution_count": 120,
   "id": "2104507d",
   "metadata": {},
   "outputs": [
    {
     "data": {
      "image/png": "[encoded data removed]",
      "text/plain": [
       "<Figure size 493.151x152.392 with 1 Axes>"
      ]
     },
     "metadata": {},
     "output_type": "display_data"
    }
   ],
   "source": [
    "from matplotlib.ticker import NullFormatter\n",
    "\n",
    "# set nice figure sizes\n",
    "fig_width_pt = 495    # Get this from LaTeX using \\showthe\\columnwidth\n",
    "golden_mean = (np.sqrt(5.) - 1.) / 2.  # Aesthetic ratio\n",
    "ratio = golden_mean\n",
    "inches_per_pt = 1. / 72.27  # Convert pt to inches\n",
    "fig_width = fig_width_pt * inches_per_pt  # width in inches\n",
    "fig_height = fig_width*ratio  # height in inches\n",
    "fig_size = [fig_width, 0.5*fig_height]\n",
    "rcParams.update({'figure.figsize': fig_size})\n",
    "\n",
    "costs = np.array(all_training_costs)\n",
    "#np.savetxt(\"cost_direct_learning.dat\",costs)\n",
    "\n",
    "fig, ax = plt.subplots(ncols=1)\n",
    "plt.plot(costs,alpha=1)\n",
    "ax.yaxis.set_minor_formatter(NullFormatter())\n",
    "ax.set_xlabel(r'Training epochs')\n",
    "ax.set_ylabel(r'Average cost')\n",
    "plt.tight_layout()\n",
    "#plt.yscale(\"log\")\n",
    "#plt.xlim(9000,12000)\n",
    "plt.ylim(5e5,7e5)\n",
    "plt.margins(0,0)\n",
    "plt.show()"
   ]
  },
  {
   "cell_type": "code",
   "execution_count": 160,
   "id": "6bbc6150",
   "metadata": {},
   "outputs": [
    {
     "data": {
      "text/plain": [
       "<All keys matched successfully>"
      ]
     },
     "execution_count": 160,
     "metadata": {},
     "output_type": "execute_result"
    }
   ],
   "source": [
    "#fcc.load_state_dict(best_model[0])\n",
    "best_model_load = torch.load('nnc_best_model_MSOM_081722_baseline2_I0=4_b=495.pt', map_location='cpu')\n",
    "fcc.load_state_dict(best_model_load)"
   ]
  },
  {
   "cell_type": "code",
   "execution_count": 97,
   "id": "b419ff99",
   "metadata": {},
   "outputs": [],
   "source": [
    "model_load = torch.load('nnc_best_model_MSOM_081722_baseline2_I0=4_b=495.pt', map_location='cpu')\n",
    "my_data = model_load[\"layers.1.weight\"].numpy().T"
   ]
  },
  {
   "cell_type": "code",
   "execution_count": 98,
   "id": "c3cff2df",
   "metadata": {},
   "outputs": [
    {
     "data": {
      "text/plain": [
       "array([[ 0.29346156, -0.06829387,  0.3513236 ,  0.04087209, -0.38180068,\n",
       "        -0.20745677, -0.27699786,  0.20114489],\n",
       "       [ 0.2120476 ,  0.43944076, -0.05237567, -0.00212156,  0.20508812,\n",
       "         0.31305942,  0.41424   ,  0.26535383],\n",
       "       [-0.17055236, -0.06626185, -0.25469443,  0.42017746,  0.54867095,\n",
       "         0.43851122, -0.06515126,  0.07838095],\n",
       "       [ 0.24013384, -0.00153453, -0.48178414, -0.21867052, -0.500914  ,\n",
       "        -0.54596895, -0.02456247,  0.52321213],\n",
       "       [-0.36772802,  0.26108974, -0.27637386,  0.6068712 ,  0.12212314,\n",
       "        -0.09989786,  0.22749038, -0.24357684],\n",
       "       [-0.16279887,  0.133519  , -0.2567021 ,  0.12526676,  0.53313345,\n",
       "         0.5673828 , -0.1042257 ,  0.14423421],\n",
       "       [ 0.3423209 , -0.09271301, -0.13395528,  0.6220754 ,  0.5146364 ,\n",
       "         0.11864072, -0.48139688, -0.2949295 ],\n",
       "       [ 0.52945405, -0.0183102 ,  0.17460467,  0.15880424, -0.04503114,\n",
       "        -0.51009107, -0.09641145,  0.09507537]], dtype=float32)"
      ]
     },
     "execution_count": 98,
     "metadata": {},
     "output_type": "execute_result"
    }
   ],
   "source": [
    "my_data"
   ]
  },
  {
   "cell_type": "code",
   "execution_count": 122,
   "id": "03640f0c",
   "metadata": {},
   "outputs": [
    {
     "data": {
      "text/plain": [
       "549115.6521739131"
      ]
     },
     "execution_count": 122,
     "metadata": {},
     "output_type": "execute_result"
    }
   ],
   "source": [
    "min(costs)"
   ]
  },
  {
   "cell_type": "code",
   "execution_count": 266,
   "id": "3d9a8237",
   "metadata": {},
   "outputs": [],
   "source": [
    "#torch.save(best_model[0], 'nnc_best_model_MSOM_081722_baseline2_I0=4_b=495.pt')"
   ]
  },
  {
   "cell_type": "code",
   "execution_count": 163,
   "id": "17a8c81d",
   "metadata": {},
   "outputs": [
    {
     "data": {
      "text/plain": [
       "tensor([75.])"
      ]
     },
     "execution_count": 163,
     "metadata": {},
     "output_type": "execute_result"
    }
   ],
   "source": [
    "dsd.learned_I_0.detach().clone()[0]"
   ]
  },
  {
   "cell_type": "markdown",
   "id": "2a93d09a",
   "metadata": {},
   "source": [
    "## Comparison \n",
    "First, we generate new dual-index samples.\n",
    "These will be used to compare performance on unseen samples for NNC."
   ]
  },
  {
   "cell_type": "code",
   "execution_count": 164,
   "id": "cc0badb2",
   "metadata": {},
   "outputs": [
    {
     "name": "stdout",
     "output_type": "stream",
     "text": [
      "[0.0, 0.0, 0.0, 0.0, 0.0, 0.0, 0.0, 0.0, 0.0, 0.0, 0.0, 0.0, 0.0, 0.0, 0.0, 0.0, 0.0, 0.0, 0.0, 321.3316233705828, 321.3316233705828, 1312.9214047392677, 7201.900969984419, 11940.174374235716, 11482.643990634404, 33933.794911292796, 12631.409686409857, 43658.03195473863, 84040.47198726924, 63217.41614943749, 124132.63064426066, 89857.39988513912, 69360.64710688143, 67913.65701553372, 85442.06963269117, 139436.4469667985, 108026.10300839962, 205949.37752663743, 121092.47720243584, 124953.89307736987, 85321.19902799351, 139406.26204537367, 98198.65273892187, 179131.43541320812, 87242.72382347258, 73189.6773594819, 107380.3146492002, 133762.32165364572, 153760.5488365637, 188938.48315474522, 195145.81873300447, 207978.55942091194, 167576.35419951865, 220560.39206549202, 243182.29323306863, 169347.79099789794, 184852.13461167525, 126285.96234947204, 140810.63466751808, 221677.9738324751, 192560.1142910115, 238256.72804639486, 227933.04691904297, 183789.409411036, 228725.2568157064, 185698.22378101785, 188154.80936722684, 224006.68847468033, 222152.6221346697, 193653.25954659696, 192244.2275242813, 203762.45605149333, 210757.02405208306, 216014.69310214918, 260674.57626342756, 159028.0624585845, 267070.2955255014, 205060.4570168242, 227624.68719172745, 177679.08520357922, 153040.88920800923, 271694.5044258142, 193028.26194328174, 167711.67578645304, 183751.6154881408, 220326.70642187432, 245496.73585466307, 231750.09178275074, 169770.6139951648, 235478.2488528202, 138734.3855344462, 95527.05552665409, 97251.78636002666, 136061.8372484579, 58963.721465077935, 117105.533249837, 102469.58960438504, 104136.79128002179, 52276.323240196274, 69467.86877288442, 97077.50789356769, 102344.98244488503, 83181.70245632702, 70602.39023189236, 76902.5399901463, 59069.31765659514, 44223.90756786918, 72177.34673927852, 82811.11808951263, 82379.8344232784, 65781.73291576597, 48334.634367432154, 57937.70095341478, 68741.62024200105, 78094.29630853354]\n"
     ]
    }
   ],
   "source": [
    "sourcing_parameters = dict(ce=20,\n",
    "                           cr=0,\n",
    "                           le=0,\n",
    "                           lr=2,\n",
    "                           h=5,\n",
    "                           b=495,\n",
    "                           T=max_weeks,\n",
    "                           I0=75,\n",
    "                           demand_distribution=[sampling_function],\n",
    "                           standard_baseline=False)\n",
    "\n",
    "state_trajectories, qr_trajectories, qe_trajectories =\\\n",
    "    sample_trajectories_capped_dual_index_temporal(n_trajectories=300, mean_demand_arr=1e5*mean_arr, std_demand_arr=1e5*std_arr, seed=125, **sourcing_parameters)"
   ]
  },
  {
   "cell_type": "code",
   "execution_count": 165,
   "id": "e2c82a39",
   "metadata": {},
   "outputs": [],
   "source": [
    "dsd.reset(1)\n",
    "def evaluate_nnc_on_sample(state_trajectories, \n",
    "                           sample_id):\n",
    "    \n",
    "    fixed_demands = state_trajectories[sample_id, 1:, 1].unsqueeze(-1)\n",
    "\n",
    "    nn_inv = dsd.learned_I_0.detach().clone()\n",
    "    dsd.reset(1)\n",
    "    nn_qr = [torch.zeros([1,1])]*(dsd.lr+1)\n",
    "    nn_qe = [torch.zeros([1,1])]*(dsd.le+1)\n",
    "    nn_ci = []\n",
    "    all_nn_inv = [nn_inv.item()]\n",
    "    D = torch.tensor(0.0).unsqueeze(0).unsqueeze(0)\n",
    "        \n",
    "    for i in range(sourcing_parameters[\"T\"]):\n",
    "        mean = 1e5*mean_arr_ext[i:i+l]\n",
    "        std = 1e5*std_arr_ext[i:i+l]\n",
    "        min_demands = [max(0,mean[i]-2.58*std[i]) for i in range(len(mean))]\n",
    "        max_demands = [mean[i]+2.58*std[i] for i in range(len(mean))]\n",
    "        qr, qe = fcc(D, nn_inv, nn_qr, nn_qe, min_demands, max_demands)\n",
    "        D = fixed_demands[i].unsqueeze(0)\n",
    "        nn_qr.append(qr)\n",
    "        nn_qe.append(qe)\n",
    "        qra = nn_qr[-dsd.lr-1]\n",
    "        qea = nn_qe[-dsd.le-1]\n",
    "        c_i, nn_inv = dsd.replay_step(nn_inv, D, qra, qea, qr, qe)\n",
    "        nn_ci.append(c_i)\n",
    "        all_nn_inv.append(nn_inv.item())\n",
    "    return all_nn_inv, nn_qr, nn_qe, nn_ci, torch.stack(nn_ci).mean()"
   ]
  },
  {
   "cell_type": "code",
   "execution_count": 166,
   "id": "eefe5544",
   "metadata": {},
   "outputs": [],
   "source": [
    "def evaluate_cdi_on_sample(state_trajectories, \n",
    "                           qr_trajectories, \n",
    "                           qe_trajectories, \n",
    "                           sample_id):\n",
    "    \n",
    "    dsd.reset(1)\n",
    "    fixed_demands = state_trajectories[sample_id, 1:, 1].unsqueeze(-1)\n",
    "\n",
    "    ds_inv = state_trajectories[sample_id, 0, 0].unsqueeze(0).unsqueeze(0)\n",
    "    dsd.reset(1)\n",
    "    all_qr = [0]*dsd.lr\n",
    "    all_qe = [0]*dsd.le\n",
    "    all_ci = []\n",
    "    all_inv = [ds_inv.detach().item()]\n",
    "    for i in range(sourcing_parameters[\"T\"]):\n",
    "        D = fixed_demands[i].unsqueeze(0)\n",
    "        if dsd.le == 0:\n",
    "            qe = qe_trajectories[sample_id, i+1]\n",
    "        else:\n",
    "            qe = qe_trajectories[sample_id, dsd.le+i]\n",
    "    \n",
    "        if dsd.lr == 0:\n",
    "            qr = qr_trajectories[sample_id, i+1]\n",
    "        else:\n",
    "            qr = qr_trajectories[sample_id, dsd.lr+i]\n",
    "            \n",
    "        all_qr.append(qr)\n",
    "        all_qe.append(qe)\n",
    "        qra = all_qr[-dsd.lr-1]\n",
    "        qea = all_qe[-dsd.le-1]\n",
    "        #if i == 21:\n",
    "        #    print(qra, qea, ds_inv, D)\n",
    "        c_i, ds_inv = dsd.replay_step(ds_inv, D, qra, qea, qr, qe)\n",
    "        all_inv.append(ds_inv.detach().item())\n",
    "        all_ci.append(c_i)\n",
    "    # test if calculated inventories and costs are the same as the ones reported\n",
    "    # from the dual sourcing code\n",
    "    assert torch.all(torch.tensor(all_inv) == state_trajectories[sample_id, :, 0])\n",
    "    assert torch.all(torch.tensor(all_ci) == state_trajectories[sample_id, 1:, -1])\n",
    "    return all_inv, all_qr, all_qe, all_ci, torch.stack(all_ci).float().mean()"
   ]
  },
  {
   "cell_type": "code",
   "execution_count": 167,
   "id": "4fb4daef",
   "metadata": {},
   "outputs": [
    {
     "name": "stdout",
     "output_type": "stream",
     "text": [
      "0/300 samples completed\n",
      "NN cost/CDI cost: 0.8241722194464809\n",
      "1/300 samples completed\n",
      "NN cost/CDI cost: 0.7761946128366977\n",
      "2/300 samples completed\n",
      "NN cost/CDI cost: 1.031777402322564\n",
      "3/300 samples completed\n",
      "NN cost/CDI cost: 0.923542737428304\n",
      "4/300 samples completed\n",
      "NN cost/CDI cost: 0.7536049785565565\n",
      "5/300 samples completed\n",
      "NN cost/CDI cost: 0.9975681573778591\n",
      "6/300 samples completed\n",
      "NN cost/CDI cost: 0.7963938148280445\n",
      "7/300 samples completed\n",
      "NN cost/CDI cost: 0.7946017632745868\n",
      "8/300 samples completed\n",
      "NN cost/CDI cost: 1.0160613095294595\n",
      "9/300 samples completed\n",
      "NN cost/CDI cost: 0.9699975811222333\n",
      "10/300 samples completed\n",
      "NN cost/CDI cost: 0.9258784876028057\n",
      "11/300 samples completed\n",
      "NN cost/CDI cost: 1.0643867505010192\n",
      "12/300 samples completed\n",
      "NN cost/CDI cost: 0.7695760851551394\n",
      "13/300 samples completed\n",
      "NN cost/CDI cost: 0.827446344314477\n",
      "14/300 samples completed\n",
      "NN cost/CDI cost: 0.8986409494925233\n",
      "15/300 samples completed\n",
      "NN cost/CDI cost: 0.9973698765153193\n",
      "16/300 samples completed\n",
      "NN cost/CDI cost: 0.8097075506300401\n",
      "17/300 samples completed\n",
      "NN cost/CDI cost: 0.8068195023578958\n",
      "18/300 samples completed\n",
      "NN cost/CDI cost: 0.8754978969737376\n",
      "19/300 samples completed\n",
      "NN cost/CDI cost: 1.0185755954976738\n",
      "20/300 samples completed\n",
      "NN cost/CDI cost: 0.7943104798152973\n",
      "21/300 samples completed\n",
      "NN cost/CDI cost: 0.8403009831130488\n",
      "22/300 samples completed\n",
      "NN cost/CDI cost: 0.7055291107703497\n",
      "23/300 samples completed\n",
      "NN cost/CDI cost: 1.0148795725339488\n",
      "24/300 samples completed\n",
      "NN cost/CDI cost: 0.8258991131472462\n",
      "25/300 samples completed\n",
      "NN cost/CDI cost: 0.7877244521070306\n",
      "26/300 samples completed\n",
      "NN cost/CDI cost: 0.7632376559274455\n",
      "27/300 samples completed\n",
      "NN cost/CDI cost: 0.7570525506684331\n",
      "28/300 samples completed\n",
      "NN cost/CDI cost: 0.8114252655361118\n",
      "29/300 samples completed\n",
      "NN cost/CDI cost: 0.8004928315412186\n",
      "30/300 samples completed\n",
      "NN cost/CDI cost: 0.9391664048226874\n",
      "31/300 samples completed\n",
      "NN cost/CDI cost: 0.7021795216224702\n",
      "32/300 samples completed\n",
      "NN cost/CDI cost: 0.8497136504320161\n",
      "33/300 samples completed\n",
      "NN cost/CDI cost: 0.8415702695560859\n",
      "34/300 samples completed\n",
      "NN cost/CDI cost: 0.8609625538281874\n",
      "35/300 samples completed\n",
      "NN cost/CDI cost: 0.9024383828557784\n",
      "36/300 samples completed\n",
      "NN cost/CDI cost: 0.8816213374701257\n",
      "37/300 samples completed\n",
      "NN cost/CDI cost: 0.8026128333608649\n",
      "38/300 samples completed\n",
      "NN cost/CDI cost: 0.8078246753839863\n",
      "39/300 samples completed\n",
      "NN cost/CDI cost: 0.863768125768069\n",
      "40/300 samples completed\n",
      "NN cost/CDI cost: 0.8249314735459963\n",
      "41/300 samples completed\n",
      "NN cost/CDI cost: 1.5968707465547944\n",
      "42/300 samples completed\n",
      "NN cost/CDI cost: 0.7855610624429042\n",
      "43/300 samples completed\n",
      "NN cost/CDI cost: 0.8446151830805471\n",
      "44/300 samples completed\n",
      "NN cost/CDI cost: 0.9724148950103786\n",
      "45/300 samples completed\n",
      "NN cost/CDI cost: 1.0205744391309168\n",
      "46/300 samples completed\n",
      "NN cost/CDI cost: 0.7891019041673145\n",
      "47/300 samples completed\n",
      "NN cost/CDI cost: 0.7640405784695374\n",
      "48/300 samples completed\n",
      "NN cost/CDI cost: 0.78397362438239\n",
      "49/300 samples completed\n",
      "NN cost/CDI cost: 0.9037589842605711\n",
      "50/300 samples completed\n",
      "NN cost/CDI cost: 0.7437262149608732\n",
      "51/300 samples completed\n",
      "NN cost/CDI cost: 0.7736182983031091\n",
      "52/300 samples completed\n",
      "NN cost/CDI cost: 0.8187026235778071\n",
      "53/300 samples completed\n",
      "NN cost/CDI cost: 0.800446447492737\n",
      "54/300 samples completed\n",
      "NN cost/CDI cost: 0.8179834674303056\n",
      "55/300 samples completed\n",
      "NN cost/CDI cost: 0.7766649934274199\n",
      "56/300 samples completed\n",
      "NN cost/CDI cost: 0.7777973792587307\n",
      "57/300 samples completed\n",
      "NN cost/CDI cost: 0.8625107799618983\n",
      "58/300 samples completed\n",
      "NN cost/CDI cost: 0.8441358816860319\n",
      "59/300 samples completed\n",
      "NN cost/CDI cost: 0.7794906457198248\n",
      "60/300 samples completed\n",
      "NN cost/CDI cost: 0.7608575031077329\n",
      "61/300 samples completed\n",
      "NN cost/CDI cost: 0.742900211395329\n",
      "62/300 samples completed\n",
      "NN cost/CDI cost: 0.8291630697525955\n",
      "63/300 samples completed\n",
      "NN cost/CDI cost: 1.2039728343568536\n",
      "64/300 samples completed\n",
      "NN cost/CDI cost: 0.7915819434684355\n",
      "65/300 samples completed\n",
      "NN cost/CDI cost: 0.7644378181126372\n",
      "66/300 samples completed\n",
      "NN cost/CDI cost: 0.8226807773855391\n",
      "67/300 samples completed\n",
      "NN cost/CDI cost: 0.8217088507849527\n",
      "68/300 samples completed\n",
      "NN cost/CDI cost: 1.0766562443932708\n",
      "69/300 samples completed\n",
      "NN cost/CDI cost: 0.7227895798777487\n",
      "70/300 samples completed\n",
      "NN cost/CDI cost: 0.8898044163843565\n",
      "71/300 samples completed\n",
      "NN cost/CDI cost: 0.8090480681784165\n",
      "72/300 samples completed\n",
      "NN cost/CDI cost: 1.1657378617360654\n",
      "73/300 samples completed\n",
      "NN cost/CDI cost: 1.0603366702763573\n",
      "74/300 samples completed\n",
      "NN cost/CDI cost: 0.770961122928994\n",
      "75/300 samples completed\n",
      "NN cost/CDI cost: 0.82385610363349\n",
      "76/300 samples completed\n",
      "NN cost/CDI cost: 0.895470875817836\n",
      "77/300 samples completed\n",
      "NN cost/CDI cost: 1.504235657763765\n",
      "78/300 samples completed\n",
      "NN cost/CDI cost: 0.9766391774505121\n",
      "79/300 samples completed\n",
      "NN cost/CDI cost: 0.8360076819373413\n",
      "80/300 samples completed\n",
      "NN cost/CDI cost: 1.000860974846948\n",
      "81/300 samples completed\n",
      "NN cost/CDI cost: 0.7885965903449031\n",
      "82/300 samples completed\n",
      "NN cost/CDI cost: 0.9678753418038627\n",
      "83/300 samples completed\n",
      "NN cost/CDI cost: 0.8148617709074281\n",
      "84/300 samples completed\n",
      "NN cost/CDI cost: 0.7704558313886671\n",
      "85/300 samples completed\n",
      "NN cost/CDI cost: 0.8582237475010301\n",
      "86/300 samples completed\n",
      "NN cost/CDI cost: 0.8945230815110065\n",
      "87/300 samples completed\n",
      "NN cost/CDI cost: 0.8267054635407743\n",
      "88/300 samples completed\n",
      "NN cost/CDI cost: 0.82520069206257\n",
      "89/300 samples completed\n",
      "NN cost/CDI cost: 0.7918240405613575\n",
      "90/300 samples completed\n",
      "NN cost/CDI cost: 1.1794831949115856\n",
      "91/300 samples completed\n",
      "NN cost/CDI cost: 0.743293947686351\n",
      "92/300 samples completed\n",
      "NN cost/CDI cost: 0.7604627283902017\n",
      "93/300 samples completed\n",
      "NN cost/CDI cost: 0.805428160849216\n",
      "94/300 samples completed\n",
      "NN cost/CDI cost: 1.0378147503898785\n",
      "95/300 samples completed\n",
      "NN cost/CDI cost: 0.8478841186643108\n",
      "96/300 samples completed\n",
      "NN cost/CDI cost: 0.8758934280155607\n",
      "97/300 samples completed\n",
      "NN cost/CDI cost: 0.8121755624749186\n",
      "98/300 samples completed\n",
      "NN cost/CDI cost: 0.8003723884262591\n",
      "99/300 samples completed\n",
      "NN cost/CDI cost: 1.4530806707609036\n",
      "100/300 samples completed\n",
      "NN cost/CDI cost: 1.1329085586712149\n",
      "101/300 samples completed\n",
      "NN cost/CDI cost: 0.770572441752141\n",
      "102/300 samples completed\n",
      "NN cost/CDI cost: 0.7942286341011314\n",
      "103/300 samples completed\n",
      "NN cost/CDI cost: 0.7544872618709463\n",
      "104/300 samples completed\n",
      "NN cost/CDI cost: 0.9267817329168982\n",
      "105/300 samples completed\n",
      "NN cost/CDI cost: 0.749939419775089\n",
      "106/300 samples completed\n",
      "NN cost/CDI cost: 0.8781255658917991\n",
      "107/300 samples completed\n",
      "NN cost/CDI cost: 0.7627644660723298\n",
      "108/300 samples completed\n",
      "NN cost/CDI cost: 1.0311531279217556\n",
      "109/300 samples completed\n",
      "NN cost/CDI cost: 0.7975929803405173\n",
      "110/300 samples completed\n",
      "NN cost/CDI cost: 0.9996927108182141\n",
      "111/300 samples completed\n",
      "NN cost/CDI cost: 0.9857521273370867\n",
      "112/300 samples completed\n",
      "NN cost/CDI cost: 0.6751740366833047\n",
      "113/300 samples completed\n",
      "NN cost/CDI cost: 0.7513541084048513\n",
      "114/300 samples completed\n",
      "NN cost/CDI cost: 1.2487417099716998\n",
      "115/300 samples completed\n",
      "NN cost/CDI cost: 0.9907387736357263\n",
      "116/300 samples completed\n",
      "NN cost/CDI cost: 0.9245735254306358\n",
      "117/300 samples completed\n",
      "NN cost/CDI cost: 0.8391257922553906\n",
      "118/300 samples completed\n",
      "NN cost/CDI cost: 0.7495581008103979\n",
      "119/300 samples completed\n",
      "NN cost/CDI cost: 0.8831819937740849\n",
      "120/300 samples completed\n",
      "NN cost/CDI cost: 0.9571158307038431\n",
      "121/300 samples completed\n",
      "NN cost/CDI cost: 0.7666121019433704\n",
      "122/300 samples completed\n",
      "NN cost/CDI cost: 0.7843410826438832\n",
      "123/300 samples completed\n",
      "NN cost/CDI cost: 0.8357473004972819\n",
      "124/300 samples completed\n",
      "NN cost/CDI cost: 0.9246384793638291\n",
      "125/300 samples completed\n",
      "NN cost/CDI cost: 0.786263046862924\n",
      "126/300 samples completed\n",
      "NN cost/CDI cost: 0.9852743539113265\n",
      "127/300 samples completed\n",
      "NN cost/CDI cost: 0.7639539779963688\n",
      "128/300 samples completed\n",
      "NN cost/CDI cost: 0.8125616581242144\n",
      "129/300 samples completed\n",
      "NN cost/CDI cost: 0.8785715075763508\n",
      "130/300 samples completed\n",
      "NN cost/CDI cost: 0.819265626443584\n",
      "131/300 samples completed\n",
      "NN cost/CDI cost: 0.7902252714284097\n",
      "132/300 samples completed\n",
      "NN cost/CDI cost: 0.9332039837063213\n",
      "133/300 samples completed\n",
      "NN cost/CDI cost: 0.8275880969590407\n",
      "134/300 samples completed\n",
      "NN cost/CDI cost: 0.9287071244795769\n",
      "135/300 samples completed\n"
     ]
    },
    {
     "name": "stdout",
     "output_type": "stream",
     "text": [
      "NN cost/CDI cost: 0.7033951024245911\n",
      "136/300 samples completed\n",
      "NN cost/CDI cost: 1.0703255686915054\n",
      "137/300 samples completed\n",
      "NN cost/CDI cost: 0.9640306635219416\n",
      "138/300 samples completed\n",
      "NN cost/CDI cost: 0.8443029662673495\n",
      "139/300 samples completed\n",
      "NN cost/CDI cost: 0.7254736659289891\n",
      "140/300 samples completed\n",
      "NN cost/CDI cost: 0.8087560615269273\n",
      "141/300 samples completed\n",
      "NN cost/CDI cost: 0.7582650458031623\n",
      "142/300 samples completed\n",
      "NN cost/CDI cost: 0.7972614411974382\n",
      "143/300 samples completed\n",
      "NN cost/CDI cost: 1.1761603337010496\n",
      "144/300 samples completed\n",
      "NN cost/CDI cost: 0.8032688629432154\n",
      "145/300 samples completed\n",
      "NN cost/CDI cost: 0.9918902810581256\n",
      "146/300 samples completed\n",
      "NN cost/CDI cost: 0.772836863004777\n",
      "147/300 samples completed\n",
      "NN cost/CDI cost: 1.1152756251367806\n",
      "148/300 samples completed\n",
      "NN cost/CDI cost: 0.9426509102834577\n",
      "149/300 samples completed\n",
      "NN cost/CDI cost: 0.8438319462124554\n",
      "150/300 samples completed\n",
      "NN cost/CDI cost: 0.8379396797477673\n",
      "151/300 samples completed\n",
      "NN cost/CDI cost: 0.993958849006675\n",
      "152/300 samples completed\n",
      "NN cost/CDI cost: 0.7568618776366527\n",
      "153/300 samples completed\n",
      "NN cost/CDI cost: 0.7700872134176274\n",
      "154/300 samples completed\n",
      "NN cost/CDI cost: 0.7270391126290625\n",
      "155/300 samples completed\n",
      "NN cost/CDI cost: 0.8360275381207816\n",
      "156/300 samples completed\n",
      "NN cost/CDI cost: 0.8244306523386798\n",
      "157/300 samples completed\n",
      "NN cost/CDI cost: 0.7876231770743813\n",
      "158/300 samples completed\n",
      "NN cost/CDI cost: 0.8106844338846535\n",
      "159/300 samples completed\n",
      "NN cost/CDI cost: 0.7810712239798411\n",
      "160/300 samples completed\n",
      "NN cost/CDI cost: 1.0046775409077027\n",
      "161/300 samples completed\n",
      "NN cost/CDI cost: 0.9332739773201193\n",
      "162/300 samples completed\n",
      "NN cost/CDI cost: 0.796211173162\n",
      "163/300 samples completed\n",
      "NN cost/CDI cost: 1.0556198829137513\n",
      "164/300 samples completed\n",
      "NN cost/CDI cost: 0.8701779928425702\n",
      "165/300 samples completed\n",
      "NN cost/CDI cost: 1.174144943318618\n",
      "166/300 samples completed\n",
      "NN cost/CDI cost: 1.075011609740703\n",
      "167/300 samples completed\n",
      "NN cost/CDI cost: 0.931517465193935\n",
      "168/300 samples completed\n",
      "NN cost/CDI cost: 1.0928881844445193\n",
      "169/300 samples completed\n",
      "NN cost/CDI cost: 1.1673335553811959\n",
      "170/300 samples completed\n",
      "NN cost/CDI cost: 0.8995613373688804\n",
      "171/300 samples completed\n",
      "NN cost/CDI cost: 0.806293555928975\n",
      "172/300 samples completed\n",
      "NN cost/CDI cost: 0.84636445858913\n",
      "173/300 samples completed\n",
      "NN cost/CDI cost: 0.8701653332855619\n",
      "174/300 samples completed\n",
      "NN cost/CDI cost: 0.9680966593316499\n",
      "175/300 samples completed\n",
      "NN cost/CDI cost: 1.090770418411423\n",
      "176/300 samples completed\n",
      "NN cost/CDI cost: 1.1871242152699772\n",
      "177/300 samples completed\n",
      "NN cost/CDI cost: 0.9450535459147027\n",
      "178/300 samples completed\n",
      "NN cost/CDI cost: 0.7441256821841684\n",
      "179/300 samples completed\n",
      "NN cost/CDI cost: 1.027668684019377\n",
      "180/300 samples completed\n",
      "NN cost/CDI cost: 0.8776802586576518\n",
      "181/300 samples completed\n",
      "NN cost/CDI cost: 1.1357899886617242\n",
      "182/300 samples completed\n",
      "NN cost/CDI cost: 0.7750896417378866\n",
      "183/300 samples completed\n",
      "NN cost/CDI cost: 0.9244787501277002\n",
      "184/300 samples completed\n",
      "NN cost/CDI cost: 0.7707036477794864\n",
      "185/300 samples completed\n",
      "NN cost/CDI cost: 1.0270613697597972\n",
      "186/300 samples completed\n",
      "NN cost/CDI cost: 0.765490077862261\n",
      "187/300 samples completed\n",
      "NN cost/CDI cost: 0.8006964975884082\n",
      "188/300 samples completed\n",
      "NN cost/CDI cost: 0.7681953989134981\n",
      "189/300 samples completed\n",
      "NN cost/CDI cost: 1.355116198027417\n",
      "190/300 samples completed\n",
      "NN cost/CDI cost: 1.1177469787629868\n",
      "191/300 samples completed\n",
      "NN cost/CDI cost: 0.9248927911210058\n",
      "192/300 samples completed\n",
      "NN cost/CDI cost: 1.0288618419537534\n",
      "193/300 samples completed\n",
      "NN cost/CDI cost: 0.7220948920024963\n",
      "194/300 samples completed\n",
      "NN cost/CDI cost: 0.9242971070258437\n",
      "195/300 samples completed\n",
      "NN cost/CDI cost: 0.8210731063788123\n",
      "196/300 samples completed\n",
      "NN cost/CDI cost: 0.7779253621871914\n",
      "197/300 samples completed\n",
      "NN cost/CDI cost: 1.1393548821144532\n",
      "198/300 samples completed\n",
      "NN cost/CDI cost: 0.7718560117384615\n",
      "199/300 samples completed\n",
      "NN cost/CDI cost: 0.8316439116568219\n",
      "200/300 samples completed\n",
      "NN cost/CDI cost: 0.7500717769236355\n",
      "201/300 samples completed\n",
      "NN cost/CDI cost: 0.7601801774018168\n",
      "202/300 samples completed\n",
      "NN cost/CDI cost: 0.7657093577837829\n",
      "203/300 samples completed\n",
      "NN cost/CDI cost: 1.3629995598460523\n",
      "204/300 samples completed\n",
      "NN cost/CDI cost: 0.7217779399597324\n",
      "205/300 samples completed\n",
      "NN cost/CDI cost: 0.9456077636156055\n",
      "206/300 samples completed\n",
      "NN cost/CDI cost: 0.828620725973093\n",
      "207/300 samples completed\n",
      "NN cost/CDI cost: 0.9183230981401416\n",
      "208/300 samples completed\n",
      "NN cost/CDI cost: 0.8047924750599376\n",
      "209/300 samples completed\n",
      "NN cost/CDI cost: 0.7461583995721704\n",
      "210/300 samples completed\n",
      "NN cost/CDI cost: 0.7865003382046593\n",
      "211/300 samples completed\n",
      "NN cost/CDI cost: 1.1616160286800088\n",
      "212/300 samples completed\n",
      "NN cost/CDI cost: 0.7657647646737564\n",
      "213/300 samples completed\n",
      "NN cost/CDI cost: 1.3290173059230412\n",
      "214/300 samples completed\n",
      "NN cost/CDI cost: 0.9861527225049711\n",
      "215/300 samples completed\n",
      "NN cost/CDI cost: 1.3312689383133078\n",
      "216/300 samples completed\n",
      "NN cost/CDI cost: 0.716488063857214\n",
      "217/300 samples completed\n",
      "NN cost/CDI cost: 0.6761567206516308\n",
      "218/300 samples completed\n",
      "NN cost/CDI cost: 0.7717612655093375\n",
      "219/300 samples completed\n",
      "NN cost/CDI cost: 0.9804433230316524\n",
      "220/300 samples completed\n",
      "NN cost/CDI cost: 0.7658781944835521\n",
      "221/300 samples completed\n",
      "NN cost/CDI cost: 0.927710593475125\n",
      "222/300 samples completed\n",
      "NN cost/CDI cost: 0.7832575912436482\n",
      "223/300 samples completed\n",
      "NN cost/CDI cost: 0.7645714488838791\n",
      "224/300 samples completed\n",
      "NN cost/CDI cost: 1.0498300797457623\n",
      "225/300 samples completed\n",
      "NN cost/CDI cost: 1.093430382948127\n",
      "226/300 samples completed\n",
      "NN cost/CDI cost: 0.9231497178598339\n",
      "227/300 samples completed\n",
      "NN cost/CDI cost: 0.759823649337687\n",
      "228/300 samples completed\n",
      "NN cost/CDI cost: 0.7651535751198812\n",
      "229/300 samples completed\n",
      "NN cost/CDI cost: 0.7916674232024795\n",
      "230/300 samples completed\n",
      "NN cost/CDI cost: 0.8077748433573676\n",
      "231/300 samples completed\n",
      "NN cost/CDI cost: 0.7806690703552281\n",
      "232/300 samples completed\n",
      "NN cost/CDI cost: 0.8811654921047741\n",
      "233/300 samples completed\n",
      "NN cost/CDI cost: 0.938589328766694\n",
      "234/300 samples completed\n",
      "NN cost/CDI cost: 0.8614446760796491\n",
      "235/300 samples completed\n",
      "NN cost/CDI cost: 0.7201357495514705\n",
      "236/300 samples completed\n",
      "NN cost/CDI cost: 0.8655601652853407\n",
      "237/300 samples completed\n",
      "NN cost/CDI cost: 0.8394904551762302\n",
      "238/300 samples completed\n",
      "NN cost/CDI cost: 0.9003130946354885\n",
      "239/300 samples completed\n",
      "NN cost/CDI cost: 0.9339966881776184\n",
      "240/300 samples completed\n",
      "NN cost/CDI cost: 0.9775245988068325\n",
      "241/300 samples completed\n",
      "NN cost/CDI cost: 0.9185818764231407\n",
      "242/300 samples completed\n",
      "NN cost/CDI cost: 0.7780713335360949\n",
      "243/300 samples completed\n",
      "NN cost/CDI cost: 0.8143167885371589\n",
      "244/300 samples completed\n",
      "NN cost/CDI cost: 0.7663681111749426\n",
      "245/300 samples completed\n",
      "NN cost/CDI cost: 0.9715090854214135\n",
      "246/300 samples completed\n",
      "NN cost/CDI cost: 1.038626302550672\n",
      "247/300 samples completed\n",
      "NN cost/CDI cost: 1.2067990763029635\n",
      "248/300 samples completed\n",
      "NN cost/CDI cost: 1.1462714110361305\n",
      "249/300 samples completed\n",
      "NN cost/CDI cost: 1.0984224272214385\n",
      "250/300 samples completed\n",
      "NN cost/CDI cost: 1.0919359900698877\n",
      "251/300 samples completed\n",
      "NN cost/CDI cost: 0.9125971965055786\n",
      "252/300 samples completed\n",
      "NN cost/CDI cost: 0.8158506474722772\n",
      "253/300 samples completed\n",
      "NN cost/CDI cost: 0.8208464950391264\n",
      "254/300 samples completed\n",
      "NN cost/CDI cost: 0.7947646961359096\n",
      "255/300 samples completed\n",
      "NN cost/CDI cost: 0.858039558071602\n",
      "256/300 samples completed\n",
      "NN cost/CDI cost: 0.7769901970901545\n",
      "257/300 samples completed\n",
      "NN cost/CDI cost: 0.7486861540940108\n",
      "258/300 samples completed\n",
      "NN cost/CDI cost: 0.7429571244024237\n",
      "259/300 samples completed\n",
      "NN cost/CDI cost: 0.8231277803378398\n",
      "260/300 samples completed\n",
      "NN cost/CDI cost: 1.4981651951582382\n",
      "261/300 samples completed\n",
      "NN cost/CDI cost: 0.8347373529689633\n",
      "262/300 samples completed\n",
      "NN cost/CDI cost: 0.8664591768791953\n",
      "263/300 samples completed\n",
      "NN cost/CDI cost: 0.7628040454837122\n",
      "264/300 samples completed\n",
      "NN cost/CDI cost: 0.8381504715392388\n",
      "265/300 samples completed\n",
      "NN cost/CDI cost: 0.8264675964278551\n",
      "266/300 samples completed\n",
      "NN cost/CDI cost: 1.2262409166253603\n",
      "267/300 samples completed\n"
     ]
    },
    {
     "name": "stdout",
     "output_type": "stream",
     "text": [
      "NN cost/CDI cost: 0.8281009775025905\n",
      "268/300 samples completed\n",
      "NN cost/CDI cost: 0.9855995224976263\n",
      "269/300 samples completed\n",
      "NN cost/CDI cost: 0.8229887414918549\n",
      "270/300 samples completed\n",
      "NN cost/CDI cost: 0.6661590701593572\n",
      "271/300 samples completed\n",
      "NN cost/CDI cost: 1.2208996264317085\n",
      "272/300 samples completed\n",
      "NN cost/CDI cost: 1.0411949870390422\n",
      "273/300 samples completed\n",
      "NN cost/CDI cost: 0.9938370190327057\n",
      "274/300 samples completed\n",
      "NN cost/CDI cost: 0.7867853130836787\n",
      "275/300 samples completed\n",
      "NN cost/CDI cost: 1.1517354066966152\n",
      "276/300 samples completed\n",
      "NN cost/CDI cost: 0.8013579551041539\n",
      "277/300 samples completed\n",
      "NN cost/CDI cost: 0.8207268231355732\n",
      "278/300 samples completed\n",
      "NN cost/CDI cost: 0.8667200252335345\n",
      "279/300 samples completed\n",
      "NN cost/CDI cost: 0.9253053189834661\n",
      "280/300 samples completed\n",
      "NN cost/CDI cost: 1.025358853085181\n",
      "281/300 samples completed\n",
      "NN cost/CDI cost: 0.7670980733675272\n",
      "282/300 samples completed\n",
      "NN cost/CDI cost: 0.8681725752008066\n",
      "283/300 samples completed\n",
      "NN cost/CDI cost: 1.0256898245028383\n",
      "284/300 samples completed\n",
      "NN cost/CDI cost: 0.8235013765862932\n",
      "285/300 samples completed\n",
      "NN cost/CDI cost: 0.7749608302439818\n",
      "286/300 samples completed\n",
      "NN cost/CDI cost: 1.247705089093935\n",
      "287/300 samples completed\n",
      "NN cost/CDI cost: 1.406656667058297\n",
      "288/300 samples completed\n",
      "NN cost/CDI cost: 0.7200214101050992\n",
      "289/300 samples completed\n",
      "NN cost/CDI cost: 1.096882064174123\n",
      "290/300 samples completed\n",
      "NN cost/CDI cost: 0.7620067175839086\n",
      "291/300 samples completed\n",
      "NN cost/CDI cost: 0.7773869460506543\n",
      "292/300 samples completed\n",
      "NN cost/CDI cost: 0.780733454595318\n",
      "293/300 samples completed\n",
      "NN cost/CDI cost: 1.2973883594658984\n",
      "294/300 samples completed\n",
      "NN cost/CDI cost: 1.1960529092631653\n",
      "295/300 samples completed\n",
      "NN cost/CDI cost: 0.780476390952178\n",
      "296/300 samples completed\n",
      "NN cost/CDI cost: 0.7779522277916657\n",
      "297/300 samples completed\n",
      "NN cost/CDI cost: 1.1892094918172877\n",
      "298/300 samples completed\n",
      "NN cost/CDI cost: 0.7497281336772867\n",
      "299/300 samples completed\n",
      "NN cost/CDI cost: 0.7687369266430535\n",
      "mean CDI: 723504.4595833333\n",
      "mean NNC: 649263.3133333334\n"
     ]
    }
   ],
   "source": [
    "cost_ratios = []\n",
    "cost_nn = []\n",
    "cost_cdi = []\n",
    "\n",
    "samples = 300\n",
    "for i in range(samples):\n",
    "    print(\"%d/%d samples completed\"%(i,samples))\n",
    "    nn_inv, nn_qr, nn_qe, nn_ci, nn_mean_cost = evaluate_nnc_on_sample(state_trajectories, \n",
    "                                                                       i)\n",
    "    \n",
    "    cdi_inv, cdi_qr, cdi_qe, cdi_ci, cdi_mean_cost = evaluate_cdi_on_sample(state_trajectories, \n",
    "                                                                            qr_trajectories, \n",
    "                                                                            qe_trajectories, \n",
    "                                                                            i)\n",
    "    cost_nn.append(nn_mean_cost.detach().item())\n",
    "    cost_cdi.append(cdi_mean_cost.detach().item())\n",
    "    print(\"NN cost/CDI cost:\", nn_mean_cost.detach().item()/cdi_mean_cost.detach().item())\n",
    "    cost_ratios.append(nn_mean_cost.detach().item()/cdi_mean_cost.detach().item())\n",
    "\n",
    "print(\"mean CDI:\", np.mean(cost_cdi))\n",
    "print(\"mean NNC:\", np.mean(cost_nn))"
   ]
  },
  {
   "cell_type": "code",
   "execution_count": 168,
   "id": "9a19b30e",
   "metadata": {},
   "outputs": [
    {
     "name": "stdout",
     "output_type": "stream",
     "text": [
      "239\n"
     ]
    }
   ],
   "source": [
    "cost_ratios = np.array(cost_ratios)\n",
    "print(len(cost_ratios[cost_ratios <= 1]))"
   ]
  },
  {
   "cell_type": "code",
   "execution_count": 169,
   "id": "6587dc00",
   "metadata": {},
   "outputs": [
    {
     "name": "stdout",
     "output_type": "stream",
     "text": [
      "602033.0625 716369.8125\n",
      "649263.3133333334 723504.4595833333\n"
     ]
    }
   ],
   "source": [
    "print(np.median(cost_nn),np.median(cost_cdi))\n",
    "print(np.mean(cost_nn),np.mean(cost_cdi))"
   ]
  },
  {
   "cell_type": "code",
   "execution_count": 139,
   "id": "c6ce9926",
   "metadata": {},
   "outputs": [],
   "source": [
    "from scipy.stats import wilcoxon"
   ]
  },
  {
   "cell_type": "code",
   "execution_count": 140,
   "id": "f859982a",
   "metadata": {},
   "outputs": [
    {
     "data": {
      "text/plain": [
       "WilcoxonResult(statistic=473315.0, pvalue=5.6106631646900466e-132)"
      ]
     },
     "execution_count": 140,
     "metadata": {},
     "output_type": "execute_result"
    }
   ],
   "source": [
    "scipy.stats.wilcoxon(np.array(cost_cdi)-np.array(cost_nn), alternative='greater', mode='approx')"
   ]
  },
  {
   "cell_type": "code",
   "execution_count": null,
   "id": "7c739568",
   "metadata": {},
   "outputs": [],
   "source": [
    "789522.85625/868222.56"
   ]
  },
  {
   "cell_type": "code",
   "execution_count": null,
   "id": "95ea4dd4",
   "metadata": {},
   "outputs": [],
   "source": [
    "import matplotlib.pyplot as plt\n",
    "from matplotlib import rcParams\n",
    "import seaborn as sns\n",
    "\n",
    "# customized settings\n",
    "params = {  # 'backend': 'ps',\n",
    "    'font.family': 'serif',\n",
    "    'font.serif': 'Latin Modern Roman',\n",
    "    'font.size': 10,\n",
    "    'axes.labelsize': 'medium',\n",
    "    'axes.titlesize': 'medium',\n",
    "    'legend.fontsize': 'medium',\n",
    "    'xtick.labelsize': 'small',\n",
    "    'ytick.labelsize': 'small',\n",
    "    'savefig.dpi': 150,\n",
    "    'text.usetex': True}\n",
    "# tell matplotlib about your params\n",
    "rcParams.update(params)\n",
    "\n",
    "# set nice figure sizes\n",
    "fig_width_pt = 469    # Get this from LaTeX using \\showthe\\columnwidth\n",
    "golden_mean = (np.sqrt(5.) - 1.) / 2.  # Aesthetic ratio\n",
    "ratio = golden_mean\n",
    "inches_per_pt = 1. / 72.27  # Convert pt to inches\n",
    "fig_width = fig_width_pt * inches_per_pt  # width in inches\n",
    "fig_height = fig_width*ratio  # height in inches\n",
    "fig_size = [fig_width, 0.5*fig_height]\n",
    "rcParams.update({'figure.figsize': fig_size})\n",
    "\n",
    "fig, ax = plt.subplots(ncols=2)\n",
    "#ax[0].text(0.02*(24-22)+22,0.88*1.25,r\"(a)\")\n",
    "ax[0].hist(cost_nn,alpha=0.5,bins=50,density=True,label=r\"NNC\",histtype='step',cumulative=True)\n",
    "ax[0].hist(cost_cdi,alpha=0.5,bins=50,density=True,label=r\"CDI\",histtype='step',cumulative=True)\n",
    "#ax[0].set_xlim(22,24)\n",
    "ax[0].set_ylim(0,1.25)\n",
    "ax[0].set_xlabel(r\"average cost\")\n",
    "ax[0].set_ylabel(r\"CDF\")\n",
    "ax[0].legend(loc=2,fontsize=8,frameon=False)\n",
    "\n",
    "#ax[1].text(0.02*(1.04-0.96)+0.96,0.88*40,r\"(b)\")\n",
    "ax[1].hist(cost_ratios,bins=12,alpha=0.5,density=True)\n",
    "ax[1].set_xlim(0.5,1)\n",
    "#ax[1].set_ylim(0,40)\n",
    "ax[1].set_xlabel(r\"cost ratio\")\n",
    "\n",
    "plt.tight_layout()\n",
    "plt.margins(0,0)\n",
    "#plt.savefig(\"cost_comparison_capped_dual_index.png\", dpi = 300, bbox_inches = 'tight', pad_inches = 0.05)\n",
    "plt.show()"
   ]
  },
  {
   "cell_type": "markdown",
   "id": "5b1a0231",
   "metadata": {},
   "source": [
    "## Sample comparison"
   ]
  },
  {
   "cell_type": "code",
   "execution_count": 141,
   "id": "bf1d7b6b",
   "metadata": {},
   "outputs": [],
   "source": [
    "import plotly.express as px\n",
    "from plotly import graph_objects as go"
   ]
  },
  {
   "cell_type": "code",
   "execution_count": 318,
   "id": "00b4760f",
   "metadata": {},
   "outputs": [],
   "source": [
    "fixed_demands = state_trajectories[21, 1:, 1].unsqueeze(-1)\n",
    "nn_inv, nn_qr, nn_qe, nn_ci, nn_mean_cost = evaluate_nnc_on_sample(state_trajectories, 21)\n",
    "cdi_inv, cdi_qr, cdi_qe, cdi_ci, cdi_mean_cost = evaluate_cdi_on_sample(state_trajectories, qr_trajectories, qe_trajectories, 21)"
   ]
  },
  {
   "cell_type": "code",
   "execution_count": 319,
   "id": "4dbf10f3",
   "metadata": {},
   "outputs": [
    {
     "data": {
      "application/vnd.plotly.v1+json": {
       "config": {
        "plotlyServerURL": "https://plot.ly"
       },
       "data": [
        {
         "type": "scatter",
         "y": [
          0,
          0,
          0,
          0,
          0,
          0,
          0,
          0,
          0,
          0,
          0,
          0,
          0,
          0,
          0,
          0,
          0,
          0,
          0,
          320,
          34,
          309,
          1415,
          1879,
          4378,
          9313,
          4328,
          16127,
          4506,
          32052,
          37336,
          16928,
          13623,
          33202,
          3641,
          69368,
          82056,
          18444,
          84660,
          42099,
          2113,
          458,
          46684,
          152987,
          16401,
          17721,
          16138,
          2289,
          52866,
          85693,
          114344,
          71814,
          78025,
          137713,
          117036,
          130219,
          66778,
          58237,
          32221,
          52471,
          72730,
          109775,
          118902,
          6122,
          67682,
          40286,
          65353,
          121160,
          27348,
          75753,
          12237,
          138447,
          39517,
          18769,
          82639,
          19861,
          160716,
          82522,
          176842,
          67896,
          86118,
          165980,
          148501,
          3949,
          105279,
          19894,
          5922,
          24767,
          21783,
          229115,
          38004,
          26801,
          24200,
          143364,
          26061,
          34207,
          12030,
          34465,
          12973,
          64006,
          44223,
          5155,
          16568,
          41895,
          40776,
          17958,
          13063,
          10219,
          40634,
          74360,
          41822,
          30020,
          47491,
          29,
          14045
         ]
        }
       ],
       "layout": {
        "template": {
         "data": {
          "bar": [
           {
            "error_x": {
             "color": "#2a3f5f"
            },
            "error_y": {
             "color": "#2a3f5f"
            },
            "marker": {
             "line": {
              "color": "#E5ECF6",
              "width": 0.5
             }
            },
            "type": "bar"
           }
          ],
          "barpolar": [
           {
            "marker": {
             "line": {
              "color": "#E5ECF6",
              "width": 0.5
             }
            },
            "type": "barpolar"
           }
          ],
          "carpet": [
           {
            "aaxis": {
             "endlinecolor": "#2a3f5f",
             "gridcolor": "white",
             "linecolor": "white",
             "minorgridcolor": "white",
             "startlinecolor": "#2a3f5f"
            },
            "baxis": {
             "endlinecolor": "#2a3f5f",
             "gridcolor": "white",
             "linecolor": "white",
             "minorgridcolor": "white",
             "startlinecolor": "#2a3f5f"
            },
            "type": "carpet"
           }
          ],
          "choropleth": [
           {
            "colorbar": {
             "outlinewidth": 0,
             "ticks": ""
            },
            "type": "choropleth"
           }
          ],
          "contour": [
           {
            "colorbar": {
             "outlinewidth": 0,
             "ticks": ""
            },
            "colorscale": [
             [
              0,
              "#0d0887"
             ],
             [
              0.1111111111111111,
              "#46039f"
             ],
             [
              0.2222222222222222,
              "#7201a8"
             ],
             [
              0.3333333333333333,
              "#9c179e"
             ],
             [
              0.4444444444444444,
              "#bd3786"
             ],
             [
              0.5555555555555556,
              "#d8576b"
             ],
             [
              0.6666666666666666,
              "#ed7953"
             ],
             [
              0.7777777777777778,
              "#fb9f3a"
             ],
             [
              0.8888888888888888,
              "#fdca26"
             ],
             [
              1,
              "#f0f921"
             ]
            ],
            "type": "contour"
           }
          ],
          "contourcarpet": [
           {
            "colorbar": {
             "outlinewidth": 0,
             "ticks": ""
            },
            "type": "contourcarpet"
           }
          ],
          "heatmap": [
           {
            "colorbar": {
             "outlinewidth": 0,
             "ticks": ""
            },
            "colorscale": [
             [
              0,
              "#0d0887"
             ],
             [
              0.1111111111111111,
              "#46039f"
             ],
             [
              0.2222222222222222,
              "#7201a8"
             ],
             [
              0.3333333333333333,
              "#9c179e"
             ],
             [
              0.4444444444444444,
              "#bd3786"
             ],
             [
              0.5555555555555556,
              "#d8576b"
             ],
             [
              0.6666666666666666,
              "#ed7953"
             ],
             [
              0.7777777777777778,
              "#fb9f3a"
             ],
             [
              0.8888888888888888,
              "#fdca26"
             ],
             [
              1,
              "#f0f921"
             ]
            ],
            "type": "heatmap"
           }
          ],
          "heatmapgl": [
           {
            "colorbar": {
             "outlinewidth": 0,
             "ticks": ""
            },
            "colorscale": [
             [
              0,
              "#0d0887"
             ],
             [
              0.1111111111111111,
              "#46039f"
             ],
             [
              0.2222222222222222,
              "#7201a8"
             ],
             [
              0.3333333333333333,
              "#9c179e"
             ],
             [
              0.4444444444444444,
              "#bd3786"
             ],
             [
              0.5555555555555556,
              "#d8576b"
             ],
             [
              0.6666666666666666,
              "#ed7953"
             ],
             [
              0.7777777777777778,
              "#fb9f3a"
             ],
             [
              0.8888888888888888,
              "#fdca26"
             ],
             [
              1,
              "#f0f921"
             ]
            ],
            "type": "heatmapgl"
           }
          ],
          "histogram": [
           {
            "marker": {
             "colorbar": {
              "outlinewidth": 0,
              "ticks": ""
             }
            },
            "type": "histogram"
           }
          ],
          "histogram2d": [
           {
            "colorbar": {
             "outlinewidth": 0,
             "ticks": ""
            },
            "colorscale": [
             [
              0,
              "#0d0887"
             ],
             [
              0.1111111111111111,
              "#46039f"
             ],
             [
              0.2222222222222222,
              "#7201a8"
             ],
             [
              0.3333333333333333,
              "#9c179e"
             ],
             [
              0.4444444444444444,
              "#bd3786"
             ],
             [
              0.5555555555555556,
              "#d8576b"
             ],
             [
              0.6666666666666666,
              "#ed7953"
             ],
             [
              0.7777777777777778,
              "#fb9f3a"
             ],
             [
              0.8888888888888888,
              "#fdca26"
             ],
             [
              1,
              "#f0f921"
             ]
            ],
            "type": "histogram2d"
           }
          ],
          "histogram2dcontour": [
           {
            "colorbar": {
             "outlinewidth": 0,
             "ticks": ""
            },
            "colorscale": [
             [
              0,
              "#0d0887"
             ],
             [
              0.1111111111111111,
              "#46039f"
             ],
             [
              0.2222222222222222,
              "#7201a8"
             ],
             [
              0.3333333333333333,
              "#9c179e"
             ],
             [
              0.4444444444444444,
              "#bd3786"
             ],
             [
              0.5555555555555556,
              "#d8576b"
             ],
             [
              0.6666666666666666,
              "#ed7953"
             ],
             [
              0.7777777777777778,
              "#fb9f3a"
             ],
             [
              0.8888888888888888,
              "#fdca26"
             ],
             [
              1,
              "#f0f921"
             ]
            ],
            "type": "histogram2dcontour"
           }
          ],
          "mesh3d": [
           {
            "colorbar": {
             "outlinewidth": 0,
             "ticks": ""
            },
            "type": "mesh3d"
           }
          ],
          "parcoords": [
           {
            "line": {
             "colorbar": {
              "outlinewidth": 0,
              "ticks": ""
             }
            },
            "type": "parcoords"
           }
          ],
          "pie": [
           {
            "automargin": true,
            "type": "pie"
           }
          ],
          "scatter": [
           {
            "marker": {
             "colorbar": {
              "outlinewidth": 0,
              "ticks": ""
             }
            },
            "type": "scatter"
           }
          ],
          "scatter3d": [
           {
            "line": {
             "colorbar": {
              "outlinewidth": 0,
              "ticks": ""
             }
            },
            "marker": {
             "colorbar": {
              "outlinewidth": 0,
              "ticks": ""
             }
            },
            "type": "scatter3d"
           }
          ],
          "scattercarpet": [
           {
            "marker": {
             "colorbar": {
              "outlinewidth": 0,
              "ticks": ""
             }
            },
            "type": "scattercarpet"
           }
          ],
          "scattergeo": [
           {
            "marker": {
             "colorbar": {
              "outlinewidth": 0,
              "ticks": ""
             }
            },
            "type": "scattergeo"
           }
          ],
          "scattergl": [
           {
            "marker": {
             "colorbar": {
              "outlinewidth": 0,
              "ticks": ""
             }
            },
            "type": "scattergl"
           }
          ],
          "scattermapbox": [
           {
            "marker": {
             "colorbar": {
              "outlinewidth": 0,
              "ticks": ""
             }
            },
            "type": "scattermapbox"
           }
          ],
          "scatterpolar": [
           {
            "marker": {
             "colorbar": {
              "outlinewidth": 0,
              "ticks": ""
             }
            },
            "type": "scatterpolar"
           }
          ],
          "scatterpolargl": [
           {
            "marker": {
             "colorbar": {
              "outlinewidth": 0,
              "ticks": ""
             }
            },
            "type": "scatterpolargl"
           }
          ],
          "scatterternary": [
           {
            "marker": {
             "colorbar": {
              "outlinewidth": 0,
              "ticks": ""
             }
            },
            "type": "scatterternary"
           }
          ],
          "surface": [
           {
            "colorbar": {
             "outlinewidth": 0,
             "ticks": ""
            },
            "colorscale": [
             [
              0,
              "#0d0887"
             ],
             [
              0.1111111111111111,
              "#46039f"
             ],
             [
              0.2222222222222222,
              "#7201a8"
             ],
             [
              0.3333333333333333,
              "#9c179e"
             ],
             [
              0.4444444444444444,
              "#bd3786"
             ],
             [
              0.5555555555555556,
              "#d8576b"
             ],
             [
              0.6666666666666666,
              "#ed7953"
             ],
             [
              0.7777777777777778,
              "#fb9f3a"
             ],
             [
              0.8888888888888888,
              "#fdca26"
             ],
             [
              1,
              "#f0f921"
             ]
            ],
            "type": "surface"
           }
          ],
          "table": [
           {
            "cells": {
             "fill": {
              "color": "#EBF0F8"
             },
             "line": {
              "color": "white"
             }
            },
            "header": {
             "fill": {
              "color": "#C8D4E3"
             },
             "line": {
              "color": "white"
             }
            },
            "type": "table"
           }
          ]
         },
         "layout": {
          "annotationdefaults": {
           "arrowcolor": "#2a3f5f",
           "arrowhead": 0,
           "arrowwidth": 1
          },
          "autotypenumbers": "strict",
          "coloraxis": {
           "colorbar": {
            "outlinewidth": 0,
            "ticks": ""
           }
          },
          "colorscale": {
           "diverging": [
            [
             0,
             "#8e0152"
            ],
            [
             0.1,
             "#c51b7d"
            ],
            [
             0.2,
             "#de77ae"
            ],
            [
             0.3,
             "#f1b6da"
            ],
            [
             0.4,
             "#fde0ef"
            ],
            [
             0.5,
             "#f7f7f7"
            ],
            [
             0.6,
             "#e6f5d0"
            ],
            [
             0.7,
             "#b8e186"
            ],
            [
             0.8,
             "#7fbc41"
            ],
            [
             0.9,
             "#4d9221"
            ],
            [
             1,
             "#276419"
            ]
           ],
           "sequential": [
            [
             0,
             "#0d0887"
            ],
            [
             0.1111111111111111,
             "#46039f"
            ],
            [
             0.2222222222222222,
             "#7201a8"
            ],
            [
             0.3333333333333333,
             "#9c179e"
            ],
            [
             0.4444444444444444,
             "#bd3786"
            ],
            [
             0.5555555555555556,
             "#d8576b"
            ],
            [
             0.6666666666666666,
             "#ed7953"
            ],
            [
             0.7777777777777778,
             "#fb9f3a"
            ],
            [
             0.8888888888888888,
             "#fdca26"
            ],
            [
             1,
             "#f0f921"
            ]
           ],
           "sequentialminus": [
            [
             0,
             "#0d0887"
            ],
            [
             0.1111111111111111,
             "#46039f"
            ],
            [
             0.2222222222222222,
             "#7201a8"
            ],
            [
             0.3333333333333333,
             "#9c179e"
            ],
            [
             0.4444444444444444,
             "#bd3786"
            ],
            [
             0.5555555555555556,
             "#d8576b"
            ],
            [
             0.6666666666666666,
             "#ed7953"
            ],
            [
             0.7777777777777778,
             "#fb9f3a"
            ],
            [
             0.8888888888888888,
             "#fdca26"
            ],
            [
             1,
             "#f0f921"
            ]
           ]
          },
          "colorway": [
           "#636efa",
           "#EF553B",
           "#00cc96",
           "#ab63fa",
           "#FFA15A",
           "#19d3f3",
           "#FF6692",
           "#B6E880",
           "#FF97FF",
           "#FECB52"
          ],
          "font": {
           "color": "#2a3f5f"
          },
          "geo": {
           "bgcolor": "white",
           "lakecolor": "white",
           "landcolor": "#E5ECF6",
           "showlakes": true,
           "showland": true,
           "subunitcolor": "white"
          },
          "hoverlabel": {
           "align": "left"
          },
          "hovermode": "closest",
          "mapbox": {
           "style": "light"
          },
          "paper_bgcolor": "white",
          "plot_bgcolor": "#E5ECF6",
          "polar": {
           "angularaxis": {
            "gridcolor": "white",
            "linecolor": "white",
            "ticks": ""
           },
           "bgcolor": "#E5ECF6",
           "radialaxis": {
            "gridcolor": "white",
            "linecolor": "white",
            "ticks": ""
           }
          },
          "scene": {
           "xaxis": {
            "backgroundcolor": "#E5ECF6",
            "gridcolor": "white",
            "gridwidth": 2,
            "linecolor": "white",
            "showbackground": true,
            "ticks": "",
            "zerolinecolor": "white"
           },
           "yaxis": {
            "backgroundcolor": "#E5ECF6",
            "gridcolor": "white",
            "gridwidth": 2,
            "linecolor": "white",
            "showbackground": true,
            "ticks": "",
            "zerolinecolor": "white"
           },
           "zaxis": {
            "backgroundcolor": "#E5ECF6",
            "gridcolor": "white",
            "gridwidth": 2,
            "linecolor": "white",
            "showbackground": true,
            "ticks": "",
            "zerolinecolor": "white"
           }
          },
          "shapedefaults": {
           "line": {
            "color": "#2a3f5f"
           }
          },
          "ternary": {
           "aaxis": {
            "gridcolor": "white",
            "linecolor": "white",
            "ticks": ""
           },
           "baxis": {
            "gridcolor": "white",
            "linecolor": "white",
            "ticks": ""
           },
           "bgcolor": "#E5ECF6",
           "caxis": {
            "gridcolor": "white",
            "linecolor": "white",
            "ticks": ""
           }
          },
          "title": {
           "x": 0.05
          },
          "xaxis": {
           "automargin": true,
           "gridcolor": "white",
           "linecolor": "white",
           "ticks": "",
           "title": {
            "standoff": 15
           },
           "zerolinecolor": "white",
           "zerolinewidth": 2
          },
          "yaxis": {
           "automargin": true,
           "gridcolor": "white",
           "linecolor": "white",
           "ticks": "",
           "title": {
            "standoff": 15
           },
           "zerolinecolor": "white",
           "zerolinewidth": 2
          }
         }
        },
        "xaxis": {
         "title": {
          "text": "Timestep"
         }
        },
        "yaxis": {
         "title": {
          "text": "Demand"
         }
        }
       }
      },
      "text/html": [
       "<div>                            <div id=\"518c4f1f-a681-4e41-9869-83825132cd5e\" class=\"plotly-graph-div\" style=\"height:525px; width:100%;\"></div>            <script type=\"text/javascript\">                require([\"plotly\"], function(Plotly) {                    window.PLOTLYENV=window.PLOTLYENV || {};                                    if (document.getElementById(\"518c4f1f-a681-4e41-9869-83825132cd5e\")) {                    Plotly.newPlot(                        \"518c4f1f-a681-4e41-9869-83825132cd5e\",                        [{\"type\": \"scatter\", \"y\": [0, 0, 0, 0, 0, 0, 0, 0, 0, 0, 0, 0, 0, 0, 0, 0, 0, 0, 0, 320, 34, 309, 1415, 1879, 4378, 9313, 4328, 16127, 4506, 32052, 37336, 16928, 13623, 33202, 3641, 69368, 82056, 18444, 84660, 42099, 2113, 458, 46684, 152987, 16401, 17721, 16138, 2289, 52866, 85693, 114344, 71814, 78025, 137713, 117036, 130219, 66778, 58237, 32221, 52471, 72730, 109775, 118902, 6122, 67682, 40286, 65353, 121160, 27348, 75753, 12237, 138447, 39517, 18769, 82639, 19861, 160716, 82522, 176842, 67896, 86118, 165980, 148501, 3949, 105279, 19894, 5922, 24767, 21783, 229115, 38004, 26801, 24200, 143364, 26061, 34207, 12030, 34465, 12973, 64006, 44223, 5155, 16568, 41895, 40776, 17958, 13063, 10219, 40634, 74360, 41822, 30020, 47491, 29, 14045]}],                        {\"template\": {\"data\": {\"bar\": [{\"error_x\": {\"color\": \"#2a3f5f\"}, \"error_y\": {\"color\": \"#2a3f5f\"}, \"marker\": {\"line\": {\"color\": \"#E5ECF6\", \"width\": 0.5}}, \"type\": \"bar\"}], \"barpolar\": [{\"marker\": {\"line\": {\"color\": \"#E5ECF6\", \"width\": 0.5}}, \"type\": \"barpolar\"}], \"carpet\": [{\"aaxis\": {\"endlinecolor\": \"#2a3f5f\", \"gridcolor\": \"white\", \"linecolor\": \"white\", \"minorgridcolor\": \"white\", \"startlinecolor\": \"#2a3f5f\"}, \"baxis\": {\"endlinecolor\": \"#2a3f5f\", \"gridcolor\": \"white\", \"linecolor\": \"white\", \"minorgridcolor\": \"white\", \"startlinecolor\": \"#2a3f5f\"}, \"type\": \"carpet\"}], \"choropleth\": [{\"colorbar\": {\"outlinewidth\": 0, \"ticks\": \"\"}, \"type\": \"choropleth\"}], \"contour\": [{\"colorbar\": {\"outlinewidth\": 0, \"ticks\": \"\"}, \"colorscale\": [[0.0, \"#0d0887\"], [0.1111111111111111, \"#46039f\"], [0.2222222222222222, \"#7201a8\"], [0.3333333333333333, \"#9c179e\"], [0.4444444444444444, \"#bd3786\"], [0.5555555555555556, \"#d8576b\"], [0.6666666666666666, \"#ed7953\"], [0.7777777777777778, \"#fb9f3a\"], [0.8888888888888888, \"#fdca26\"], [1.0, \"#f0f921\"]], \"type\": \"contour\"}], \"contourcarpet\": [{\"colorbar\": {\"outlinewidth\": 0, \"ticks\": \"\"}, \"type\": \"contourcarpet\"}], \"heatmap\": [{\"colorbar\": {\"outlinewidth\": 0, \"ticks\": \"\"}, \"colorscale\": [[0.0, \"#0d0887\"], [0.1111111111111111, \"#46039f\"], [0.2222222222222222, \"#7201a8\"], [0.3333333333333333, \"#9c179e\"], [0.4444444444444444, \"#bd3786\"], [0.5555555555555556, \"#d8576b\"], [0.6666666666666666, \"#ed7953\"], [0.7777777777777778, \"#fb9f3a\"], [0.8888888888888888, \"#fdca26\"], [1.0, \"#f0f921\"]], \"type\": \"heatmap\"}], \"heatmapgl\": [{\"colorbar\": {\"outlinewidth\": 0, \"ticks\": \"\"}, \"colorscale\": [[0.0, \"#0d0887\"], [0.1111111111111111, \"#46039f\"], [0.2222222222222222, \"#7201a8\"], [0.3333333333333333, \"#9c179e\"], [0.4444444444444444, \"#bd3786\"], [0.5555555555555556, \"#d8576b\"], [0.6666666666666666, \"#ed7953\"], [0.7777777777777778, \"#fb9f3a\"], [0.8888888888888888, \"#fdca26\"], [1.0, \"#f0f921\"]], \"type\": \"heatmapgl\"}], \"histogram\": [{\"marker\": {\"colorbar\": {\"outlinewidth\": 0, \"ticks\": \"\"}}, \"type\": \"histogram\"}], \"histogram2d\": [{\"colorbar\": {\"outlinewidth\": 0, \"ticks\": \"\"}, \"colorscale\": [[0.0, \"#0d0887\"], [0.1111111111111111, \"#46039f\"], [0.2222222222222222, \"#7201a8\"], [0.3333333333333333, \"#9c179e\"], [0.4444444444444444, \"#bd3786\"], [0.5555555555555556, \"#d8576b\"], [0.6666666666666666, \"#ed7953\"], [0.7777777777777778, \"#fb9f3a\"], [0.8888888888888888, \"#fdca26\"], [1.0, \"#f0f921\"]], \"type\": \"histogram2d\"}], \"histogram2dcontour\": [{\"colorbar\": {\"outlinewidth\": 0, \"ticks\": \"\"}, \"colorscale\": [[0.0, \"#0d0887\"], [0.1111111111111111, \"#46039f\"], [0.2222222222222222, \"#7201a8\"], [0.3333333333333333, \"#9c179e\"], [0.4444444444444444, \"#bd3786\"], [0.5555555555555556, \"#d8576b\"], [0.6666666666666666, \"#ed7953\"], [0.7777777777777778, \"#fb9f3a\"], [0.8888888888888888, \"#fdca26\"], [1.0, \"#f0f921\"]], \"type\": \"histogram2dcontour\"}], \"mesh3d\": [{\"colorbar\": {\"outlinewidth\": 0, \"ticks\": \"\"}, \"type\": \"mesh3d\"}], \"parcoords\": [{\"line\": {\"colorbar\": {\"outlinewidth\": 0, \"ticks\": \"\"}}, \"type\": \"parcoords\"}], \"pie\": [{\"automargin\": true, \"type\": \"pie\"}], \"scatter\": [{\"marker\": {\"colorbar\": {\"outlinewidth\": 0, \"ticks\": \"\"}}, \"type\": \"scatter\"}], \"scatter3d\": [{\"line\": {\"colorbar\": {\"outlinewidth\": 0, \"ticks\": \"\"}}, \"marker\": {\"colorbar\": {\"outlinewidth\": 0, \"ticks\": \"\"}}, \"type\": \"scatter3d\"}], \"scattercarpet\": [{\"marker\": {\"colorbar\": {\"outlinewidth\": 0, \"ticks\": \"\"}}, \"type\": \"scattercarpet\"}], \"scattergeo\": [{\"marker\": {\"colorbar\": {\"outlinewidth\": 0, \"ticks\": \"\"}}, \"type\": \"scattergeo\"}], \"scattergl\": [{\"marker\": {\"colorbar\": {\"outlinewidth\": 0, \"ticks\": \"\"}}, \"type\": \"scattergl\"}], \"scattermapbox\": [{\"marker\": {\"colorbar\": {\"outlinewidth\": 0, \"ticks\": \"\"}}, \"type\": \"scattermapbox\"}], \"scatterpolar\": [{\"marker\": {\"colorbar\": {\"outlinewidth\": 0, \"ticks\": \"\"}}, \"type\": \"scatterpolar\"}], \"scatterpolargl\": [{\"marker\": {\"colorbar\": {\"outlinewidth\": 0, \"ticks\": \"\"}}, \"type\": \"scatterpolargl\"}], \"scatterternary\": [{\"marker\": {\"colorbar\": {\"outlinewidth\": 0, \"ticks\": \"\"}}, \"type\": \"scatterternary\"}], \"surface\": [{\"colorbar\": {\"outlinewidth\": 0, \"ticks\": \"\"}, \"colorscale\": [[0.0, \"#0d0887\"], [0.1111111111111111, \"#46039f\"], [0.2222222222222222, \"#7201a8\"], [0.3333333333333333, \"#9c179e\"], [0.4444444444444444, \"#bd3786\"], [0.5555555555555556, \"#d8576b\"], [0.6666666666666666, \"#ed7953\"], [0.7777777777777778, \"#fb9f3a\"], [0.8888888888888888, \"#fdca26\"], [1.0, \"#f0f921\"]], \"type\": \"surface\"}], \"table\": [{\"cells\": {\"fill\": {\"color\": \"#EBF0F8\"}, \"line\": {\"color\": \"white\"}}, \"header\": {\"fill\": {\"color\": \"#C8D4E3\"}, \"line\": {\"color\": \"white\"}}, \"type\": \"table\"}]}, \"layout\": {\"annotationdefaults\": {\"arrowcolor\": \"#2a3f5f\", \"arrowhead\": 0, \"arrowwidth\": 1}, \"autotypenumbers\": \"strict\", \"coloraxis\": {\"colorbar\": {\"outlinewidth\": 0, \"ticks\": \"\"}}, \"colorscale\": {\"diverging\": [[0, \"#8e0152\"], [0.1, \"#c51b7d\"], [0.2, \"#de77ae\"], [0.3, \"#f1b6da\"], [0.4, \"#fde0ef\"], [0.5, \"#f7f7f7\"], [0.6, \"#e6f5d0\"], [0.7, \"#b8e186\"], [0.8, \"#7fbc41\"], [0.9, \"#4d9221\"], [1, \"#276419\"]], \"sequential\": [[0.0, \"#0d0887\"], [0.1111111111111111, \"#46039f\"], [0.2222222222222222, \"#7201a8\"], [0.3333333333333333, \"#9c179e\"], [0.4444444444444444, \"#bd3786\"], [0.5555555555555556, \"#d8576b\"], [0.6666666666666666, \"#ed7953\"], [0.7777777777777778, \"#fb9f3a\"], [0.8888888888888888, \"#fdca26\"], [1.0, \"#f0f921\"]], \"sequentialminus\": [[0.0, \"#0d0887\"], [0.1111111111111111, \"#46039f\"], [0.2222222222222222, \"#7201a8\"], [0.3333333333333333, \"#9c179e\"], [0.4444444444444444, \"#bd3786\"], [0.5555555555555556, \"#d8576b\"], [0.6666666666666666, \"#ed7953\"], [0.7777777777777778, \"#fb9f3a\"], [0.8888888888888888, \"#fdca26\"], [1.0, \"#f0f921\"]]}, \"colorway\": [\"#636efa\", \"#EF553B\", \"#00cc96\", \"#ab63fa\", \"#FFA15A\", \"#19d3f3\", \"#FF6692\", \"#B6E880\", \"#FF97FF\", \"#FECB52\"], \"font\": {\"color\": \"#2a3f5f\"}, \"geo\": {\"bgcolor\": \"white\", \"lakecolor\": \"white\", \"landcolor\": \"#E5ECF6\", \"showlakes\": true, \"showland\": true, \"subunitcolor\": \"white\"}, \"hoverlabel\": {\"align\": \"left\"}, \"hovermode\": \"closest\", \"mapbox\": {\"style\": \"light\"}, \"paper_bgcolor\": \"white\", \"plot_bgcolor\": \"#E5ECF6\", \"polar\": {\"angularaxis\": {\"gridcolor\": \"white\", \"linecolor\": \"white\", \"ticks\": \"\"}, \"bgcolor\": \"#E5ECF6\", \"radialaxis\": {\"gridcolor\": \"white\", \"linecolor\": \"white\", \"ticks\": \"\"}}, \"scene\": {\"xaxis\": {\"backgroundcolor\": \"#E5ECF6\", \"gridcolor\": \"white\", \"gridwidth\": 2, \"linecolor\": \"white\", \"showbackground\": true, \"ticks\": \"\", \"zerolinecolor\": \"white\"}, \"yaxis\": {\"backgroundcolor\": \"#E5ECF6\", \"gridcolor\": \"white\", \"gridwidth\": 2, \"linecolor\": \"white\", \"showbackground\": true, \"ticks\": \"\", \"zerolinecolor\": \"white\"}, \"zaxis\": {\"backgroundcolor\": \"#E5ECF6\", \"gridcolor\": \"white\", \"gridwidth\": 2, \"linecolor\": \"white\", \"showbackground\": true, \"ticks\": \"\", \"zerolinecolor\": \"white\"}}, \"shapedefaults\": {\"line\": {\"color\": \"#2a3f5f\"}}, \"ternary\": {\"aaxis\": {\"gridcolor\": \"white\", \"linecolor\": \"white\", \"ticks\": \"\"}, \"baxis\": {\"gridcolor\": \"white\", \"linecolor\": \"white\", \"ticks\": \"\"}, \"bgcolor\": \"#E5ECF6\", \"caxis\": {\"gridcolor\": \"white\", \"linecolor\": \"white\", \"ticks\": \"\"}}, \"title\": {\"x\": 0.05}, \"xaxis\": {\"automargin\": true, \"gridcolor\": \"white\", \"linecolor\": \"white\", \"ticks\": \"\", \"title\": {\"standoff\": 15}, \"zerolinecolor\": \"white\", \"zerolinewidth\": 2}, \"yaxis\": {\"automargin\": true, \"gridcolor\": \"white\", \"linecolor\": \"white\", \"ticks\": \"\", \"title\": {\"standoff\": 15}, \"zerolinecolor\": \"white\", \"zerolinewidth\": 2}}}, \"xaxis\": {\"title\": {\"text\": \"Timestep\"}}, \"yaxis\": {\"title\": {\"text\": \"Demand\"}}},                        {\"responsive\": true}                    ).then(function(){\n",
       "                            \n",
       "var gd = document.getElementById('518c4f1f-a681-4e41-9869-83825132cd5e');\n",
       "var x = new MutationObserver(function (mutations, observer) {{\n",
       "        var display = window.getComputedStyle(gd).display;\n",
       "        if (!display || display === 'none') {{\n",
       "            console.log([gd, 'removed!']);\n",
       "            Plotly.purge(gd);\n",
       "            observer.disconnect();\n",
       "        }}\n",
       "}});\n",
       "\n",
       "// Listen for the removal of the full notebook cells\n",
       "var notebookContainer = gd.closest('#notebook-container');\n",
       "if (notebookContainer) {{\n",
       "    x.observe(notebookContainer, {childList: true});\n",
       "}}\n",
       "\n",
       "// Listen for the clearing of the current output cell\n",
       "var outputEl = gd.closest('.output');\n",
       "if (outputEl) {{\n",
       "    x.observe(outputEl, {childList: true});\n",
       "}}\n",
       "\n",
       "                        })                };                });            </script>        </div>"
      ]
     },
     "metadata": {},
     "output_type": "display_data"
    }
   ],
   "source": [
    "a = go.Scatter(y=[x.item() for x in fixed_demands])\n",
    "fig = go.Figure(a)\n",
    "fig.layout.xaxis.title = 'Timestep'\n",
    "fig.layout.yaxis.title = 'Demand'\n",
    "fig"
   ]
  },
  {
   "cell_type": "code",
   "execution_count": 320,
   "id": "972e4661",
   "metadata": {},
   "outputs": [
    {
     "data": {
      "application/vnd.plotly.v1+json": {
       "config": {
        "plotlyServerURL": "https://plot.ly"
       },
       "data": [
        {
         "name": "NNC",
         "type": "scatter",
         "y": [
          0,
          0,
          0,
          0,
          0,
          0,
          0,
          0,
          0,
          0,
          0,
          0,
          0,
          0,
          0,
          0,
          0,
          0,
          0,
          0,
          109,
          213,
          563,
          2760,
          6039,
          6837,
          12296,
          11366,
          11743,
          33195,
          43163,
          39654,
          41648,
          22594,
          7647,
          11878,
          43628,
          47211,
          83147,
          101203,
          12853,
          11874,
          17195,
          19767,
          24515,
          26141,
          34292,
          40095,
          55403,
          63379,
          65953,
          75727,
          89373,
          98377,
          82125,
          99385,
          106559,
          73339,
          64371,
          45980,
          78089,
          89150,
          89443,
          94128,
          81440,
          92082,
          65459,
          44030,
          49096,
          66479,
          79388,
          58141,
          59816,
          51161,
          80351,
          96558,
          52514,
          53854,
          54611,
          78990,
          77451,
          91312,
          107095,
          115888,
          86162,
          81987,
          70700,
          98343,
          85716,
          27361,
          19885,
          21675,
          18939,
          10991,
          25137,
          15244,
          46023,
          66518,
          44123,
          8063,
          1886,
          12178,
          38654,
          48546,
          18863,
          7771,
          11435,
          8767,
          15620,
          29892,
          31936,
          29221,
          35073,
          28289,
          29016,
          43328,
          29684
         ]
        },
        {
         "name": "CDI",
         "type": "scatter",
         "y": [
          0,
          0,
          0,
          0,
          0,
          0,
          0,
          0,
          0,
          0,
          0,
          0,
          0,
          0,
          0,
          0,
          0,
          0,
          0,
          0,
          317,
          321,
          995,
          6911,
          10233,
          492,
          12631,
          16769,
          2269,
          63217,
          48206,
          0,
          55085,
          0,
          0,
          7252,
          104725,
          26225,
          112957,
          95122,
          0,
          0,
          0,
          0,
          11076,
          35728,
          47045,
          26955,
          78294,
          62518,
          57466,
          94251,
          104733,
          86774,
          60465,
          153631,
          86501,
          0,
          75079,
          22736,
          153629,
          83971,
          24010,
          108103,
          55308,
          119694,
          8031,
          27112,
          78594,
          99351,
          90806,
          0,
          83302,
          30750,
          150699,
          89435,
          0,
          50817,
          65893,
          121271,
          55140,
          102258,
          157554,
          126105,
          0,
          110591,
          56564,
          167024,
          31317,
          0,
          0,
          0,
          38602,
          0,
          58963,
          0,
          102469,
          82312,
          0,
          0,
          0,
          0,
          55217,
          30327,
          0,
          0,
          11701,
          8098,
          31066,
          51650,
          20421,
          23605,
          40315,
          18393,
          49657,
          67647,
          0
         ]
        }
       ],
       "layout": {
        "template": {
         "data": {
          "bar": [
           {
            "error_x": {
             "color": "#2a3f5f"
            },
            "error_y": {
             "color": "#2a3f5f"
            },
            "marker": {
             "line": {
              "color": "#E5ECF6",
              "width": 0.5
             }
            },
            "type": "bar"
           }
          ],
          "barpolar": [
           {
            "marker": {
             "line": {
              "color": "#E5ECF6",
              "width": 0.5
             }
            },
            "type": "barpolar"
           }
          ],
          "carpet": [
           {
            "aaxis": {
             "endlinecolor": "#2a3f5f",
             "gridcolor": "white",
             "linecolor": "white",
             "minorgridcolor": "white",
             "startlinecolor": "#2a3f5f"
            },
            "baxis": {
             "endlinecolor": "#2a3f5f",
             "gridcolor": "white",
             "linecolor": "white",
             "minorgridcolor": "white",
             "startlinecolor": "#2a3f5f"
            },
            "type": "carpet"
           }
          ],
          "choropleth": [
           {
            "colorbar": {
             "outlinewidth": 0,
             "ticks": ""
            },
            "type": "choropleth"
           }
          ],
          "contour": [
           {
            "colorbar": {
             "outlinewidth": 0,
             "ticks": ""
            },
            "colorscale": [
             [
              0,
              "#0d0887"
             ],
             [
              0.1111111111111111,
              "#46039f"
             ],
             [
              0.2222222222222222,
              "#7201a8"
             ],
             [
              0.3333333333333333,
              "#9c179e"
             ],
             [
              0.4444444444444444,
              "#bd3786"
             ],
             [
              0.5555555555555556,
              "#d8576b"
             ],
             [
              0.6666666666666666,
              "#ed7953"
             ],
             [
              0.7777777777777778,
              "#fb9f3a"
             ],
             [
              0.8888888888888888,
              "#fdca26"
             ],
             [
              1,
              "#f0f921"
             ]
            ],
            "type": "contour"
           }
          ],
          "contourcarpet": [
           {
            "colorbar": {
             "outlinewidth": 0,
             "ticks": ""
            },
            "type": "contourcarpet"
           }
          ],
          "heatmap": [
           {
            "colorbar": {
             "outlinewidth": 0,
             "ticks": ""
            },
            "colorscale": [
             [
              0,
              "#0d0887"
             ],
             [
              0.1111111111111111,
              "#46039f"
             ],
             [
              0.2222222222222222,
              "#7201a8"
             ],
             [
              0.3333333333333333,
              "#9c179e"
             ],
             [
              0.4444444444444444,
              "#bd3786"
             ],
             [
              0.5555555555555556,
              "#d8576b"
             ],
             [
              0.6666666666666666,
              "#ed7953"
             ],
             [
              0.7777777777777778,
              "#fb9f3a"
             ],
             [
              0.8888888888888888,
              "#fdca26"
             ],
             [
              1,
              "#f0f921"
             ]
            ],
            "type": "heatmap"
           }
          ],
          "heatmapgl": [
           {
            "colorbar": {
             "outlinewidth": 0,
             "ticks": ""
            },
            "colorscale": [
             [
              0,
              "#0d0887"
             ],
             [
              0.1111111111111111,
              "#46039f"
             ],
             [
              0.2222222222222222,
              "#7201a8"
             ],
             [
              0.3333333333333333,
              "#9c179e"
             ],
             [
              0.4444444444444444,
              "#bd3786"
             ],
             [
              0.5555555555555556,
              "#d8576b"
             ],
             [
              0.6666666666666666,
              "#ed7953"
             ],
             [
              0.7777777777777778,
              "#fb9f3a"
             ],
             [
              0.8888888888888888,
              "#fdca26"
             ],
             [
              1,
              "#f0f921"
             ]
            ],
            "type": "heatmapgl"
           }
          ],
          "histogram": [
           {
            "marker": {
             "colorbar": {
              "outlinewidth": 0,
              "ticks": ""
             }
            },
            "type": "histogram"
           }
          ],
          "histogram2d": [
           {
            "colorbar": {
             "outlinewidth": 0,
             "ticks": ""
            },
            "colorscale": [
             [
              0,
              "#0d0887"
             ],
             [
              0.1111111111111111,
              "#46039f"
             ],
             [
              0.2222222222222222,
              "#7201a8"
             ],
             [
              0.3333333333333333,
              "#9c179e"
             ],
             [
              0.4444444444444444,
              "#bd3786"
             ],
             [
              0.5555555555555556,
              "#d8576b"
             ],
             [
              0.6666666666666666,
              "#ed7953"
             ],
             [
              0.7777777777777778,
              "#fb9f3a"
             ],
             [
              0.8888888888888888,
              "#fdca26"
             ],
             [
              1,
              "#f0f921"
             ]
            ],
            "type": "histogram2d"
           }
          ],
          "histogram2dcontour": [
           {
            "colorbar": {
             "outlinewidth": 0,
             "ticks": ""
            },
            "colorscale": [
             [
              0,
              "#0d0887"
             ],
             [
              0.1111111111111111,
              "#46039f"
             ],
             [
              0.2222222222222222,
              "#7201a8"
             ],
             [
              0.3333333333333333,
              "#9c179e"
             ],
             [
              0.4444444444444444,
              "#bd3786"
             ],
             [
              0.5555555555555556,
              "#d8576b"
             ],
             [
              0.6666666666666666,
              "#ed7953"
             ],
             [
              0.7777777777777778,
              "#fb9f3a"
             ],
             [
              0.8888888888888888,
              "#fdca26"
             ],
             [
              1,
              "#f0f921"
             ]
            ],
            "type": "histogram2dcontour"
           }
          ],
          "mesh3d": [
           {
            "colorbar": {
             "outlinewidth": 0,
             "ticks": ""
            },
            "type": "mesh3d"
           }
          ],
          "parcoords": [
           {
            "line": {
             "colorbar": {
              "outlinewidth": 0,
              "ticks": ""
             }
            },
            "type": "parcoords"
           }
          ],
          "pie": [
           {
            "automargin": true,
            "type": "pie"
           }
          ],
          "scatter": [
           {
            "marker": {
             "colorbar": {
              "outlinewidth": 0,
              "ticks": ""
             }
            },
            "type": "scatter"
           }
          ],
          "scatter3d": [
           {
            "line": {
             "colorbar": {
              "outlinewidth": 0,
              "ticks": ""
             }
            },
            "marker": {
             "colorbar": {
              "outlinewidth": 0,
              "ticks": ""
             }
            },
            "type": "scatter3d"
           }
          ],
          "scattercarpet": [
           {
            "marker": {
             "colorbar": {
              "outlinewidth": 0,
              "ticks": ""
             }
            },
            "type": "scattercarpet"
           }
          ],
          "scattergeo": [
           {
            "marker": {
             "colorbar": {
              "outlinewidth": 0,
              "ticks": ""
             }
            },
            "type": "scattergeo"
           }
          ],
          "scattergl": [
           {
            "marker": {
             "colorbar": {
              "outlinewidth": 0,
              "ticks": ""
             }
            },
            "type": "scattergl"
           }
          ],
          "scattermapbox": [
           {
            "marker": {
             "colorbar": {
              "outlinewidth": 0,
              "ticks": ""
             }
            },
            "type": "scattermapbox"
           }
          ],
          "scatterpolar": [
           {
            "marker": {
             "colorbar": {
              "outlinewidth": 0,
              "ticks": ""
             }
            },
            "type": "scatterpolar"
           }
          ],
          "scatterpolargl": [
           {
            "marker": {
             "colorbar": {
              "outlinewidth": 0,
              "ticks": ""
             }
            },
            "type": "scatterpolargl"
           }
          ],
          "scatterternary": [
           {
            "marker": {
             "colorbar": {
              "outlinewidth": 0,
              "ticks": ""
             }
            },
            "type": "scatterternary"
           }
          ],
          "surface": [
           {
            "colorbar": {
             "outlinewidth": 0,
             "ticks": ""
            },
            "colorscale": [
             [
              0,
              "#0d0887"
             ],
             [
              0.1111111111111111,
              "#46039f"
             ],
             [
              0.2222222222222222,
              "#7201a8"
             ],
             [
              0.3333333333333333,
              "#9c179e"
             ],
             [
              0.4444444444444444,
              "#bd3786"
             ],
             [
              0.5555555555555556,
              "#d8576b"
             ],
             [
              0.6666666666666666,
              "#ed7953"
             ],
             [
              0.7777777777777778,
              "#fb9f3a"
             ],
             [
              0.8888888888888888,
              "#fdca26"
             ],
             [
              1,
              "#f0f921"
             ]
            ],
            "type": "surface"
           }
          ],
          "table": [
           {
            "cells": {
             "fill": {
              "color": "#EBF0F8"
             },
             "line": {
              "color": "white"
             }
            },
            "header": {
             "fill": {
              "color": "#C8D4E3"
             },
             "line": {
              "color": "white"
             }
            },
            "type": "table"
           }
          ]
         },
         "layout": {
          "annotationdefaults": {
           "arrowcolor": "#2a3f5f",
           "arrowhead": 0,
           "arrowwidth": 1
          },
          "autotypenumbers": "strict",
          "coloraxis": {
           "colorbar": {
            "outlinewidth": 0,
            "ticks": ""
           }
          },
          "colorscale": {
           "diverging": [
            [
             0,
             "#8e0152"
            ],
            [
             0.1,
             "#c51b7d"
            ],
            [
             0.2,
             "#de77ae"
            ],
            [
             0.3,
             "#f1b6da"
            ],
            [
             0.4,
             "#fde0ef"
            ],
            [
             0.5,
             "#f7f7f7"
            ],
            [
             0.6,
             "#e6f5d0"
            ],
            [
             0.7,
             "#b8e186"
            ],
            [
             0.8,
             "#7fbc41"
            ],
            [
             0.9,
             "#4d9221"
            ],
            [
             1,
             "#276419"
            ]
           ],
           "sequential": [
            [
             0,
             "#0d0887"
            ],
            [
             0.1111111111111111,
             "#46039f"
            ],
            [
             0.2222222222222222,
             "#7201a8"
            ],
            [
             0.3333333333333333,
             "#9c179e"
            ],
            [
             0.4444444444444444,
             "#bd3786"
            ],
            [
             0.5555555555555556,
             "#d8576b"
            ],
            [
             0.6666666666666666,
             "#ed7953"
            ],
            [
             0.7777777777777778,
             "#fb9f3a"
            ],
            [
             0.8888888888888888,
             "#fdca26"
            ],
            [
             1,
             "#f0f921"
            ]
           ],
           "sequentialminus": [
            [
             0,
             "#0d0887"
            ],
            [
             0.1111111111111111,
             "#46039f"
            ],
            [
             0.2222222222222222,
             "#7201a8"
            ],
            [
             0.3333333333333333,
             "#9c179e"
            ],
            [
             0.4444444444444444,
             "#bd3786"
            ],
            [
             0.5555555555555556,
             "#d8576b"
            ],
            [
             0.6666666666666666,
             "#ed7953"
            ],
            [
             0.7777777777777778,
             "#fb9f3a"
            ],
            [
             0.8888888888888888,
             "#fdca26"
            ],
            [
             1,
             "#f0f921"
            ]
           ]
          },
          "colorway": [
           "#636efa",
           "#EF553B",
           "#00cc96",
           "#ab63fa",
           "#FFA15A",
           "#19d3f3",
           "#FF6692",
           "#B6E880",
           "#FF97FF",
           "#FECB52"
          ],
          "font": {
           "color": "#2a3f5f"
          },
          "geo": {
           "bgcolor": "white",
           "lakecolor": "white",
           "landcolor": "#E5ECF6",
           "showlakes": true,
           "showland": true,
           "subunitcolor": "white"
          },
          "hoverlabel": {
           "align": "left"
          },
          "hovermode": "closest",
          "mapbox": {
           "style": "light"
          },
          "paper_bgcolor": "white",
          "plot_bgcolor": "#E5ECF6",
          "polar": {
           "angularaxis": {
            "gridcolor": "white",
            "linecolor": "white",
            "ticks": ""
           },
           "bgcolor": "#E5ECF6",
           "radialaxis": {
            "gridcolor": "white",
            "linecolor": "white",
            "ticks": ""
           }
          },
          "scene": {
           "xaxis": {
            "backgroundcolor": "#E5ECF6",
            "gridcolor": "white",
            "gridwidth": 2,
            "linecolor": "white",
            "showbackground": true,
            "ticks": "",
            "zerolinecolor": "white"
           },
           "yaxis": {
            "backgroundcolor": "#E5ECF6",
            "gridcolor": "white",
            "gridwidth": 2,
            "linecolor": "white",
            "showbackground": true,
            "ticks": "",
            "zerolinecolor": "white"
           },
           "zaxis": {
            "backgroundcolor": "#E5ECF6",
            "gridcolor": "white",
            "gridwidth": 2,
            "linecolor": "white",
            "showbackground": true,
            "ticks": "",
            "zerolinecolor": "white"
           }
          },
          "shapedefaults": {
           "line": {
            "color": "#2a3f5f"
           }
          },
          "ternary": {
           "aaxis": {
            "gridcolor": "white",
            "linecolor": "white",
            "ticks": ""
           },
           "baxis": {
            "gridcolor": "white",
            "linecolor": "white",
            "ticks": ""
           },
           "bgcolor": "#E5ECF6",
           "caxis": {
            "gridcolor": "white",
            "linecolor": "white",
            "ticks": ""
           }
          },
          "title": {
           "x": 0.05
          },
          "xaxis": {
           "automargin": true,
           "gridcolor": "white",
           "linecolor": "white",
           "ticks": "",
           "title": {
            "standoff": 15
           },
           "zerolinecolor": "white",
           "zerolinewidth": 2
          },
          "yaxis": {
           "automargin": true,
           "gridcolor": "white",
           "linecolor": "white",
           "ticks": "",
           "title": {
            "standoff": 15
           },
           "zerolinecolor": "white",
           "zerolinewidth": 2
          }
         }
        },
        "xaxis": {
         "title": {
          "text": "Timestep"
         }
        },
        "yaxis": {
         "title": {
          "text": "Regular Order"
         }
        }
       }
      },
      "text/html": [
       "<div>                            <div id=\"1cca2c06-610d-4639-aa50-7090179e2738\" class=\"plotly-graph-div\" style=\"height:525px; width:100%;\"></div>            <script type=\"text/javascript\">                require([\"plotly\"], function(Plotly) {                    window.PLOTLYENV=window.PLOTLYENV || {};                                    if (document.getElementById(\"1cca2c06-610d-4639-aa50-7090179e2738\")) {                    Plotly.newPlot(                        \"1cca2c06-610d-4639-aa50-7090179e2738\",                        [{\"name\": \"NNC\", \"type\": \"scatter\", \"y\": [0.0, 0.0, 0.0, 0.0, 0.0, 0.0, 0.0, 0.0, 0.0, 0.0, 0.0, 0.0, 0.0, 0.0, 0.0, 0.0, 0.0, 0.0, 0.0, 0.0, 109.0, 213.0, 563.0, 2760.0, 6039.0, 6837.0, 12296.0, 11366.0, 11743.0, 33195.0, 43163.0, 39654.0, 41648.0, 22594.0, 7647.0, 11878.0, 43628.0, 47211.0, 83147.0, 101203.0, 12853.0, 11874.0, 17195.0, 19767.0, 24515.0, 26141.0, 34292.0, 40095.0, 55403.0, 63379.0, 65953.0, 75727.0, 89373.0, 98377.0, 82125.0, 99385.0, 106559.0, 73339.0, 64371.0, 45980.0, 78089.0, 89150.0, 89443.0, 94128.0, 81440.0, 92082.0, 65459.0, 44030.0, 49096.0, 66479.0, 79388.0, 58141.0, 59816.0, 51161.0, 80351.0, 96558.0, 52514.0, 53854.0, 54611.0, 78990.0, 77451.0, 91312.0, 107095.0, 115888.0, 86162.0, 81987.0, 70700.0, 98343.0, 85716.0, 27361.0, 19885.0, 21675.0, 18939.0, 10991.0, 25137.0, 15244.0, 46023.0, 66518.0, 44123.0, 8063.0, 1886.0, 12178.0, 38654.0, 48546.0, 18863.0, 7771.0, 11435.0, 8767.0, 15620.0, 29892.0, 31936.0, 29221.0, 35073.0, 28289.0, 29016.0, 43328.0, 29684.0]}, {\"name\": \"CDI\", \"type\": \"scatter\", \"y\": [0, 0, 0, 0, 0, 0, 0, 0, 0, 0, 0, 0, 0, 0, 0, 0, 0, 0, 0, 0, 317, 321, 995, 6911, 10233, 492, 12631, 16769, 2269, 63217, 48206, 0, 55085, 0, 0, 7252, 104725, 26225, 112957, 95122, 0, 0, 0, 0, 11076, 35728, 47045, 26955, 78294, 62518, 57466, 94251, 104733, 86774, 60465, 153631, 86501, 0, 75079, 22736, 153629, 83971, 24010, 108103, 55308, 119694, 8031, 27112, 78594, 99351, 90806, 0, 83302, 30750, 150699, 89435, 0, 50817, 65893, 121271, 55140, 102258, 157554, 126105, 0, 110591, 56564, 167024, 31317, 0, 0, 0, 38602, 0, 58963, 0, 102469, 82312, 0, 0, 0, 0, 55217, 30327, 0, 0, 11701, 8098, 31066, 51650, 20421, 23605, 40315, 18393, 49657, 67647, 0]}],                        {\"template\": {\"data\": {\"bar\": [{\"error_x\": {\"color\": \"#2a3f5f\"}, \"error_y\": {\"color\": \"#2a3f5f\"}, \"marker\": {\"line\": {\"color\": \"#E5ECF6\", \"width\": 0.5}}, \"type\": \"bar\"}], \"barpolar\": [{\"marker\": {\"line\": {\"color\": \"#E5ECF6\", \"width\": 0.5}}, \"type\": \"barpolar\"}], \"carpet\": [{\"aaxis\": {\"endlinecolor\": \"#2a3f5f\", \"gridcolor\": \"white\", \"linecolor\": \"white\", \"minorgridcolor\": \"white\", \"startlinecolor\": \"#2a3f5f\"}, \"baxis\": {\"endlinecolor\": \"#2a3f5f\", \"gridcolor\": \"white\", \"linecolor\": \"white\", \"minorgridcolor\": \"white\", \"startlinecolor\": \"#2a3f5f\"}, \"type\": \"carpet\"}], \"choropleth\": [{\"colorbar\": {\"outlinewidth\": 0, \"ticks\": \"\"}, \"type\": \"choropleth\"}], \"contour\": [{\"colorbar\": {\"outlinewidth\": 0, \"ticks\": \"\"}, \"colorscale\": [[0.0, \"#0d0887\"], [0.1111111111111111, \"#46039f\"], [0.2222222222222222, \"#7201a8\"], [0.3333333333333333, \"#9c179e\"], [0.4444444444444444, \"#bd3786\"], [0.5555555555555556, \"#d8576b\"], [0.6666666666666666, \"#ed7953\"], [0.7777777777777778, \"#fb9f3a\"], [0.8888888888888888, \"#fdca26\"], [1.0, \"#f0f921\"]], \"type\": \"contour\"}], \"contourcarpet\": [{\"colorbar\": {\"outlinewidth\": 0, \"ticks\": \"\"}, \"type\": \"contourcarpet\"}], \"heatmap\": [{\"colorbar\": {\"outlinewidth\": 0, \"ticks\": \"\"}, \"colorscale\": [[0.0, \"#0d0887\"], [0.1111111111111111, \"#46039f\"], [0.2222222222222222, \"#7201a8\"], [0.3333333333333333, \"#9c179e\"], [0.4444444444444444, \"#bd3786\"], [0.5555555555555556, \"#d8576b\"], [0.6666666666666666, \"#ed7953\"], [0.7777777777777778, \"#fb9f3a\"], [0.8888888888888888, \"#fdca26\"], [1.0, \"#f0f921\"]], \"type\": \"heatmap\"}], \"heatmapgl\": [{\"colorbar\": {\"outlinewidth\": 0, \"ticks\": \"\"}, \"colorscale\": [[0.0, \"#0d0887\"], [0.1111111111111111, \"#46039f\"], [0.2222222222222222, \"#7201a8\"], [0.3333333333333333, \"#9c179e\"], [0.4444444444444444, \"#bd3786\"], [0.5555555555555556, \"#d8576b\"], [0.6666666666666666, \"#ed7953\"], [0.7777777777777778, \"#fb9f3a\"], [0.8888888888888888, \"#fdca26\"], [1.0, \"#f0f921\"]], \"type\": \"heatmapgl\"}], \"histogram\": [{\"marker\": {\"colorbar\": {\"outlinewidth\": 0, \"ticks\": \"\"}}, \"type\": \"histogram\"}], \"histogram2d\": [{\"colorbar\": {\"outlinewidth\": 0, \"ticks\": \"\"}, \"colorscale\": [[0.0, \"#0d0887\"], [0.1111111111111111, \"#46039f\"], [0.2222222222222222, \"#7201a8\"], [0.3333333333333333, \"#9c179e\"], [0.4444444444444444, \"#bd3786\"], [0.5555555555555556, \"#d8576b\"], [0.6666666666666666, \"#ed7953\"], [0.7777777777777778, \"#fb9f3a\"], [0.8888888888888888, \"#fdca26\"], [1.0, \"#f0f921\"]], \"type\": \"histogram2d\"}], \"histogram2dcontour\": [{\"colorbar\": {\"outlinewidth\": 0, \"ticks\": \"\"}, \"colorscale\": [[0.0, \"#0d0887\"], [0.1111111111111111, \"#46039f\"], [0.2222222222222222, \"#7201a8\"], [0.3333333333333333, \"#9c179e\"], [0.4444444444444444, \"#bd3786\"], [0.5555555555555556, \"#d8576b\"], [0.6666666666666666, \"#ed7953\"], [0.7777777777777778, \"#fb9f3a\"], [0.8888888888888888, \"#fdca26\"], [1.0, \"#f0f921\"]], \"type\": \"histogram2dcontour\"}], \"mesh3d\": [{\"colorbar\": {\"outlinewidth\": 0, \"ticks\": \"\"}, \"type\": \"mesh3d\"}], \"parcoords\": [{\"line\": {\"colorbar\": {\"outlinewidth\": 0, \"ticks\": \"\"}}, \"type\": \"parcoords\"}], \"pie\": [{\"automargin\": true, \"type\": \"pie\"}], \"scatter\": [{\"marker\": {\"colorbar\": {\"outlinewidth\": 0, \"ticks\": \"\"}}, \"type\": \"scatter\"}], \"scatter3d\": [{\"line\": {\"colorbar\": {\"outlinewidth\": 0, \"ticks\": \"\"}}, \"marker\": {\"colorbar\": {\"outlinewidth\": 0, \"ticks\": \"\"}}, \"type\": \"scatter3d\"}], \"scattercarpet\": [{\"marker\": {\"colorbar\": {\"outlinewidth\": 0, \"ticks\": \"\"}}, \"type\": \"scattercarpet\"}], \"scattergeo\": [{\"marker\": {\"colorbar\": {\"outlinewidth\": 0, \"ticks\": \"\"}}, \"type\": \"scattergeo\"}], \"scattergl\": [{\"marker\": {\"colorbar\": {\"outlinewidth\": 0, \"ticks\": \"\"}}, \"type\": \"scattergl\"}], \"scattermapbox\": [{\"marker\": {\"colorbar\": {\"outlinewidth\": 0, \"ticks\": \"\"}}, \"type\": \"scattermapbox\"}], \"scatterpolar\": [{\"marker\": {\"colorbar\": {\"outlinewidth\": 0, \"ticks\": \"\"}}, \"type\": \"scatterpolar\"}], \"scatterpolargl\": [{\"marker\": {\"colorbar\": {\"outlinewidth\": 0, \"ticks\": \"\"}}, \"type\": \"scatterpolargl\"}], \"scatterternary\": [{\"marker\": {\"colorbar\": {\"outlinewidth\": 0, \"ticks\": \"\"}}, \"type\": \"scatterternary\"}], \"surface\": [{\"colorbar\": {\"outlinewidth\": 0, \"ticks\": \"\"}, \"colorscale\": [[0.0, \"#0d0887\"], [0.1111111111111111, \"#46039f\"], [0.2222222222222222, \"#7201a8\"], [0.3333333333333333, \"#9c179e\"], [0.4444444444444444, \"#bd3786\"], [0.5555555555555556, \"#d8576b\"], [0.6666666666666666, \"#ed7953\"], [0.7777777777777778, \"#fb9f3a\"], [0.8888888888888888, \"#fdca26\"], [1.0, \"#f0f921\"]], \"type\": \"surface\"}], \"table\": [{\"cells\": {\"fill\": {\"color\": \"#EBF0F8\"}, \"line\": {\"color\": \"white\"}}, \"header\": {\"fill\": {\"color\": \"#C8D4E3\"}, \"line\": {\"color\": \"white\"}}, \"type\": \"table\"}]}, \"layout\": {\"annotationdefaults\": {\"arrowcolor\": \"#2a3f5f\", \"arrowhead\": 0, \"arrowwidth\": 1}, \"autotypenumbers\": \"strict\", \"coloraxis\": {\"colorbar\": {\"outlinewidth\": 0, \"ticks\": \"\"}}, \"colorscale\": {\"diverging\": [[0, \"#8e0152\"], [0.1, \"#c51b7d\"], [0.2, \"#de77ae\"], [0.3, \"#f1b6da\"], [0.4, \"#fde0ef\"], [0.5, \"#f7f7f7\"], [0.6, \"#e6f5d0\"], [0.7, \"#b8e186\"], [0.8, \"#7fbc41\"], [0.9, \"#4d9221\"], [1, \"#276419\"]], \"sequential\": [[0.0, \"#0d0887\"], [0.1111111111111111, \"#46039f\"], [0.2222222222222222, \"#7201a8\"], [0.3333333333333333, \"#9c179e\"], [0.4444444444444444, \"#bd3786\"], [0.5555555555555556, \"#d8576b\"], [0.6666666666666666, \"#ed7953\"], [0.7777777777777778, \"#fb9f3a\"], [0.8888888888888888, \"#fdca26\"], [1.0, \"#f0f921\"]], \"sequentialminus\": [[0.0, \"#0d0887\"], [0.1111111111111111, \"#46039f\"], [0.2222222222222222, \"#7201a8\"], [0.3333333333333333, \"#9c179e\"], [0.4444444444444444, \"#bd3786\"], [0.5555555555555556, \"#d8576b\"], [0.6666666666666666, \"#ed7953\"], [0.7777777777777778, \"#fb9f3a\"], [0.8888888888888888, \"#fdca26\"], [1.0, \"#f0f921\"]]}, \"colorway\": [\"#636efa\", \"#EF553B\", \"#00cc96\", \"#ab63fa\", \"#FFA15A\", \"#19d3f3\", \"#FF6692\", \"#B6E880\", \"#FF97FF\", \"#FECB52\"], \"font\": {\"color\": \"#2a3f5f\"}, \"geo\": {\"bgcolor\": \"white\", \"lakecolor\": \"white\", \"landcolor\": \"#E5ECF6\", \"showlakes\": true, \"showland\": true, \"subunitcolor\": \"white\"}, \"hoverlabel\": {\"align\": \"left\"}, \"hovermode\": \"closest\", \"mapbox\": {\"style\": \"light\"}, \"paper_bgcolor\": \"white\", \"plot_bgcolor\": \"#E5ECF6\", \"polar\": {\"angularaxis\": {\"gridcolor\": \"white\", \"linecolor\": \"white\", \"ticks\": \"\"}, \"bgcolor\": \"#E5ECF6\", \"radialaxis\": {\"gridcolor\": \"white\", \"linecolor\": \"white\", \"ticks\": \"\"}}, \"scene\": {\"xaxis\": {\"backgroundcolor\": \"#E5ECF6\", \"gridcolor\": \"white\", \"gridwidth\": 2, \"linecolor\": \"white\", \"showbackground\": true, \"ticks\": \"\", \"zerolinecolor\": \"white\"}, \"yaxis\": {\"backgroundcolor\": \"#E5ECF6\", \"gridcolor\": \"white\", \"gridwidth\": 2, \"linecolor\": \"white\", \"showbackground\": true, \"ticks\": \"\", \"zerolinecolor\": \"white\"}, \"zaxis\": {\"backgroundcolor\": \"#E5ECF6\", \"gridcolor\": \"white\", \"gridwidth\": 2, \"linecolor\": \"white\", \"showbackground\": true, \"ticks\": \"\", \"zerolinecolor\": \"white\"}}, \"shapedefaults\": {\"line\": {\"color\": \"#2a3f5f\"}}, \"ternary\": {\"aaxis\": {\"gridcolor\": \"white\", \"linecolor\": \"white\", \"ticks\": \"\"}, \"baxis\": {\"gridcolor\": \"white\", \"linecolor\": \"white\", \"ticks\": \"\"}, \"bgcolor\": \"#E5ECF6\", \"caxis\": {\"gridcolor\": \"white\", \"linecolor\": \"white\", \"ticks\": \"\"}}, \"title\": {\"x\": 0.05}, \"xaxis\": {\"automargin\": true, \"gridcolor\": \"white\", \"linecolor\": \"white\", \"ticks\": \"\", \"title\": {\"standoff\": 15}, \"zerolinecolor\": \"white\", \"zerolinewidth\": 2}, \"yaxis\": {\"automargin\": true, \"gridcolor\": \"white\", \"linecolor\": \"white\", \"ticks\": \"\", \"title\": {\"standoff\": 15}, \"zerolinecolor\": \"white\", \"zerolinewidth\": 2}}}, \"xaxis\": {\"title\": {\"text\": \"Timestep\"}}, \"yaxis\": {\"title\": {\"text\": \"Regular Order\"}}},                        {\"responsive\": true}                    ).then(function(){\n",
       "                            \n",
       "var gd = document.getElementById('1cca2c06-610d-4639-aa50-7090179e2738');\n",
       "var x = new MutationObserver(function (mutations, observer) {{\n",
       "        var display = window.getComputedStyle(gd).display;\n",
       "        if (!display || display === 'none') {{\n",
       "            console.log([gd, 'removed!']);\n",
       "            Plotly.purge(gd);\n",
       "            observer.disconnect();\n",
       "        }}\n",
       "}});\n",
       "\n",
       "// Listen for the removal of the full notebook cells\n",
       "var notebookContainer = gd.closest('#notebook-container');\n",
       "if (notebookContainer) {{\n",
       "    x.observe(notebookContainer, {childList: true});\n",
       "}}\n",
       "\n",
       "// Listen for the clearing of the current output cell\n",
       "var outputEl = gd.closest('.output');\n",
       "if (outputEl) {{\n",
       "    x.observe(outputEl, {childList: true});\n",
       "}}\n",
       "\n",
       "                        })                };                });            </script>        </div>"
      ]
     },
     "metadata": {},
     "output_type": "display_data"
    }
   ],
   "source": [
    "a = go.Scatter(y=[x.item() for x in nn_qr[1:]], name='NNC')\n",
    "b = go.Scatter(y=cdi_qr, name='CDI')\n",
    "fig = go.Figure([a,b])\n",
    "fig.layout.xaxis.title = 'Timestep'\n",
    "fig.layout.yaxis.title = 'Regular Order'\n",
    "#fig.update_yaxes(range = [0,100])\n",
    "fig"
   ]
  },
  {
   "cell_type": "code",
   "execution_count": 321,
   "id": "8cebf42e",
   "metadata": {},
   "outputs": [
    {
     "data": {
      "application/vnd.plotly.v1+json": {
       "config": {
        "plotlyServerURL": "https://plot.ly"
       },
       "data": [
        {
         "name": "NNC",
         "type": "scatter",
         "y": [
          0,
          0,
          0,
          0,
          0,
          0,
          0,
          0,
          0,
          0,
          0,
          0,
          0,
          0,
          0,
          0,
          0,
          0,
          52,
          144,
          283,
          1231,
          2880,
          3215,
          2770,
          5590,
          0,
          6490,
          23480,
          0,
          0,
          0,
          0,
          0,
          0,
          0,
          16654,
          68343,
          0,
          0,
          0,
          0,
          0,
          0,
          0,
          0,
          1929,
          0,
          0,
          0,
          0,
          35759,
          0,
          0,
          41246,
          0,
          3060,
          0,
          0,
          253,
          0,
          0,
          0,
          348,
          0,
          0,
          0,
          0,
          0,
          0,
          0,
          0,
          0,
          0,
          0,
          0,
          0,
          0,
          0,
          37942,
          16686,
          37821,
          21385,
          7793,
          0,
          0,
          0,
          0,
          0,
          0,
          0,
          0,
          0,
          0,
          9409,
          37282,
          577,
          0,
          0,
          0,
          0,
          16752,
          0,
          0,
          0,
          0,
          0,
          0,
          0,
          0,
          21255,
          8966,
          1194,
          19131,
          0
         ]
        },
        {
         "name": "CDI",
         "type": "scatter",
         "y": [
          0,
          0,
          0,
          0,
          0,
          0,
          0,
          0,
          0,
          0,
          0,
          0,
          0,
          0,
          0,
          0,
          0,
          0,
          0,
          317,
          3,
          704,
          5203,
          0,
          0,
          16768,
          0,
          0,
          48206,
          0,
          0,
          0,
          0,
          0,
          0,
          22924,
          0,
          86987,
          0,
          0,
          0,
          0,
          0,
          0,
          9583,
          0,
          0,
          0,
          0,
          0,
          0,
          23931,
          0,
          0,
          70784,
          0,
          0,
          0,
          0,
          45039,
          0,
          0,
          0,
          0,
          0,
          0,
          0,
          0,
          0,
          0,
          0,
          0,
          0,
          0,
          0,
          0,
          0,
          0,
          0,
          4358,
          0,
          90631,
          0,
          0,
          0,
          0,
          0,
          0,
          0,
          0,
          0,
          0,
          0,
          0,
          0,
          82311,
          0,
          0,
          0,
          0,
          0,
          2362,
          0,
          0,
          0,
          0,
          0,
          0,
          0,
          0,
          15585,
          770,
          0,
          39210,
          0
         ]
        }
       ],
       "layout": {
        "template": {
         "data": {
          "bar": [
           {
            "error_x": {
             "color": "#2a3f5f"
            },
            "error_y": {
             "color": "#2a3f5f"
            },
            "marker": {
             "line": {
              "color": "#E5ECF6",
              "width": 0.5
             }
            },
            "type": "bar"
           }
          ],
          "barpolar": [
           {
            "marker": {
             "line": {
              "color": "#E5ECF6",
              "width": 0.5
             }
            },
            "type": "barpolar"
           }
          ],
          "carpet": [
           {
            "aaxis": {
             "endlinecolor": "#2a3f5f",
             "gridcolor": "white",
             "linecolor": "white",
             "minorgridcolor": "white",
             "startlinecolor": "#2a3f5f"
            },
            "baxis": {
             "endlinecolor": "#2a3f5f",
             "gridcolor": "white",
             "linecolor": "white",
             "minorgridcolor": "white",
             "startlinecolor": "#2a3f5f"
            },
            "type": "carpet"
           }
          ],
          "choropleth": [
           {
            "colorbar": {
             "outlinewidth": 0,
             "ticks": ""
            },
            "type": "choropleth"
           }
          ],
          "contour": [
           {
            "colorbar": {
             "outlinewidth": 0,
             "ticks": ""
            },
            "colorscale": [
             [
              0,
              "#0d0887"
             ],
             [
              0.1111111111111111,
              "#46039f"
             ],
             [
              0.2222222222222222,
              "#7201a8"
             ],
             [
              0.3333333333333333,
              "#9c179e"
             ],
             [
              0.4444444444444444,
              "#bd3786"
             ],
             [
              0.5555555555555556,
              "#d8576b"
             ],
             [
              0.6666666666666666,
              "#ed7953"
             ],
             [
              0.7777777777777778,
              "#fb9f3a"
             ],
             [
              0.8888888888888888,
              "#fdca26"
             ],
             [
              1,
              "#f0f921"
             ]
            ],
            "type": "contour"
           }
          ],
          "contourcarpet": [
           {
            "colorbar": {
             "outlinewidth": 0,
             "ticks": ""
            },
            "type": "contourcarpet"
           }
          ],
          "heatmap": [
           {
            "colorbar": {
             "outlinewidth": 0,
             "ticks": ""
            },
            "colorscale": [
             [
              0,
              "#0d0887"
             ],
             [
              0.1111111111111111,
              "#46039f"
             ],
             [
              0.2222222222222222,
              "#7201a8"
             ],
             [
              0.3333333333333333,
              "#9c179e"
             ],
             [
              0.4444444444444444,
              "#bd3786"
             ],
             [
              0.5555555555555556,
              "#d8576b"
             ],
             [
              0.6666666666666666,
              "#ed7953"
             ],
             [
              0.7777777777777778,
              "#fb9f3a"
             ],
             [
              0.8888888888888888,
              "#fdca26"
             ],
             [
              1,
              "#f0f921"
             ]
            ],
            "type": "heatmap"
           }
          ],
          "heatmapgl": [
           {
            "colorbar": {
             "outlinewidth": 0,
             "ticks": ""
            },
            "colorscale": [
             [
              0,
              "#0d0887"
             ],
             [
              0.1111111111111111,
              "#46039f"
             ],
             [
              0.2222222222222222,
              "#7201a8"
             ],
             [
              0.3333333333333333,
              "#9c179e"
             ],
             [
              0.4444444444444444,
              "#bd3786"
             ],
             [
              0.5555555555555556,
              "#d8576b"
             ],
             [
              0.6666666666666666,
              "#ed7953"
             ],
             [
              0.7777777777777778,
              "#fb9f3a"
             ],
             [
              0.8888888888888888,
              "#fdca26"
             ],
             [
              1,
              "#f0f921"
             ]
            ],
            "type": "heatmapgl"
           }
          ],
          "histogram": [
           {
            "marker": {
             "colorbar": {
              "outlinewidth": 0,
              "ticks": ""
             }
            },
            "type": "histogram"
           }
          ],
          "histogram2d": [
           {
            "colorbar": {
             "outlinewidth": 0,
             "ticks": ""
            },
            "colorscale": [
             [
              0,
              "#0d0887"
             ],
             [
              0.1111111111111111,
              "#46039f"
             ],
             [
              0.2222222222222222,
              "#7201a8"
             ],
             [
              0.3333333333333333,
              "#9c179e"
             ],
             [
              0.4444444444444444,
              "#bd3786"
             ],
             [
              0.5555555555555556,
              "#d8576b"
             ],
             [
              0.6666666666666666,
              "#ed7953"
             ],
             [
              0.7777777777777778,
              "#fb9f3a"
             ],
             [
              0.8888888888888888,
              "#fdca26"
             ],
             [
              1,
              "#f0f921"
             ]
            ],
            "type": "histogram2d"
           }
          ],
          "histogram2dcontour": [
           {
            "colorbar": {
             "outlinewidth": 0,
             "ticks": ""
            },
            "colorscale": [
             [
              0,
              "#0d0887"
             ],
             [
              0.1111111111111111,
              "#46039f"
             ],
             [
              0.2222222222222222,
              "#7201a8"
             ],
             [
              0.3333333333333333,
              "#9c179e"
             ],
             [
              0.4444444444444444,
              "#bd3786"
             ],
             [
              0.5555555555555556,
              "#d8576b"
             ],
             [
              0.6666666666666666,
              "#ed7953"
             ],
             [
              0.7777777777777778,
              "#fb9f3a"
             ],
             [
              0.8888888888888888,
              "#fdca26"
             ],
             [
              1,
              "#f0f921"
             ]
            ],
            "type": "histogram2dcontour"
           }
          ],
          "mesh3d": [
           {
            "colorbar": {
             "outlinewidth": 0,
             "ticks": ""
            },
            "type": "mesh3d"
           }
          ],
          "parcoords": [
           {
            "line": {
             "colorbar": {
              "outlinewidth": 0,
              "ticks": ""
             }
            },
            "type": "parcoords"
           }
          ],
          "pie": [
           {
            "automargin": true,
            "type": "pie"
           }
          ],
          "scatter": [
           {
            "marker": {
             "colorbar": {
              "outlinewidth": 0,
              "ticks": ""
             }
            },
            "type": "scatter"
           }
          ],
          "scatter3d": [
           {
            "line": {
             "colorbar": {
              "outlinewidth": 0,
              "ticks": ""
             }
            },
            "marker": {
             "colorbar": {
              "outlinewidth": 0,
              "ticks": ""
             }
            },
            "type": "scatter3d"
           }
          ],
          "scattercarpet": [
           {
            "marker": {
             "colorbar": {
              "outlinewidth": 0,
              "ticks": ""
             }
            },
            "type": "scattercarpet"
           }
          ],
          "scattergeo": [
           {
            "marker": {
             "colorbar": {
              "outlinewidth": 0,
              "ticks": ""
             }
            },
            "type": "scattergeo"
           }
          ],
          "scattergl": [
           {
            "marker": {
             "colorbar": {
              "outlinewidth": 0,
              "ticks": ""
             }
            },
            "type": "scattergl"
           }
          ],
          "scattermapbox": [
           {
            "marker": {
             "colorbar": {
              "outlinewidth": 0,
              "ticks": ""
             }
            },
            "type": "scattermapbox"
           }
          ],
          "scatterpolar": [
           {
            "marker": {
             "colorbar": {
              "outlinewidth": 0,
              "ticks": ""
             }
            },
            "type": "scatterpolar"
           }
          ],
          "scatterpolargl": [
           {
            "marker": {
             "colorbar": {
              "outlinewidth": 0,
              "ticks": ""
             }
            },
            "type": "scatterpolargl"
           }
          ],
          "scatterternary": [
           {
            "marker": {
             "colorbar": {
              "outlinewidth": 0,
              "ticks": ""
             }
            },
            "type": "scatterternary"
           }
          ],
          "surface": [
           {
            "colorbar": {
             "outlinewidth": 0,
             "ticks": ""
            },
            "colorscale": [
             [
              0,
              "#0d0887"
             ],
             [
              0.1111111111111111,
              "#46039f"
             ],
             [
              0.2222222222222222,
              "#7201a8"
             ],
             [
              0.3333333333333333,
              "#9c179e"
             ],
             [
              0.4444444444444444,
              "#bd3786"
             ],
             [
              0.5555555555555556,
              "#d8576b"
             ],
             [
              0.6666666666666666,
              "#ed7953"
             ],
             [
              0.7777777777777778,
              "#fb9f3a"
             ],
             [
              0.8888888888888888,
              "#fdca26"
             ],
             [
              1,
              "#f0f921"
             ]
            ],
            "type": "surface"
           }
          ],
          "table": [
           {
            "cells": {
             "fill": {
              "color": "#EBF0F8"
             },
             "line": {
              "color": "white"
             }
            },
            "header": {
             "fill": {
              "color": "#C8D4E3"
             },
             "line": {
              "color": "white"
             }
            },
            "type": "table"
           }
          ]
         },
         "layout": {
          "annotationdefaults": {
           "arrowcolor": "#2a3f5f",
           "arrowhead": 0,
           "arrowwidth": 1
          },
          "autotypenumbers": "strict",
          "coloraxis": {
           "colorbar": {
            "outlinewidth": 0,
            "ticks": ""
           }
          },
          "colorscale": {
           "diverging": [
            [
             0,
             "#8e0152"
            ],
            [
             0.1,
             "#c51b7d"
            ],
            [
             0.2,
             "#de77ae"
            ],
            [
             0.3,
             "#f1b6da"
            ],
            [
             0.4,
             "#fde0ef"
            ],
            [
             0.5,
             "#f7f7f7"
            ],
            [
             0.6,
             "#e6f5d0"
            ],
            [
             0.7,
             "#b8e186"
            ],
            [
             0.8,
             "#7fbc41"
            ],
            [
             0.9,
             "#4d9221"
            ],
            [
             1,
             "#276419"
            ]
           ],
           "sequential": [
            [
             0,
             "#0d0887"
            ],
            [
             0.1111111111111111,
             "#46039f"
            ],
            [
             0.2222222222222222,
             "#7201a8"
            ],
            [
             0.3333333333333333,
             "#9c179e"
            ],
            [
             0.4444444444444444,
             "#bd3786"
            ],
            [
             0.5555555555555556,
             "#d8576b"
            ],
            [
             0.6666666666666666,
             "#ed7953"
            ],
            [
             0.7777777777777778,
             "#fb9f3a"
            ],
            [
             0.8888888888888888,
             "#fdca26"
            ],
            [
             1,
             "#f0f921"
            ]
           ],
           "sequentialminus": [
            [
             0,
             "#0d0887"
            ],
            [
             0.1111111111111111,
             "#46039f"
            ],
            [
             0.2222222222222222,
             "#7201a8"
            ],
            [
             0.3333333333333333,
             "#9c179e"
            ],
            [
             0.4444444444444444,
             "#bd3786"
            ],
            [
             0.5555555555555556,
             "#d8576b"
            ],
            [
             0.6666666666666666,
             "#ed7953"
            ],
            [
             0.7777777777777778,
             "#fb9f3a"
            ],
            [
             0.8888888888888888,
             "#fdca26"
            ],
            [
             1,
             "#f0f921"
            ]
           ]
          },
          "colorway": [
           "#636efa",
           "#EF553B",
           "#00cc96",
           "#ab63fa",
           "#FFA15A",
           "#19d3f3",
           "#FF6692",
           "#B6E880",
           "#FF97FF",
           "#FECB52"
          ],
          "font": {
           "color": "#2a3f5f"
          },
          "geo": {
           "bgcolor": "white",
           "lakecolor": "white",
           "landcolor": "#E5ECF6",
           "showlakes": true,
           "showland": true,
           "subunitcolor": "white"
          },
          "hoverlabel": {
           "align": "left"
          },
          "hovermode": "closest",
          "mapbox": {
           "style": "light"
          },
          "paper_bgcolor": "white",
          "plot_bgcolor": "#E5ECF6",
          "polar": {
           "angularaxis": {
            "gridcolor": "white",
            "linecolor": "white",
            "ticks": ""
           },
           "bgcolor": "#E5ECF6",
           "radialaxis": {
            "gridcolor": "white",
            "linecolor": "white",
            "ticks": ""
           }
          },
          "scene": {
           "xaxis": {
            "backgroundcolor": "#E5ECF6",
            "gridcolor": "white",
            "gridwidth": 2,
            "linecolor": "white",
            "showbackground": true,
            "ticks": "",
            "zerolinecolor": "white"
           },
           "yaxis": {
            "backgroundcolor": "#E5ECF6",
            "gridcolor": "white",
            "gridwidth": 2,
            "linecolor": "white",
            "showbackground": true,
            "ticks": "",
            "zerolinecolor": "white"
           },
           "zaxis": {
            "backgroundcolor": "#E5ECF6",
            "gridcolor": "white",
            "gridwidth": 2,
            "linecolor": "white",
            "showbackground": true,
            "ticks": "",
            "zerolinecolor": "white"
           }
          },
          "shapedefaults": {
           "line": {
            "color": "#2a3f5f"
           }
          },
          "ternary": {
           "aaxis": {
            "gridcolor": "white",
            "linecolor": "white",
            "ticks": ""
           },
           "baxis": {
            "gridcolor": "white",
            "linecolor": "white",
            "ticks": ""
           },
           "bgcolor": "#E5ECF6",
           "caxis": {
            "gridcolor": "white",
            "linecolor": "white",
            "ticks": ""
           }
          },
          "title": {
           "x": 0.05
          },
          "xaxis": {
           "automargin": true,
           "gridcolor": "white",
           "linecolor": "white",
           "ticks": "",
           "title": {
            "standoff": 15
           },
           "zerolinecolor": "white",
           "zerolinewidth": 2
          },
          "yaxis": {
           "automargin": true,
           "gridcolor": "white",
           "linecolor": "white",
           "ticks": "",
           "title": {
            "standoff": 15
           },
           "zerolinecolor": "white",
           "zerolinewidth": 2
          }
         }
        },
        "xaxis": {
         "title": {
          "text": "Timestep"
         }
        },
        "yaxis": {
         "title": {
          "text": "Expedited Order"
         }
        }
       }
      },
      "text/html": [
       "<div>                            <div id=\"d41ccd3f-c310-4966-adcb-c1f373d34f3f\" class=\"plotly-graph-div\" style=\"height:525px; width:100%;\"></div>            <script type=\"text/javascript\">                require([\"plotly\"], function(Plotly) {                    window.PLOTLYENV=window.PLOTLYENV || {};                                    if (document.getElementById(\"d41ccd3f-c310-4966-adcb-c1f373d34f3f\")) {                    Plotly.newPlot(                        \"d41ccd3f-c310-4966-adcb-c1f373d34f3f\",                        [{\"name\": \"NNC\", \"type\": \"scatter\", \"y\": [0.0, 0.0, 0.0, 0.0, 0.0, 0.0, 0.0, 0.0, 0.0, 0.0, 0.0, 0.0, 0.0, 0.0, 0.0, 0.0, 0.0, 0.0, 52.0, 144.0, 283.0, 1231.0, 2880.0, 3215.0, 2770.0, 5590.0, 0.0, 6490.0, 23480.0, 0.0, 0.0, 0.0, 0.0, 0.0, 0.0, 0.0, 16654.0, 68343.0, 0.0, 0.0, 0.0, 0.0, 0.0, 0.0, 0.0, 0.0, 1929.0, 0.0, 0.0, 0.0, 0.0, 35759.0, 0.0, 0.0, 41246.0, 0.0, 3060.0, 0.0, 0.0, 253.0, 0.0, 0.0, 0.0, 348.0, 0.0, 0.0, 0.0, 0.0, 0.0, 0.0, 0.0, 0.0, 0.0, 0.0, 0.0, 0.0, 0.0, 0.0, 0.0, 37942.0, 16686.0, 37821.0, 21385.0, 7793.0, 0.0, 0.0, 0.0, 0.0, 0.0, 0.0, 0.0, 0.0, 0.0, 0.0, 9409.0, 37282.0, 577.0, 0.0, 0.0, 0.0, 0.0, 16752.0, 0.0, 0.0, 0.0, 0.0, 0.0, 0.0, 0.0, 0.0, 21255.0, 8966.0, 1194.0, 19131.0, 0.0]}, {\"name\": \"CDI\", \"type\": \"scatter\", \"y\": [0, 0, 0, 0, 0, 0, 0, 0, 0, 0, 0, 0, 0, 0, 0, 0, 0, 0, 0, 317, 3, 704, 5203, 0, 0, 16768, 0, 0, 48206, 0, 0, 0, 0, 0, 0, 22924, 0, 86987, 0, 0, 0, 0, 0, 0, 9583, 0, 0, 0, 0, 0, 0, 23931, 0, 0, 70784, 0, 0, 0, 0, 45039, 0, 0, 0, 0, 0, 0, 0, 0, 0, 0, 0, 0, 0, 0, 0, 0, 0, 0, 0, 4358, 0, 90631, 0, 0, 0, 0, 0, 0, 0, 0, 0, 0, 0, 0, 0, 82311, 0, 0, 0, 0, 0, 2362, 0, 0, 0, 0, 0, 0, 0, 0, 15585, 770, 0, 39210, 0]}],                        {\"template\": {\"data\": {\"bar\": [{\"error_x\": {\"color\": \"#2a3f5f\"}, \"error_y\": {\"color\": \"#2a3f5f\"}, \"marker\": {\"line\": {\"color\": \"#E5ECF6\", \"width\": 0.5}}, \"type\": \"bar\"}], \"barpolar\": [{\"marker\": {\"line\": {\"color\": \"#E5ECF6\", \"width\": 0.5}}, \"type\": \"barpolar\"}], \"carpet\": [{\"aaxis\": {\"endlinecolor\": \"#2a3f5f\", \"gridcolor\": \"white\", \"linecolor\": \"white\", \"minorgridcolor\": \"white\", \"startlinecolor\": \"#2a3f5f\"}, \"baxis\": {\"endlinecolor\": \"#2a3f5f\", \"gridcolor\": \"white\", \"linecolor\": \"white\", \"minorgridcolor\": \"white\", \"startlinecolor\": \"#2a3f5f\"}, \"type\": \"carpet\"}], \"choropleth\": [{\"colorbar\": {\"outlinewidth\": 0, \"ticks\": \"\"}, \"type\": \"choropleth\"}], \"contour\": [{\"colorbar\": {\"outlinewidth\": 0, \"ticks\": \"\"}, \"colorscale\": [[0.0, \"#0d0887\"], [0.1111111111111111, \"#46039f\"], [0.2222222222222222, \"#7201a8\"], [0.3333333333333333, \"#9c179e\"], [0.4444444444444444, \"#bd3786\"], [0.5555555555555556, \"#d8576b\"], [0.6666666666666666, \"#ed7953\"], [0.7777777777777778, \"#fb9f3a\"], [0.8888888888888888, \"#fdca26\"], [1.0, \"#f0f921\"]], \"type\": \"contour\"}], \"contourcarpet\": [{\"colorbar\": {\"outlinewidth\": 0, \"ticks\": \"\"}, \"type\": \"contourcarpet\"}], \"heatmap\": [{\"colorbar\": {\"outlinewidth\": 0, \"ticks\": \"\"}, \"colorscale\": [[0.0, \"#0d0887\"], [0.1111111111111111, \"#46039f\"], [0.2222222222222222, \"#7201a8\"], [0.3333333333333333, \"#9c179e\"], [0.4444444444444444, \"#bd3786\"], [0.5555555555555556, \"#d8576b\"], [0.6666666666666666, \"#ed7953\"], [0.7777777777777778, \"#fb9f3a\"], [0.8888888888888888, \"#fdca26\"], [1.0, \"#f0f921\"]], \"type\": \"heatmap\"}], \"heatmapgl\": [{\"colorbar\": {\"outlinewidth\": 0, \"ticks\": \"\"}, \"colorscale\": [[0.0, \"#0d0887\"], [0.1111111111111111, \"#46039f\"], [0.2222222222222222, \"#7201a8\"], [0.3333333333333333, \"#9c179e\"], [0.4444444444444444, \"#bd3786\"], [0.5555555555555556, \"#d8576b\"], [0.6666666666666666, \"#ed7953\"], [0.7777777777777778, \"#fb9f3a\"], [0.8888888888888888, \"#fdca26\"], [1.0, \"#f0f921\"]], \"type\": \"heatmapgl\"}], \"histogram\": [{\"marker\": {\"colorbar\": {\"outlinewidth\": 0, \"ticks\": \"\"}}, \"type\": \"histogram\"}], \"histogram2d\": [{\"colorbar\": {\"outlinewidth\": 0, \"ticks\": \"\"}, \"colorscale\": [[0.0, \"#0d0887\"], [0.1111111111111111, \"#46039f\"], [0.2222222222222222, \"#7201a8\"], [0.3333333333333333, \"#9c179e\"], [0.4444444444444444, \"#bd3786\"], [0.5555555555555556, \"#d8576b\"], [0.6666666666666666, \"#ed7953\"], [0.7777777777777778, \"#fb9f3a\"], [0.8888888888888888, \"#fdca26\"], [1.0, \"#f0f921\"]], \"type\": \"histogram2d\"}], \"histogram2dcontour\": [{\"colorbar\": {\"outlinewidth\": 0, \"ticks\": \"\"}, \"colorscale\": [[0.0, \"#0d0887\"], [0.1111111111111111, \"#46039f\"], [0.2222222222222222, \"#7201a8\"], [0.3333333333333333, \"#9c179e\"], [0.4444444444444444, \"#bd3786\"], [0.5555555555555556, \"#d8576b\"], [0.6666666666666666, \"#ed7953\"], [0.7777777777777778, \"#fb9f3a\"], [0.8888888888888888, \"#fdca26\"], [1.0, \"#f0f921\"]], \"type\": \"histogram2dcontour\"}], \"mesh3d\": [{\"colorbar\": {\"outlinewidth\": 0, \"ticks\": \"\"}, \"type\": \"mesh3d\"}], \"parcoords\": [{\"line\": {\"colorbar\": {\"outlinewidth\": 0, \"ticks\": \"\"}}, \"type\": \"parcoords\"}], \"pie\": [{\"automargin\": true, \"type\": \"pie\"}], \"scatter\": [{\"marker\": {\"colorbar\": {\"outlinewidth\": 0, \"ticks\": \"\"}}, \"type\": \"scatter\"}], \"scatter3d\": [{\"line\": {\"colorbar\": {\"outlinewidth\": 0, \"ticks\": \"\"}}, \"marker\": {\"colorbar\": {\"outlinewidth\": 0, \"ticks\": \"\"}}, \"type\": \"scatter3d\"}], \"scattercarpet\": [{\"marker\": {\"colorbar\": {\"outlinewidth\": 0, \"ticks\": \"\"}}, \"type\": \"scattercarpet\"}], \"scattergeo\": [{\"marker\": {\"colorbar\": {\"outlinewidth\": 0, \"ticks\": \"\"}}, \"type\": \"scattergeo\"}], \"scattergl\": [{\"marker\": {\"colorbar\": {\"outlinewidth\": 0, \"ticks\": \"\"}}, \"type\": \"scattergl\"}], \"scattermapbox\": [{\"marker\": {\"colorbar\": {\"outlinewidth\": 0, \"ticks\": \"\"}}, \"type\": \"scattermapbox\"}], \"scatterpolar\": [{\"marker\": {\"colorbar\": {\"outlinewidth\": 0, \"ticks\": \"\"}}, \"type\": \"scatterpolar\"}], \"scatterpolargl\": [{\"marker\": {\"colorbar\": {\"outlinewidth\": 0, \"ticks\": \"\"}}, \"type\": \"scatterpolargl\"}], \"scatterternary\": [{\"marker\": {\"colorbar\": {\"outlinewidth\": 0, \"ticks\": \"\"}}, \"type\": \"scatterternary\"}], \"surface\": [{\"colorbar\": {\"outlinewidth\": 0, \"ticks\": \"\"}, \"colorscale\": [[0.0, \"#0d0887\"], [0.1111111111111111, \"#46039f\"], [0.2222222222222222, \"#7201a8\"], [0.3333333333333333, \"#9c179e\"], [0.4444444444444444, \"#bd3786\"], [0.5555555555555556, \"#d8576b\"], [0.6666666666666666, \"#ed7953\"], [0.7777777777777778, \"#fb9f3a\"], [0.8888888888888888, \"#fdca26\"], [1.0, \"#f0f921\"]], \"type\": \"surface\"}], \"table\": [{\"cells\": {\"fill\": {\"color\": \"#EBF0F8\"}, \"line\": {\"color\": \"white\"}}, \"header\": {\"fill\": {\"color\": \"#C8D4E3\"}, \"line\": {\"color\": \"white\"}}, \"type\": \"table\"}]}, \"layout\": {\"annotationdefaults\": {\"arrowcolor\": \"#2a3f5f\", \"arrowhead\": 0, \"arrowwidth\": 1}, \"autotypenumbers\": \"strict\", \"coloraxis\": {\"colorbar\": {\"outlinewidth\": 0, \"ticks\": \"\"}}, \"colorscale\": {\"diverging\": [[0, \"#8e0152\"], [0.1, \"#c51b7d\"], [0.2, \"#de77ae\"], [0.3, \"#f1b6da\"], [0.4, \"#fde0ef\"], [0.5, \"#f7f7f7\"], [0.6, \"#e6f5d0\"], [0.7, \"#b8e186\"], [0.8, \"#7fbc41\"], [0.9, \"#4d9221\"], [1, \"#276419\"]], \"sequential\": [[0.0, \"#0d0887\"], [0.1111111111111111, \"#46039f\"], [0.2222222222222222, \"#7201a8\"], [0.3333333333333333, \"#9c179e\"], [0.4444444444444444, \"#bd3786\"], [0.5555555555555556, \"#d8576b\"], [0.6666666666666666, \"#ed7953\"], [0.7777777777777778, \"#fb9f3a\"], [0.8888888888888888, \"#fdca26\"], [1.0, \"#f0f921\"]], \"sequentialminus\": [[0.0, \"#0d0887\"], [0.1111111111111111, \"#46039f\"], [0.2222222222222222, \"#7201a8\"], [0.3333333333333333, \"#9c179e\"], [0.4444444444444444, \"#bd3786\"], [0.5555555555555556, \"#d8576b\"], [0.6666666666666666, \"#ed7953\"], [0.7777777777777778, \"#fb9f3a\"], [0.8888888888888888, \"#fdca26\"], [1.0, \"#f0f921\"]]}, \"colorway\": [\"#636efa\", \"#EF553B\", \"#00cc96\", \"#ab63fa\", \"#FFA15A\", \"#19d3f3\", \"#FF6692\", \"#B6E880\", \"#FF97FF\", \"#FECB52\"], \"font\": {\"color\": \"#2a3f5f\"}, \"geo\": {\"bgcolor\": \"white\", \"lakecolor\": \"white\", \"landcolor\": \"#E5ECF6\", \"showlakes\": true, \"showland\": true, \"subunitcolor\": \"white\"}, \"hoverlabel\": {\"align\": \"left\"}, \"hovermode\": \"closest\", \"mapbox\": {\"style\": \"light\"}, \"paper_bgcolor\": \"white\", \"plot_bgcolor\": \"#E5ECF6\", \"polar\": {\"angularaxis\": {\"gridcolor\": \"white\", \"linecolor\": \"white\", \"ticks\": \"\"}, \"bgcolor\": \"#E5ECF6\", \"radialaxis\": {\"gridcolor\": \"white\", \"linecolor\": \"white\", \"ticks\": \"\"}}, \"scene\": {\"xaxis\": {\"backgroundcolor\": \"#E5ECF6\", \"gridcolor\": \"white\", \"gridwidth\": 2, \"linecolor\": \"white\", \"showbackground\": true, \"ticks\": \"\", \"zerolinecolor\": \"white\"}, \"yaxis\": {\"backgroundcolor\": \"#E5ECF6\", \"gridcolor\": \"white\", \"gridwidth\": 2, \"linecolor\": \"white\", \"showbackground\": true, \"ticks\": \"\", \"zerolinecolor\": \"white\"}, \"zaxis\": {\"backgroundcolor\": \"#E5ECF6\", \"gridcolor\": \"white\", \"gridwidth\": 2, \"linecolor\": \"white\", \"showbackground\": true, \"ticks\": \"\", \"zerolinecolor\": \"white\"}}, \"shapedefaults\": {\"line\": {\"color\": \"#2a3f5f\"}}, \"ternary\": {\"aaxis\": {\"gridcolor\": \"white\", \"linecolor\": \"white\", \"ticks\": \"\"}, \"baxis\": {\"gridcolor\": \"white\", \"linecolor\": \"white\", \"ticks\": \"\"}, \"bgcolor\": \"#E5ECF6\", \"caxis\": {\"gridcolor\": \"white\", \"linecolor\": \"white\", \"ticks\": \"\"}}, \"title\": {\"x\": 0.05}, \"xaxis\": {\"automargin\": true, \"gridcolor\": \"white\", \"linecolor\": \"white\", \"ticks\": \"\", \"title\": {\"standoff\": 15}, \"zerolinecolor\": \"white\", \"zerolinewidth\": 2}, \"yaxis\": {\"automargin\": true, \"gridcolor\": \"white\", \"linecolor\": \"white\", \"ticks\": \"\", \"title\": {\"standoff\": 15}, \"zerolinecolor\": \"white\", \"zerolinewidth\": 2}}}, \"xaxis\": {\"title\": {\"text\": \"Timestep\"}}, \"yaxis\": {\"title\": {\"text\": \"Expedited Order\"}}},                        {\"responsive\": true}                    ).then(function(){\n",
       "                            \n",
       "var gd = document.getElementById('d41ccd3f-c310-4966-adcb-c1f373d34f3f');\n",
       "var x = new MutationObserver(function (mutations, observer) {{\n",
       "        var display = window.getComputedStyle(gd).display;\n",
       "        if (!display || display === 'none') {{\n",
       "            console.log([gd, 'removed!']);\n",
       "            Plotly.purge(gd);\n",
       "            observer.disconnect();\n",
       "        }}\n",
       "}});\n",
       "\n",
       "// Listen for the removal of the full notebook cells\n",
       "var notebookContainer = gd.closest('#notebook-container');\n",
       "if (notebookContainer) {{\n",
       "    x.observe(notebookContainer, {childList: true});\n",
       "}}\n",
       "\n",
       "// Listen for the clearing of the current output cell\n",
       "var outputEl = gd.closest('.output');\n",
       "if (outputEl) {{\n",
       "    x.observe(outputEl, {childList: true});\n",
       "}}\n",
       "\n",
       "                        })                };                });            </script>        </div>"
      ]
     },
     "metadata": {},
     "output_type": "display_data"
    }
   ],
   "source": [
    "a = go.Scatter(y=[x.item() for x in nn_qe[1:]], name='NNC')\n",
    "b = go.Scatter(y=cdi_qe, name='CDI')\n",
    "fig = go.Figure([a,b])\n",
    "fig.layout.xaxis.title = 'Timestep'\n",
    "fig.layout.yaxis.title = 'Expedited Order'\n",
    "fig"
   ]
  },
  {
   "cell_type": "code",
   "execution_count": 322,
   "id": "138a4f32",
   "metadata": {},
   "outputs": [
    {
     "data": {
      "application/vnd.plotly.v1+json": {
       "config": {
        "plotlyServerURL": "https://plot.ly"
       },
       "data": [
        {
         "name": "NNC",
         "type": "scatter",
         "y": [
          20,
          20,
          20,
          20,
          20,
          20,
          20,
          20,
          20,
          20,
          20,
          20,
          20,
          20,
          20,
          20,
          20,
          20,
          1320,
          62280,
          6850,
          31485,
          74605,
          101785,
          115040,
          187010,
          115050,
          253495,
          746880,
          282995,
          312130,
          425760,
          565885,
          512845,
          532875,
          245425,
          469635,
          1988965,
          614540,
          910060,
          963760,
          1020840,
          873395,
          207295,
          247865,
          289965,
          428960,
          579410,
          592095,
          480525,
          238570,
          1152110,
          493670,
          296990,
          1153585,
          174495,
          449900,
          464210,
          624960,
          598830,
          620565,
          517440,
          370145,
          818875,
          880705,
          1139685,
          1140215,
          754565,
          863305,
          816935,
          1152690,
          751160,
          852655,
          1014615,
          1003175,
          1386660,
          845650,
          702310,
          91155,
          1095175,
          710150,
          948615,
          519790,
          846610,
          595165,
          905630,
          1229520,
          1597400,
          1917065,
          908295,
          817700,
          792070,
          765765,
          103900,
          334505,
          983560,
          422310,
          571035,
          726785,
          447070,
          235385,
          689300,
          464690,
          497945,
          388380,
          337445,
          329305,
          322045,
          196975,
          2511135,
          456580,
          251635,
          40075,
          635770,
          328005
         ]
        },
        {
         "name": "CDI",
         "type": "scatter",
         "y": [
          20,
          20,
          20,
          20,
          20,
          20,
          20,
          20,
          20,
          20,
          20,
          20,
          20,
          20,
          20,
          20,
          20,
          20,
          20,
          6345,
          1495,
          19095,
          132990,
          54090,
          83365,
          458460,
          164615,
          167825,
          1361790,
          553495,
          607845,
          523205,
          730515,
          564505,
          546300,
          808820,
          463685,
          2677265,
          1079010,
          1344125,
          1333560,
          1331270,
          1097850,
          332915,
          545865,
          444240,
          598775,
          722105,
          849245,
          733370,
          448980,
          1159440,
          814360,
          559665,
          2046410,
          747790,
          846405,
          555220,
          769510,
          1746810,
          1250525,
          1121505,
          647045,
          1156950,
          1095080,
          1492120,
          1205510,
          735270,
          991500,
          1109490,
          1502335,
          810100,
          1029025,
          1088930,
          1429230,
          1777100,
          973520,
          814995,
          260250,
          636075,
          394025,
          2341190,
          573835,
          1184615,
          658220,
          1111705,
          1364915,
          2076200,
          2123870,
          978295,
          788275,
          654270,
          726280,
          9460,
          173970,
          2060710,
          866685,
          1105920,
          1041055,
          721025,
          499910,
          533185,
          679190,
          621350,
          417470,
          327680,
          320870,
          310265,
          262425,
          148875,
          431495,
          106970,
          55690,
          1127760,
          521620
         ]
        }
       ],
       "layout": {
        "shapes": [
         {
          "type": "line",
          "x0": 0,
          "x1": 1,
          "xref": "x domain",
          "y0": 526382.5625,
          "y1": 526382.5625,
          "yref": "y"
         },
         {
          "line": {
           "dash": "dash"
          },
          "type": "line",
          "x0": 0,
          "x1": 1,
          "xref": "x domain",
          "y0": 682424.6875,
          "y1": 682424.6875,
          "yref": "y"
         }
        ],
        "template": {
         "data": {
          "bar": [
           {
            "error_x": {
             "color": "#2a3f5f"
            },
            "error_y": {
             "color": "#2a3f5f"
            },
            "marker": {
             "line": {
              "color": "#E5ECF6",
              "width": 0.5
             }
            },
            "type": "bar"
           }
          ],
          "barpolar": [
           {
            "marker": {
             "line": {
              "color": "#E5ECF6",
              "width": 0.5
             }
            },
            "type": "barpolar"
           }
          ],
          "carpet": [
           {
            "aaxis": {
             "endlinecolor": "#2a3f5f",
             "gridcolor": "white",
             "linecolor": "white",
             "minorgridcolor": "white",
             "startlinecolor": "#2a3f5f"
            },
            "baxis": {
             "endlinecolor": "#2a3f5f",
             "gridcolor": "white",
             "linecolor": "white",
             "minorgridcolor": "white",
             "startlinecolor": "#2a3f5f"
            },
            "type": "carpet"
           }
          ],
          "choropleth": [
           {
            "colorbar": {
             "outlinewidth": 0,
             "ticks": ""
            },
            "type": "choropleth"
           }
          ],
          "contour": [
           {
            "colorbar": {
             "outlinewidth": 0,
             "ticks": ""
            },
            "colorscale": [
             [
              0,
              "#0d0887"
             ],
             [
              0.1111111111111111,
              "#46039f"
             ],
             [
              0.2222222222222222,
              "#7201a8"
             ],
             [
              0.3333333333333333,
              "#9c179e"
             ],
             [
              0.4444444444444444,
              "#bd3786"
             ],
             [
              0.5555555555555556,
              "#d8576b"
             ],
             [
              0.6666666666666666,
              "#ed7953"
             ],
             [
              0.7777777777777778,
              "#fb9f3a"
             ],
             [
              0.8888888888888888,
              "#fdca26"
             ],
             [
              1,
              "#f0f921"
             ]
            ],
            "type": "contour"
           }
          ],
          "contourcarpet": [
           {
            "colorbar": {
             "outlinewidth": 0,
             "ticks": ""
            },
            "type": "contourcarpet"
           }
          ],
          "heatmap": [
           {
            "colorbar": {
             "outlinewidth": 0,
             "ticks": ""
            },
            "colorscale": [
             [
              0,
              "#0d0887"
             ],
             [
              0.1111111111111111,
              "#46039f"
             ],
             [
              0.2222222222222222,
              "#7201a8"
             ],
             [
              0.3333333333333333,
              "#9c179e"
             ],
             [
              0.4444444444444444,
              "#bd3786"
             ],
             [
              0.5555555555555556,
              "#d8576b"
             ],
             [
              0.6666666666666666,
              "#ed7953"
             ],
             [
              0.7777777777777778,
              "#fb9f3a"
             ],
             [
              0.8888888888888888,
              "#fdca26"
             ],
             [
              1,
              "#f0f921"
             ]
            ],
            "type": "heatmap"
           }
          ],
          "heatmapgl": [
           {
            "colorbar": {
             "outlinewidth": 0,
             "ticks": ""
            },
            "colorscale": [
             [
              0,
              "#0d0887"
             ],
             [
              0.1111111111111111,
              "#46039f"
             ],
             [
              0.2222222222222222,
              "#7201a8"
             ],
             [
              0.3333333333333333,
              "#9c179e"
             ],
             [
              0.4444444444444444,
              "#bd3786"
             ],
             [
              0.5555555555555556,
              "#d8576b"
             ],
             [
              0.6666666666666666,
              "#ed7953"
             ],
             [
              0.7777777777777778,
              "#fb9f3a"
             ],
             [
              0.8888888888888888,
              "#fdca26"
             ],
             [
              1,
              "#f0f921"
             ]
            ],
            "type": "heatmapgl"
           }
          ],
          "histogram": [
           {
            "marker": {
             "colorbar": {
              "outlinewidth": 0,
              "ticks": ""
             }
            },
            "type": "histogram"
           }
          ],
          "histogram2d": [
           {
            "colorbar": {
             "outlinewidth": 0,
             "ticks": ""
            },
            "colorscale": [
             [
              0,
              "#0d0887"
             ],
             [
              0.1111111111111111,
              "#46039f"
             ],
             [
              0.2222222222222222,
              "#7201a8"
             ],
             [
              0.3333333333333333,
              "#9c179e"
             ],
             [
              0.4444444444444444,
              "#bd3786"
             ],
             [
              0.5555555555555556,
              "#d8576b"
             ],
             [
              0.6666666666666666,
              "#ed7953"
             ],
             [
              0.7777777777777778,
              "#fb9f3a"
             ],
             [
              0.8888888888888888,
              "#fdca26"
             ],
             [
              1,
              "#f0f921"
             ]
            ],
            "type": "histogram2d"
           }
          ],
          "histogram2dcontour": [
           {
            "colorbar": {
             "outlinewidth": 0,
             "ticks": ""
            },
            "colorscale": [
             [
              0,
              "#0d0887"
             ],
             [
              0.1111111111111111,
              "#46039f"
             ],
             [
              0.2222222222222222,
              "#7201a8"
             ],
             [
              0.3333333333333333,
              "#9c179e"
             ],
             [
              0.4444444444444444,
              "#bd3786"
             ],
             [
              0.5555555555555556,
              "#d8576b"
             ],
             [
              0.6666666666666666,
              "#ed7953"
             ],
             [
              0.7777777777777778,
              "#fb9f3a"
             ],
             [
              0.8888888888888888,
              "#fdca26"
             ],
             [
              1,
              "#f0f921"
             ]
            ],
            "type": "histogram2dcontour"
           }
          ],
          "mesh3d": [
           {
            "colorbar": {
             "outlinewidth": 0,
             "ticks": ""
            },
            "type": "mesh3d"
           }
          ],
          "parcoords": [
           {
            "line": {
             "colorbar": {
              "outlinewidth": 0,
              "ticks": ""
             }
            },
            "type": "parcoords"
           }
          ],
          "pie": [
           {
            "automargin": true,
            "type": "pie"
           }
          ],
          "scatter": [
           {
            "marker": {
             "colorbar": {
              "outlinewidth": 0,
              "ticks": ""
             }
            },
            "type": "scatter"
           }
          ],
          "scatter3d": [
           {
            "line": {
             "colorbar": {
              "outlinewidth": 0,
              "ticks": ""
             }
            },
            "marker": {
             "colorbar": {
              "outlinewidth": 0,
              "ticks": ""
             }
            },
            "type": "scatter3d"
           }
          ],
          "scattercarpet": [
           {
            "marker": {
             "colorbar": {
              "outlinewidth": 0,
              "ticks": ""
             }
            },
            "type": "scattercarpet"
           }
          ],
          "scattergeo": [
           {
            "marker": {
             "colorbar": {
              "outlinewidth": 0,
              "ticks": ""
             }
            },
            "type": "scattergeo"
           }
          ],
          "scattergl": [
           {
            "marker": {
             "colorbar": {
              "outlinewidth": 0,
              "ticks": ""
             }
            },
            "type": "scattergl"
           }
          ],
          "scattermapbox": [
           {
            "marker": {
             "colorbar": {
              "outlinewidth": 0,
              "ticks": ""
             }
            },
            "type": "scattermapbox"
           }
          ],
          "scatterpolar": [
           {
            "marker": {
             "colorbar": {
              "outlinewidth": 0,
              "ticks": ""
             }
            },
            "type": "scatterpolar"
           }
          ],
          "scatterpolargl": [
           {
            "marker": {
             "colorbar": {
              "outlinewidth": 0,
              "ticks": ""
             }
            },
            "type": "scatterpolargl"
           }
          ],
          "scatterternary": [
           {
            "marker": {
             "colorbar": {
              "outlinewidth": 0,
              "ticks": ""
             }
            },
            "type": "scatterternary"
           }
          ],
          "surface": [
           {
            "colorbar": {
             "outlinewidth": 0,
             "ticks": ""
            },
            "colorscale": [
             [
              0,
              "#0d0887"
             ],
             [
              0.1111111111111111,
              "#46039f"
             ],
             [
              0.2222222222222222,
              "#7201a8"
             ],
             [
              0.3333333333333333,
              "#9c179e"
             ],
             [
              0.4444444444444444,
              "#bd3786"
             ],
             [
              0.5555555555555556,
              "#d8576b"
             ],
             [
              0.6666666666666666,
              "#ed7953"
             ],
             [
              0.7777777777777778,
              "#fb9f3a"
             ],
             [
              0.8888888888888888,
              "#fdca26"
             ],
             [
              1,
              "#f0f921"
             ]
            ],
            "type": "surface"
           }
          ],
          "table": [
           {
            "cells": {
             "fill": {
              "color": "#EBF0F8"
             },
             "line": {
              "color": "white"
             }
            },
            "header": {
             "fill": {
              "color": "#C8D4E3"
             },
             "line": {
              "color": "white"
             }
            },
            "type": "table"
           }
          ]
         },
         "layout": {
          "annotationdefaults": {
           "arrowcolor": "#2a3f5f",
           "arrowhead": 0,
           "arrowwidth": 1
          },
          "autotypenumbers": "strict",
          "coloraxis": {
           "colorbar": {
            "outlinewidth": 0,
            "ticks": ""
           }
          },
          "colorscale": {
           "diverging": [
            [
             0,
             "#8e0152"
            ],
            [
             0.1,
             "#c51b7d"
            ],
            [
             0.2,
             "#de77ae"
            ],
            [
             0.3,
             "#f1b6da"
            ],
            [
             0.4,
             "#fde0ef"
            ],
            [
             0.5,
             "#f7f7f7"
            ],
            [
             0.6,
             "#e6f5d0"
            ],
            [
             0.7,
             "#b8e186"
            ],
            [
             0.8,
             "#7fbc41"
            ],
            [
             0.9,
             "#4d9221"
            ],
            [
             1,
             "#276419"
            ]
           ],
           "sequential": [
            [
             0,
             "#0d0887"
            ],
            [
             0.1111111111111111,
             "#46039f"
            ],
            [
             0.2222222222222222,
             "#7201a8"
            ],
            [
             0.3333333333333333,
             "#9c179e"
            ],
            [
             0.4444444444444444,
             "#bd3786"
            ],
            [
             0.5555555555555556,
             "#d8576b"
            ],
            [
             0.6666666666666666,
             "#ed7953"
            ],
            [
             0.7777777777777778,
             "#fb9f3a"
            ],
            [
             0.8888888888888888,
             "#fdca26"
            ],
            [
             1,
             "#f0f921"
            ]
           ],
           "sequentialminus": [
            [
             0,
             "#0d0887"
            ],
            [
             0.1111111111111111,
             "#46039f"
            ],
            [
             0.2222222222222222,
             "#7201a8"
            ],
            [
             0.3333333333333333,
             "#9c179e"
            ],
            [
             0.4444444444444444,
             "#bd3786"
            ],
            [
             0.5555555555555556,
             "#d8576b"
            ],
            [
             0.6666666666666666,
             "#ed7953"
            ],
            [
             0.7777777777777778,
             "#fb9f3a"
            ],
            [
             0.8888888888888888,
             "#fdca26"
            ],
            [
             1,
             "#f0f921"
            ]
           ]
          },
          "colorway": [
           "#636efa",
           "#EF553B",
           "#00cc96",
           "#ab63fa",
           "#FFA15A",
           "#19d3f3",
           "#FF6692",
           "#B6E880",
           "#FF97FF",
           "#FECB52"
          ],
          "font": {
           "color": "#2a3f5f"
          },
          "geo": {
           "bgcolor": "white",
           "lakecolor": "white",
           "landcolor": "#E5ECF6",
           "showlakes": true,
           "showland": true,
           "subunitcolor": "white"
          },
          "hoverlabel": {
           "align": "left"
          },
          "hovermode": "closest",
          "mapbox": {
           "style": "light"
          },
          "paper_bgcolor": "white",
          "plot_bgcolor": "#E5ECF6",
          "polar": {
           "angularaxis": {
            "gridcolor": "white",
            "linecolor": "white",
            "ticks": ""
           },
           "bgcolor": "#E5ECF6",
           "radialaxis": {
            "gridcolor": "white",
            "linecolor": "white",
            "ticks": ""
           }
          },
          "scene": {
           "xaxis": {
            "backgroundcolor": "#E5ECF6",
            "gridcolor": "white",
            "gridwidth": 2,
            "linecolor": "white",
            "showbackground": true,
            "ticks": "",
            "zerolinecolor": "white"
           },
           "yaxis": {
            "backgroundcolor": "#E5ECF6",
            "gridcolor": "white",
            "gridwidth": 2,
            "linecolor": "white",
            "showbackground": true,
            "ticks": "",
            "zerolinecolor": "white"
           },
           "zaxis": {
            "backgroundcolor": "#E5ECF6",
            "gridcolor": "white",
            "gridwidth": 2,
            "linecolor": "white",
            "showbackground": true,
            "ticks": "",
            "zerolinecolor": "white"
           }
          },
          "shapedefaults": {
           "line": {
            "color": "#2a3f5f"
           }
          },
          "ternary": {
           "aaxis": {
            "gridcolor": "white",
            "linecolor": "white",
            "ticks": ""
           },
           "baxis": {
            "gridcolor": "white",
            "linecolor": "white",
            "ticks": ""
           },
           "bgcolor": "#E5ECF6",
           "caxis": {
            "gridcolor": "white",
            "linecolor": "white",
            "ticks": ""
           }
          },
          "title": {
           "x": 0.05
          },
          "xaxis": {
           "automargin": true,
           "gridcolor": "white",
           "linecolor": "white",
           "ticks": "",
           "title": {
            "standoff": 15
           },
           "zerolinecolor": "white",
           "zerolinewidth": 2
          },
          "yaxis": {
           "automargin": true,
           "gridcolor": "white",
           "linecolor": "white",
           "ticks": "",
           "title": {
            "standoff": 15
           },
           "zerolinecolor": "white",
           "zerolinewidth": 2
          }
         }
        },
        "xaxis": {
         "title": {
          "text": "Timestep"
         }
        },
        "yaxis": {
         "title": {
          "text": "Cost"
         }
        }
       }
      },
      "text/html": [
       "<div>                            <div id=\"bb898af0-369f-46ac-9829-b36c0bb0bd3e\" class=\"plotly-graph-div\" style=\"height:525px; width:100%;\"></div>            <script type=\"text/javascript\">                require([\"plotly\"], function(Plotly) {                    window.PLOTLYENV=window.PLOTLYENV || {};                                    if (document.getElementById(\"bb898af0-369f-46ac-9829-b36c0bb0bd3e\")) {                    Plotly.newPlot(                        \"bb898af0-369f-46ac-9829-b36c0bb0bd3e\",                        [{\"name\": \"NNC\", \"type\": \"scatter\", \"y\": [20.0, 20.0, 20.0, 20.0, 20.0, 20.0, 20.0, 20.0, 20.0, 20.0, 20.0, 20.0, 20.0, 20.0, 20.0, 20.0, 20.0, 20.0, 1320.0, 62280.0, 6850.0, 31485.0, 74605.0, 101785.0, 115040.0, 187010.0, 115050.0, 253495.0, 746880.0, 282995.0, 312130.0, 425760.0, 565885.0, 512845.0, 532875.0, 245425.0, 469635.0, 1988965.0, 614540.0, 910060.0, 963760.0, 1020840.0, 873395.0, 207295.0, 247865.0, 289965.0, 428960.0, 579410.0, 592095.0, 480525.0, 238570.0, 1152110.0, 493670.0, 296990.0, 1153585.0, 174495.0, 449900.0, 464210.0, 624960.0, 598830.0, 620565.0, 517440.0, 370145.0, 818875.0, 880705.0, 1139685.0, 1140215.0, 754565.0, 863305.0, 816935.0, 1152690.0, 751160.0, 852655.0, 1014615.0, 1003175.0, 1386660.0, 845650.0, 702310.0, 91155.0, 1095175.0, 710150.0, 948615.0, 519790.0, 846610.0, 595165.0, 905630.0, 1229520.0, 1597400.0, 1917065.0, 908295.0, 817700.0, 792070.0, 765765.0, 103900.0, 334505.0, 983560.0, 422310.0, 571035.0, 726785.0, 447070.0, 235385.0, 689300.0, 464690.0, 497945.0, 388380.0, 337445.0, 329305.0, 322045.0, 196975.0, 2511135.0, 456580.0, 251635.0, 40075.0, 635770.0, 328005.0]}, {\"name\": \"CDI\", \"type\": \"scatter\", \"y\": [20, 20, 20, 20, 20, 20, 20, 20, 20, 20, 20, 20, 20, 20, 20, 20, 20, 20, 20, 6345, 1495, 19095, 132990, 54090, 83365, 458460, 164615, 167825, 1361790, 553495, 607845, 523205, 730515, 564505, 546300, 808820, 463685, 2677265, 1079010, 1344125, 1333560, 1331270, 1097850, 332915, 545865, 444240, 598775, 722105, 849245, 733370, 448980, 1159440, 814360, 559665, 2046410, 747790, 846405, 555220, 769510, 1746810, 1250525, 1121505, 647045, 1156950, 1095080, 1492120, 1205510, 735270, 991500, 1109490, 1502335, 810100, 1029025, 1088930, 1429230, 1777100, 973520, 814995, 260250, 636075, 394025, 2341190, 573835, 1184615, 658220, 1111705, 1364915, 2076200, 2123870, 978295, 788275, 654270, 726280, 9460, 173970, 2060710, 866685, 1105920, 1041055, 721025, 499910, 533185, 679190, 621350, 417470, 327680, 320870, 310265, 262425, 148875, 431495, 106970, 55690, 1127760, 521620]}],                        {\"shapes\": [{\"type\": \"line\", \"x0\": 0, \"x1\": 1, \"xref\": \"x domain\", \"y0\": 526382.5625, \"y1\": 526382.5625, \"yref\": \"y\"}, {\"line\": {\"dash\": \"dash\"}, \"type\": \"line\", \"x0\": 0, \"x1\": 1, \"xref\": \"x domain\", \"y0\": 682424.6875, \"y1\": 682424.6875, \"yref\": \"y\"}], \"template\": {\"data\": {\"bar\": [{\"error_x\": {\"color\": \"#2a3f5f\"}, \"error_y\": {\"color\": \"#2a3f5f\"}, \"marker\": {\"line\": {\"color\": \"#E5ECF6\", \"width\": 0.5}}, \"type\": \"bar\"}], \"barpolar\": [{\"marker\": {\"line\": {\"color\": \"#E5ECF6\", \"width\": 0.5}}, \"type\": \"barpolar\"}], \"carpet\": [{\"aaxis\": {\"endlinecolor\": \"#2a3f5f\", \"gridcolor\": \"white\", \"linecolor\": \"white\", \"minorgridcolor\": \"white\", \"startlinecolor\": \"#2a3f5f\"}, \"baxis\": {\"endlinecolor\": \"#2a3f5f\", \"gridcolor\": \"white\", \"linecolor\": \"white\", \"minorgridcolor\": \"white\", \"startlinecolor\": \"#2a3f5f\"}, \"type\": \"carpet\"}], \"choropleth\": [{\"colorbar\": {\"outlinewidth\": 0, \"ticks\": \"\"}, \"type\": \"choropleth\"}], \"contour\": [{\"colorbar\": {\"outlinewidth\": 0, \"ticks\": \"\"}, \"colorscale\": [[0.0, \"#0d0887\"], [0.1111111111111111, \"#46039f\"], [0.2222222222222222, \"#7201a8\"], [0.3333333333333333, \"#9c179e\"], [0.4444444444444444, \"#bd3786\"], [0.5555555555555556, \"#d8576b\"], [0.6666666666666666, \"#ed7953\"], [0.7777777777777778, \"#fb9f3a\"], [0.8888888888888888, \"#fdca26\"], [1.0, \"#f0f921\"]], \"type\": \"contour\"}], \"contourcarpet\": [{\"colorbar\": {\"outlinewidth\": 0, \"ticks\": \"\"}, \"type\": \"contourcarpet\"}], \"heatmap\": [{\"colorbar\": {\"outlinewidth\": 0, \"ticks\": \"\"}, \"colorscale\": [[0.0, \"#0d0887\"], [0.1111111111111111, \"#46039f\"], [0.2222222222222222, \"#7201a8\"], [0.3333333333333333, \"#9c179e\"], [0.4444444444444444, \"#bd3786\"], [0.5555555555555556, \"#d8576b\"], [0.6666666666666666, \"#ed7953\"], [0.7777777777777778, \"#fb9f3a\"], [0.8888888888888888, \"#fdca26\"], [1.0, \"#f0f921\"]], \"type\": \"heatmap\"}], \"heatmapgl\": [{\"colorbar\": {\"outlinewidth\": 0, \"ticks\": \"\"}, \"colorscale\": [[0.0, \"#0d0887\"], [0.1111111111111111, \"#46039f\"], [0.2222222222222222, \"#7201a8\"], [0.3333333333333333, \"#9c179e\"], [0.4444444444444444, \"#bd3786\"], [0.5555555555555556, \"#d8576b\"], [0.6666666666666666, \"#ed7953\"], [0.7777777777777778, \"#fb9f3a\"], [0.8888888888888888, \"#fdca26\"], [1.0, \"#f0f921\"]], \"type\": \"heatmapgl\"}], \"histogram\": [{\"marker\": {\"colorbar\": {\"outlinewidth\": 0, \"ticks\": \"\"}}, \"type\": \"histogram\"}], \"histogram2d\": [{\"colorbar\": {\"outlinewidth\": 0, \"ticks\": \"\"}, \"colorscale\": [[0.0, \"#0d0887\"], [0.1111111111111111, \"#46039f\"], [0.2222222222222222, \"#7201a8\"], [0.3333333333333333, \"#9c179e\"], [0.4444444444444444, \"#bd3786\"], [0.5555555555555556, \"#d8576b\"], [0.6666666666666666, \"#ed7953\"], [0.7777777777777778, \"#fb9f3a\"], [0.8888888888888888, \"#fdca26\"], [1.0, \"#f0f921\"]], \"type\": \"histogram2d\"}], \"histogram2dcontour\": [{\"colorbar\": {\"outlinewidth\": 0, \"ticks\": \"\"}, \"colorscale\": [[0.0, \"#0d0887\"], [0.1111111111111111, \"#46039f\"], [0.2222222222222222, \"#7201a8\"], [0.3333333333333333, \"#9c179e\"], [0.4444444444444444, \"#bd3786\"], [0.5555555555555556, \"#d8576b\"], [0.6666666666666666, \"#ed7953\"], [0.7777777777777778, \"#fb9f3a\"], [0.8888888888888888, \"#fdca26\"], [1.0, \"#f0f921\"]], \"type\": \"histogram2dcontour\"}], \"mesh3d\": [{\"colorbar\": {\"outlinewidth\": 0, \"ticks\": \"\"}, \"type\": \"mesh3d\"}], \"parcoords\": [{\"line\": {\"colorbar\": {\"outlinewidth\": 0, \"ticks\": \"\"}}, \"type\": \"parcoords\"}], \"pie\": [{\"automargin\": true, \"type\": \"pie\"}], \"scatter\": [{\"marker\": {\"colorbar\": {\"outlinewidth\": 0, \"ticks\": \"\"}}, \"type\": \"scatter\"}], \"scatter3d\": [{\"line\": {\"colorbar\": {\"outlinewidth\": 0, \"ticks\": \"\"}}, \"marker\": {\"colorbar\": {\"outlinewidth\": 0, \"ticks\": \"\"}}, \"type\": \"scatter3d\"}], \"scattercarpet\": [{\"marker\": {\"colorbar\": {\"outlinewidth\": 0, \"ticks\": \"\"}}, \"type\": \"scattercarpet\"}], \"scattergeo\": [{\"marker\": {\"colorbar\": {\"outlinewidth\": 0, \"ticks\": \"\"}}, \"type\": \"scattergeo\"}], \"scattergl\": [{\"marker\": {\"colorbar\": {\"outlinewidth\": 0, \"ticks\": \"\"}}, \"type\": \"scattergl\"}], \"scattermapbox\": [{\"marker\": {\"colorbar\": {\"outlinewidth\": 0, \"ticks\": \"\"}}, \"type\": \"scattermapbox\"}], \"scatterpolar\": [{\"marker\": {\"colorbar\": {\"outlinewidth\": 0, \"ticks\": \"\"}}, \"type\": \"scatterpolar\"}], \"scatterpolargl\": [{\"marker\": {\"colorbar\": {\"outlinewidth\": 0, \"ticks\": \"\"}}, \"type\": \"scatterpolargl\"}], \"scatterternary\": [{\"marker\": {\"colorbar\": {\"outlinewidth\": 0, \"ticks\": \"\"}}, \"type\": \"scatterternary\"}], \"surface\": [{\"colorbar\": {\"outlinewidth\": 0, \"ticks\": \"\"}, \"colorscale\": [[0.0, \"#0d0887\"], [0.1111111111111111, \"#46039f\"], [0.2222222222222222, \"#7201a8\"], [0.3333333333333333, \"#9c179e\"], [0.4444444444444444, \"#bd3786\"], [0.5555555555555556, \"#d8576b\"], [0.6666666666666666, \"#ed7953\"], [0.7777777777777778, \"#fb9f3a\"], [0.8888888888888888, \"#fdca26\"], [1.0, \"#f0f921\"]], \"type\": \"surface\"}], \"table\": [{\"cells\": {\"fill\": {\"color\": \"#EBF0F8\"}, \"line\": {\"color\": \"white\"}}, \"header\": {\"fill\": {\"color\": \"#C8D4E3\"}, \"line\": {\"color\": \"white\"}}, \"type\": \"table\"}]}, \"layout\": {\"annotationdefaults\": {\"arrowcolor\": \"#2a3f5f\", \"arrowhead\": 0, \"arrowwidth\": 1}, \"autotypenumbers\": \"strict\", \"coloraxis\": {\"colorbar\": {\"outlinewidth\": 0, \"ticks\": \"\"}}, \"colorscale\": {\"diverging\": [[0, \"#8e0152\"], [0.1, \"#c51b7d\"], [0.2, \"#de77ae\"], [0.3, \"#f1b6da\"], [0.4, \"#fde0ef\"], [0.5, \"#f7f7f7\"], [0.6, \"#e6f5d0\"], [0.7, \"#b8e186\"], [0.8, \"#7fbc41\"], [0.9, \"#4d9221\"], [1, \"#276419\"]], \"sequential\": [[0.0, \"#0d0887\"], [0.1111111111111111, \"#46039f\"], [0.2222222222222222, \"#7201a8\"], [0.3333333333333333, \"#9c179e\"], [0.4444444444444444, \"#bd3786\"], [0.5555555555555556, \"#d8576b\"], [0.6666666666666666, \"#ed7953\"], [0.7777777777777778, \"#fb9f3a\"], [0.8888888888888888, \"#fdca26\"], [1.0, \"#f0f921\"]], \"sequentialminus\": [[0.0, \"#0d0887\"], [0.1111111111111111, \"#46039f\"], [0.2222222222222222, \"#7201a8\"], [0.3333333333333333, \"#9c179e\"], [0.4444444444444444, \"#bd3786\"], [0.5555555555555556, \"#d8576b\"], [0.6666666666666666, \"#ed7953\"], [0.7777777777777778, \"#fb9f3a\"], [0.8888888888888888, \"#fdca26\"], [1.0, \"#f0f921\"]]}, \"colorway\": [\"#636efa\", \"#EF553B\", \"#00cc96\", \"#ab63fa\", \"#FFA15A\", \"#19d3f3\", \"#FF6692\", \"#B6E880\", \"#FF97FF\", \"#FECB52\"], \"font\": {\"color\": \"#2a3f5f\"}, \"geo\": {\"bgcolor\": \"white\", \"lakecolor\": \"white\", \"landcolor\": \"#E5ECF6\", \"showlakes\": true, \"showland\": true, \"subunitcolor\": \"white\"}, \"hoverlabel\": {\"align\": \"left\"}, \"hovermode\": \"closest\", \"mapbox\": {\"style\": \"light\"}, \"paper_bgcolor\": \"white\", \"plot_bgcolor\": \"#E5ECF6\", \"polar\": {\"angularaxis\": {\"gridcolor\": \"white\", \"linecolor\": \"white\", \"ticks\": \"\"}, \"bgcolor\": \"#E5ECF6\", \"radialaxis\": {\"gridcolor\": \"white\", \"linecolor\": \"white\", \"ticks\": \"\"}}, \"scene\": {\"xaxis\": {\"backgroundcolor\": \"#E5ECF6\", \"gridcolor\": \"white\", \"gridwidth\": 2, \"linecolor\": \"white\", \"showbackground\": true, \"ticks\": \"\", \"zerolinecolor\": \"white\"}, \"yaxis\": {\"backgroundcolor\": \"#E5ECF6\", \"gridcolor\": \"white\", \"gridwidth\": 2, \"linecolor\": \"white\", \"showbackground\": true, \"ticks\": \"\", \"zerolinecolor\": \"white\"}, \"zaxis\": {\"backgroundcolor\": \"#E5ECF6\", \"gridcolor\": \"white\", \"gridwidth\": 2, \"linecolor\": \"white\", \"showbackground\": true, \"ticks\": \"\", \"zerolinecolor\": \"white\"}}, \"shapedefaults\": {\"line\": {\"color\": \"#2a3f5f\"}}, \"ternary\": {\"aaxis\": {\"gridcolor\": \"white\", \"linecolor\": \"white\", \"ticks\": \"\"}, \"baxis\": {\"gridcolor\": \"white\", \"linecolor\": \"white\", \"ticks\": \"\"}, \"bgcolor\": \"#E5ECF6\", \"caxis\": {\"gridcolor\": \"white\", \"linecolor\": \"white\", \"ticks\": \"\"}}, \"title\": {\"x\": 0.05}, \"xaxis\": {\"automargin\": true, \"gridcolor\": \"white\", \"linecolor\": \"white\", \"ticks\": \"\", \"title\": {\"standoff\": 15}, \"zerolinecolor\": \"white\", \"zerolinewidth\": 2}, \"yaxis\": {\"automargin\": true, \"gridcolor\": \"white\", \"linecolor\": \"white\", \"ticks\": \"\", \"title\": {\"standoff\": 15}, \"zerolinecolor\": \"white\", \"zerolinewidth\": 2}}}, \"xaxis\": {\"title\": {\"text\": \"Timestep\"}}, \"yaxis\": {\"title\": {\"text\": \"Cost\"}}},                        {\"responsive\": true}                    ).then(function(){\n",
       "                            \n",
       "var gd = document.getElementById('bb898af0-369f-46ac-9829-b36c0bb0bd3e');\n",
       "var x = new MutationObserver(function (mutations, observer) {{\n",
       "        var display = window.getComputedStyle(gd).display;\n",
       "        if (!display || display === 'none') {{\n",
       "            console.log([gd, 'removed!']);\n",
       "            Plotly.purge(gd);\n",
       "            observer.disconnect();\n",
       "        }}\n",
       "}});\n",
       "\n",
       "// Listen for the removal of the full notebook cells\n",
       "var notebookContainer = gd.closest('#notebook-container');\n",
       "if (notebookContainer) {{\n",
       "    x.observe(notebookContainer, {childList: true});\n",
       "}}\n",
       "\n",
       "// Listen for the clearing of the current output cell\n",
       "var outputEl = gd.closest('.output');\n",
       "if (outputEl) {{\n",
       "    x.observe(outputEl, {childList: true});\n",
       "}}\n",
       "\n",
       "                        })                };                });            </script>        </div>"
      ]
     },
     "metadata": {},
     "output_type": "display_data"
    }
   ],
   "source": [
    "a = go.Scatter(y=[x.item() for x in nn_ci], name='NNC')\n",
    "b = go.Scatter(y=[x.item() for x in cdi_ci], name='CDI')\n",
    "fig = go.Figure([a,b])\n",
    "fig.add_hline(nn_mean_cost.detach().item())\n",
    "fig.add_hline(cdi_mean_cost.detach().item(),line={'dash':'dash'})\n",
    "fig.layout.xaxis.title = 'Timestep'\n",
    "fig.layout.yaxis.title = 'Cost'\n",
    "fig"
   ]
  },
  {
   "cell_type": "code",
   "execution_count": null,
   "id": "5c09c03c",
   "metadata": {},
   "outputs": [],
   "source": [
    "cdi_mean_cost.detach().item()"
   ]
  },
  {
   "cell_type": "code",
   "execution_count": null,
   "id": "4ae2e786",
   "metadata": {},
   "outputs": [],
   "source": [
    "nn_mean_cost.detach().item()"
   ]
  },
  {
   "cell_type": "code",
   "execution_count": null,
   "id": "6388273c",
   "metadata": {},
   "outputs": [],
   "source": [
    "2.5e6*20/120"
   ]
  },
  {
   "cell_type": "code",
   "execution_count": 323,
   "id": "ccf07349",
   "metadata": {},
   "outputs": [
    {
     "data": {
      "application/vnd.plotly.v1+json": {
       "config": {
        "plotlyServerURL": "https://plot.ly"
       },
       "data": [
        {
         "name": "NNC Inventory",
         "type": "scatter",
         "y": [
          4,
          4,
          4,
          4,
          4,
          4,
          4,
          4,
          4,
          4,
          4,
          4,
          4,
          4,
          4,
          4,
          4,
          4,
          4,
          56,
          -120,
          238,
          1373,
          3401,
          7497,
          11928,
          15042,
          23010,
          24739,
          55456,
          56599,
          62426,
          85152,
          113177,
          102569,
          106575,
          49085,
          27311,
          124421,
          122908,
          182012,
          192752,
          204168,
          174679,
          41459,
          49573,
          57993,
          78076,
          115882,
          118419,
          96105,
          47714,
          87386,
          98734,
          59398,
          65733,
          34899,
          77740,
          92842,
          124992,
          118754,
          124113,
          103488,
          74029,
          162383,
          176141,
          227937,
          228043,
          150913,
          172661,
          163387,
          230538,
          150232,
          170531,
          202923,
          200635,
          277332,
          169130,
          140462,
          18231,
          67267,
          75286,
          38439,
          18418,
          138150,
          119033,
          181126,
          245904,
          319480,
          383413,
          181659,
          163540,
          158414,
          153153,
          20780,
          29265,
          47584,
          82154,
          114207,
          145357,
          89414,
          47077,
          70852,
          92938,
          99589,
          77676,
          67489,
          65861,
          64409,
          39395,
          -5073,
          6296,
          14463,
          3239,
          50630,
          65601
         ]
        },
        {
         "name": "CDI Inventory",
         "type": "scatter",
         "y": [
          4,
          4,
          4,
          4,
          4,
          4,
          4,
          4,
          4,
          4,
          4,
          4,
          4,
          4,
          4,
          4,
          4,
          4,
          4,
          4,
          1,
          287,
          1003,
          5786,
          10818,
          16673,
          24620,
          32923,
          33565,
          79534,
          110699,
          121569,
          104641,
          146103,
          112901,
          109260,
          70068,
          92737,
          187505,
          215802,
          268825,
          266712,
          266254,
          219570,
          66583,
          70841,
          88848,
          119755,
          144421,
          169849,
          146674,
          89796,
          136164,
          162872,
          111933,
          126146,
          149558,
          169281,
          111044,
          153902,
          169206,
          250105,
          224301,
          129409,
          231390,
          219016,
          298424,
          241102,
          147054,
          198300,
          221898,
          300467,
          162020,
          205805,
          217786,
          285846,
          355420,
          194704,
          162999,
          52050,
          109783,
          78805,
          105714,
          114767,
          236923,
          131644,
          222341,
          272983,
          415240,
          424774,
          195659,
          157655,
          130854,
          145256,
          1892,
          34794,
          82898,
          173337,
          221184,
          208211,
          144205,
          99982,
          97189,
          135838,
          124270,
          83494,
          65536,
          64174,
          62053,
          52485,
          29775,
          23959,
          18314,
          11138,
          68712,
          104324
         ]
        },
        {
         "name": "Demand",
         "type": "scatter",
         "x": [
          1,
          2,
          3,
          4,
          5,
          6,
          7,
          8,
          9,
          10,
          11,
          12,
          13,
          14,
          15,
          16,
          17,
          18,
          19,
          20,
          21,
          22,
          23,
          24,
          25,
          26,
          27,
          28,
          29,
          30,
          31,
          32,
          33,
          34,
          35,
          36,
          37,
          38,
          39,
          40,
          41,
          42,
          43,
          44,
          45,
          46,
          47,
          48,
          49,
          50,
          51,
          52,
          53,
          54,
          55,
          56,
          57,
          58,
          59,
          60,
          61,
          62,
          63,
          64,
          65,
          66,
          67,
          68,
          69,
          70,
          71,
          72,
          73,
          74,
          75,
          76,
          77,
          78,
          79,
          80,
          81,
          82,
          83,
          84,
          85,
          86,
          87,
          88,
          89,
          90,
          91,
          92,
          93,
          94,
          95,
          96,
          97,
          98,
          99,
          100,
          101,
          102,
          103,
          104,
          105,
          106,
          107,
          108,
          109,
          110,
          111,
          112,
          113,
          114,
          115,
          116,
          117,
          118,
          119,
          120,
          121,
          122,
          123,
          124,
          125,
          126,
          127,
          128,
          129,
          130,
          131,
          132,
          133,
          134,
          135,
          136,
          137,
          138,
          139,
          140,
          141,
          142,
          143,
          144,
          145,
          146,
          147,
          148,
          149,
          150,
          151,
          152,
          153,
          154,
          155,
          156,
          157,
          158,
          159,
          160,
          161,
          162,
          163,
          164,
          165,
          166,
          167,
          168,
          169,
          170,
          171,
          172,
          173,
          174,
          175,
          176,
          177,
          178,
          179,
          180,
          181,
          182,
          183,
          184,
          185,
          186,
          187,
          188,
          189,
          190,
          191,
          192,
          193,
          194,
          195,
          196,
          197,
          198,
          199,
          200,
          201,
          202,
          203,
          204,
          205,
          206,
          207,
          208,
          209,
          210,
          211,
          212,
          213,
          214,
          215,
          216,
          217,
          218,
          219,
          220,
          221,
          222,
          223,
          224,
          225,
          226,
          227,
          228,
          229,
          230,
          231,
          232,
          233,
          234,
          235,
          236,
          237,
          238,
          239,
          240,
          241,
          242,
          243,
          244,
          245,
          246,
          247,
          248,
          249,
          250,
          251,
          252,
          253,
          254,
          255,
          256,
          257,
          258,
          259,
          260,
          261,
          262,
          263,
          264,
          265,
          266,
          267,
          268,
          269,
          270,
          271,
          272,
          273,
          274,
          275,
          276,
          277,
          278,
          279,
          280,
          281,
          282,
          283,
          284,
          285,
          286,
          287,
          288,
          289,
          290,
          291,
          292,
          293,
          294,
          295,
          296,
          297,
          298,
          299,
          300,
          301,
          302,
          303,
          304,
          305,
          306,
          307,
          308,
          309,
          310,
          311,
          312,
          313,
          314,
          315,
          316,
          317,
          318,
          319,
          320,
          321,
          322,
          323,
          324,
          325,
          326,
          327,
          328,
          329,
          330,
          331,
          332,
          333,
          334,
          335,
          336,
          337,
          338,
          339,
          340,
          341,
          342,
          343,
          344,
          345,
          346,
          347,
          348,
          349,
          350,
          351,
          352,
          353,
          354,
          355,
          356,
          357,
          358,
          359,
          360,
          361,
          362,
          363,
          364,
          365,
          366,
          367,
          368,
          369,
          370,
          371,
          372,
          373,
          374,
          375,
          376,
          377,
          378,
          379,
          380,
          381,
          382,
          383,
          384,
          385,
          386,
          387,
          388,
          389,
          390,
          391,
          392,
          393,
          394,
          395,
          396,
          397,
          398,
          399,
          400,
          401,
          402,
          403,
          404,
          405,
          406,
          407,
          408,
          409,
          410,
          411,
          412,
          413,
          414,
          415,
          416,
          417,
          418,
          419,
          420,
          421,
          422,
          423,
          424,
          425,
          426,
          427,
          428,
          429,
          430,
          431,
          432,
          433,
          434,
          435,
          436,
          437,
          438,
          439,
          440,
          441,
          442,
          443,
          444,
          445,
          446,
          447,
          448,
          449,
          450,
          451,
          452,
          453,
          454,
          455,
          456,
          457,
          458,
          459,
          460,
          461,
          462,
          463,
          464,
          465,
          466,
          467,
          468,
          469,
          470,
          471,
          472,
          473,
          474,
          475,
          476,
          477,
          478,
          479,
          480,
          481,
          482,
          483,
          484,
          485,
          486,
          487,
          488,
          489,
          490,
          491,
          492,
          493,
          494,
          495,
          496,
          497,
          498,
          499,
          500,
          501,
          502,
          503,
          504,
          505,
          506,
          507,
          508,
          509,
          510,
          511,
          512,
          513,
          514,
          515,
          516,
          517,
          518,
          519,
          520,
          521,
          522,
          523,
          524,
          525,
          526,
          527,
          528,
          529,
          530,
          531,
          532,
          533,
          534,
          535,
          536,
          537,
          538,
          539,
          540,
          541,
          542,
          543,
          544,
          545,
          546,
          547,
          548,
          549,
          550,
          551,
          552,
          553,
          554,
          555,
          556,
          557,
          558,
          559,
          560,
          561,
          562,
          563,
          564,
          565,
          566,
          567,
          568,
          569,
          570,
          571,
          572,
          573,
          574,
          575,
          576,
          577,
          578,
          579,
          580,
          581,
          582,
          583,
          584,
          585,
          586,
          587,
          588,
          589,
          590,
          591,
          592,
          593,
          594,
          595,
          596,
          597,
          598,
          599,
          600,
          601,
          602,
          603,
          604,
          605,
          606,
          607,
          608,
          609,
          610,
          611,
          612,
          613,
          614,
          615,
          616,
          617,
          618,
          619,
          620,
          621,
          622,
          623,
          624,
          625,
          626,
          627,
          628,
          629,
          630,
          631,
          632,
          633,
          634,
          635,
          636,
          637,
          638,
          639,
          640,
          641,
          642,
          643,
          644,
          645,
          646,
          647,
          648,
          649,
          650,
          651,
          652,
          653,
          654,
          655,
          656,
          657,
          658,
          659,
          660,
          661,
          662,
          663,
          664,
          665,
          666,
          667,
          668,
          669,
          670,
          671,
          672,
          673,
          674,
          675,
          676,
          677,
          678,
          679,
          680,
          681,
          682,
          683,
          684,
          685,
          686,
          687,
          688,
          689,
          690,
          691,
          692,
          693,
          694,
          695,
          696,
          697,
          698,
          699,
          700,
          701,
          702,
          703,
          704,
          705,
          706,
          707,
          708,
          709,
          710,
          711,
          712,
          713,
          714,
          715,
          716,
          717,
          718,
          719,
          720,
          721,
          722,
          723,
          724,
          725,
          726,
          727,
          728,
          729,
          730,
          731,
          732,
          733,
          734,
          735,
          736,
          737,
          738,
          739,
          740,
          741,
          742,
          743,
          744,
          745,
          746,
          747,
          748,
          749,
          750,
          751,
          752,
          753,
          754,
          755,
          756,
          757,
          758,
          759,
          760,
          761,
          762,
          763,
          764,
          765,
          766,
          767,
          768,
          769,
          770,
          771,
          772,
          773,
          774,
          775,
          776,
          777,
          778,
          779,
          780,
          781,
          782,
          783,
          784,
          785,
          786,
          787,
          788,
          789,
          790,
          791,
          792,
          793,
          794,
          795,
          796,
          797,
          798,
          799,
          800,
          801,
          802,
          803,
          804,
          805,
          806,
          807,
          808,
          809,
          810,
          811,
          812,
          813,
          814,
          815,
          816,
          817,
          818,
          819,
          820,
          821,
          822,
          823,
          824,
          825,
          826,
          827,
          828,
          829,
          830,
          831,
          832,
          833,
          834,
          835,
          836,
          837,
          838,
          839,
          840,
          841,
          842,
          843,
          844,
          845,
          846,
          847,
          848,
          849,
          850,
          851,
          852,
          853,
          854,
          855,
          856,
          857,
          858,
          859,
          860,
          861,
          862,
          863,
          864,
          865,
          866,
          867,
          868,
          869,
          870,
          871,
          872,
          873,
          874,
          875,
          876,
          877,
          878,
          879,
          880,
          881,
          882,
          883,
          884,
          885,
          886,
          887,
          888,
          889,
          890,
          891,
          892,
          893,
          894,
          895,
          896,
          897,
          898,
          899,
          900,
          901,
          902,
          903,
          904,
          905,
          906,
          907,
          908,
          909,
          910,
          911,
          912,
          913,
          914,
          915,
          916,
          917,
          918,
          919,
          920,
          921,
          922,
          923,
          924,
          925,
          926,
          927,
          928,
          929,
          930,
          931,
          932,
          933,
          934,
          935,
          936,
          937,
          938,
          939,
          940,
          941,
          942,
          943,
          944,
          945,
          946,
          947,
          948,
          949,
          950,
          951,
          952,
          953,
          954,
          955,
          956,
          957,
          958,
          959,
          960,
          961,
          962,
          963,
          964,
          965,
          966,
          967,
          968,
          969,
          970,
          971,
          972,
          973,
          974,
          975,
          976,
          977,
          978,
          979,
          980,
          981,
          982,
          983,
          984,
          985,
          986,
          987,
          988,
          989,
          990,
          991,
          992,
          993,
          994,
          995,
          996,
          997,
          998,
          999,
          1000
         ],
         "y": [
          0,
          0,
          0,
          0,
          0,
          0,
          0,
          0,
          0,
          0,
          0,
          0,
          0,
          0,
          0,
          0,
          0,
          0,
          0,
          320,
          34,
          309,
          1415,
          1879,
          4378,
          9313,
          4328,
          16127,
          4506,
          32052,
          37336,
          16928,
          13623,
          33202,
          3641,
          69368,
          82056,
          18444,
          84660,
          42099,
          2113,
          458,
          46684,
          152987,
          16401,
          17721,
          16138,
          2289,
          52866,
          85693,
          114344,
          71814,
          78025,
          137713,
          117036,
          130219,
          66778,
          58237,
          32221,
          52471,
          72730,
          109775,
          118902,
          6122,
          67682,
          40286,
          65353,
          121160,
          27348,
          75753,
          12237,
          138447,
          39517,
          18769,
          82639,
          19861,
          160716,
          82522,
          176842,
          67896,
          86118,
          165980,
          148501,
          3949,
          105279,
          19894,
          5922,
          24767,
          21783,
          229115,
          38004,
          26801,
          24200,
          143364,
          26061,
          34207,
          12030,
          34465,
          12973,
          64006,
          44223,
          5155,
          16568,
          41895,
          40776,
          17958,
          13063,
          10219,
          40634,
          74360,
          41822,
          30020,
          47491,
          29,
          14045
         ]
        }
       ],
       "layout": {
        "template": {
         "data": {
          "bar": [
           {
            "error_x": {
             "color": "#2a3f5f"
            },
            "error_y": {
             "color": "#2a3f5f"
            },
            "marker": {
             "line": {
              "color": "#E5ECF6",
              "width": 0.5
             }
            },
            "type": "bar"
           }
          ],
          "barpolar": [
           {
            "marker": {
             "line": {
              "color": "#E5ECF6",
              "width": 0.5
             }
            },
            "type": "barpolar"
           }
          ],
          "carpet": [
           {
            "aaxis": {
             "endlinecolor": "#2a3f5f",
             "gridcolor": "white",
             "linecolor": "white",
             "minorgridcolor": "white",
             "startlinecolor": "#2a3f5f"
            },
            "baxis": {
             "endlinecolor": "#2a3f5f",
             "gridcolor": "white",
             "linecolor": "white",
             "minorgridcolor": "white",
             "startlinecolor": "#2a3f5f"
            },
            "type": "carpet"
           }
          ],
          "choropleth": [
           {
            "colorbar": {
             "outlinewidth": 0,
             "ticks": ""
            },
            "type": "choropleth"
           }
          ],
          "contour": [
           {
            "colorbar": {
             "outlinewidth": 0,
             "ticks": ""
            },
            "colorscale": [
             [
              0,
              "#0d0887"
             ],
             [
              0.1111111111111111,
              "#46039f"
             ],
             [
              0.2222222222222222,
              "#7201a8"
             ],
             [
              0.3333333333333333,
              "#9c179e"
             ],
             [
              0.4444444444444444,
              "#bd3786"
             ],
             [
              0.5555555555555556,
              "#d8576b"
             ],
             [
              0.6666666666666666,
              "#ed7953"
             ],
             [
              0.7777777777777778,
              "#fb9f3a"
             ],
             [
              0.8888888888888888,
              "#fdca26"
             ],
             [
              1,
              "#f0f921"
             ]
            ],
            "type": "contour"
           }
          ],
          "contourcarpet": [
           {
            "colorbar": {
             "outlinewidth": 0,
             "ticks": ""
            },
            "type": "contourcarpet"
           }
          ],
          "heatmap": [
           {
            "colorbar": {
             "outlinewidth": 0,
             "ticks": ""
            },
            "colorscale": [
             [
              0,
              "#0d0887"
             ],
             [
              0.1111111111111111,
              "#46039f"
             ],
             [
              0.2222222222222222,
              "#7201a8"
             ],
             [
              0.3333333333333333,
              "#9c179e"
             ],
             [
              0.4444444444444444,
              "#bd3786"
             ],
             [
              0.5555555555555556,
              "#d8576b"
             ],
             [
              0.6666666666666666,
              "#ed7953"
             ],
             [
              0.7777777777777778,
              "#fb9f3a"
             ],
             [
              0.8888888888888888,
              "#fdca26"
             ],
             [
              1,
              "#f0f921"
             ]
            ],
            "type": "heatmap"
           }
          ],
          "heatmapgl": [
           {
            "colorbar": {
             "outlinewidth": 0,
             "ticks": ""
            },
            "colorscale": [
             [
              0,
              "#0d0887"
             ],
             [
              0.1111111111111111,
              "#46039f"
             ],
             [
              0.2222222222222222,
              "#7201a8"
             ],
             [
              0.3333333333333333,
              "#9c179e"
             ],
             [
              0.4444444444444444,
              "#bd3786"
             ],
             [
              0.5555555555555556,
              "#d8576b"
             ],
             [
              0.6666666666666666,
              "#ed7953"
             ],
             [
              0.7777777777777778,
              "#fb9f3a"
             ],
             [
              0.8888888888888888,
              "#fdca26"
             ],
             [
              1,
              "#f0f921"
             ]
            ],
            "type": "heatmapgl"
           }
          ],
          "histogram": [
           {
            "marker": {
             "colorbar": {
              "outlinewidth": 0,
              "ticks": ""
             }
            },
            "type": "histogram"
           }
          ],
          "histogram2d": [
           {
            "colorbar": {
             "outlinewidth": 0,
             "ticks": ""
            },
            "colorscale": [
             [
              0,
              "#0d0887"
             ],
             [
              0.1111111111111111,
              "#46039f"
             ],
             [
              0.2222222222222222,
              "#7201a8"
             ],
             [
              0.3333333333333333,
              "#9c179e"
             ],
             [
              0.4444444444444444,
              "#bd3786"
             ],
             [
              0.5555555555555556,
              "#d8576b"
             ],
             [
              0.6666666666666666,
              "#ed7953"
             ],
             [
              0.7777777777777778,
              "#fb9f3a"
             ],
             [
              0.8888888888888888,
              "#fdca26"
             ],
             [
              1,
              "#f0f921"
             ]
            ],
            "type": "histogram2d"
           }
          ],
          "histogram2dcontour": [
           {
            "colorbar": {
             "outlinewidth": 0,
             "ticks": ""
            },
            "colorscale": [
             [
              0,
              "#0d0887"
             ],
             [
              0.1111111111111111,
              "#46039f"
             ],
             [
              0.2222222222222222,
              "#7201a8"
             ],
             [
              0.3333333333333333,
              "#9c179e"
             ],
             [
              0.4444444444444444,
              "#bd3786"
             ],
             [
              0.5555555555555556,
              "#d8576b"
             ],
             [
              0.6666666666666666,
              "#ed7953"
             ],
             [
              0.7777777777777778,
              "#fb9f3a"
             ],
             [
              0.8888888888888888,
              "#fdca26"
             ],
             [
              1,
              "#f0f921"
             ]
            ],
            "type": "histogram2dcontour"
           }
          ],
          "mesh3d": [
           {
            "colorbar": {
             "outlinewidth": 0,
             "ticks": ""
            },
            "type": "mesh3d"
           }
          ],
          "parcoords": [
           {
            "line": {
             "colorbar": {
              "outlinewidth": 0,
              "ticks": ""
             }
            },
            "type": "parcoords"
           }
          ],
          "pie": [
           {
            "automargin": true,
            "type": "pie"
           }
          ],
          "scatter": [
           {
            "marker": {
             "colorbar": {
              "outlinewidth": 0,
              "ticks": ""
             }
            },
            "type": "scatter"
           }
          ],
          "scatter3d": [
           {
            "line": {
             "colorbar": {
              "outlinewidth": 0,
              "ticks": ""
             }
            },
            "marker": {
             "colorbar": {
              "outlinewidth": 0,
              "ticks": ""
             }
            },
            "type": "scatter3d"
           }
          ],
          "scattercarpet": [
           {
            "marker": {
             "colorbar": {
              "outlinewidth": 0,
              "ticks": ""
             }
            },
            "type": "scattercarpet"
           }
          ],
          "scattergeo": [
           {
            "marker": {
             "colorbar": {
              "outlinewidth": 0,
              "ticks": ""
             }
            },
            "type": "scattergeo"
           }
          ],
          "scattergl": [
           {
            "marker": {
             "colorbar": {
              "outlinewidth": 0,
              "ticks": ""
             }
            },
            "type": "scattergl"
           }
          ],
          "scattermapbox": [
           {
            "marker": {
             "colorbar": {
              "outlinewidth": 0,
              "ticks": ""
             }
            },
            "type": "scattermapbox"
           }
          ],
          "scatterpolar": [
           {
            "marker": {
             "colorbar": {
              "outlinewidth": 0,
              "ticks": ""
             }
            },
            "type": "scatterpolar"
           }
          ],
          "scatterpolargl": [
           {
            "marker": {
             "colorbar": {
              "outlinewidth": 0,
              "ticks": ""
             }
            },
            "type": "scatterpolargl"
           }
          ],
          "scatterternary": [
           {
            "marker": {
             "colorbar": {
              "outlinewidth": 0,
              "ticks": ""
             }
            },
            "type": "scatterternary"
           }
          ],
          "surface": [
           {
            "colorbar": {
             "outlinewidth": 0,
             "ticks": ""
            },
            "colorscale": [
             [
              0,
              "#0d0887"
             ],
             [
              0.1111111111111111,
              "#46039f"
             ],
             [
              0.2222222222222222,
              "#7201a8"
             ],
             [
              0.3333333333333333,
              "#9c179e"
             ],
             [
              0.4444444444444444,
              "#bd3786"
             ],
             [
              0.5555555555555556,
              "#d8576b"
             ],
             [
              0.6666666666666666,
              "#ed7953"
             ],
             [
              0.7777777777777778,
              "#fb9f3a"
             ],
             [
              0.8888888888888888,
              "#fdca26"
             ],
             [
              1,
              "#f0f921"
             ]
            ],
            "type": "surface"
           }
          ],
          "table": [
           {
            "cells": {
             "fill": {
              "color": "#EBF0F8"
             },
             "line": {
              "color": "white"
             }
            },
            "header": {
             "fill": {
              "color": "#C8D4E3"
             },
             "line": {
              "color": "white"
             }
            },
            "type": "table"
           }
          ]
         },
         "layout": {
          "annotationdefaults": {
           "arrowcolor": "#2a3f5f",
           "arrowhead": 0,
           "arrowwidth": 1
          },
          "autotypenumbers": "strict",
          "coloraxis": {
           "colorbar": {
            "outlinewidth": 0,
            "ticks": ""
           }
          },
          "colorscale": {
           "diverging": [
            [
             0,
             "#8e0152"
            ],
            [
             0.1,
             "#c51b7d"
            ],
            [
             0.2,
             "#de77ae"
            ],
            [
             0.3,
             "#f1b6da"
            ],
            [
             0.4,
             "#fde0ef"
            ],
            [
             0.5,
             "#f7f7f7"
            ],
            [
             0.6,
             "#e6f5d0"
            ],
            [
             0.7,
             "#b8e186"
            ],
            [
             0.8,
             "#7fbc41"
            ],
            [
             0.9,
             "#4d9221"
            ],
            [
             1,
             "#276419"
            ]
           ],
           "sequential": [
            [
             0,
             "#0d0887"
            ],
            [
             0.1111111111111111,
             "#46039f"
            ],
            [
             0.2222222222222222,
             "#7201a8"
            ],
            [
             0.3333333333333333,
             "#9c179e"
            ],
            [
             0.4444444444444444,
             "#bd3786"
            ],
            [
             0.5555555555555556,
             "#d8576b"
            ],
            [
             0.6666666666666666,
             "#ed7953"
            ],
            [
             0.7777777777777778,
             "#fb9f3a"
            ],
            [
             0.8888888888888888,
             "#fdca26"
            ],
            [
             1,
             "#f0f921"
            ]
           ],
           "sequentialminus": [
            [
             0,
             "#0d0887"
            ],
            [
             0.1111111111111111,
             "#46039f"
            ],
            [
             0.2222222222222222,
             "#7201a8"
            ],
            [
             0.3333333333333333,
             "#9c179e"
            ],
            [
             0.4444444444444444,
             "#bd3786"
            ],
            [
             0.5555555555555556,
             "#d8576b"
            ],
            [
             0.6666666666666666,
             "#ed7953"
            ],
            [
             0.7777777777777778,
             "#fb9f3a"
            ],
            [
             0.8888888888888888,
             "#fdca26"
            ],
            [
             1,
             "#f0f921"
            ]
           ]
          },
          "colorway": [
           "#636efa",
           "#EF553B",
           "#00cc96",
           "#ab63fa",
           "#FFA15A",
           "#19d3f3",
           "#FF6692",
           "#B6E880",
           "#FF97FF",
           "#FECB52"
          ],
          "font": {
           "color": "#2a3f5f"
          },
          "geo": {
           "bgcolor": "white",
           "lakecolor": "white",
           "landcolor": "#E5ECF6",
           "showlakes": true,
           "showland": true,
           "subunitcolor": "white"
          },
          "hoverlabel": {
           "align": "left"
          },
          "hovermode": "closest",
          "mapbox": {
           "style": "light"
          },
          "paper_bgcolor": "white",
          "plot_bgcolor": "#E5ECF6",
          "polar": {
           "angularaxis": {
            "gridcolor": "white",
            "linecolor": "white",
            "ticks": ""
           },
           "bgcolor": "#E5ECF6",
           "radialaxis": {
            "gridcolor": "white",
            "linecolor": "white",
            "ticks": ""
           }
          },
          "scene": {
           "xaxis": {
            "backgroundcolor": "#E5ECF6",
            "gridcolor": "white",
            "gridwidth": 2,
            "linecolor": "white",
            "showbackground": true,
            "ticks": "",
            "zerolinecolor": "white"
           },
           "yaxis": {
            "backgroundcolor": "#E5ECF6",
            "gridcolor": "white",
            "gridwidth": 2,
            "linecolor": "white",
            "showbackground": true,
            "ticks": "",
            "zerolinecolor": "white"
           },
           "zaxis": {
            "backgroundcolor": "#E5ECF6",
            "gridcolor": "white",
            "gridwidth": 2,
            "linecolor": "white",
            "showbackground": true,
            "ticks": "",
            "zerolinecolor": "white"
           }
          },
          "shapedefaults": {
           "line": {
            "color": "#2a3f5f"
           }
          },
          "ternary": {
           "aaxis": {
            "gridcolor": "white",
            "linecolor": "white",
            "ticks": ""
           },
           "baxis": {
            "gridcolor": "white",
            "linecolor": "white",
            "ticks": ""
           },
           "bgcolor": "#E5ECF6",
           "caxis": {
            "gridcolor": "white",
            "linecolor": "white",
            "ticks": ""
           }
          },
          "title": {
           "x": 0.05
          },
          "xaxis": {
           "automargin": true,
           "gridcolor": "white",
           "linecolor": "white",
           "ticks": "",
           "title": {
            "standoff": 15
           },
           "zerolinecolor": "white",
           "zerolinewidth": 2
          },
          "yaxis": {
           "automargin": true,
           "gridcolor": "white",
           "linecolor": "white",
           "ticks": "",
           "title": {
            "standoff": 15
           },
           "zerolinecolor": "white",
           "zerolinewidth": 2
          }
         }
        },
        "xaxis": {
         "title": {
          "text": "Timestep"
         }
        },
        "yaxis": {
         "title": {
          "text": "Quantity"
         }
        }
       }
      },
      "text/html": [
       "<div>                            <div id=\"4d06037e-9f1c-4eb0-a0e2-335c0c120f95\" class=\"plotly-graph-div\" style=\"height:525px; width:100%;\"></div>            <script type=\"text/javascript\">                require([\"plotly\"], function(Plotly) {                    window.PLOTLYENV=window.PLOTLYENV || {};                                    if (document.getElementById(\"4d06037e-9f1c-4eb0-a0e2-335c0c120f95\")) {                    Plotly.newPlot(                        \"4d06037e-9f1c-4eb0-a0e2-335c0c120f95\",                        [{\"name\": \"NNC Inventory\", \"type\": \"scatter\", \"y\": [4.0, 4.0, 4.0, 4.0, 4.0, 4.0, 4.0, 4.0, 4.0, 4.0, 4.0, 4.0, 4.0, 4.0, 4.0, 4.0, 4.0, 4.0, 4.0, 56.0, -120.0, 238.0, 1373.0, 3401.0, 7497.0, 11928.0, 15042.0, 23010.0, 24739.0, 55456.0, 56599.0, 62426.0, 85152.0, 113177.0, 102569.0, 106575.0, 49085.0, 27311.0, 124421.0, 122908.0, 182012.0, 192752.0, 204168.0, 174679.0, 41459.0, 49573.0, 57993.0, 78076.0, 115882.0, 118419.0, 96105.0, 47714.0, 87386.0, 98734.0, 59398.0, 65733.0, 34899.0, 77740.0, 92842.0, 124992.0, 118754.0, 124113.0, 103488.0, 74029.0, 162383.0, 176141.0, 227937.0, 228043.0, 150913.0, 172661.0, 163387.0, 230538.0, 150232.0, 170531.0, 202923.0, 200635.0, 277332.0, 169130.0, 140462.0, 18231.0, 67267.0, 75286.0, 38439.0, 18418.0, 138150.0, 119033.0, 181126.0, 245904.0, 319480.0, 383413.0, 181659.0, 163540.0, 158414.0, 153153.0, 20780.0, 29265.0, 47584.0, 82154.0, 114207.0, 145357.0, 89414.0, 47077.0, 70852.0, 92938.0, 99589.0, 77676.0, 67489.0, 65861.0, 64409.0, 39395.0, -5073.0, 6296.0, 14463.0, 3239.0, 50630.0, 65601.0]}, {\"name\": \"CDI Inventory\", \"type\": \"scatter\", \"y\": [4, 4, 4, 4, 4, 4, 4, 4, 4, 4, 4, 4, 4, 4, 4, 4, 4, 4, 4, 4, 1, 287, 1003, 5786, 10818, 16673, 24620, 32923, 33565, 79534, 110699, 121569, 104641, 146103, 112901, 109260, 70068, 92737, 187505, 215802, 268825, 266712, 266254, 219570, 66583, 70841, 88848, 119755, 144421, 169849, 146674, 89796, 136164, 162872, 111933, 126146, 149558, 169281, 111044, 153902, 169206, 250105, 224301, 129409, 231390, 219016, 298424, 241102, 147054, 198300, 221898, 300467, 162020, 205805, 217786, 285846, 355420, 194704, 162999, 52050, 109783, 78805, 105714, 114767, 236923, 131644, 222341, 272983, 415240, 424774, 195659, 157655, 130854, 145256, 1892, 34794, 82898, 173337, 221184, 208211, 144205, 99982, 97189, 135838, 124270, 83494, 65536, 64174, 62053, 52485, 29775, 23959, 18314, 11138, 68712, 104324]}, {\"name\": \"Demand\", \"type\": \"scatter\", \"x\": [1, 2, 3, 4, 5, 6, 7, 8, 9, 10, 11, 12, 13, 14, 15, 16, 17, 18, 19, 20, 21, 22, 23, 24, 25, 26, 27, 28, 29, 30, 31, 32, 33, 34, 35, 36, 37, 38, 39, 40, 41, 42, 43, 44, 45, 46, 47, 48, 49, 50, 51, 52, 53, 54, 55, 56, 57, 58, 59, 60, 61, 62, 63, 64, 65, 66, 67, 68, 69, 70, 71, 72, 73, 74, 75, 76, 77, 78, 79, 80, 81, 82, 83, 84, 85, 86, 87, 88, 89, 90, 91, 92, 93, 94, 95, 96, 97, 98, 99, 100, 101, 102, 103, 104, 105, 106, 107, 108, 109, 110, 111, 112, 113, 114, 115, 116, 117, 118, 119, 120, 121, 122, 123, 124, 125, 126, 127, 128, 129, 130, 131, 132, 133, 134, 135, 136, 137, 138, 139, 140, 141, 142, 143, 144, 145, 146, 147, 148, 149, 150, 151, 152, 153, 154, 155, 156, 157, 158, 159, 160, 161, 162, 163, 164, 165, 166, 167, 168, 169, 170, 171, 172, 173, 174, 175, 176, 177, 178, 179, 180, 181, 182, 183, 184, 185, 186, 187, 188, 189, 190, 191, 192, 193, 194, 195, 196, 197, 198, 199, 200, 201, 202, 203, 204, 205, 206, 207, 208, 209, 210, 211, 212, 213, 214, 215, 216, 217, 218, 219, 220, 221, 222, 223, 224, 225, 226, 227, 228, 229, 230, 231, 232, 233, 234, 235, 236, 237, 238, 239, 240, 241, 242, 243, 244, 245, 246, 247, 248, 249, 250, 251, 252, 253, 254, 255, 256, 257, 258, 259, 260, 261, 262, 263, 264, 265, 266, 267, 268, 269, 270, 271, 272, 273, 274, 275, 276, 277, 278, 279, 280, 281, 282, 283, 284, 285, 286, 287, 288, 289, 290, 291, 292, 293, 294, 295, 296, 297, 298, 299, 300, 301, 302, 303, 304, 305, 306, 307, 308, 309, 310, 311, 312, 313, 314, 315, 316, 317, 318, 319, 320, 321, 322, 323, 324, 325, 326, 327, 328, 329, 330, 331, 332, 333, 334, 335, 336, 337, 338, 339, 340, 341, 342, 343, 344, 345, 346, 347, 348, 349, 350, 351, 352, 353, 354, 355, 356, 357, 358, 359, 360, 361, 362, 363, 364, 365, 366, 367, 368, 369, 370, 371, 372, 373, 374, 375, 376, 377, 378, 379, 380, 381, 382, 383, 384, 385, 386, 387, 388, 389, 390, 391, 392, 393, 394, 395, 396, 397, 398, 399, 400, 401, 402, 403, 404, 405, 406, 407, 408, 409, 410, 411, 412, 413, 414, 415, 416, 417, 418, 419, 420, 421, 422, 423, 424, 425, 426, 427, 428, 429, 430, 431, 432, 433, 434, 435, 436, 437, 438, 439, 440, 441, 442, 443, 444, 445, 446, 447, 448, 449, 450, 451, 452, 453, 454, 455, 456, 457, 458, 459, 460, 461, 462, 463, 464, 465, 466, 467, 468, 469, 470, 471, 472, 473, 474, 475, 476, 477, 478, 479, 480, 481, 482, 483, 484, 485, 486, 487, 488, 489, 490, 491, 492, 493, 494, 495, 496, 497, 498, 499, 500, 501, 502, 503, 504, 505, 506, 507, 508, 509, 510, 511, 512, 513, 514, 515, 516, 517, 518, 519, 520, 521, 522, 523, 524, 525, 526, 527, 528, 529, 530, 531, 532, 533, 534, 535, 536, 537, 538, 539, 540, 541, 542, 543, 544, 545, 546, 547, 548, 549, 550, 551, 552, 553, 554, 555, 556, 557, 558, 559, 560, 561, 562, 563, 564, 565, 566, 567, 568, 569, 570, 571, 572, 573, 574, 575, 576, 577, 578, 579, 580, 581, 582, 583, 584, 585, 586, 587, 588, 589, 590, 591, 592, 593, 594, 595, 596, 597, 598, 599, 600, 601, 602, 603, 604, 605, 606, 607, 608, 609, 610, 611, 612, 613, 614, 615, 616, 617, 618, 619, 620, 621, 622, 623, 624, 625, 626, 627, 628, 629, 630, 631, 632, 633, 634, 635, 636, 637, 638, 639, 640, 641, 642, 643, 644, 645, 646, 647, 648, 649, 650, 651, 652, 653, 654, 655, 656, 657, 658, 659, 660, 661, 662, 663, 664, 665, 666, 667, 668, 669, 670, 671, 672, 673, 674, 675, 676, 677, 678, 679, 680, 681, 682, 683, 684, 685, 686, 687, 688, 689, 690, 691, 692, 693, 694, 695, 696, 697, 698, 699, 700, 701, 702, 703, 704, 705, 706, 707, 708, 709, 710, 711, 712, 713, 714, 715, 716, 717, 718, 719, 720, 721, 722, 723, 724, 725, 726, 727, 728, 729, 730, 731, 732, 733, 734, 735, 736, 737, 738, 739, 740, 741, 742, 743, 744, 745, 746, 747, 748, 749, 750, 751, 752, 753, 754, 755, 756, 757, 758, 759, 760, 761, 762, 763, 764, 765, 766, 767, 768, 769, 770, 771, 772, 773, 774, 775, 776, 777, 778, 779, 780, 781, 782, 783, 784, 785, 786, 787, 788, 789, 790, 791, 792, 793, 794, 795, 796, 797, 798, 799, 800, 801, 802, 803, 804, 805, 806, 807, 808, 809, 810, 811, 812, 813, 814, 815, 816, 817, 818, 819, 820, 821, 822, 823, 824, 825, 826, 827, 828, 829, 830, 831, 832, 833, 834, 835, 836, 837, 838, 839, 840, 841, 842, 843, 844, 845, 846, 847, 848, 849, 850, 851, 852, 853, 854, 855, 856, 857, 858, 859, 860, 861, 862, 863, 864, 865, 866, 867, 868, 869, 870, 871, 872, 873, 874, 875, 876, 877, 878, 879, 880, 881, 882, 883, 884, 885, 886, 887, 888, 889, 890, 891, 892, 893, 894, 895, 896, 897, 898, 899, 900, 901, 902, 903, 904, 905, 906, 907, 908, 909, 910, 911, 912, 913, 914, 915, 916, 917, 918, 919, 920, 921, 922, 923, 924, 925, 926, 927, 928, 929, 930, 931, 932, 933, 934, 935, 936, 937, 938, 939, 940, 941, 942, 943, 944, 945, 946, 947, 948, 949, 950, 951, 952, 953, 954, 955, 956, 957, 958, 959, 960, 961, 962, 963, 964, 965, 966, 967, 968, 969, 970, 971, 972, 973, 974, 975, 976, 977, 978, 979, 980, 981, 982, 983, 984, 985, 986, 987, 988, 989, 990, 991, 992, 993, 994, 995, 996, 997, 998, 999, 1000], \"y\": [0, 0, 0, 0, 0, 0, 0, 0, 0, 0, 0, 0, 0, 0, 0, 0, 0, 0, 0, 320, 34, 309, 1415, 1879, 4378, 9313, 4328, 16127, 4506, 32052, 37336, 16928, 13623, 33202, 3641, 69368, 82056, 18444, 84660, 42099, 2113, 458, 46684, 152987, 16401, 17721, 16138, 2289, 52866, 85693, 114344, 71814, 78025, 137713, 117036, 130219, 66778, 58237, 32221, 52471, 72730, 109775, 118902, 6122, 67682, 40286, 65353, 121160, 27348, 75753, 12237, 138447, 39517, 18769, 82639, 19861, 160716, 82522, 176842, 67896, 86118, 165980, 148501, 3949, 105279, 19894, 5922, 24767, 21783, 229115, 38004, 26801, 24200, 143364, 26061, 34207, 12030, 34465, 12973, 64006, 44223, 5155, 16568, 41895, 40776, 17958, 13063, 10219, 40634, 74360, 41822, 30020, 47491, 29, 14045]}],                        {\"template\": {\"data\": {\"bar\": [{\"error_x\": {\"color\": \"#2a3f5f\"}, \"error_y\": {\"color\": \"#2a3f5f\"}, \"marker\": {\"line\": {\"color\": \"#E5ECF6\", \"width\": 0.5}}, \"type\": \"bar\"}], \"barpolar\": [{\"marker\": {\"line\": {\"color\": \"#E5ECF6\", \"width\": 0.5}}, \"type\": \"barpolar\"}], \"carpet\": [{\"aaxis\": {\"endlinecolor\": \"#2a3f5f\", \"gridcolor\": \"white\", \"linecolor\": \"white\", \"minorgridcolor\": \"white\", \"startlinecolor\": \"#2a3f5f\"}, \"baxis\": {\"endlinecolor\": \"#2a3f5f\", \"gridcolor\": \"white\", \"linecolor\": \"white\", \"minorgridcolor\": \"white\", \"startlinecolor\": \"#2a3f5f\"}, \"type\": \"carpet\"}], \"choropleth\": [{\"colorbar\": {\"outlinewidth\": 0, \"ticks\": \"\"}, \"type\": \"choropleth\"}], \"contour\": [{\"colorbar\": {\"outlinewidth\": 0, \"ticks\": \"\"}, \"colorscale\": [[0.0, \"#0d0887\"], [0.1111111111111111, \"#46039f\"], [0.2222222222222222, \"#7201a8\"], [0.3333333333333333, \"#9c179e\"], [0.4444444444444444, \"#bd3786\"], [0.5555555555555556, \"#d8576b\"], [0.6666666666666666, \"#ed7953\"], [0.7777777777777778, \"#fb9f3a\"], [0.8888888888888888, \"#fdca26\"], [1.0, \"#f0f921\"]], \"type\": \"contour\"}], \"contourcarpet\": [{\"colorbar\": {\"outlinewidth\": 0, \"ticks\": \"\"}, \"type\": \"contourcarpet\"}], \"heatmap\": [{\"colorbar\": {\"outlinewidth\": 0, \"ticks\": \"\"}, \"colorscale\": [[0.0, \"#0d0887\"], [0.1111111111111111, \"#46039f\"], [0.2222222222222222, \"#7201a8\"], [0.3333333333333333, \"#9c179e\"], [0.4444444444444444, \"#bd3786\"], [0.5555555555555556, \"#d8576b\"], [0.6666666666666666, \"#ed7953\"], [0.7777777777777778, \"#fb9f3a\"], [0.8888888888888888, \"#fdca26\"], [1.0, \"#f0f921\"]], \"type\": \"heatmap\"}], \"heatmapgl\": [{\"colorbar\": {\"outlinewidth\": 0, \"ticks\": \"\"}, \"colorscale\": [[0.0, \"#0d0887\"], [0.1111111111111111, \"#46039f\"], [0.2222222222222222, \"#7201a8\"], [0.3333333333333333, \"#9c179e\"], [0.4444444444444444, \"#bd3786\"], [0.5555555555555556, \"#d8576b\"], [0.6666666666666666, \"#ed7953\"], [0.7777777777777778, \"#fb9f3a\"], [0.8888888888888888, \"#fdca26\"], [1.0, \"#f0f921\"]], \"type\": \"heatmapgl\"}], \"histogram\": [{\"marker\": {\"colorbar\": {\"outlinewidth\": 0, \"ticks\": \"\"}}, \"type\": \"histogram\"}], \"histogram2d\": [{\"colorbar\": {\"outlinewidth\": 0, \"ticks\": \"\"}, \"colorscale\": [[0.0, \"#0d0887\"], [0.1111111111111111, \"#46039f\"], [0.2222222222222222, \"#7201a8\"], [0.3333333333333333, \"#9c179e\"], [0.4444444444444444, \"#bd3786\"], [0.5555555555555556, \"#d8576b\"], [0.6666666666666666, \"#ed7953\"], [0.7777777777777778, \"#fb9f3a\"], [0.8888888888888888, \"#fdca26\"], [1.0, \"#f0f921\"]], \"type\": \"histogram2d\"}], \"histogram2dcontour\": [{\"colorbar\": {\"outlinewidth\": 0, \"ticks\": \"\"}, \"colorscale\": [[0.0, \"#0d0887\"], [0.1111111111111111, \"#46039f\"], [0.2222222222222222, \"#7201a8\"], [0.3333333333333333, \"#9c179e\"], [0.4444444444444444, \"#bd3786\"], [0.5555555555555556, \"#d8576b\"], [0.6666666666666666, \"#ed7953\"], [0.7777777777777778, \"#fb9f3a\"], [0.8888888888888888, \"#fdca26\"], [1.0, \"#f0f921\"]], \"type\": \"histogram2dcontour\"}], \"mesh3d\": [{\"colorbar\": {\"outlinewidth\": 0, \"ticks\": \"\"}, \"type\": \"mesh3d\"}], \"parcoords\": [{\"line\": {\"colorbar\": {\"outlinewidth\": 0, \"ticks\": \"\"}}, \"type\": \"parcoords\"}], \"pie\": [{\"automargin\": true, \"type\": \"pie\"}], \"scatter\": [{\"marker\": {\"colorbar\": {\"outlinewidth\": 0, \"ticks\": \"\"}}, \"type\": \"scatter\"}], \"scatter3d\": [{\"line\": {\"colorbar\": {\"outlinewidth\": 0, \"ticks\": \"\"}}, \"marker\": {\"colorbar\": {\"outlinewidth\": 0, \"ticks\": \"\"}}, \"type\": \"scatter3d\"}], \"scattercarpet\": [{\"marker\": {\"colorbar\": {\"outlinewidth\": 0, \"ticks\": \"\"}}, \"type\": \"scattercarpet\"}], \"scattergeo\": [{\"marker\": {\"colorbar\": {\"outlinewidth\": 0, \"ticks\": \"\"}}, \"type\": \"scattergeo\"}], \"scattergl\": [{\"marker\": {\"colorbar\": {\"outlinewidth\": 0, \"ticks\": \"\"}}, \"type\": \"scattergl\"}], \"scattermapbox\": [{\"marker\": {\"colorbar\": {\"outlinewidth\": 0, \"ticks\": \"\"}}, \"type\": \"scattermapbox\"}], \"scatterpolar\": [{\"marker\": {\"colorbar\": {\"outlinewidth\": 0, \"ticks\": \"\"}}, \"type\": \"scatterpolar\"}], \"scatterpolargl\": [{\"marker\": {\"colorbar\": {\"outlinewidth\": 0, \"ticks\": \"\"}}, \"type\": \"scatterpolargl\"}], \"scatterternary\": [{\"marker\": {\"colorbar\": {\"outlinewidth\": 0, \"ticks\": \"\"}}, \"type\": \"scatterternary\"}], \"surface\": [{\"colorbar\": {\"outlinewidth\": 0, \"ticks\": \"\"}, \"colorscale\": [[0.0, \"#0d0887\"], [0.1111111111111111, \"#46039f\"], [0.2222222222222222, \"#7201a8\"], [0.3333333333333333, \"#9c179e\"], [0.4444444444444444, \"#bd3786\"], [0.5555555555555556, \"#d8576b\"], [0.6666666666666666, \"#ed7953\"], [0.7777777777777778, \"#fb9f3a\"], [0.8888888888888888, \"#fdca26\"], [1.0, \"#f0f921\"]], \"type\": \"surface\"}], \"table\": [{\"cells\": {\"fill\": {\"color\": \"#EBF0F8\"}, \"line\": {\"color\": \"white\"}}, \"header\": {\"fill\": {\"color\": \"#C8D4E3\"}, \"line\": {\"color\": \"white\"}}, \"type\": \"table\"}]}, \"layout\": {\"annotationdefaults\": {\"arrowcolor\": \"#2a3f5f\", \"arrowhead\": 0, \"arrowwidth\": 1}, \"autotypenumbers\": \"strict\", \"coloraxis\": {\"colorbar\": {\"outlinewidth\": 0, \"ticks\": \"\"}}, \"colorscale\": {\"diverging\": [[0, \"#8e0152\"], [0.1, \"#c51b7d\"], [0.2, \"#de77ae\"], [0.3, \"#f1b6da\"], [0.4, \"#fde0ef\"], [0.5, \"#f7f7f7\"], [0.6, \"#e6f5d0\"], [0.7, \"#b8e186\"], [0.8, \"#7fbc41\"], [0.9, \"#4d9221\"], [1, \"#276419\"]], \"sequential\": [[0.0, \"#0d0887\"], [0.1111111111111111, \"#46039f\"], [0.2222222222222222, \"#7201a8\"], [0.3333333333333333, \"#9c179e\"], [0.4444444444444444, \"#bd3786\"], [0.5555555555555556, \"#d8576b\"], [0.6666666666666666, \"#ed7953\"], [0.7777777777777778, \"#fb9f3a\"], [0.8888888888888888, \"#fdca26\"], [1.0, \"#f0f921\"]], \"sequentialminus\": [[0.0, \"#0d0887\"], [0.1111111111111111, \"#46039f\"], [0.2222222222222222, \"#7201a8\"], [0.3333333333333333, \"#9c179e\"], [0.4444444444444444, \"#bd3786\"], [0.5555555555555556, \"#d8576b\"], [0.6666666666666666, \"#ed7953\"], [0.7777777777777778, \"#fb9f3a\"], [0.8888888888888888, \"#fdca26\"], [1.0, \"#f0f921\"]]}, \"colorway\": [\"#636efa\", \"#EF553B\", \"#00cc96\", \"#ab63fa\", \"#FFA15A\", \"#19d3f3\", \"#FF6692\", \"#B6E880\", \"#FF97FF\", \"#FECB52\"], \"font\": {\"color\": \"#2a3f5f\"}, \"geo\": {\"bgcolor\": \"white\", \"lakecolor\": \"white\", \"landcolor\": \"#E5ECF6\", \"showlakes\": true, \"showland\": true, \"subunitcolor\": \"white\"}, \"hoverlabel\": {\"align\": \"left\"}, \"hovermode\": \"closest\", \"mapbox\": {\"style\": \"light\"}, \"paper_bgcolor\": \"white\", \"plot_bgcolor\": \"#E5ECF6\", \"polar\": {\"angularaxis\": {\"gridcolor\": \"white\", \"linecolor\": \"white\", \"ticks\": \"\"}, \"bgcolor\": \"#E5ECF6\", \"radialaxis\": {\"gridcolor\": \"white\", \"linecolor\": \"white\", \"ticks\": \"\"}}, \"scene\": {\"xaxis\": {\"backgroundcolor\": \"#E5ECF6\", \"gridcolor\": \"white\", \"gridwidth\": 2, \"linecolor\": \"white\", \"showbackground\": true, \"ticks\": \"\", \"zerolinecolor\": \"white\"}, \"yaxis\": {\"backgroundcolor\": \"#E5ECF6\", \"gridcolor\": \"white\", \"gridwidth\": 2, \"linecolor\": \"white\", \"showbackground\": true, \"ticks\": \"\", \"zerolinecolor\": \"white\"}, \"zaxis\": {\"backgroundcolor\": \"#E5ECF6\", \"gridcolor\": \"white\", \"gridwidth\": 2, \"linecolor\": \"white\", \"showbackground\": true, \"ticks\": \"\", \"zerolinecolor\": \"white\"}}, \"shapedefaults\": {\"line\": {\"color\": \"#2a3f5f\"}}, \"ternary\": {\"aaxis\": {\"gridcolor\": \"white\", \"linecolor\": \"white\", \"ticks\": \"\"}, \"baxis\": {\"gridcolor\": \"white\", \"linecolor\": \"white\", \"ticks\": \"\"}, \"bgcolor\": \"#E5ECF6\", \"caxis\": {\"gridcolor\": \"white\", \"linecolor\": \"white\", \"ticks\": \"\"}}, \"title\": {\"x\": 0.05}, \"xaxis\": {\"automargin\": true, \"gridcolor\": \"white\", \"linecolor\": \"white\", \"ticks\": \"\", \"title\": {\"standoff\": 15}, \"zerolinecolor\": \"white\", \"zerolinewidth\": 2}, \"yaxis\": {\"automargin\": true, \"gridcolor\": \"white\", \"linecolor\": \"white\", \"ticks\": \"\", \"title\": {\"standoff\": 15}, \"zerolinecolor\": \"white\", \"zerolinewidth\": 2}}}, \"xaxis\": {\"title\": {\"text\": \"Timestep\"}}, \"yaxis\": {\"title\": {\"text\": \"Quantity\"}}},                        {\"responsive\": true}                    ).then(function(){\n",
       "                            \n",
       "var gd = document.getElementById('4d06037e-9f1c-4eb0-a0e2-335c0c120f95');\n",
       "var x = new MutationObserver(function (mutations, observer) {{\n",
       "        var display = window.getComputedStyle(gd).display;\n",
       "        if (!display || display === 'none') {{\n",
       "            console.log([gd, 'removed!']);\n",
       "            Plotly.purge(gd);\n",
       "            observer.disconnect();\n",
       "        }}\n",
       "}});\n",
       "\n",
       "// Listen for the removal of the full notebook cells\n",
       "var notebookContainer = gd.closest('#notebook-container');\n",
       "if (notebookContainer) {{\n",
       "    x.observe(notebookContainer, {childList: true});\n",
       "}}\n",
       "\n",
       "// Listen for the clearing of the current output cell\n",
       "var outputEl = gd.closest('.output');\n",
       "if (outputEl) {{\n",
       "    x.observe(outputEl, {childList: true});\n",
       "}}\n",
       "\n",
       "                        })                };                });            </script>        </div>"
      ]
     },
     "metadata": {},
     "output_type": "display_data"
    }
   ],
   "source": [
    "a = go.Scatter(y=nn_inv, name='NNC Inventory')\n",
    "b = go.Scatter(y=cdi_inv, name='CDI Inventory')\n",
    "c = go.Scatter(y=[x.detach().item() for x in fixed_demands], name='Demand',\n",
    "               x=torch.arange(1, 1001).tolist() )\n",
    "fig = go.Figure([a,b, c])\n",
    "fig.layout.xaxis.title = 'Timestep'\n",
    "fig.layout.yaxis.title = 'Quantity'\n",
    "fig"
   ]
  },
  {
   "cell_type": "code",
   "execution_count": null,
   "id": "0bd8b816",
   "metadata": {},
   "outputs": [],
   "source": [
    "1+1.7*1.5*20/120"
   ]
  },
  {
   "cell_type": "code",
   "execution_count": null,
   "id": "4b86dc0c",
   "metadata": {},
   "outputs": [],
   "source": [
    "1.425*1.7"
   ]
  },
  {
   "cell_type": "code",
   "execution_count": null,
   "id": "045ca41c",
   "metadata": {},
   "outputs": [],
   "source": [
    "np.sign(-3)"
   ]
  },
  {
   "cell_type": "code",
   "execution_count": 98,
   "id": "b7d45379",
   "metadata": {},
   "outputs": [],
   "source": [
    "import matplotlib as mpl\n",
    "\n",
    "def fix_hist_step_vertical_line_at_end(ax):\n",
    "    axpolygons = [poly for poly in ax.get_children() if isinstance(poly, mpl.patches.Polygon)]\n",
    "    for poly in axpolygons:\n",
    "        poly.set_xy(poly.get_xy()[:-1])"
   ]
  },
  {
   "cell_type": "code",
   "execution_count": 324,
   "id": "dc519714",
   "metadata": {},
   "outputs": [],
   "source": [
    "costs_other_model_b495 = np.loadtxt(\"nnc_best_model_MSOM_081722_baseline2_I0=4_b=495_nn_cdi_costs.csv\")\n",
    "costs_other_model_b95 = np.loadtxt(\"nnc_best_model_MSOM_081722_baseline2_I0=68_b=95_nn_cdi_costs.csv\")"
   ]
  },
  {
   "cell_type": "code",
   "execution_count": 328,
   "id": "8096fa50",
   "metadata": {},
   "outputs": [
    {
     "data": {
      "image/png": "[encoded data removed]",
      "text/plain": [
       "<Figure size 468x289.24 with 4 Axes>"
      ]
     },
     "metadata": {},
     "output_type": "display_data"
    }
   ],
   "source": [
    "import seaborn as sns\n",
    "sns.set_style(\"whitegrid\")\n",
    "\n",
    "# customized settings\n",
    "params = {  # 'backend': 'ps',\n",
    "    'font.family': 'serif',\n",
    "    'font.serif': 'Latin Modern Roman',\n",
    "    'font.size': 10,\n",
    "    'axes.labelsize': 'medium',\n",
    "    'axes.titlesize': 'medium',\n",
    "    'legend.fontsize': 'medium',\n",
    "    'xtick.labelsize': 'small',\n",
    "    'ytick.labelsize': 'small',\n",
    "    'savefig.dpi': 150,\n",
    "    'text.usetex': True}\n",
    "# tell matplotlib about your params\n",
    "rcParams.update(params)\n",
    "\n",
    "# set nice figure sizes\n",
    "fig_width_pt = 469.75499  # Get this from LaTeX using \\showthe\\columnwidth\n",
    "golden_mean = (np.sqrt(5.) - 1.) / 2.  # Aesthetic ratio\n",
    "ratio = golden_mean\n",
    "inches_per_pt = 1. / 72.27  # Convert pt to inches\n",
    "fig_width = fig_width_pt * inches_per_pt  # width in inches\n",
    "fig_height = fig_width*ratio  # height in inches\n",
    "fig_size = [fig_width, fig_height]\n",
    "rcParams.update({'figure.figsize': fig_size})\n",
    "\n",
    "fig, ax = plt.subplots(ncols=2,nrows=2)\n",
    "\n",
    "CI_0025 = [quantile_function_0025(i) for i in range(max_weeks)]\n",
    "CI_0975 = [quantile_function_0975(i) for i in range(max_weeks)]\n",
    "\n",
    "ax[0,0].text(0.02*0.75+0.25,0.88*1.25,r\"(a)\")\n",
    "ax[0,0].plot(-10,-10,color=r\"tab:blue\",label=r\"IDINN\")\n",
    "ax[0,0].plot(-10,-10,color=r\"tab:orange\",label=r\"CDI\")\n",
    "ax[0,0].hist(np.array(costs_other_model_b495[:,0])/1e6,alpha=1.0,bins=100,density=True,histtype='step',cumulative=True)\n",
    "ax[0,0].hist(np.array(costs_other_model_b495[:,1])/1e6,alpha=1.0,bins=100,density=True,histtype='step',cumulative=True)\n",
    "ax[0,0].vlines(np.mean(costs_other_model_b495[:,0])/1e6,0,1.25,colors=\"tab:blue\",linestyles=\"--\",linewidths=1.0)\n",
    "ax[0,0].vlines(np.mean(costs_other_model_b495[:,1])/1e6,0,1.25,colors=\"tab:orange\",linestyles=\"--\",linewidths=1.0)\n",
    "ax[0,0].set_xlim(0.25,1.0)\n",
    "ax[0,0].set_xticks([0.25,0.5,0.75,1.0])\n",
    "ax[0,0].set_ylim(0,1.25)\n",
    "ax[0,0].set_xlabel(r\"Expected cost per period [$\\times 10^6$]\")\n",
    "ax[0,0].set_ylabel(r\"CDF\")\n",
    "ax[0,0].legend(loc=3,fontsize=8,frameon=False)\n",
    "fix_hist_step_vertical_line_at_end(ax[0,1])\n",
    "\n",
    "ax[0,1].text(0.02*0.75+0.25,0.88*1.25,r\"(b)\")\n",
    "ax[0,1].plot(-10,-10,color=r\"tab:blue\",label=r\"IDINN\")\n",
    "ax[0,1].plot(-10,-10,color=r\"tab:orange\",label=r\"CDI\")\n",
    "ax[0,1].hist(np.array(costs_other_model_b95[:,0])/1e6,alpha=1.0,bins=100,density=True,histtype='step',cumulative=True)\n",
    "ax[0,1].hist(np.array(costs_other_model_b95[:,1])/1e6,alpha=1.0,bins=100,density=True,histtype='step',cumulative=True)\n",
    "ax[0,1].vlines(np.mean(costs_other_model_b95[:,0])/1e6,0,1.25,colors=\"tab:blue\",linestyles=\"--\",linewidths=1.0)\n",
    "ax[0,1].vlines(np.mean(costs_other_model_b95[:,1])/1e6,0,1.25,colors=\"tab:orange\",linestyles=\"--\",linewidths=1.0)\n",
    "ax[0,1].set_xlim(0.25,1.0)\n",
    "ax[0,1].set_xticks([0.25,0.5,0.75,1.0])\n",
    "ax[0,1].set_ylim(0,1.25)\n",
    "ax[0,1].set_xlabel(r\"Expected cost per period [$\\times 10^6$]\")\n",
    "#ax[0,1].set_ylabel(r\"CDF\")\n",
    "#ax[0,1].legend(loc=4,fontsize=8,frameon=False)\n",
    "fix_hist_step_vertical_line_at_end(ax[0,1])\n",
    "\n",
    "a = np.array([x.item() for x in nn_qr[1:]])/1e5\n",
    "b = np.array(cdi_qr)/1e5\n",
    "ax[1,0].text(0.02*120,0.88*2,r\"(c)\")\n",
    "ax[1,0].plot(b,color=r\"tab:orange\",label=r\"CDI\",alpha=0.6)\n",
    "ax[1,0].plot(a,color=r\"tab:blue\",label=r\"IDINN\",alpha=0.5)\n",
    "ax[1,0].set_xlim(0,120)\n",
    "ax[1,0].set_ylim(0,2)\n",
    "ax[1,0].set_yticks([0,1,2])\n",
    "ax[1,0].set_xlabel(r\"Week\")\n",
    "ax[1,0].set_ylabel(r\"Regular order $q^{\\mathrm{r}}_t$ [$\\times 10^5$]\")\n",
    "#ax[0,1].legend(loc=((0.13,0.65)),frameon=False,ncol=1)\n",
    "\n",
    "a = np.array([x.item() for x in nn_qe[1:]])/1e5\n",
    "b = np.array(cdi_qe)/1e5\n",
    "ax[1,1].text(0.02*120,0.88*1,r\"(d)\")\n",
    "ax[1,1].plot(b,color=r\"tab:orange\",alpha=0.6)\n",
    "ax[1,1].plot(a,color=r\"tab:blue\",alpha=0.5)#,ls=(0, (1, 2)))\n",
    "ax[1,1].set_xlim(0,120)\n",
    "ax[1,1].set_ylim(0,1)\n",
    "ax[1,1].set_xlabel(r\"Week\")\n",
    "ax[1,1].set_ylabel(r\"Expedited order $q^{\\mathrm{e}}_t$ [$\\times 10^5$]\")\n",
    "\n",
    "plt.tight_layout()\n",
    "plt.margins(0,0)\n",
    "plt.subplots_adjust(wspace=0.35, hspace=0.5)\n",
    "plt.savefig(\"empirical_example_baseline2.png\", dpi = 300, bbox_inches = 'tight', pad_inches = 0.05)\n",
    "plt.show()"
   ]
  },
  {
   "cell_type": "code",
   "execution_count": 265,
   "id": "b4da8f96",
   "metadata": {},
   "outputs": [],
   "source": [
    "#np.savetxt(\"nnc_best_model_MSOM_081722_baseline2_I0=4_b=495_nn_cdi_costs.csv\",np.c_[np.array(cost_nn),np.array(cost_cdi)])"
   ]
  },
  {
   "cell_type": "code",
   "execution_count": null,
   "id": "b3d27615",
   "metadata": {},
   "outputs": [],
   "source": []
  }
 ],
 "metadata": {
  "kernelspec": {
   "display_name": "Python 3",
   "language": "python",
   "name": "python3"
  },
  "language_info": {
   "codemirror_mode": {
    "name": "ipython",
    "version": 3
   },
   "file_extension": ".py",
   "mimetype": "text/x-python",
   "name": "python",
   "nbconvert_exporter": "python",
   "pygments_lexer": "ipython3",
   "version": "3.6.13"
  }
 },
 "nbformat": 4,
 "nbformat_minor": 5
}
