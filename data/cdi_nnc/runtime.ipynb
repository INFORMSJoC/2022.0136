{
 "cells": [
  {
   "cell_type": "code",
   "execution_count": 36,
   "id": "ebcfd1ee",
   "metadata": {},
   "outputs": [],
   "source": [
    "import numpy as np\n",
    "import matplotlib.pyplot as plt\n",
    "from matplotlib import rcParams\n",
    "import seaborn as sns\n",
    "sns.set_style(\"whitegrid\")\n",
    "from matplotlib.ticker import NullFormatter\n",
    "from matplotlib.ticker import MultipleLocator\n",
    "\n",
    "# customized settings\n",
    "params = {  # 'backend': 'ps',\n",
    "    'font.family': 'serif',\n",
    "    'font.serif': 'Latin Modern Roman',\n",
    "    'font.size': 12,\n",
    "    'axes.labelsize': 'medium',\n",
    "    'axes.titlesize': 'medium',\n",
    "    'legend.fontsize': 'medium',\n",
    "    'xtick.labelsize': 'small',\n",
    "    'ytick.labelsize': 'small',\n",
    "    'savefig.dpi': 150,\n",
    "    'text.usetex': True}\n",
    "# tell matplotlib about your params\n",
    "rcParams.update(params)\n",
    "\n",
    "# set nice figure sizes\n",
    "fig_width_pt = 469.75499/2    # Get this from LaTeX using \\showthe\\columnwidth\n",
    "golden_mean = (np.sqrt(5.) - 1.) / 2.  # Aesthetic ratio\n",
    "ratio = golden_mean\n",
    "inches_per_pt = 1. / 72.27  # Convert pt to inches\n",
    "fig_width = fig_width_pt * inches_per_pt  # width in inches\n",
    "fig_height = fig_width*ratio  # height in inches\n",
    "fig_size = [fig_width,fig_height]\n",
    "rcParams.update({'figure.figsize': fig_size})"
   ]
  },
  {
   "cell_type": "code",
   "execution_count": 76,
   "id": "70234cf8",
   "metadata": {},
   "outputs": [],
   "source": [
    "T = np.array([100,200,300,400,500,600,700,800,900,1000,1100])\n",
    "runtimes = [19.504382610321,40.9107519388199,65.2955051660538,91.9511944055557,121.12285387516,153.523899793625,186.782271504402,223.146205663681,262.609593033791,305.029104709625,348.304856538773]"
   ]
  },
  {
   "cell_type": "code",
   "execution_count": 85,
   "id": "fac03b2c",
   "metadata": {},
   "outputs": [
    {
     "data": {
      "image/png": "[encoded data removed]",
      "text/plain": [
       "<Figure size 234x144.62 with 1 Axes>"
      ]
     },
     "metadata": {},
     "output_type": "display_data"
    }
   ],
   "source": [
    "plt.figure()\n",
    "plt.plot(T,0.07*T**1.21,'k')\n",
    "plt.plot(T,runtimes,'o',markersize=5,color='tab:red')\n",
    "plt.xlim(100,1100)\n",
    "plt.ylim(0,400)\n",
    "plt.xticks([100,300,500,700,900,1100])\n",
    "plt.xlabel(r\"time horizon $T$\")\n",
    "plt.ylabel(r\"runtime per\"+\"\\n\"+\"100 epochs [s]\")\n",
    "#plt.xscale('log')\n",
    "#plt.yscale('log')\n",
    "plt.tight_layout()\n",
    "plt.savefig(\"runtime.png\",dpi=300)\n",
    "plt.show()"
   ]
  },
  {
   "cell_type": "code",
   "execution_count": null,
   "id": "5aaee2ff",
   "metadata": {},
   "outputs": [],
   "source": []
  }
 ],
 "metadata": {
  "kernelspec": {
   "display_name": "Python 3",
   "language": "python",
   "name": "python3"
  },
  "language_info": {
   "codemirror_mode": {
    "name": "ipython",
    "version": 3
   },
   "file_extension": ".py",
   "mimetype": "text/x-python",
   "name": "python",
   "nbconvert_exporter": "python",
   "pygments_lexer": "ipython3",
   "version": "3.6.13"
  }
 },
 "nbformat": 4,
 "nbformat_minor": 5
}
